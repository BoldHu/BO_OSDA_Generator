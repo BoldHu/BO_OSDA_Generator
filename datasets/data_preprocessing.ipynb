{
 "cells": [
  {
   "cell_type": "markdown",
   "metadata": {},
   "source": [
    "# 数据预处理"
   ]
  },
  {
   "cell_type": "code",
   "execution_count": 1,
   "metadata": {},
   "outputs": [
    {
     "name": "stdout",
     "output_type": "stream",
     "text": [
      "/home/hudongcheng/Desktop/bo_osda_generator\n"
     ]
    }
   ],
   "source": [
    "# 切换工作路径\n",
    "%cd .."
   ]
  },
  {
   "cell_type": "code",
   "execution_count": 2,
   "metadata": {},
   "outputs": [],
   "source": [
    "import pandas as pd\n",
    "import numpy as np\n",
    "from utils.utils import *"
   ]
  },
  {
   "cell_type": "code",
   "execution_count": 3,
   "metadata": {},
   "outputs": [],
   "source": [
    "data_code_file = r'./data/data_codes'\n",
    "data_smiles_file = r'./data/data_smiles'\n",
    "data_synvec_file = r'./data/data_syn_vectors'\n",
    "data_zeovec_file = r'./data/data_zeo_vectors'"
   ]
  },
  {
   "cell_type": "code",
   "execution_count": 4,
   "metadata": {},
   "outputs": [],
   "source": [
    "# 读取数据信息\n",
    "smiles = read_strings(data_smiles_file, idx=True)\n",
    "codes = read_strings(data_code_file, idx=False)\n",
    "# 得到不重复的沸石编码\n",
    "unique_codes = np.unique(codes)\n",
    "zeo_features = read_vec(data_zeovec_file, idx=True)\n",
    "syn_features = read_vec(data_synvec_file, idx=True)"
   ]
  },
  {
   "cell_type": "code",
   "execution_count": null,
   "metadata": {},
   "outputs": [],
   "source": [
    "# 划分训练集和测试集\n",
    "train_smiles, train_zeo, train_syn, train_codes, test_smiles, test_zeo, test_syn, test_codes = data_split(split='random', unique_codes=unique_codes, smiles=smiles, zeo_vectors=zeo_features, syn_vectors=syn_features, codes=codes)\n",
    "# 保存划分后的数据集成csv文件\n",
    "pd.DataFrame(train_smiles).to_csv('./data/train_smiles.csv', index=False)\n",
    "pd.DataFrame(train_zeo).to_csv('./data/train_zeo.csv', index=False)\n",
    "pd.DataFrame(train_syn).to_csv('./data/train_syn.csv', index=False)\n",
    "pd.DataFrame(train_codes).to_csv('./data/train_codes.csv', index=False)\n",
    "pd.DataFrame(test_smiles).to_csv('./data/test_smiles.csv', index=False)\n",
    "pd.DataFrame(test_zeo).to_csv('./data/test_zeo.csv', index=False)\n",
    "pd.DataFrame(test_syn).to_csv('./data/test_syn.csv', index=False)\n",
    "pd.DataFrame(test_codes).to_csv('./data/test_codes.csv', index=False)\n",
    "print('数据集划分完成')"
   ]
  },
  {
   "cell_type": "code",
   "execution_count": null,
   "metadata": {},
   "outputs": [],
   "source": [
    "# 划分训练集和测试集，基于沸石编码\n",
    "train_smiles, train_zeo, train_syn, train_codes, test_smiles, test_zeo, test_syn, test_codes = data_split(split='AEI', unique_codes=unique_codes, smiles=smiles, zeo_vectors=zeo_features, syn_vectors=syn_features, codes=codes)\n",
    "# 保存划分后的数据集成csv文件\n",
    "pd.DataFrame(train_smiles).to_csv('./data/train_smiles.csv', index=False)\n",
    "pd.DataFrame(train_zeo).to_csv('./data/train_zeo.csv', index=False)\n",
    "pd.DataFrame(train_syn).to_csv('./data/train_syn.csv', index=False)\n",
    "pd.DataFrame(train_codes).to_csv('./data/train_codes.csv', index=False)\n",
    "pd.DataFrame(test_smiles).to_csv('./data/test_smiles.csv', index=False)\n",
    "pd.DataFrame(test_zeo).to_csv('./data/test_zeo.csv', index=False)\n",
    "pd.DataFrame(test_syn).to_csv('./data/test_syn.csv', index=False)\n",
    "pd.DataFrame(test_codes).to_csv('./data/test_codes.csv', index=False)\n",
    "print('数据集划分完成')"
   ]
  },
  {
   "cell_type": "code",
   "execution_count": null,
   "metadata": {},
   "outputs": [],
   "source": [
    "# 划分训练集和测试集，基于沸石编码\n",
    "train_smiles, train_zeo, train_syn, train_codes, test_smiles, test_zeo, test_syn, test_codes = data_split(split='CHA', unique_codes=unique_codes, smiles=smiles, zeo_vectors=zeo_features, syn_vectors=syn_features, codes=codes)\n",
    "# 保存划分后的数据集成csv文件\n",
    "pd.DataFrame(train_smiles).to_csv('./data/train_smiles.csv', index=False)\n",
    "pd.DataFrame(train_zeo).to_csv('./data/train_zeo.csv', index=False)\n",
    "pd.DataFrame(train_syn).to_csv('./data/train_syn.csv', index=False)\n",
    "pd.DataFrame(train_codes).to_csv('./data/train_codes.csv', index=False)\n",
    "pd.DataFrame(test_smiles).to_csv('./data/test_smiles.csv', index=False)\n",
    "pd.DataFrame(test_zeo).to_csv('./data/test_zeo.csv', index=False)\n",
    "pd.DataFrame(test_syn).to_csv('./data/test_syn.csv', index=False)\n",
    "pd.DataFrame(test_codes).to_csv('./data/test_codes.csv', index=False)\n",
    "print('数据集划分完成')"
   ]
  }
 ],
 "metadata": {
  "kernelspec": {
   "display_name": "zeosyn",
   "language": "python",
   "name": "python3"
  },
  "language_info": {
   "codemirror_mode": {
    "name": "ipython",
    "version": 3
   },
   "file_extension": ".py",
   "mimetype": "text/x-python",
   "name": "python",
   "nbconvert_exporter": "python",
   "pygments_lexer": "ipython3",
   "version": "3.7.10"
  }
 },
 "nbformat": 4,
 "nbformat_minor": 2
}
