{
 "cells": [
  {
   "cell_type": "markdown",
   "metadata": {},
   "source": [
    "# Train DDC Model for Conditional Generation"
   ]
  },
  {
   "cell_type": "code",
   "execution_count": 1,
   "metadata": {},
   "outputs": [
    {
     "name": "stdout",
     "output_type": "stream",
     "text": [
      "/home/hudongcheng/Desktop/bo_osda_generator\n"
     ]
    }
   ],
   "source": [
    "# change working path to the current file\n",
    "%cd .."
   ]
  },
  {
   "cell_type": "code",
   "execution_count": 2,
   "metadata": {},
   "outputs": [],
   "source": [
    "import numpy as np\n",
    "import os\n",
    "import torch\n",
    "import torch.nn as nn\n",
    "from torch.utils.data import DataLoader\n",
    "from torch.nn import functional as F\n",
    "from tqdm import tqdm\n",
    "from datetime import datetime\n",
    "from torch.utils.tensorboard import SummaryWriter\n",
    "import torch.backends.cudnn as cudnn\n",
    "\n",
    "# import custom modules\n",
    "from models.ddc import SMILESGenerator\n",
    "from utils.utils import *\n",
    "from datasets.data_loader import *\n",
    "from utils.plot_figures import *"
   ]
  },
  {
   "cell_type": "code",
   "execution_count": 3,
   "metadata": {},
   "outputs": [],
   "source": [
    "cudnn.benchmark = True\n",
    "cudnn.enabled = True\n",
    "\n",
    "train_loss_history = []\n",
    "train_acc_history = []\n",
    "test_loss_history = []\n",
    "test_acc_history = []\n",
    "\n",
    "log_dir = './logs/'\n",
    "save_best_weight_path = './checkpoints/'\n",
    "\n",
    "now = datetime.now().strftime('%Y-%m-%d-%H-%M-%S')"
   ]
  },
  {
   "cell_type": "code",
   "execution_count": 4,
   "metadata": {},
   "outputs": [
    {
     "name": "stdout",
     "output_type": "stream",
     "text": [
      "the charset(inculde begin end and pad char) achieved from dataset : ?P25$]FO-S.Hc=71(ln63NC4[+)^@\n",
      "the total num of charset is : 29\n"
     ]
    }
   ],
   "source": [
    "# read the data and convert to the format we need\n",
    "train_smiles = read_strings('./data/train_smiles.csv', idx=False)\n",
    "train_zeo = read_vec('./data/train_zeo.csv', idx=False)\n",
    "train_syn = read_vec('./data/train_syn.csv', idx=False)\n",
    "train_codes = read_strings('./data/train_codes.csv', idx=False)\n",
    "test_smiles = read_strings('./data/test_smiles.csv', idx=False)\n",
    "test_zeo = read_vec('./data/test_zeo.csv', idx=False)\n",
    "test_syn = read_vec('./data/test_syn.csv', idx=False)\n",
    "test_codes = read_strings('./data/test_codes.csv', idx=False)\n",
    "\n",
    "charset = '?P25$]FO-S.Hc=71(ln63NC4[+)^@'\n",
    "charlen = len(charset)\n",
    "print('the charset(inculde begin end and pad char) achieved from dataset :', charset)\n",
    "print('the total num of charset is :', charlen)\n",
    "# create the char to index and index to char dictionary\n",
    "char_to_index = dict((c, i) for i, c in enumerate(charset))\n",
    "index_to_char = dict((i, c) for i, c in enumerate(charset))\n",
    "char_list = [k for k, v in char_to_index.items()]"
   ]
  },
  {
   "cell_type": "code",
   "execution_count": 5,
   "metadata": {},
   "outputs": [],
   "source": [
    "# hyperparameters\n",
    "device = torch.device(\"cuda:0\" if torch.cuda.is_available() else \"cpu\")\n",
    "batch_size = 512\n",
    "epoch = 10\n",
    "seqlen = 127"
   ]
  },
  {
   "cell_type": "code",
   "execution_count": 6,
   "metadata": {},
   "outputs": [
    {
     "name": "stdout",
     "output_type": "stream",
     "text": [
      "total parameters: 1.39M\n"
     ]
    }
   ],
   "source": [
    "src_smiles, tgt_smiles = smiles_padding(train_smiles)\n",
    "tgt_seq = smiles_to_sequence(tgt_smiles, char_to_index)\n",
    "tgt_seq = torch.cat([torch.unsqueeze(seq, 0) for seq in tgt_seq]).long()\n",
    "src_smiles_test, tgt_smiles_test = smiles_padding(test_smiles)\n",
    "tgt_seq_test = smiles_to_sequence(tgt_smiles_test, char_to_index)\n",
    "tgt_seq_test = torch.cat([torch.unsqueeze(seq, 0) for seq in tgt_seq_test]).long()\n",
    "# create the dataset and dataloader\n",
    "train_dataset = SeqDataset(train_zeo, train_syn, tgt_seq)\n",
    "test_dataset = SeqDataset(test_zeo, test_syn, tgt_seq_test)\n",
    "train_dataloader = DataLoader(train_dataset, batch_size=batch_size, shuffle=True)\n",
    "test_dataloader = DataLoader(test_dataset, batch_size=batch_size, shuffle=False)\n",
    "# create the model\n",
    "model = SMILESGenerator(condition_dim=24, lstm_dim=256, dec_layers=3, charset_size=charlen).to(device)\n",
    "# loss\n",
    "loss_func = torch.nn.CrossEntropyLoss(ignore_index=char_to_index['?'])\n",
    "optim = torch.optim.Adam(model.parameters(), lr=6e-4)\n",
    "total = sum(p.numel() for p in model.parameters())\n",
    "print('total parameters: %0.2fM' % (total / 1e6))"
   ]
  },
  {
   "cell_type": "code",
   "execution_count": 7,
   "metadata": {},
   "outputs": [],
   "source": [
    "# train function\n",
    "def train(model, dataloader, loss_func, optim, device):\n",
    "    model.train()\n",
    "    total_loss = 0\n",
    "    total_acc = 0\n",
    "    total_num = 0\n",
    "    for i, (zeo, syn, tgt) in enumerate(tqdm(dataloader)):\n",
    "        zeo = zeo.to(device)\n",
    "        syn = syn.to(device)\n",
    "        tgt = tgt.to(device)\n",
    "        # teacher forcing\n",
    "        condition = torch.cat([zeo, syn], dim=-1)\n",
    "        tgt_input = tgt[:, :-1].contiguous()\n",
    "        tgt_output = tgt[:, 1:].contiguous()\n",
    "        # convert the tgt_input to one-hot\n",
    "        tgt_input = F.one_hot(tgt_input, num_classes=charlen).float()\n",
    "        \n",
    "        optim.zero_grad()\n",
    "        output = model(condition, tgt_input)\n",
    "        \n",
    "        # reshape the output to calculate the loss\n",
    "        output = output.view(-1, output.size(-1))\n",
    "        tgt_output = tgt_output.view(-1)\n",
    "        loss = loss_func(output, tgt_output)\n",
    "        \n",
    "        # backward and update\n",
    "        loss.backward()\n",
    "        optim.step()\n",
    "        \n",
    "        # calculate the accuracy and loss\n",
    "        total_loss += loss.item()\n",
    "        pred = output.argmax(dim=-1)\n",
    "        num_correct = (pred == tgt_output) & (tgt_output != char_to_index['?'])\n",
    "        num_words = (tgt_output != char_to_index['?']).sum().item()\n",
    "        total_acc += num_correct.sum().item()\n",
    "        total_num += num_words\n",
    "    return total_loss / len(dataloader), total_acc / total_num"
   ]
  },
  {
   "cell_type": "code",
   "execution_count": 8,
   "metadata": {},
   "outputs": [],
   "source": [
    "# test function\n",
    "def test(model, dataloader, loss_func, device):\n",
    "    model.eval()\n",
    "    total_loss = 0\n",
    "    total_acc = 0\n",
    "    total_num = 0\n",
    "    with torch.no_grad():\n",
    "        for i, (zeo, syn, tgt) in enumerate(tqdm(dataloader)):\n",
    "            zeo = zeo.to(device)\n",
    "            syn = syn.to(device)\n",
    "            tgt = tgt.to(device)\n",
    "            condition = torch.cat([zeo, syn], dim=-1)\n",
    "            tgt_input = tgt[:, :-1].contiguous()\n",
    "            tgt_output = tgt[:, 1:].contiguous()\n",
    "            tgt_input = F.one_hot(tgt_input, num_classes=charlen).float()\n",
    "            output = model(condition, tgt_input)\n",
    "            output = output.view(-1, output.size(-1))\n",
    "            tgt_output = tgt_output.view(-1)\n",
    "            loss = loss_func(output, tgt_output)\n",
    "            total_loss += loss.item()\n",
    "            pred = output.argmax(dim=-1)\n",
    "            num_correct = (pred == tgt_output) & (tgt_output != char_to_index['?'])\n",
    "            num_words = (tgt_output != char_to_index['?']).sum().item()\n",
    "            total_acc += num_correct.sum().item()\n",
    "            total_num += num_words\n",
    "    return total_loss / len(dataloader), total_acc / total_num"
   ]
  },
  {
   "cell_type": "code",
   "execution_count": 9,
   "metadata": {},
   "outputs": [
    {
     "name": "stderr",
     "output_type": "stream",
     "text": [
      "100%|██████████| 284/284 [00:10<00:00, 27.91it/s]\n",
      "100%|██████████| 68/68 [00:00<00:00, 91.67it/s]\n"
     ]
    },
    {
     "name": "stdout",
     "output_type": "stream",
     "text": [
      "epoch 0, train loss 1.9554, train acc 0.4202, test loss 1.5225, test acc 0.5135\n"
     ]
    },
    {
     "name": "stderr",
     "output_type": "stream",
     "text": [
      "100%|██████████| 284/284 [00:09<00:00, 28.83it/s]\n",
      "100%|██████████| 68/68 [00:00<00:00, 91.06it/s]\n"
     ]
    },
    {
     "name": "stdout",
     "output_type": "stream",
     "text": [
      "epoch 1, train loss 1.3777, train acc 0.5493, test loss 1.2971, test acc 0.5708\n"
     ]
    },
    {
     "name": "stderr",
     "output_type": "stream",
     "text": [
      "100%|██████████| 284/284 [00:09<00:00, 28.73it/s]\n",
      "100%|██████████| 68/68 [00:00<00:00, 94.50it/s]\n"
     ]
    },
    {
     "name": "stdout",
     "output_type": "stream",
     "text": [
      "epoch 2, train loss 1.2037, train acc 0.5919, test loss 1.1425, test acc 0.6136\n"
     ]
    },
    {
     "name": "stderr",
     "output_type": "stream",
     "text": [
      "100%|██████████| 284/284 [00:09<00:00, 28.69it/s]\n",
      "100%|██████████| 68/68 [00:00<00:00, 91.69it/s]\n"
     ]
    },
    {
     "name": "stdout",
     "output_type": "stream",
     "text": [
      "epoch 3, train loss 1.0705, train acc 0.6298, test loss 1.0593, test acc 0.6324\n"
     ]
    },
    {
     "name": "stderr",
     "output_type": "stream",
     "text": [
      "100%|██████████| 284/284 [00:09<00:00, 28.72it/s]\n",
      "100%|██████████| 68/68 [00:00<00:00, 91.38it/s]\n"
     ]
    },
    {
     "name": "stdout",
     "output_type": "stream",
     "text": [
      "epoch 4, train loss 0.9720, train acc 0.6579, test loss 0.9852, test acc 0.6552\n"
     ]
    },
    {
     "name": "stderr",
     "output_type": "stream",
     "text": [
      "100%|██████████| 284/284 [00:09<00:00, 28.76it/s]\n",
      "100%|██████████| 68/68 [00:00<00:00, 94.97it/s]\n"
     ]
    },
    {
     "name": "stdout",
     "output_type": "stream",
     "text": [
      "epoch 5, train loss 0.9019, train acc 0.6782, test loss 0.9113, test acc 0.6750\n"
     ]
    },
    {
     "name": "stderr",
     "output_type": "stream",
     "text": [
      "100%|██████████| 284/284 [00:09<00:00, 28.61it/s]\n",
      "100%|██████████| 68/68 [00:00<00:00, 94.52it/s]\n"
     ]
    },
    {
     "name": "stdout",
     "output_type": "stream",
     "text": [
      "epoch 6, train loss 0.8469, train acc 0.6941, test loss 0.8546, test acc 0.6937\n"
     ]
    },
    {
     "name": "stderr",
     "output_type": "stream",
     "text": [
      "100%|██████████| 284/284 [00:09<00:00, 28.62it/s]\n",
      "100%|██████████| 68/68 [00:00<00:00, 94.71it/s]\n"
     ]
    },
    {
     "name": "stdout",
     "output_type": "stream",
     "text": [
      "epoch 7, train loss 0.8018, train acc 0.7079, test loss 0.8537, test acc 0.6902\n"
     ]
    },
    {
     "name": "stderr",
     "output_type": "stream",
     "text": [
      "100%|██████████| 284/284 [00:09<00:00, 28.44it/s]\n",
      "100%|██████████| 68/68 [00:00<00:00, 93.96it/s]\n"
     ]
    },
    {
     "name": "stdout",
     "output_type": "stream",
     "text": [
      "epoch 8, train loss 0.7666, train acc 0.7186, test loss 0.7876, test acc 0.7122\n"
     ]
    },
    {
     "name": "stderr",
     "output_type": "stream",
     "text": [
      "100%|██████████| 284/284 [00:09<00:00, 28.55it/s]\n",
      "100%|██████████| 68/68 [00:00<00:00, 91.48it/s]"
     ]
    },
    {
     "name": "stdout",
     "output_type": "stream",
     "text": [
      "epoch 9, train loss 0.7347, train acc 0.7278, test loss 0.7681, test acc 0.7170\n"
     ]
    },
    {
     "name": "stderr",
     "output_type": "stream",
     "text": [
      "\n"
     ]
    }
   ],
   "source": [
    "# train the model\n",
    "for i in range(epoch):\n",
    "    train_loss, train_acc = train(model, train_dataloader, loss_func, optim, device)\n",
    "    test_loss, test_acc = test(model, test_dataloader, loss_func, device)\n",
    "    print('epoch %d, train loss %.4f, train acc %.4f, test loss %.4f, test acc %.4f' % (i, train_loss, train_acc, test_loss, test_acc))\n",
    "    train_loss_history.append(train_loss)\n",
    "    train_acc_history.append(train_acc)\n",
    "    test_loss_history.append(test_loss)\n",
    "    test_acc_history.append(test_acc)\n",
    "    if i == 0:\n",
    "        best_acc = test_acc\n",
    "    if test_acc > best_acc:\n",
    "        best_acc = test_acc\n",
    "        torch.save(model.state_dict(), os.path.join(save_best_weight_path, 'best_ddc_model.pth'))\n",
    "    torch.save(model.state_dict(), os.path.join(save_best_weight_path, 'last_ddc_model.pth'))\n"
   ]
  },
  {
   "cell_type": "code",
   "execution_count": 10,
   "metadata": {},
   "outputs": [],
   "source": [
    "def generate_ddc(model, start_sequence, condition, seqlen, \n",
    "                 char_to_index, index_to_char, device, temperature=0.5):\n",
    "    \"\"\"\n",
    "    Auto-regressively generate SMILES sequence\n",
    "\n",
    "    Args: \n",
    "        model (nn.Module): The SMILESGenerator (or similar) model.\n",
    "        start_sequence (torch.Tensor): Already-converted indices for the initial tokens.\n",
    "            Can be of shape (batch_size, start_len) or (start_len,) if batch_size = 1.\n",
    "        condition (torch.Tensor): The condition tensor of shape (batch_size, condition_dim).\n",
    "        seqlen (int): The total desired length of the SMILES (including start tokens).\n",
    "        char_to_index (dict): Mapping from character to integer index.\n",
    "        index_to_char (dict): Mapping from integer index back to character.\n",
    "        device (torch.device): The device on which to run the generation.\n",
    "        temperature (float): Temperature for sampling.\n",
    "\n",
    "    Returns:\n",
    "        If batch_size == 1, returns a single SMILES string.\n",
    "        Otherwise, returns a list of SMILES strings, one for each item in the batch.\n",
    "    \"\"\"\n",
    "\n",
    "    model.eval()\n",
    "    \n",
    "    # 1) If start_sequence is 1D, we assume batch_size = 1. Make it (1, start_len).\n",
    "    if start_sequence.dim() == 1:\n",
    "        start_sequence = start_sequence.unsqueeze(0)  # shape: (1, start_len)\n",
    "    start_sequence = start_sequence.to(device)\n",
    "\n",
    "    # 2) Determine batch_size and starting sequence length\n",
    "    batch_size, start_len = start_sequence.size()\n",
    "\n",
    "    # 3) Create a (batch_size, seqlen) tensor for token indices \n",
    "    #    Initialize all to 0, then copy in the start_sequence for each batch example\n",
    "    generated_seq = torch.zeros(batch_size, seqlen, dtype=torch.long, device=device)\n",
    "    generated_seq[:, :start_len] = start_sequence\n",
    "    \n",
    "    with torch.no_grad():\n",
    "        # We will iteratively fill positions from [start_len ... seqlen-1]\n",
    "        for t in range(start_len, seqlen):\n",
    "\n",
    "            # 4) One-hot encode the tokens up to current time step t\n",
    "            #    shape -> (batch_size, t, charset_size)\n",
    "            dec_input = F.one_hot(generated_seq[:, :t], \n",
    "                                  num_classes=len(char_to_index)).float()\n",
    "\n",
    "            # 5) Get the model output\n",
    "            #    output.shape = (batch_size, t, charset_size)\n",
    "            output = model(condition, dec_input)\n",
    "\n",
    "            # 6) Get the logits for the *last* time step (index = t-1)\n",
    "            #    output[:, -1, :].shape = (batch_size, charset_size)\n",
    "            last_step_logits = output[:, -1, :]\n",
    "\n",
    "            # 7) Sample from these logits using temperature\n",
    "            probs = F.softmax(last_step_logits / temperature, dim=-1)\n",
    "            sampled_idx = torch.multinomial(probs, 1).squeeze(1)  # shape: (batch_size,)\n",
    "\n",
    "            # 8) Update generated_seq\n",
    "            #    But we can also stop if the previous token was '$' (end-of-sequence)\n",
    "            end_token_idx = char_to_index.get('$', None)\n",
    "            for b in range(batch_size):\n",
    "                if end_token_idx is not None and generated_seq[b, t-1] == end_token_idx:\n",
    "                    # If the previous character was already end-of-sequence,\n",
    "                    # we do not overwrite. We just leave future steps as 0.\n",
    "                    continue\n",
    "                generated_seq[b, t] = sampled_idx[b]\n",
    "    \n",
    "    # ----------------------------------------------------------------------\n",
    "    # Convert token indices back to SMILES strings,\n",
    "    # stopping at the first '$' if encountered.\n",
    "    # ----------------------------------------------------------------------\n",
    "    smiles_outputs = []\n",
    "    for b in range(batch_size):\n",
    "        tokens = []\n",
    "        for idx in generated_seq[b]:\n",
    "            ch = index_to_char[idx.item()]\n",
    "            if ch == '$':\n",
    "                break\n",
    "            elif ch == '^':\n",
    "                continue\n",
    "            tokens.append(ch)\n",
    "        smiles_outputs.append(\"\".join(tokens))\n",
    "    \n",
    "    # Return single string if batch_size == 1, otherwise a list\n",
    "    if batch_size == 1:\n",
    "        return smiles_outputs[0]\n",
    "    else:\n",
    "        return smiles_outputs\n"
   ]
  },
  {
   "cell_type": "code",
   "execution_count": 11,
   "metadata": {},
   "outputs": [
    {
     "name": "stdout",
     "output_type": "stream",
     "text": [
      "target smiles:\n",
      "[['n1(C)c(C)[n+](cc1)Cc1ccccc1C[n+]1ccn(C)c1C']\n",
      " ['Cn1cc[n+](Cc2ccccc2C[n+]2ccn(C)c2C)c1C']\n",
      " ['Cc1n(C)cc[n+]1Cc1c(cccc1)C[n+]1ccn(c1C)C']\n",
      " ['c1ccc(c(c1)C[n+]1c(C)n(C)cc1)C[n+]1ccn(c1C)C']\n",
      " ['[n+]1(c(n(C)cc1)C)Cc1c(C[n+]2ccn(c2C)C)cccc1']\n",
      " ['Cc1n(C)cc[n+]1Cc1ccccc1C[n+]1c(n(cc1)C)C']\n",
      " ['Cn1c(C)[n+](cc1)Cc1ccccc1C[n+]1ccn(c1C)C']\n",
      " ['c1c[n+](Cc2ccccc2C[n+]2c(C)n(cc2)C)c(C)n1C']\n",
      " ['n1(cc[n+](c1C)Cc1ccccc1C[n+]1ccn(C)c1C)C']\n",
      " ['[n+]1(Cc2c(C[n+]3c(n(cc3)C)C)cccc2)c(C)n(C)cc1']]\n",
      "generated smiles:\n",
      "['^c1cC(c)c(C1nccc[[++12cc((())C)ncC2)ccCccc', '^ccc(ccCPnnCn[[+]1cCnncc))', '^cccCc(ccn)C)-11[n+](cc(c))))', '^C(1CC[C+](()1CCC)CC[)+]1(C)(CCCC1)C', '^c1[(+](C))CCc3ccCccc3C[n+]3ccC(C(c)c)4)c2ncccC)', '^c1cccCc(c[)+11CnCccCcnnc', '^cN2ccc(cc1)C[N+]12CCCCCC122C(C)CCC1CCC', '^c((2(((C)))c)ccn1CCNCCO1CONCOOC1OCC(OC2NCCOCCOOCOOCOOCOOC(C)CCO2COOCOOC1CCOC', '^C(C[[+]]]2(C)CCC3C((N2C(C(C)C2)C3CCCC3)C))1', '^c1cCcncccC)n[[+]11nn(cc11CCCCCC)C']\n"
     ]
    }
   ],
   "source": [
    "# test the generate function\n",
    "# check the first 10 samples\n",
    "train_zeo = train_zeo[:10].astype(np.float32)\n",
    "train_syn = train_syn[:10].astype(np.float32)\n",
    "zeo = torch.tensor(train_zeo, dtype=torch.float32).to(device)\n",
    "syn = torch.tensor(train_syn, dtype=torch.float32).to(device)\n",
    "target_smi = train_smiles[:10]\n",
    "start_sequence = torch.full((10, 1), char_to_index['^'], dtype=torch.long)\n",
    "start_sequence = start_sequence.to(device)\n",
    "condition_synthesis = torch.cat([zeo, syn], dim=1)\n",
    "generated_smiles = generate_ddc(model, start_sequence, condition_synthesis, seqlen, char_to_index, index_to_char, device, 0.5)\n",
    "print('target smiles:')\n",
    "print(target_smi)\n",
    "print('generated smiles:')\n",
    "print(generated_smiles)"
   ]
  },
  {
   "cell_type": "code",
   "execution_count": 12,
   "metadata": {},
   "outputs": [
    {
     "data": {
      "image/png": "[encoded data removed]",
      "text/plain": [
       "<Figure size 432x288 with 1 Axes>"
      ]
     },
     "metadata": {
      "needs_background": "light"
     },
     "output_type": "display_data"
    }
   ],
   "source": [
    "# plot the loss and acc\n",
    "plot_loss(train_loss_history, test_loss_history, 'ddc')"
   ]
  }
 ],
 "metadata": {
  "kernelspec": {
   "display_name": "zeosyn",
   "language": "python",
   "name": "python3"
  },
  "language_info": {
   "codemirror_mode": {
    "name": "ipython",
    "version": 3
   },
   "file_extension": ".py",
   "mimetype": "text/x-python",
   "name": "python",
   "nbconvert_exporter": "python",
   "pygments_lexer": "ipython3",
   "version": "3.7.10"
  }
 },
 "nbformat": 4,
 "nbformat_minor": 2
}
