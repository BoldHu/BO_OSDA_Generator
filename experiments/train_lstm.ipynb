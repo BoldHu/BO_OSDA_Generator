{
 "cells": [
  {
   "cell_type": "markdown",
   "metadata": {},
   "source": [
    "# LSTM Model"
   ]
  },
  {
   "cell_type": "code",
   "execution_count": 1,
   "metadata": {},
   "outputs": [
    {
     "name": "stdout",
     "output_type": "stream",
     "text": [
      "/home/hudongcheng/Desktop/bo_osda_generator\n"
     ]
    }
   ],
   "source": [
    "# change to the directory of the working file\n",
    "%cd .."
   ]
  },
  {
   "cell_type": "code",
   "execution_count": 2,
   "metadata": {},
   "outputs": [],
   "source": [
    "import pandas as pd\n",
    "from rdkit import Chem\n",
    "import numpy as np\n",
    "import random\n",
    "import pickle\n",
    "import torch\n",
    "import torch.nn as nn\n",
    "import torch.optim as optim\n",
    "from torch.utils.data import DataLoader\n",
    "import torch.backends.cudnn as cudnn\n",
    "import torch.nn.functional as F\n",
    "import matplotlib.pyplot as plt\n",
    "from tqdm import tqdm\n",
    "from datetime import datetime\n",
    "\n",
    "# import the necessary modules\n",
    "from utils.utils import *\n",
    "from datasets.data_loader import *\n",
    "from models.lstm import LSTM_Variant\n",
    "from utils.plot_figures import *"
   ]
  },
  {
   "cell_type": "code",
   "execution_count": 3,
   "metadata": {},
   "outputs": [],
   "source": [
    "cudnn.benchmark = True\n",
    "cudnn.enabled = True\n",
    "\n",
    "train_loss_history = []\n",
    "train_acc_history = []\n",
    "test_loss_history = []\n",
    "test_acc_history = []\n",
    "\n",
    "log_dir = './logs/'\n",
    "save_best_weight_path = './checkpoints/'\n",
    "\n",
    "now = datetime.now().strftime('%Y-%m-%d-%H-%M-%S')"
   ]
  },
  {
   "cell_type": "code",
   "execution_count": 4,
   "metadata": {},
   "outputs": [
    {
     "name": "stdout",
     "output_type": "stream",
     "text": [
      "the charset(inculde begin end and pad char) achieved from dataset : ?P25$]FO-S.Hc=71(ln63NC4[+)^@\n",
      "the total num of charset is : 29\n",
      "cuda\n",
      "total parameters: 1.34M\n"
     ]
    }
   ],
   "source": [
    "# load the data\n",
    "train_smiles = read_strings('./data/train_smiles.csv', idx=False)\n",
    "train_zeo = read_vec('./data/train_zeo.csv', idx=False)\n",
    "train_syn = read_vec('./data/train_syn.csv', idx=False)\n",
    "train_codes = read_strings('./data/train_codes.csv', idx=False)\n",
    "test_smiles = read_strings('./data/test_smiles.csv', idx=False)\n",
    "test_zeo = read_vec('./data/test_zeo.csv', idx=False)\n",
    "test_syn = read_vec('./data/test_syn.csv', idx=False)\n",
    "test_codes = read_strings('./data/test_codes.csv', idx=False)\n",
    "\n",
    "charset = '?P25$]FO-S.Hc=71(ln63NC4[+)^@'\n",
    "charlen = len(charset)\n",
    "print('the charset(inculde begin end and pad char) achieved from dataset :', charset)\n",
    "print('the total num of charset is :', charlen)\n",
    "# create the char to index and index to char dictionary\n",
    "char_to_index = dict((c, i) for i, c in enumerate(charset))\n",
    "index_to_char = dict((i, c) for i, c in enumerate(charset))\n",
    "char_list = [k for k, v in char_to_index.items()]\n",
    "\n",
    "cudnn.benchmark = True\n",
    "lr = 4e-6\n",
    "batch_size = 512\n",
    "epoch = 10\n",
    "seqlen = 127\n",
    "\n",
    "manual_seed = 42\n",
    "random.seed(manual_seed)\n",
    "torch.manual_seed(manual_seed)\n",
    "\n",
    "# load the training and testing data\n",
    "src_smiles, tgt_smiles = smiles_padding(train_smiles)\n",
    "tgt_seq = smiles_to_sequence(tgt_smiles, char_to_index)\n",
    "tgt_seq = torch.cat([torch.unsqueeze(seq, 0) for seq in tgt_seq]).long()\n",
    "src_smiles_test, tgt_smiles_test = smiles_padding(test_smiles)\n",
    "tgt_seq_test = smiles_to_sequence(tgt_smiles_test, char_to_index)\n",
    "tgt_seq_test = torch.cat([torch.unsqueeze(seq, 0) for seq in tgt_seq_test]).long()\n",
    "# create the dataset and dataloader\n",
    "train_dataset = SeqDataset(train_zeo, train_syn, tgt_seq)\n",
    "test_dataset = SeqDataset(test_zeo, test_syn, tgt_seq_test)\n",
    "train_dataloader = DataLoader(train_dataset, batch_size=batch_size, shuffle=True)\n",
    "test_dataloader = DataLoader(test_dataset, batch_size=batch_size, shuffle=False)\n",
    "\n",
    "# load the model\n",
    "model = LSTM_Variant(charlen, embedding_dim=256, hidden_dim=256, conditional_synthesis_dim=24, num_layers=2, dropout=0.2)\n",
    "\n",
    "# define the loss function and the optimizer\n",
    "criterion = nn.CrossEntropyLoss(ignore_index=char_to_index['?']) # ignore the padding index\n",
    "optimizer = optim.Adam(model.parameters(), lr=lr)\n",
    "\n",
    "# define the device\n",
    "device = torch.device('cuda' if torch.cuda.is_available() else 'cpu')\n",
    "print(device)\n",
    "\n",
    "if device.type == 'cuda':\n",
    "    model = model.to(device)\n",
    "    criterion = criterion.to(device)\n",
    "\n",
    "total = sum(p.numel() for p in model.parameters())\n",
    "print('total parameters: %0.2fM' % (total / 1e6))  # print the total parameters"
   ]
  },
  {
   "cell_type": "code",
   "execution_count": 5,
   "metadata": {},
   "outputs": [],
   "source": [
    "# train function\n",
    "def train(model, train_dataloader, loss_func, optimizer, device):\n",
    "    model.train()\n",
    "    total_loss = 0\n",
    "    total_corrects = 0\n",
    "    total_words = 0\n",
    "\n",
    "    for i, (zeo, syn, tgt) in enumerate(tqdm(train_dataloader)):\n",
    "        optimizer.zero_grad()\n",
    "        zeo, syn, tgt = zeo.to(device), syn.to(device), tgt.to(device)\n",
    "        \n",
    "        # Concatenate zeolite and synthesis condition\n",
    "        condition_synthesis = torch.cat([zeo, syn], dim=1)\n",
    "        tgt_input = tgt[:, :-1].contiguous()  # Remove the last token\n",
    "        tgt_label = tgt[:, 1:].contiguous()  # Remove the first token\n",
    "\n",
    "        # Forward pass\n",
    "        output, _ = model(condition_synthesis, tgt_input)\n",
    "        loss = loss_func(output.reshape(-1, output.size(2)), tgt_label.reshape(-1))\n",
    "        \n",
    "        # Calculate the accuracy\n",
    "        pred = output.argmax(dim=-1)\n",
    "        # the number of corrects which is not padding\n",
    "        num_corrects = ((pred == tgt_label) & (tgt_label != 0)).sum().item()\n",
    "        # the number of words which is not padding\n",
    "        num_words = (tgt_label != 0).sum().item()\n",
    "\n",
    "        # Backward pass\n",
    "        loss.backward()\n",
    "        optimizer.step()\n",
    "        \n",
    "        # Log the loss and accuracy\n",
    "        total_loss += loss.item()\n",
    "        total_corrects += num_corrects\n",
    "        total_words += num_words\n",
    "\n",
    "    # Calculate average loss and overall accuracy\n",
    "    avg_loss = total_loss / len(train_dataloader)\n",
    "    avg_acc = total_corrects / total_words\n",
    "    return avg_loss, avg_acc"
   ]
  },
  {
   "cell_type": "code",
   "execution_count": 6,
   "metadata": {},
   "outputs": [],
   "source": [
    "# evaluate function\n",
    "def evaluate(model, test_dataloader, loss_func, device):\n",
    "    model.eval()\n",
    "    total_loss = 0\n",
    "    total_acc = 0\n",
    "    total_num = 0\n",
    "    with torch.no_grad():\n",
    "        for i, (zeo, syn, tgt) in enumerate(tqdm(test_dataloader)):\n",
    "            zeo, syn, tgt = zeo.to(device), syn.to(device), tgt.to(device)\n",
    "            # concat the zeolite and synthesis condition\n",
    "            condition_synthesis = torch.cat([zeo, syn], dim=1)\n",
    "            tgt_input = tgt[:, :-1].contiguous() # remove the last token\n",
    "            tgt_label = tgt[:, 1:].contiguous() # remove the first token\n",
    "            # forward\n",
    "            output, _ = model(condition_synthesis, tgt_input)\n",
    "            loss = loss_func(output.reshape(-1, output.size(2)), tgt_label.reshape(-1))\n",
    "            # calculate the accuracy\n",
    "            pred = output.argmax(dim=-1)\n",
    "            # the number of corrects which is not padding\n",
    "            num_corrects = ((pred == tgt_label) & (tgt_label != 0)).sum().item()\n",
    "            # the number of words which is not padding\n",
    "            num_words = (tgt_label != 0).sum().item()\n",
    "            # log the loss and accuracy\n",
    "            total_loss += loss.item()\n",
    "            total_acc += num_corrects\n",
    "            total_num += num_words\n",
    "    avg_loss = total_loss / len(test_dataloader)\n",
    "    avg_acc = total_acc / total_num\n",
    "    return avg_loss, avg_acc"
   ]
  },
  {
   "cell_type": "code",
   "execution_count": 7,
   "metadata": {},
   "outputs": [
    {
     "name": "stderr",
     "output_type": "stream",
     "text": [
      "100%|██████████| 284/284 [00:05<00:00, 54.60it/s]\n"
     ]
    },
    {
     "name": "stdout",
     "output_type": "stream",
     "text": [
      "epoch: 0, train_loss: 3.2456, train_acc: 0.2978\n"
     ]
    },
    {
     "name": "stderr",
     "output_type": "stream",
     "text": [
      "100%|██████████| 68/68 [00:00<00:00, 176.73it/s]\n"
     ]
    },
    {
     "name": "stdout",
     "output_type": "stream",
     "text": [
      "epoch: 0, test_loss: 3.0445, test_acc: 0.3532\n"
     ]
    },
    {
     "name": "stderr",
     "output_type": "stream",
     "text": [
      "100%|██████████| 284/284 [00:05<00:00, 55.31it/s]\n"
     ]
    },
    {
     "name": "stdout",
     "output_type": "stream",
     "text": [
      "epoch: 1, train_loss: 2.6689, train_acc: 0.3690\n"
     ]
    },
    {
     "name": "stderr",
     "output_type": "stream",
     "text": [
      "100%|██████████| 68/68 [00:00<00:00, 190.02it/s]\n"
     ]
    },
    {
     "name": "stdout",
     "output_type": "stream",
     "text": [
      "epoch: 1, test_loss: 2.4247, test_acc: 0.3767\n"
     ]
    },
    {
     "name": "stderr",
     "output_type": "stream",
     "text": [
      "100%|██████████| 284/284 [00:05<00:00, 55.29it/s]\n"
     ]
    },
    {
     "name": "stdout",
     "output_type": "stream",
     "text": [
      "epoch: 2, train_loss: 2.3358, train_acc: 0.3743\n"
     ]
    },
    {
     "name": "stderr",
     "output_type": "stream",
     "text": [
      "100%|██████████| 68/68 [00:00<00:00, 175.48it/s]\n"
     ]
    },
    {
     "name": "stdout",
     "output_type": "stream",
     "text": [
      "epoch: 2, test_loss: 2.2662, test_acc: 0.3767\n"
     ]
    },
    {
     "name": "stderr",
     "output_type": "stream",
     "text": [
      "100%|██████████| 284/284 [00:05<00:00, 55.64it/s]\n"
     ]
    },
    {
     "name": "stdout",
     "output_type": "stream",
     "text": [
      "epoch: 3, train_loss: 2.2207, train_acc: 0.3744\n"
     ]
    },
    {
     "name": "stderr",
     "output_type": "stream",
     "text": [
      "100%|██████████| 68/68 [00:00<00:00, 189.04it/s]\n"
     ]
    },
    {
     "name": "stdout",
     "output_type": "stream",
     "text": [
      "epoch: 3, test_loss: 2.1714, test_acc: 0.3773\n"
     ]
    },
    {
     "name": "stderr",
     "output_type": "stream",
     "text": [
      "100%|██████████| 284/284 [00:05<00:00, 55.40it/s]\n"
     ]
    },
    {
     "name": "stdout",
     "output_type": "stream",
     "text": [
      "epoch: 4, train_loss: 2.1309, train_acc: 0.3783\n"
     ]
    },
    {
     "name": "stderr",
     "output_type": "stream",
     "text": [
      "100%|██████████| 68/68 [00:00<00:00, 172.51it/s]\n"
     ]
    },
    {
     "name": "stdout",
     "output_type": "stream",
     "text": [
      "epoch: 4, test_loss: 2.0814, test_acc: 0.3859\n"
     ]
    },
    {
     "name": "stderr",
     "output_type": "stream",
     "text": [
      "100%|██████████| 284/284 [00:05<00:00, 55.43it/s]\n"
     ]
    },
    {
     "name": "stdout",
     "output_type": "stream",
     "text": [
      "epoch: 5, train_loss: 2.0443, train_acc: 0.3917\n"
     ]
    },
    {
     "name": "stderr",
     "output_type": "stream",
     "text": [
      "100%|██████████| 68/68 [00:00<00:00, 189.19it/s]\n"
     ]
    },
    {
     "name": "stdout",
     "output_type": "stream",
     "text": [
      "epoch: 5, test_loss: 1.9960, test_acc: 0.4068\n"
     ]
    },
    {
     "name": "stderr",
     "output_type": "stream",
     "text": [
      "100%|██████████| 284/284 [00:05<00:00, 55.01it/s]\n"
     ]
    },
    {
     "name": "stdout",
     "output_type": "stream",
     "text": [
      "epoch: 6, train_loss: 1.9630, train_acc: 0.4134\n"
     ]
    },
    {
     "name": "stderr",
     "output_type": "stream",
     "text": [
      "100%|██████████| 68/68 [00:00<00:00, 189.10it/s]\n"
     ]
    },
    {
     "name": "stdout",
     "output_type": "stream",
     "text": [
      "epoch: 6, test_loss: 1.9165, test_acc: 0.4207\n"
     ]
    },
    {
     "name": "stderr",
     "output_type": "stream",
     "text": [
      "100%|██████████| 284/284 [00:05<00:00, 55.15it/s]\n"
     ]
    },
    {
     "name": "stdout",
     "output_type": "stream",
     "text": [
      "epoch: 7, train_loss: 1.8868, train_acc: 0.4380\n"
     ]
    },
    {
     "name": "stderr",
     "output_type": "stream",
     "text": [
      "100%|██████████| 68/68 [00:00<00:00, 175.86it/s]\n"
     ]
    },
    {
     "name": "stdout",
     "output_type": "stream",
     "text": [
      "epoch: 7, test_loss: 1.8421, test_acc: 0.4635\n"
     ]
    },
    {
     "name": "stderr",
     "output_type": "stream",
     "text": [
      "100%|██████████| 284/284 [00:05<00:00, 54.59it/s]\n"
     ]
    },
    {
     "name": "stdout",
     "output_type": "stream",
     "text": [
      "epoch: 8, train_loss: 1.8151, train_acc: 0.4791\n"
     ]
    },
    {
     "name": "stderr",
     "output_type": "stream",
     "text": [
      "100%|██████████| 68/68 [00:00<00:00, 188.94it/s]\n"
     ]
    },
    {
     "name": "stdout",
     "output_type": "stream",
     "text": [
      "epoch: 8, test_loss: 1.7723, test_acc: 0.4985\n"
     ]
    },
    {
     "name": "stderr",
     "output_type": "stream",
     "text": [
      "100%|██████████| 284/284 [00:05<00:00, 54.99it/s]\n"
     ]
    },
    {
     "name": "stdout",
     "output_type": "stream",
     "text": [
      "epoch: 9, train_loss: 1.7478, train_acc: 0.5039\n"
     ]
    },
    {
     "name": "stderr",
     "output_type": "stream",
     "text": [
      "100%|██████████| 68/68 [00:00<00:00, 174.78it/s]\n"
     ]
    },
    {
     "name": "stdout",
     "output_type": "stream",
     "text": [
      "epoch: 9, test_loss: 1.7071, test_acc: 0.5159\n"
     ]
    }
   ],
   "source": [
    "# train the model\n",
    "for i in range(epoch):\n",
    "    train_loss, train_acc = train(model, train_dataloader, criterion, optimizer, device)\n",
    "    train_loss_history.append(train_loss)\n",
    "    train_acc_history.append(train_acc)\n",
    "    print('epoch: %d, train_loss: %.4f, train_acc: %.4f' % (i, train_loss, train_acc))\n",
    "    test_loss, test_acc = evaluate(model, test_dataloader, criterion, device)\n",
    "    test_loss_history.append(test_loss)\n",
    "    test_acc_history.append(test_acc)\n",
    "    print('epoch: %d, test_loss: %.4f, test_acc: %.4f' % (i, test_loss, test_acc))\n",
    "    if i == 0:\n",
    "        best_loss = test_loss\n",
    "        best_acc = test_acc\n",
    "    if test_loss < best_loss:\n",
    "        best_loss = test_loss\n",
    "        best_acc = test_acc\n",
    "        torch.save(model.state_dict(), save_best_weight_path + 'lstm_variant_best_loss.pth')\n",
    "    torch.save(model.state_dict(), save_best_weight_path + 'lstm_variant_last.pth')"
   ]
  },
  {
   "cell_type": "code",
   "execution_count": 8,
   "metadata": {},
   "outputs": [],
   "source": [
    "# generate smiles by the model\n",
    "def generate_smiles(model, zeo, syn, char_to_index, index_to_char, max_length, device):\n",
    "    model.eval()\n",
    "    batch_size = zeo.size(0)\n",
    "    zeo = zeo.to(device)\n",
    "    syn = syn.to(device)\n",
    "    condition_synthesis = torch.cat([zeo, syn], dim=1)\n",
    "    input_seq = torch.zeros(batch_size, max_length).long().to(device)\n",
    "    input_seq[:, 0] = char_to_index['^']\n",
    "    for i in range(1, max_length):\n",
    "        output, _ = model(condition_synthesis, input_seq[:, i-1])\n",
    "        # softmax\n",
    "        output = output[:, -1, :]\n",
    "        output = F.softmax(output, dim=-1)\n",
    "        # sample the next token by max probability\n",
    "        next_token = output.argmax(dim=-1)\n",
    "        # Update input_seq\n",
    "        for j in range(batch_size):\n",
    "            if input_seq[j, -1] != char_to_index['$']:\n",
    "                input_seq[j, i] = next_token[j]\n",
    "        if all(input_seq[:, -1] == char_to_index['$']):\n",
    "            break\n",
    "    smiles = []\n",
    "    print(input_seq)\n",
    "    for i in range(batch_size):\n",
    "        smiles.append(''.join([index_to_char[idx] for idx in input_seq[i].cpu().numpy() if idx != 0 and idx != char_to_index['^']]))\n",
    "    return smiles"
   ]
  },
  {
   "cell_type": "code",
   "execution_count": 9,
   "metadata": {},
   "outputs": [],
   "source": [
    "\n",
    "def generate_lstm(model, start_sequence, condition_synthesis, max_length, char_to_index, index_to_char, device, temperature=0.5):\n",
    "    \"\"\"\n",
    "    Autoregressive generation function.\n",
    "    \n",
    "    Args:\n",
    "    - model: LSTM_Variant model\n",
    "    - start_sequence: Initial sequence tensor (batch_size x seq_length)\n",
    "    - condition_synthesis: Conditional synthesis tensor (batch_size x condition_synthesis_dim)\n",
    "    - max_length: Maximum sequence length\n",
    "    - char_to_index: Character-to-index dictionary\n",
    "    - index_to_char: Index-to-character dictionary\n",
    "    - device: Device (CPU or GPU)\n",
    "    - temperature: Temperature scaling factor\n",
    "    \n",
    "    Returns:\n",
    "    - decoded_smiles: List of generated SMILES strings\n",
    "    \"\"\"\n",
    "    model.eval()\n",
    "    batch_size = start_sequence.size(0)\n",
    "    generated_smiles = start_sequence.clone().to(device)  # Initialize generated sequences\n",
    "    hidden = None  # Initialize LSTM hidden state\n",
    "\n",
    "    # Initialize termination flags\n",
    "    is_finished = torch.zeros(batch_size, dtype=torch.bool, device=device)\n",
    "\n",
    "    for _ in range(max_length - start_sequence.size(1)):\n",
    "        # Current input: the last token of each sequence\n",
    "        input_seq = torch.tensor([seq[-1] for seq in generated_smiles], dtype=torch.long, device=device).unsqueeze(1)\n",
    "        \n",
    "        # Forward propagation\n",
    "        output, hidden = model(condition_synthesis, input_seq, hidden)\n",
    "        \n",
    "        # Get the output of the last time step and apply temperature scaling\n",
    "        next_token_logits = output[:, -1, :]\n",
    "        next_token_probs = F.softmax(next_token_logits / temperature, dim=-1)\n",
    "        next_token = torch.multinomial(next_token_probs, 1).squeeze(-1)\n",
    "        \n",
    "        # Update generated sequences\n",
    "        for i in range(batch_size):\n",
    "            if not is_finished[i]:  # If the current sequence is not finished\n",
    "                token = next_token[i].item()\n",
    "                generated_smiles[i].append(token)\n",
    "                if token == char_to_index['$']:  # Check for end-of-sequence token\n",
    "                    is_finished[i] = True\n",
    "        \n",
    "        # Exit early if all sequences are finished\n",
    "        if is_finished.all():\n",
    "            break\n",
    "\n",
    "    # Convert indices to characters, ignoring padding and start tokens\n",
    "    decoded_smiles = [\n",
    "        \"\".join([index_to_char[token] for token in seq if token != char_to_index['^'] and token != char_to_index['?'] and token != char_to_index['$']])\n",
    "        for seq in generated_smiles\n",
    "    ]\n",
    "    return decoded_smiles\n"
   ]
  },
  {
   "cell_type": "code",
   "execution_count": 10,
   "metadata": {},
   "outputs": [
    {
     "name": "stdout",
     "output_type": "stream",
     "text": [
      "target smiles:\n",
      "[['n1(C)c(C)[n+](cc1)Cc1ccccc1C[n+]1ccn(C)c1C']\n",
      " ['Cn1cc[n+](Cc2ccccc2C[n+]2ccn(C)c2C)c1C']\n",
      " ['Cc1n(C)cc[n+]1Cc1c(cccc1)C[n+]1ccn(c1C)C']\n",
      " ['c1ccc(c(c1)C[n+]1c(C)n(C)cc1)C[n+]1ccn(c1C)C']\n",
      " ['[n+]1(c(n(C)cc1)C)Cc1c(C[n+]2ccn(c2C)C)cccc1']\n",
      " ['Cc1n(C)cc[n+]1Cc1ccccc1C[n+]1c(n(cc1)C)C']\n",
      " ['Cn1c(C)[n+](cc1)Cc1ccccc1C[n+]1ccn(c1C)C']\n",
      " ['c1c[n+](Cc2ccccc2C[n+]2c(C)n(cc2)C)c(C)n1C']\n",
      " ['n1(cc[n+](c1C)Cc1ccccc1C[n+]1ccn(C)c1C)C']\n",
      " ['[n+]1(Cc2c(C[n+]3c(n(cc3)C)C)cccc2)c(C)n(C)cc1']]\n",
      "generated smiles:\n",
      "['CnS1C1CCCCCNC(CC1(C$', '1CCCCCC[1+N(C)(CCCCC(C)CCCCCC)CC)CN))$', '([+]1c)C(C[c)c+ccc()))CC)cCCC)CC1CC)32CN(CC$', 'C2C([C22C)CCN(CCC)CCCC)CCCC[)(cC$', 'cFS$', '2)C(cN11CcCCCC$', 'CP[1]NC(Cn2)C(CC1(C)CcC)CC(CC(CN$', '21CCCCCC1[(+(++cCcc]((1)C)CCC$', ')@CC)CCC[+ccCC4C2C(C[)++3(CCCCC3C((C)CC$', '(CCCCC)CCC(C)CcCc1c2)CnCC1CC2CC))CCC1C)C1(CCcc+1c1cc1cc[2C)C)C[n](C$']\n"
     ]
    }
   ],
   "source": [
    "# test the generate function\n",
    "# check the first 10 samples\n",
    "train_zeo = train_zeo[:10].astype(np.float32)\n",
    "train_syn = train_syn[:10].astype(np.float32)\n",
    "zeo = torch.tensor(train_zeo, dtype=torch.float32).to(device)\n",
    "syn = torch.tensor(train_syn, dtype=torch.float32).to(device)\n",
    "target_smi = train_smiles[:10]\n",
    "start_sequence = torch.full((10, 1), char_to_index['^'], dtype=torch.long)\n",
    "start_sequence = start_sequence.to(device)\n",
    "condition_synthesis = torch.cat([zeo, syn], dim=1)\n",
    "generated_smiles = generate_lstm(model, start_sequence, condition_synthesis, seqlen, char_to_index, index_to_char, device, 0.5)\n",
    "print('target smiles:')\n",
    "print(target_smi)\n",
    "print('generated smiles:')\n",
    "print(generated_smiles)"
   ]
  },
  {
   "cell_type": "code",
   "execution_count": 11,
   "metadata": {},
   "outputs": [
    {
     "data": {
      "image/png": "[encoded data removed]",
      "text/plain": [
       "<Figure size 432x288 with 1 Axes>"
      ]
     },
     "metadata": {
      "needs_background": "light"
     },
     "output_type": "display_data"
    }
   ],
   "source": [
    "# plot the training and testing loss\n",
    "plot_loss(train_loss_history, test_loss_history, 'LSTM_Variant')"
   ]
  }
 ],
 "metadata": {
  "kernelspec": {
   "display_name": "zeosyn",
   "language": "python",
   "name": "python3"
  },
  "language_info": {
   "codemirror_mode": {
    "name": "ipython",
    "version": 3
   },
   "file_extension": ".py",
   "mimetype": "text/x-python",
   "name": "python",
   "nbconvert_exporter": "python",
   "pygments_lexer": "ipython3",
   "version": "3.7.10"
  }
 },
 "nbformat": 4,
 "nbformat_minor": 2
}
