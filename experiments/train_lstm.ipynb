{
 "cells": [
  {
   "cell_type": "markdown",
   "metadata": {},
   "source": [
    "# LSTM 模型"
   ]
  },
  {
   "cell_type": "code",
   "execution_count": 1,
   "metadata": {},
   "outputs": [
    {
     "name": "stdout",
     "output_type": "stream",
     "text": [
      "/home/hudongcheng/Desktop/bo_osda_generator\n"
     ]
    }
   ],
   "source": [
    "# change to the directory of the working file\n",
    "%cd .."
   ]
  },
  {
   "cell_type": "code",
   "execution_count": 2,
   "metadata": {},
   "outputs": [],
   "source": [
    "import pandas as pd\n",
    "from rdkit import Chem\n",
    "import numpy as np\n",
    "import random\n",
    "import pickle\n",
    "import torch\n",
    "import torch.nn as nn\n",
    "import torch.optim as optim\n",
    "from torch.utils.data import DataLoader\n",
    "import torch.backends.cudnn as cudnn\n",
    "import torch.nn.functional as F\n",
    "import matplotlib.pyplot as plt\n",
    "\n",
    "# import the necessary modules\n",
    "from utils.utils import *\n",
    "from datasets.data_loader import *\n",
    "from models.lstm import LSTM_Variant\n",
    "from utils.plot_figures import *"
   ]
  },
  {
   "cell_type": "code",
   "execution_count": 3,
   "metadata": {},
   "outputs": [
    {
     "name": "stdout",
     "output_type": "stream",
     "text": [
      "the charset(inculde begin end and pad char) achieved from dataset : ?P25$]FO-S.Hc=71(ln63NC4[+)^@\n",
      "the total num of charset is : 29\n",
      "cuda\n",
      "total parameters: 0.96M\n"
     ]
    }
   ],
   "source": [
    "# load the data\n",
    "train_smiles = read_strings('./data/train_smiles.csv', idx=False)\n",
    "train_zeo = read_vec('./data/train_zeo.csv', idx=False)\n",
    "train_syn = read_vec('./data/train_syn.csv', idx=False)\n",
    "train_codes = read_strings('./data/train_codes.csv', idx=False)\n",
    "test_smiles = read_strings('./data/test_smiles.csv', idx=False)\n",
    "test_zeo = read_vec('./data/test_zeo.csv', idx=False)\n",
    "test_syn = read_vec('./data/test_syn.csv', idx=False)\n",
    "test_codes = read_strings('./data/test_codes.csv', idx=False)\n",
    "\n",
    "charset = '?P25$]FO-S.Hc=71(ln63NC4[+)^@'\n",
    "charlen = len(charset)\n",
    "print('the charset(inculde begin end and pad char) achieved from dataset :', charset)\n",
    "print('the total num of charset is :', charlen)\n",
    "# create the char to index and index to char dictionary\n",
    "char_to_index = dict((c, i) for i, c in enumerate(charset))\n",
    "index_to_char = dict((i, c) for i, c in enumerate(charset))\n",
    "char_list = [k for k, v in char_to_index.items()]\n",
    "\n",
    "cudnn.benchmark = True\n",
    "lr = 2e-3\n",
    "batch_size = 512\n",
    "n_epoch = 2\n",
    "seqlen = 127\n",
    "\n",
    "manual_seed = 42\n",
    "random.seed(manual_seed)\n",
    "torch.manual_seed(manual_seed)\n",
    "\n",
    "# load the training and testing data\n",
    "src_smiles, tgt_smiles = smiles_padding(train_smiles)\n",
    "tgt_seq = smiles_to_sequence(tgt_smiles, char_to_index)\n",
    "tgt_seq = torch.cat([torch.unsqueeze(seq, 0) for seq in tgt_seq]).long()\n",
    "src_smiles_test, tgt_smiles_test = smiles_padding(test_smiles)\n",
    "tgt_seq_test = smiles_to_sequence(tgt_smiles_test, char_to_index)\n",
    "tgt_seq_test = torch.cat([torch.unsqueeze(seq, 0) for seq in tgt_seq_test]).long()\n",
    "# create the dataset and dataloader\n",
    "train_dataset = SeqDataset(train_zeo, train_syn, tgt_seq)\n",
    "test_dataset = SeqDataset(test_zeo, test_syn, tgt_seq_test)\n",
    "train_dataloader = DataLoader(train_dataset, batch_size=batch_size, shuffle=True)\n",
    "test_dataloader = DataLoader(test_dataset, batch_size=batch_size, shuffle=False)\n",
    "\n",
    "# load the model\n",
    "model = LSTM_Variant(charlen, embedding_dim=128, hidden_dim=256, conditional_synthesis_dim=24, num_layers=2, dropout=0.5)\n",
    "\n",
    "# define the loss function and the optimizer\n",
    "criterion = nn.CrossEntropyLoss()\n",
    "optimizer = optim.Adam(model.parameters(), lr=lr)\n",
    "\n",
    "# define the device\n",
    "device = torch.device('cuda' if torch.cuda.is_available() else 'cpu')\n",
    "print(device)\n",
    "\n",
    "if device.type == 'cuda':\n",
    "    model = model.to(device)\n",
    "    criterion = criterion.to(device)\n",
    "\n",
    "total = sum(p.numel() for p in model.parameters())\n",
    "print('total parameters: %0.2fM' % (total / 1e6))  # print the total parameters"
   ]
  },
  {
   "cell_type": "code",
   "execution_count": 4,
   "metadata": {},
   "outputs": [],
   "source": [
    "# define the training and testing functions\n",
    "def sample_from_logits(logits, temperature=1.0):\n",
    "    logits = logits / temperature  # (batch_size, vocab_size)\n",
    "    probs = F.softmax(logits, dim=-1)  # (batch_size, vocab_size)\n",
    "    return torch.multinomial(probs, num_samples=1).squeeze(-1)  # (batch_size,)\n",
    "\n",
    "def train(epoches, model, iterator, optimizer, criterion, device):\n",
    "    # teaching forcing\n",
    "    epoch_loss = 0\n",
    "    train_loss_list = []\n",
    "    test_loss_list = []\n",
    "    for epoch in range(epoches):\n",
    "        model.train()\n",
    "        for i, (zeo, syn, label) in enumerate(iterator):\n",
    "            # concat the zeo and syn\n",
    "            conditional_synthesis = torch.cat([zeo, syn], dim=1)\n",
    "            conditional_synthesis, label = conditional_synthesis.to(device), label.to(device)\n",
    "            optimizer.zero_grad()\n",
    "            batch_size, seq_len = label.shape\n",
    "            \n",
    "            # 这里有问题，应该是输入去掉最后一个token，输出去掉第一个token\n",
    "            # forward pass\n",
    "            output, _ = model(conditional_synthesis, label[:, :-1])\n",
    "            output_dim = output.shape[-1]\n",
    "            output = output.contiguous().view(-1, output_dim)\n",
    "            label = label[:, 1:].contiguous().view(-1)\n",
    "            # # forward pass\n",
    "            # output, _ = model(conditional_synthesis, label)\n",
    "            # output_dim = output.shape[-1] # vocab size\n",
    "            # # ignore the last token and reshape the output\n",
    "            # output = output[:, :-1, :].contiguous().view(-1, output_dim) # (batch_size * seq_len, vocab_size)\n",
    "            # # ignore the first token and reshape the label\n",
    "            # label = label[:, 1:].contiguous().view(-1) # (batch_size * seq_len)\n",
    "            \n",
    "            # calculate the loss\n",
    "            loss = criterion(output, label)\n",
    "            loss.backward()\n",
    "            optimizer.step()\n",
    "            \n",
    "            epoch_loss += loss.item()\n",
    "            # print information\n",
    "            if i % 100 == 0:\n",
    "                print(f'Batch: {i}, Loss: {loss.item()}')\n",
    "        \n",
    "        # calculate the average loss\n",
    "        train_loss_list.append(epoch_loss / len(iterator))\n",
    "        test_loss = test(model, test_dataloader, criterion, device)\n",
    "        test_loss_list.append(test_loss)\n",
    "        epoch_loss = 0\n",
    "        \n",
    "        print(f'Epoch: {epoch}, Train Loss: {epoch_loss / len(iterator)}, Test Loss: {test_loss}')\n",
    "    return train_loss_list, test_loss_list\n",
    "\n",
    "def test(model, iterator, criterion, device):\n",
    "    model.eval()\n",
    "    total_loss = 0\n",
    "    generated_sequences = []\n",
    "    with torch.no_grad():\n",
    "        for i, (zeo, syn, label) in enumerate(iterator):\n",
    "            # concat the zeo and syn\n",
    "            conditional_synthesis = torch.cat([zeo, syn], dim=1)\n",
    "            conditional_synthesis, label = conditional_synthesis.to(device), label.to(device)\n",
    "            batch_size = conditional_synthesis.shape[0]\n",
    "            # set the initial hidden state\n",
    "            hidden = None\n",
    "            # set the initial input (batch_size, 1)\n",
    "            generated_sequence = label[:, :1] # (batch_size, 1)\n",
    "            batch_loss = 0\n",
    "            \n",
    "            # auto-regressive\n",
    "            for t in range(label.shape[1]):\n",
    "                # forward pass\n",
    "                current_token = generated_sequence[:, -1].unsqueeze(1) # (batch_size, 1)\n",
    "                output, hidden = model(conditional_synthesis, current_token, hidden) # (batch_size, 1, vocab_size)\n",
    "                \n",
    "                # sample for the next input\n",
    "                next_token = sample_from_logits(output.squeeze(1)) # (batch_size,)\n",
    "                generated_sequence = torch.cat([generated_sequence, next_token.unsqueeze(1)], dim=1) # (batch_size, t+2)\n",
    "                \n",
    "                # calculate the loss\n",
    "                output_dim = output.shape[-1]\n",
    "                output = output.view(-1, output_dim) # (batch_size, vocab_size)\n",
    "                label_t = label[:, t]\n",
    "                loss = criterion(output, label_t)\n",
    "                batch_loss += loss.item()\n",
    "            \n",
    "            batch_loss /= label.shape[1]\n",
    "            total_loss += batch_loss\n",
    "            generated_sequences.append(generated_sequence)\n",
    "        \n",
    "        # calculate the average loss\n",
    "        total_loss /= len(iterator)\n",
    "        \n",
    "    # convert the generated sequences to smiles\n",
    "    generated_sequences = torch.cat(generated_sequences, dim=0).cpu().numpy()\n",
    "    generated_sequences = sequence_to_smiles(generated_sequences, index_to_char)\n",
    "    print(generated_sequences[:10])\n",
    "    return total_loss"
   ]
  },
  {
   "cell_type": "code",
   "execution_count": 5,
   "metadata": {},
   "outputs": [
    {
     "name": "stdout",
     "output_type": "stream",
     "text": [
      "Batch: 0, Loss: 3.3549416065216064\n",
      "Batch: 100, Loss: 0.27437087893486023\n",
      "Batch: 200, Loss: 0.20944635570049286\n",
      "seq_list: [[27 22 18 ...  0  0  0]\n",
      " [27 22 15 ...  0  0  0]\n",
      " [27 22 24 ...  0  0  0]\n",
      " ...\n",
      " [27 22 15 ...  0  0  0]\n",
      " [27 22 22 ...  0  0  0]\n",
      " [27 22 16 ...  0  0  0]]\n",
      "<class 'numpy.ndarray'>\n",
      "['^Cn1cc[n+](Cc2c(C)cc2)ccc1', '^C1C2C3C[N+](C)(CC4CC(C4)CCCC3)OC1', '^C[N+]1(C)CCCCC1', '^C[N+](C2)(CCN(CC)CCCCC2)C', '^c1ccccc1(C[N+](C)(C)C)CCC2', '^[n+]1(C)c(cccn1)c1ccccc1', '^C1[N+]2(C)CC(C)C=(CCC2C=C1)CC(C)CCC2', '^c1[n+](CC[n+]2ccn(c2C)C)cc(-2', '^C1CCC2CC[N+]21C1CC(C[N+]3(CCCC2)C)(C)CC1', '^C[n+]1(CCCCC)cccc1']\n",
      "Epoch: 0, Train Loss: 0.0, Test Loss: 1.9663331562097544\n",
      "Batch: 0, Loss: 0.1896256059408188\n",
      "Batch: 100, Loss: 0.16198010742664337\n",
      "Batch: 200, Loss: 0.15121105313301086\n",
      "seq_list: [[27 22 16 ...  0  0  0]\n",
      " [27 22 15 ...  0  0  0]\n",
      " [27 24 18 ...  0  0  0]\n",
      " ...\n",
      " [27 24 21 ...  0  0  0]\n",
      " [27 24 21 ...  0  0  0]\n",
      " [27 22 15 ...  0  0  0]]\n",
      "<class 'numpy.ndarray'>\n",
      "['^C(C[N+]1(C2CC3CCCC(C32)C3)CCCC1)C', '^C1C[N+]2(CC(C1C1C[N+](CC)(CC3C2C3)CCN(C3C5C=CC(C4C2C1(C)C2)C)CC)CC)C[N+](CCC)(CC)CC', '^[n+]1(ccn(c1C)C)CCCC[n+]1c(C)n(C)c(C)c1C', '^c1(CCn2cc[n+](c2)C)C', '^C(C)[N+]1(CC)CC2[N+](CC3CC[N+](C)(CC)CC1C2)(CC)CC', '^C[N+]1(CC)C(C)CC(C)C2C3C(C[N+](CC)(C=C4C21)C)CC[N+](C)(CC)C1', '^c1ccccc1C[N+]1(CCCC1)C', '^CC[N+]1(CC)CCC(C)C(C1)C', '^C([N+](Cc1ccccc1)CCC[N+]1(C)CCCC1)(C)C', '^c1n(C)[n+](CCCC)c1C[n+]1ccn(C)c1C']\n",
      "Epoch: 1, Train Loss: 0.0, Test Loss: 2.317730988904369\n"
     ]
    }
   ],
   "source": [
    "# train the model\n",
    "train_loss_list, test_loss_list = train(n_epoch, model, train_dataloader, optimizer, criterion, device)"
   ]
  },
  {
   "cell_type": "code",
   "execution_count": 6,
   "metadata": {},
   "outputs": [],
   "source": [
    "# save the model\n",
    "torch.save(model.state_dict(), 'checkpoints/LSTM_Variant.pth')"
   ]
  },
  {
   "cell_type": "code",
   "execution_count": 7,
   "metadata": {},
   "outputs": [
    {
     "data": {
      "image/png": "[encoded data removed]",
      "text/plain": [
       "<Figure size 432x288 with 1 Axes>"
      ]
     },
     "metadata": {
      "needs_background": "light"
     },
     "output_type": "display_data"
    }
   ],
   "source": [
    "# plot the training and testing loss\n",
    "plot_loss(train_loss_list, test_loss_list, 'LSTM_Variant')"
   ]
  }
 ],
 "metadata": {
  "kernelspec": {
   "display_name": "zeosyn",
   "language": "python",
   "name": "python3"
  },
  "language_info": {
   "codemirror_mode": {
    "name": "ipython",
    "version": 3
   },
   "file_extension": ".py",
   "mimetype": "text/x-python",
   "name": "python",
   "nbconvert_exporter": "python",
   "pygments_lexer": "ipython3",
   "version": "3.7.10"
  }
 },
 "nbformat": 4,
 "nbformat_minor": 2
}
