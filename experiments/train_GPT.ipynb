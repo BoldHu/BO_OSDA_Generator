{
 "cells": [
  {
   "cell_type": "markdown",
   "metadata": {},
   "source": [
    "# Train Model with GPT architecture"
   ]
  },
  {
   "cell_type": "code",
   "execution_count": 1,
   "metadata": {},
   "outputs": [
    {
     "name": "stdout",
     "output_type": "stream",
     "text": [
      "/home/hudongcheng/Desktop/bo_osda_generator\n"
     ]
    }
   ],
   "source": [
    "# change working path to the current file\n",
    "%cd .."
   ]
  },
  {
   "cell_type": "code",
   "execution_count": 2,
   "metadata": {},
   "outputs": [],
   "source": [
    "import numpy as np\n",
    "import os\n",
    "import torch\n",
    "import torch.nn as nn\n",
    "from torch.utils.data import DataLoader\n",
    "from torch.nn import functional as F\n",
    "from tqdm import tqdm\n",
    "from datetime import datetime\n",
    "from torch.utils.tensorboard import SummaryWriter\n",
    "import torch.backends.cudnn as cudnn\n",
    "\n",
    "# import custom modules\n",
    "from models.GPT import *\n",
    "from utils.utils import *\n",
    "from datasets.data_loader import *\n",
    "from utils.plot_figures import *\n",
    "from utils.metrics import *"
   ]
  },
  {
   "cell_type": "code",
   "execution_count": 3,
   "metadata": {},
   "outputs": [],
   "source": [
    "cudnn.benchmark = True\n",
    "cudnn.enabled = True\n",
    "\n",
    "train_loss_history = []\n",
    "train_acc_history = []\n",
    "test_loss_history = []\n",
    "test_acc_history = []\n",
    "\n",
    "log_dir = './logs/'\n",
    "save_best_weight_path = './checkpoints/'\n",
    "\n",
    "now = datetime.now().strftime('%Y-%m-%d-%H-%M-%S')"
   ]
  },
  {
   "cell_type": "code",
   "execution_count": 4,
   "metadata": {},
   "outputs": [
    {
     "name": "stdout",
     "output_type": "stream",
     "text": [
      "the charset(inculde begin end and pad char) achieved from dataset : ?P25$]FO-S.Hc=71(ln63NC4[+)^@\n",
      "the total num of charset is : 29\n"
     ]
    }
   ],
   "source": [
    "# read the data and convert to the format we need\n",
    "train_smiles = read_strings('./data/train_smiles.csv', idx=False)\n",
    "train_zeo = read_vec('./data/train_zeo.csv', idx=False)\n",
    "train_syn = read_vec('./data/train_syn.csv', idx=False)\n",
    "train_codes = read_strings('./data/train_codes.csv', idx=False)\n",
    "test_smiles = read_strings('./data/test_smiles.csv', idx=False)\n",
    "test_zeo = read_vec('./data/test_zeo.csv', idx=False)\n",
    "test_syn = read_vec('./data/test_syn.csv', idx=False)\n",
    "test_codes = read_strings('./data/test_codes.csv', idx=False)\n",
    "\n",
    "charset = '?P25$]FO-S.Hc=71(ln63NC4[+)^@'\n",
    "charlen = len(charset)\n",
    "print('the charset(inculde begin end and pad char) achieved from dataset :', charset)\n",
    "print('the total num of charset is :', charlen)\n",
    "# create the char to index and index to char dictionary\n",
    "char_to_index = dict((c, i) for i, c in enumerate(charset))\n",
    "index_to_char = dict((i, c) for i, c in enumerate(charset))\n",
    "char_list = [k for k, v in char_to_index.items()]"
   ]
  },
  {
   "cell_type": "code",
   "execution_count": 5,
   "metadata": {},
   "outputs": [],
   "source": [
    "# hyperparameters\n",
    "device = torch.device(\"cuda:0\" if torch.cuda.is_available() else \"cpu\")\n",
    "batch_size = 512\n",
    "epoch = 20\n",
    "seqlen = 127"
   ]
  },
  {
   "cell_type": "code",
   "execution_count": 6,
   "metadata": {},
   "outputs": [
    {
     "name": "stdout",
     "output_type": "stream",
     "text": [
      "total parameters: 3.21M\n"
     ]
    }
   ],
   "source": [
    "src_smiles, tgt_smiles = smiles_padding(train_smiles)\n",
    "tgt_seq = smiles_to_sequence(tgt_smiles, char_to_index)\n",
    "tgt_seq = torch.cat([torch.unsqueeze(seq, 0) for seq in tgt_seq]).long()\n",
    "src_smiles_test, tgt_smiles_test = smiles_padding(test_smiles)\n",
    "tgt_seq_test = smiles_to_sequence(tgt_smiles_test, char_to_index)\n",
    "tgt_seq_test = torch.cat([torch.unsqueeze(seq, 0) for seq in tgt_seq_test]).long()\n",
    "# create the dataset and dataloader\n",
    "train_dataset = SeqDataset(train_zeo, train_syn, tgt_seq)\n",
    "test_dataset = SeqDataset(test_zeo, test_syn, tgt_seq_test)\n",
    "train_dataloader = DataLoader(train_dataset, batch_size=batch_size, shuffle=True)\n",
    "test_dataloader = DataLoader(test_dataset, batch_size=batch_size, shuffle=False)\n",
    "# create the model\n",
    "config = GPTConfig(vocab_size=charlen, block_size=128, num_props=24)\n",
    "model = GPT(config).to(device)\n",
    "# loss\n",
    "loss_func = torch.nn.CrossEntropyLoss(ignore_index=char_to_index['?'])\n",
    "optim = torch.optim.Adam(model.parameters(), lr=6e-4)\n",
    "total = sum(p.numel() for p in model.parameters())\n",
    "print('total parameters: %0.2fM' % (total / 1e6))"
   ]
  },
  {
   "cell_type": "code",
   "execution_count": 7,
   "metadata": {},
   "outputs": [],
   "source": [
    "# train function\n",
    "def train(model, train_dataloader, loss_func, optim, device):\n",
    "    model.train()\n",
    "    total_loss = 0\n",
    "    total_acc = 0\n",
    "    total_num = 0\n",
    "    for i, (zeo, syn, tgt) in enumerate(tqdm(train_dataloader)):\n",
    "        zeo = zeo.to(device)\n",
    "        syn = syn.to(device)\n",
    "        tgt = tgt.to(device)\n",
    "        # concat zeo and syn as the input (prop)\n",
    "        synthesis_condition = torch.cat([zeo, syn], dim=-1)\n",
    "        tgt_input = tgt[:, :-1].contiguous()\n",
    "        tgt_label = tgt[:, 1:].contiguous()\n",
    "        \n",
    "        # forward\n",
    "        optim.zero_grad()\n",
    "        output = model(idx=tgt_input, prop=synthesis_condition)\n",
    "        loss = loss_func(output.view(-1, output.size(-1)), tgt_label.view(-1))\n",
    "        \n",
    "        # calculate the accuracy\n",
    "        pred = torch.argmax(output, dim=-1)\n",
    "        num_correct = (pred == tgt_label) & (tgt_label != char_to_index['?'])\n",
    "        num_words = (tgt_label != char_to_index['?']).sum().item()\n",
    "        \n",
    "        # backward\n",
    "        loss.backward()\n",
    "        optim.step()\n",
    "        \n",
    "        total_loss += loss.item()\n",
    "        total_acc += num_correct.sum().item()\n",
    "        total_num += num_words\n",
    "    return total_loss / len(train_dataloader), total_acc / total_num"
   ]
  },
  {
   "cell_type": "code",
   "execution_count": 8,
   "metadata": {},
   "outputs": [],
   "source": [
    "def evaluate(model, test_dataloader, loss_func, device):\n",
    "    model.eval()\n",
    "    total_loss = 0\n",
    "    total_acc = 0\n",
    "    total_num = 0\n",
    "    with torch.no_grad():\n",
    "        for i, (zeo, syn, tgt) in enumerate(tqdm(test_dataloader)):\n",
    "            zeo = zeo.to(device)\n",
    "            syn = syn.to(device)\n",
    "            tgt = tgt.to(device)\n",
    "            # concat zeo and syn as the input (prop)\n",
    "            synthesis_condition = torch.cat([zeo, syn], dim=-1)\n",
    "            tgt_input = tgt[:, :-1].contiguous()\n",
    "            tgt_label = tgt[:, 1:].contiguous()\n",
    "            # forward\n",
    "            output = model(idx=tgt_input, prop=synthesis_condition)\n",
    "            loss = loss_func(output.view(-1, output.size(-1)), tgt_label.view(-1))\n",
    "            # calculate the accuracy\n",
    "            pred = torch.argmax(output, dim=-1)\n",
    "            num_correct = (pred == tgt_label) & (tgt_label != char_to_index['?'])\n",
    "            num_words = (tgt_label != char_to_index['?']).sum().item()\n",
    "            total_loss += loss.item()\n",
    "            total_acc += num_correct.sum().item()\n",
    "            total_num += num_words\n",
    "    return total_loss / len(test_dataloader), total_acc / total_num"
   ]
  },
  {
   "cell_type": "code",
   "execution_count": 9,
   "metadata": {},
   "outputs": [
    {
     "name": "stderr",
     "output_type": "stream",
     "text": [
      "100%|██████████| 284/284 [00:29<00:00,  9.60it/s]\n"
     ]
    },
    {
     "name": "stdout",
     "output_type": "stream",
     "text": [
      "epoch: 0, train loss: 1.1359, train acc: 0.6230\n"
     ]
    },
    {
     "name": "stderr",
     "output_type": "stream",
     "text": [
      "100%|██████████| 68/68 [00:02<00:00, 29.45it/s]\n"
     ]
    },
    {
     "name": "stdout",
     "output_type": "stream",
     "text": [
      "epoch: 0 test loss: 0.7461, test acc: 0.7218\n"
     ]
    },
    {
     "name": "stderr",
     "output_type": "stream",
     "text": [
      "100%|██████████| 284/284 [00:29<00:00,  9.67it/s]\n"
     ]
    },
    {
     "name": "stdout",
     "output_type": "stream",
     "text": [
      "epoch: 1, train loss: 0.6836, train acc: 0.7418\n"
     ]
    },
    {
     "name": "stderr",
     "output_type": "stream",
     "text": [
      "100%|██████████| 68/68 [00:02<00:00, 29.39it/s]\n"
     ]
    },
    {
     "name": "stdout",
     "output_type": "stream",
     "text": [
      "epoch: 1 test loss: 0.5995, test acc: 0.7691\n"
     ]
    },
    {
     "name": "stderr",
     "output_type": "stream",
     "text": [
      "100%|██████████| 284/284 [00:29<00:00,  9.69it/s]\n"
     ]
    },
    {
     "name": "stdout",
     "output_type": "stream",
     "text": [
      "epoch: 2, train loss: 0.5698, train acc: 0.7786\n"
     ]
    },
    {
     "name": "stderr",
     "output_type": "stream",
     "text": [
      "100%|██████████| 68/68 [00:02<00:00, 28.96it/s]\n"
     ]
    },
    {
     "name": "stdout",
     "output_type": "stream",
     "text": [
      "epoch: 2 test loss: 0.5438, test acc: 0.7873\n"
     ]
    },
    {
     "name": "stderr",
     "output_type": "stream",
     "text": [
      "100%|██████████| 284/284 [00:29<00:00,  9.68it/s]\n"
     ]
    },
    {
     "name": "stdout",
     "output_type": "stream",
     "text": [
      "epoch: 3, train loss: 0.5077, train acc: 0.7991\n"
     ]
    },
    {
     "name": "stderr",
     "output_type": "stream",
     "text": [
      "100%|██████████| 68/68 [00:02<00:00, 28.98it/s]\n"
     ]
    },
    {
     "name": "stdout",
     "output_type": "stream",
     "text": [
      "epoch: 3 test loss: 0.4627, test acc: 0.8152\n"
     ]
    },
    {
     "name": "stderr",
     "output_type": "stream",
     "text": [
      "100%|██████████| 284/284 [00:29<00:00,  9.67it/s]\n"
     ]
    },
    {
     "name": "stdout",
     "output_type": "stream",
     "text": [
      "epoch: 4, train loss: 0.4528, train acc: 0.8170\n"
     ]
    },
    {
     "name": "stderr",
     "output_type": "stream",
     "text": [
      "100%|██████████| 68/68 [00:02<00:00, 29.33it/s]\n"
     ]
    },
    {
     "name": "stdout",
     "output_type": "stream",
     "text": [
      "epoch: 4 test loss: 0.4157, test acc: 0.8309\n"
     ]
    },
    {
     "name": "stderr",
     "output_type": "stream",
     "text": [
      "100%|██████████| 284/284 [00:29<00:00,  9.66it/s]\n"
     ]
    },
    {
     "name": "stdout",
     "output_type": "stream",
     "text": [
      "epoch: 5, train loss: 0.4185, train acc: 0.8282\n"
     ]
    },
    {
     "name": "stderr",
     "output_type": "stream",
     "text": [
      "100%|██████████| 68/68 [00:02<00:00, 29.32it/s]\n"
     ]
    },
    {
     "name": "stdout",
     "output_type": "stream",
     "text": [
      "epoch: 5 test loss: 0.3891, test acc: 0.8380\n"
     ]
    },
    {
     "name": "stderr",
     "output_type": "stream",
     "text": [
      "100%|██████████| 284/284 [00:29<00:00,  9.67it/s]\n"
     ]
    },
    {
     "name": "stdout",
     "output_type": "stream",
     "text": [
      "epoch: 6, train loss: 0.3919, train acc: 0.8369\n"
     ]
    },
    {
     "name": "stderr",
     "output_type": "stream",
     "text": [
      "100%|██████████| 68/68 [00:02<00:00, 29.33it/s]\n"
     ]
    },
    {
     "name": "stdout",
     "output_type": "stream",
     "text": [
      "epoch: 6 test loss: 0.3714, test acc: 0.8437\n"
     ]
    },
    {
     "name": "stderr",
     "output_type": "stream",
     "text": [
      "100%|██████████| 284/284 [00:29<00:00,  9.67it/s]\n"
     ]
    },
    {
     "name": "stdout",
     "output_type": "stream",
     "text": [
      "epoch: 7, train loss: 0.3714, train acc: 0.8439\n"
     ]
    },
    {
     "name": "stderr",
     "output_type": "stream",
     "text": [
      "100%|██████████| 68/68 [00:02<00:00, 28.99it/s]\n"
     ]
    },
    {
     "name": "stdout",
     "output_type": "stream",
     "text": [
      "epoch: 7 test loss: 0.3504, test acc: 0.8507\n"
     ]
    },
    {
     "name": "stderr",
     "output_type": "stream",
     "text": [
      "100%|██████████| 284/284 [00:29<00:00,  9.68it/s]\n"
     ]
    },
    {
     "name": "stdout",
     "output_type": "stream",
     "text": [
      "epoch: 8, train loss: 0.3553, train acc: 0.8490\n"
     ]
    },
    {
     "name": "stderr",
     "output_type": "stream",
     "text": [
      "100%|██████████| 68/68 [00:02<00:00, 28.97it/s]\n"
     ]
    },
    {
     "name": "stdout",
     "output_type": "stream",
     "text": [
      "epoch: 8 test loss: 0.3429, test acc: 0.8531\n"
     ]
    },
    {
     "name": "stderr",
     "output_type": "stream",
     "text": [
      "100%|██████████| 284/284 [00:29<00:00,  9.67it/s]\n"
     ]
    },
    {
     "name": "stdout",
     "output_type": "stream",
     "text": [
      "epoch: 9, train loss: 0.3428, train acc: 0.8533\n"
     ]
    },
    {
     "name": "stderr",
     "output_type": "stream",
     "text": [
      "100%|██████████| 68/68 [00:02<00:00, 28.96it/s]\n"
     ]
    },
    {
     "name": "stdout",
     "output_type": "stream",
     "text": [
      "epoch: 9 test loss: 0.3295, test acc: 0.8568\n"
     ]
    },
    {
     "name": "stderr",
     "output_type": "stream",
     "text": [
      "100%|██████████| 284/284 [00:29<00:00,  9.68it/s]\n"
     ]
    },
    {
     "name": "stdout",
     "output_type": "stream",
     "text": [
      "epoch: 10, train loss: 0.3318, train acc: 0.8566\n"
     ]
    },
    {
     "name": "stderr",
     "output_type": "stream",
     "text": [
      "100%|██████████| 68/68 [00:02<00:00, 29.36it/s]\n"
     ]
    },
    {
     "name": "stdout",
     "output_type": "stream",
     "text": [
      "epoch: 10 test loss: 0.3208, test acc: 0.8599\n"
     ]
    },
    {
     "name": "stderr",
     "output_type": "stream",
     "text": [
      "100%|██████████| 284/284 [00:29<00:00,  9.66it/s]\n"
     ]
    },
    {
     "name": "stdout",
     "output_type": "stream",
     "text": [
      "epoch: 11, train loss: 0.3222, train acc: 0.8597\n"
     ]
    },
    {
     "name": "stderr",
     "output_type": "stream",
     "text": [
      "100%|██████████| 68/68 [00:02<00:00, 29.40it/s]\n"
     ]
    },
    {
     "name": "stdout",
     "output_type": "stream",
     "text": [
      "epoch: 11 test loss: 0.3192, test acc: 0.8598\n"
     ]
    },
    {
     "name": "stderr",
     "output_type": "stream",
     "text": [
      "100%|██████████| 284/284 [00:29<00:00,  9.67it/s]\n"
     ]
    },
    {
     "name": "stdout",
     "output_type": "stream",
     "text": [
      "epoch: 12, train loss: 0.3162, train acc: 0.8616\n"
     ]
    },
    {
     "name": "stderr",
     "output_type": "stream",
     "text": [
      "100%|██████████| 68/68 [00:02<00:00, 28.95it/s]\n"
     ]
    },
    {
     "name": "stdout",
     "output_type": "stream",
     "text": [
      "epoch: 12 test loss: 0.3138, test acc: 0.8607\n"
     ]
    },
    {
     "name": "stderr",
     "output_type": "stream",
     "text": [
      "100%|██████████| 284/284 [00:29<00:00,  9.67it/s]\n"
     ]
    },
    {
     "name": "stdout",
     "output_type": "stream",
     "text": [
      "epoch: 13, train loss: 0.3081, train acc: 0.8643\n"
     ]
    },
    {
     "name": "stderr",
     "output_type": "stream",
     "text": [
      "100%|██████████| 68/68 [00:02<00:00, 29.29it/s]\n"
     ]
    },
    {
     "name": "stdout",
     "output_type": "stream",
     "text": [
      "epoch: 13 test loss: 0.3055, test acc: 0.8637\n"
     ]
    },
    {
     "name": "stderr",
     "output_type": "stream",
     "text": [
      "100%|██████████| 284/284 [00:29<00:00,  9.66it/s]\n"
     ]
    },
    {
     "name": "stdout",
     "output_type": "stream",
     "text": [
      "epoch: 14, train loss: 0.3031, train acc: 0.8661\n"
     ]
    },
    {
     "name": "stderr",
     "output_type": "stream",
     "text": [
      "100%|██████████| 68/68 [00:02<00:00, 28.95it/s]\n"
     ]
    },
    {
     "name": "stdout",
     "output_type": "stream",
     "text": [
      "epoch: 14 test loss: 0.3033, test acc: 0.8645\n"
     ]
    },
    {
     "name": "stderr",
     "output_type": "stream",
     "text": [
      "100%|██████████| 284/284 [00:29<00:00,  9.68it/s]\n"
     ]
    },
    {
     "name": "stdout",
     "output_type": "stream",
     "text": [
      "epoch: 15, train loss: 0.2982, train acc: 0.8677\n"
     ]
    },
    {
     "name": "stderr",
     "output_type": "stream",
     "text": [
      "100%|██████████| 68/68 [00:02<00:00, 29.01it/s]\n"
     ]
    },
    {
     "name": "stdout",
     "output_type": "stream",
     "text": [
      "epoch: 15 test loss: 0.2967, test acc: 0.8659\n"
     ]
    },
    {
     "name": "stderr",
     "output_type": "stream",
     "text": [
      "100%|██████████| 284/284 [00:29<00:00,  9.68it/s]\n"
     ]
    },
    {
     "name": "stdout",
     "output_type": "stream",
     "text": [
      "epoch: 16, train loss: 0.2936, train acc: 0.8690\n"
     ]
    },
    {
     "name": "stderr",
     "output_type": "stream",
     "text": [
      "100%|██████████| 68/68 [00:02<00:00, 29.38it/s]\n"
     ]
    },
    {
     "name": "stdout",
     "output_type": "stream",
     "text": [
      "epoch: 16 test loss: 0.3033, test acc: 0.8644\n"
     ]
    },
    {
     "name": "stderr",
     "output_type": "stream",
     "text": [
      "100%|██████████| 284/284 [00:29<00:00,  9.67it/s]\n"
     ]
    },
    {
     "name": "stdout",
     "output_type": "stream",
     "text": [
      "epoch: 17, train loss: 0.2899, train acc: 0.8701\n"
     ]
    },
    {
     "name": "stderr",
     "output_type": "stream",
     "text": [
      "100%|██████████| 68/68 [00:02<00:00, 29.33it/s]\n"
     ]
    },
    {
     "name": "stdout",
     "output_type": "stream",
     "text": [
      "epoch: 17 test loss: 0.2909, test acc: 0.8678\n"
     ]
    },
    {
     "name": "stderr",
     "output_type": "stream",
     "text": [
      "100%|██████████| 284/284 [00:29<00:00,  9.67it/s]\n"
     ]
    },
    {
     "name": "stdout",
     "output_type": "stream",
     "text": [
      "epoch: 18, train loss: 0.2864, train acc: 0.8714\n"
     ]
    },
    {
     "name": "stderr",
     "output_type": "stream",
     "text": [
      "100%|██████████| 68/68 [00:02<00:00, 29.34it/s]\n"
     ]
    },
    {
     "name": "stdout",
     "output_type": "stream",
     "text": [
      "epoch: 18 test loss: 0.2921, test acc: 0.8677\n"
     ]
    },
    {
     "name": "stderr",
     "output_type": "stream",
     "text": [
      "100%|██████████| 284/284 [00:29<00:00,  9.67it/s]\n"
     ]
    },
    {
     "name": "stdout",
     "output_type": "stream",
     "text": [
      "epoch: 19, train loss: 0.2837, train acc: 0.8723\n"
     ]
    },
    {
     "name": "stderr",
     "output_type": "stream",
     "text": [
      "100%|██████████| 68/68 [00:02<00:00, 28.99it/s]\n"
     ]
    },
    {
     "name": "stdout",
     "output_type": "stream",
     "text": [
      "epoch: 19 test loss: 0.2888, test acc: 0.8684\n"
     ]
    }
   ],
   "source": [
    "# train the model\n",
    "for i in range(epoch):\n",
    "    train_loss, train_acc = train(model, train_dataloader, loss_func, optim, device)\n",
    "    train_loss_history.append(train_loss)\n",
    "    train_acc_history.append(train_acc)\n",
    "    print('epoch: %d, train loss: %.4f, train acc: %.4f' % (i, train_loss, train_acc))\n",
    "    test_loss, test_acc = evaluate(model, test_dataloader, loss_func, device)\n",
    "    test_loss_history.append(test_loss)\n",
    "    test_acc_history.append(test_acc)\n",
    "    print('epoch: %d test loss: %.4f, test acc: %.4f' % (i, test_loss, test_acc))\n",
    "    if i == 0:\n",
    "        best_acc = test_acc\n",
    "    if test_acc > best_acc:\n",
    "        best_acc = test_acc\n",
    "        torch.save(model.state_dict(), save_best_weight_path + 'best_GPT_model.pth')\n",
    "    torch.save(model.state_dict(), save_best_weight_path + 'last_GPT_model.pth')"
   ]
  },
  {
   "cell_type": "code",
   "execution_count": 10,
   "metadata": {},
   "outputs": [],
   "source": [
    "def generate_gpt(model, start_sequence, condition_props, max_length, char_to_index, index_to_char, device, temperature=1.0, top_k=0):\n",
    "    \"\"\"\n",
    "    Autoregressive generation process for a GPT model.\n",
    "\n",
    "    Args:\n",
    "        model (GPT): The pre-trained GPT model for token generation.\n",
    "        start_sequence (torch.Tensor): The initial sequence to start generation (batch_size, seq_length).\n",
    "        condition_props (torch.Tensor): The conditional property vector (batch_size, num_props).\n",
    "        max_length (int): The maximum length of the generated sequence.\n",
    "        char_to_index (dict): A mapping from characters to their corresponding indices.\n",
    "        index_to_char (dict): A mapping from indices to their corresponding characters.\n",
    "        device (torch.device): The device on which to run the generation.\n",
    "        temperature (float): Temperature parameter for sampling; higher values increase randomness.\n",
    "        top_k (int): Limits sampling to top-k logits; if 0, no top-k sampling is applied.\n",
    "\n",
    "    Returns:\n",
    "        List[str]: A list of generated SMILES strings.\n",
    "    \"\"\"\n",
    "    model.eval()\n",
    "    batch_size = start_sequence.size(0)\n",
    "    generated_sequences = start_sequence.clone().to(device)  # Clone and move to device\n",
    "\n",
    "    for _ in range(max_length - start_sequence.size(1)):\n",
    "        # Get the current sequence length\n",
    "        current_length = generated_sequences.size(1)\n",
    "\n",
    "        # Forward pass through the model\n",
    "        logits = model(generated_sequences, condition_props)  # (batch_size, seq_length, vocab_size)\n",
    "\n",
    "        # Extract the logits for the last time step\n",
    "        next_token_logits = logits[:, -1, :]  # (batch_size, vocab_size)\n",
    "\n",
    "        # Apply temperature scaling\n",
    "        next_token_logits = next_token_logits / temperature\n",
    "\n",
    "        # Apply top-k filtering\n",
    "        if top_k > 0:\n",
    "            top_k_logits, top_k_indices = torch.topk(next_token_logits, top_k, dim=-1)\n",
    "            mask = torch.full_like(next_token_logits, float('-inf'))\n",
    "            mask.scatter_(dim=-1, index=top_k_indices, src=top_k_logits)\n",
    "            next_token_logits = mask\n",
    "\n",
    "        # Convert logits to probabilities\n",
    "        next_token_probs = F.softmax(next_token_logits, dim=-1)\n",
    "\n",
    "        # Sample from the probability distribution\n",
    "        next_token = torch.multinomial(next_token_probs, num_samples=1)  # (batch_size, 1)\n",
    "        \n",
    "        # Get the most likely next token\n",
    "        # next_token = torch.argmax(next_token_logits, dim=-1, keepdim=True)\n",
    "\n",
    "        # Append the generated token to the sequence\n",
    "        generated_sequences = torch.cat([generated_sequences, next_token], dim=1)\n",
    "\n",
    "        # Check if all sequences have reached the end token ('$')\n",
    "        if all(next_token[i].item() == char_to_index['$'] for i in range(batch_size)):\n",
    "            break\n",
    "\n",
    "    # Decode the generated sequences into SMILES strings\n",
    "    generated_smiles = []\n",
    "    for seq in generated_sequences:\n",
    "        # Convert indices to characters, ignoring padding ('?') and start ('^') tokens\n",
    "        # check if the generated sequence contains the end token ('$'), if meet, stop decoding\n",
    "        smiles = ''\n",
    "        for idx in seq:\n",
    "            if idx.item() == char_to_index['$']:\n",
    "                break\n",
    "            elif idx.item() != char_to_index['?'] and idx.item() != char_to_index['^']:\n",
    "                smiles += index_to_char[idx.item()]\n",
    "        generated_smiles.append(smiles)\n",
    "\n",
    "    return generated_smiles\n"
   ]
  },
  {
   "cell_type": "code",
   "execution_count": 11,
   "metadata": {},
   "outputs": [
    {
     "name": "stdout",
     "output_type": "stream",
     "text": [
      "start sequence: torch.Size([10, 2])\n",
      "condition synthesis: torch.Size([10, 24])\n",
      "target smiles:\n",
      "[['n1(C)c(C)[n+](cc1)Cc1ccccc1C[n+]1ccn(C)c1C']\n",
      " ['Cn1cc[n+](Cc2ccccc2C[n+]2ccn(C)c2C)c1C']\n",
      " ['Cc1n(C)cc[n+]1Cc1c(cccc1)C[n+]1ccn(c1C)C']\n",
      " ['c1ccc(c(c1)C[n+]1c(C)n(C)cc1)C[n+]1ccn(c1C)C']\n",
      " ['[n+]1(c(n(C)cc1)C)Cc1c(C[n+]2ccn(c2C)C)cccc1']\n",
      " ['Cc1n(C)cc[n+]1Cc1ccccc1C[n+]1c(n(cc1)C)C']\n",
      " ['Cn1c(C)[n+](cc1)Cc1ccccc1C[n+]1ccn(c1C)C']\n",
      " ['c1c[n+](Cc2ccccc2C[n+]2c(C)n(cc2)C)c(C)n1C']\n",
      " ['n1(cc[n+](c1C)Cc1ccccc1C[n+]1ccn(C)c1C)C']\n",
      " ['[n+]1(Cc2c(C[n+]3c(n(cc3)C)C)cccc2)c(C)n(C)cc1']]\n",
      "generated smiles:\n",
      "['n1(c([n+](cc1)Cc1ccc(cc1)C[n+]1c(C)n(cc1)C)C)C', 'C1CCC(C)C[N+]21Cc1c(cccc1)C2', 'C1CC(CC[N+]21Cc1c(C2)cccc1)C', 'c1cccc2c1C[N+]1(C2)CCCCC1C', '[n+]1(Cc2cccc(C[n+]3ccn(C)c3C)c2)c(C)n(C)cc1', 'C1CCCC(C)[N+]21Cc1c(C2)cccc1', 'C1[N+]2(CCCCC2)Cc2ccccc21', 'c1cccc2c1C[N+]1(C2)CC(CC(C)C1)C', 'n1(c(C)[n+](Cc2cccc(C[n+]3c(C)n(C)cc3)c2)cc1)C', '[n+]1(c(C)n(cc1)C)Cc1ccc(cc1)C[n+]1ccn(C)c1C']\n"
     ]
    }
   ],
   "source": [
    "# test the generate function\n",
    "# check the first 10 samples\n",
    "train_zeo_vec = train_zeo[:10].astype(np.float32)\n",
    "train_syn_vec = train_syn[:10].astype(np.float32)\n",
    "zeo = torch.tensor(train_zeo_vec, dtype=torch.float32).to(device)\n",
    "syn = torch.tensor(train_syn_vec, dtype=torch.float32).to(device)\n",
    "target_smi = train_smiles[:10]\n",
    "# start_sequence = torch.full((10, 1), char_to_index['^'], dtype=torch.long)\n",
    "# get the first two characters as the start sequence\n",
    "\n",
    "start_sequence = tgt_seq[:10, :2]\n",
    "start_sequence = start_sequence.to(device)\n",
    "condition_synthesis = torch.cat([zeo, syn], dim=1)\n",
    "print('start sequence:', start_sequence.size())\n",
    "print('condition synthesis:', condition_synthesis.size())\n",
    "generated_smiles = generate_gpt(model, start_sequence, condition_synthesis, seqlen, char_to_index, index_to_char, device, 0.5)\n",
    "print('target smiles:')\n",
    "print(target_smi)\n",
    "print('generated smiles:')\n",
    "print(generated_smiles)"
   ]
  },
  {
   "cell_type": "code",
   "execution_count": 12,
   "metadata": {},
   "outputs": [
    {
     "name": "stderr",
     "output_type": "stream",
     "text": [
      "100%|██████████| 68/68 [02:37<00:00,  2.32s/it]\n"
     ]
    }
   ],
   "source": [
    "# generate the smiles for the test dataset\n",
    "generated_smile = []\n",
    "target_smile = []\n",
    "for i, (zeo, syn, tgt) in enumerate(tqdm(test_dataloader)):\n",
    "    zeo = zeo.to(device)\n",
    "    syn = syn.to(device)\n",
    "    tgt = tgt.to(device)\n",
    "    condition_synthesis = torch.cat([zeo, syn], dim=1)\n",
    "    generated_smiles = generate_gpt(model, tgt[:, :2], condition_synthesis, seqlen, char_to_index, index_to_char, device, 0.5)\n",
    "    generated_smile.extend(generated_smiles)\n",
    "    # convert the tgt to smiles\n",
    "    tgt_smiles = []\n",
    "    for seq in tgt:\n",
    "        smiles = ''\n",
    "        for idx in seq:\n",
    "            if idx.item() == char_to_index['$']:\n",
    "                break\n",
    "            elif idx.item() != char_to_index['?'] and idx.item() != char_to_index['^']:\n",
    "                smiles += index_to_char[idx.item()]\n",
    "        tgt_smiles.append(smiles)\n",
    "    target_smile.extend(tgt_smiles)"
   ]
  },
  {
   "cell_type": "code",
   "execution_count": 13,
   "metadata": {},
   "outputs": [
    {
     "name": "stderr",
     "output_type": "stream",
     "text": [
      "[17:16:11] SMILES Parse Error: unclosed ring for input: 'c1cc2c(cc1)C[N+]1(C2)CCCCC1CCCC2'\n",
      "[17:16:11] SMILES Parse Error: unclosed ring for input: 'c1cccc2c1C[N+]1(C2)CCCCC1CCCC1'\n",
      "[17:16:11] SMILES Parse Error: unclosed ring for input: 'c1cccc2c1C[N+]1(C2)CCCCC1CCCC1'\n",
      "[17:16:11] SMILES Parse Error: unclosed ring for input: 'C1CCC2CC3[N+]4(C(CC(C3)[N+]2(C)CCC1)C)C'\n",
      "[17:16:11] SMILES Parse Error: unclosed ring for input: 'C1CC2CC3[N+](C)(CCCC3)C1CC1CCCCN2'\n",
      "[17:16:11] SMILES Parse Error: unclosed ring for input: 'C1[N+]2(CCCCC2CC2CC1CC1CCCCN2)C'\n",
      "[17:16:11] SMILES Parse Error: unclosed ring for input: 'c1cc2c(cc1)C[N+]1(C2)CCCCC1CCCC2'\n",
      "[17:16:11] SMILES Parse Error: unclosed ring for input: 'c1cccc2c1C[N+]1(C2)CCCCC1CCCC1'\n",
      "[17:16:11] SMILES Parse Error: unclosed ring for input: 'c1cccc2c1C[N+]1(C2)CCCCC1CCCC1'\n",
      "[17:16:11] SMILES Parse Error: unclosed ring for input: 'C1CCC2CC3[N+]4(C(CC(C3)[N+]2(C)CCC1)C)C'\n",
      "[17:16:11] SMILES Parse Error: unclosed ring for input: 'C1CC2CC3[N+](C)(CCCC3)C1CC1CCCCN2'\n",
      "[17:16:11] SMILES Parse Error: unclosed ring for input: 'C1[N+]2(CCCCC2CC2CC1CC1CCCCN2)C'\n"
     ]
    },
    {
     "name": "stdout",
     "output_type": "stream",
     "text": [
      "Validity rate: 0.988\n",
      "Uniqueness rate: 0.744\n",
      "Novelty rate: 1.0\n",
      "Reconstructability rate: 0.0\n",
      "Novelty rate: 1.0\n",
      "IntDiv: 0.770296973479559\n"
     ]
    },
    {
     "name": "stderr",
     "output_type": "stream",
     "text": [
      "[17:16:14] Can't kekulize mol.  Unkekulized atoms: 26 27 28 29 30\n",
      "[17:16:14] SMILES Parse Error: unclosed ring for input: 'C12CC(CC(C[n+]3cn(C4C5CC(C5)CC(C6)C5)cc3)C2)CC1'\n",
      "[17:16:14] SMILES Parse Error: unclosed ring for input: 'C1C2C3C[N+](CC3C(C=1)C1C2C[N+](CC12)(CC)CC)(CC)CC'\n",
      "[17:16:14] Can't kekulize mol.  Unkekulized atoms: 0 1 11 12 13 14 15\n",
      "[17:16:15] SMILES Parse Error: unclosed ring for input: 'C1C2C3C[N+](CC3C(C=1)C1C2C[N+](CC12)(CC)CC)(CC)CC'\n",
      "[17:16:15] SMILES Parse Error: extra open parentheses for input: 'C1CCC23CC(CC3(CC([N+](C)(C)C)C2)CC1[N+](C)(C)C'\n",
      "[17:16:15] SMILES Parse Error: unclosed ring for input: 'C1CC2CC3[N+]4(CC)C(CC(C3)N2CCC1)CC'\n",
      "[17:16:15] SMILES Parse Error: extra close parentheses while parsing: C1C[N+](CC)(CC)CC2C1C1C=CC2C2C[N+](CC)(CC12)CC)CC\n",
      "[17:16:15] SMILES Parse Error: Failed parsing SMILES 'C1C[N+](CC)(CC)CC2C1C1C=CC2C2C[N+](CC)(CC12)CC)CC' for input: 'C1C[N+](CC)(CC)CC2C1C1C=CC2C2C[N+](CC)(CC12)CC)CC'\n",
      "[17:16:15] SMILES Parse Error: unclosed ring for input: 'C12C(C3C4C(C4C2C=C3)C[N+](CC)(C4)CC)C[N+](CC)(CC)C1'\n",
      "[17:16:15] SMILES Parse Error: extra open parentheses for input: 'C1C23CC(CC3(CC(C2)[N+](C)(C)C)CC1[N+](C)(C)C'\n",
      "[17:16:15] SMILES Parse Error: unclosed ring for input: 'C1CCCC2C1CCC[N+]12CCCC1CCCC2'\n",
      "[17:16:15] SMILES Parse Error: unclosed ring for input: 'C1C2C(C[N+]1(C)C)C1C=CC2C2C1C1C[N+](C)(C2)C'\n",
      "[17:16:15] SMILES Parse Error: unclosed ring for input: 'C12C3C=CC(C4C3C[N+](C)(CC43)C)C1C2'\n",
      "[17:16:15] SMILES Parse Error: unclosed ring for input: 'C1CCCC[N+]12C1CC(C1)N(CCCC1)CC2'\n",
      "[17:16:15] SMILES Parse Error: extra open parentheses for input: 'C1CCC(CCCC2CC[N+](CC2)(Cc2ccccc2)CC[N+]1(Cc1ccccc1)C'\n",
      "[17:16:15] SMILES Parse Error: unclosed ring for input: 'C1CCC(CCCC2CC[N+](C)(CC2)CC2CCCCC2)CC[N+]1(CC1)C'\n",
      "[17:16:15] SMILES Parse Error: extra open parentheses for input: 'C(CCCCCCC[N+]1(CCC(CCCC2CC[N+](CC2)(C)CCCCCCC)CC1)C'\n",
      "[17:16:15] SMILES Parse Error: unclosed ring for input: 'C1CCCCCCC1[N+]1(CCC(CC1)CCCC1CC[N+](CC1)(C)CC1)C'\n",
      "[17:16:15] SMILES Parse Error: unclosed ring for input: 'C(CCC1CC[N+](CC1)(C)CC1)C1CC[N+](C)(CC1)C(C)C'\n",
      "[17:16:15] SMILES Parse Error: unclosed ring for input: 'C1CCC(CCCC2CC[N+](C)(CC2)CC2CCCCC2)CC[N+]1(C)CC1'\n",
      "[17:16:15] SMILES Parse Error: unclosed ring for input: 'C1CCCC2C1CCC[N+]12CCCC1CCCC2'\n",
      "[17:16:15] SMILES Parse Error: unclosed ring for input: 'C1CC[N+]2(CC1)CCCC1CC2C1CCCCN12'\n",
      "[17:16:15] SMILES Parse Error: unclosed ring for input: 'C1CCC(CCCC2CC[N+](C)(CC2)CC2CCCCC2)CC[N+]1(CC1)C'\n",
      "[17:16:15] SMILES Parse Error: extra open parentheses for input: 'C1CCCCC1C[N+]1(C)CCC(CCCC2CC[N+](CC2)(CC2CCCCC2)CC1'\n",
      "[17:16:15] SMILES Parse Error: unclosed ring for input: 'C1CCC(CCCC2CC[N+](CC2)(C)CC2CCCCC2)CC[N+]1(CC1)C'\n",
      "[17:16:15] SMILES Parse Error: unclosed ring for input: 'C1CCCCC2C(CCC[N+]23CCC(CC3)CC2)C1'\n",
      "[17:16:15] SMILES Parse Error: extra open parentheses for input: 'c1cccc(C[N+]2(CCC(CCCC3CC[N+](Cc4ccccc4)(CC3)C)CC2)c1'\n",
      "[17:16:15] SMILES Parse Error: unclosed ring for input: 'C1CCCC(C)C[n+]2ccn(c2)CC2CCCCCC2'\n",
      "[17:16:15] SMILES Parse Error: unclosed ring for input: 'C1C[N+]2(C)CCC(CC2)CCCC2CC[N+](CC2)(C)Cc2ccc1'\n",
      "[17:16:15] SMILES Parse Error: unclosed ring for input: 'C1CCC2CC[N+](C)(CC2)CCCCCC[N+]2(CCC(CC2)CCCC2)C1'\n",
      "[17:16:15] Can't kekulize mol.  Unkekulized atoms: 0 1 2 3 4 24 25\n",
      "[17:16:15] SMILES Parse Error: unclosed ring for input: 'C1CC[N+]2(C)CCC(CC2)CCCC2CC[N+](CC2)(C)CC2CCC1'\n",
      "[17:16:15] SMILES Parse Error: unclosed ring for input: 'C1C[N+]2(C)CCC1CCCC1CC[N+]3(C)CCC(CC2)CC1'\n",
      "[17:16:15] SMILES Parse Error: unclosed ring for input: 'C1C2CC[N+](CCCCCC[N+]3(CCC(CC4)CC3)C)(CC2)C1'\n",
      "[17:16:15] Can't kekulize mol.  Unkekulized atoms: 0 1 3 4 13 14 15\n",
      "[17:16:15] Can't kekulize mol.  Unkekulized atoms: 0 2 3 4 5 13 14\n",
      "[17:16:15] Can't kekulize mol.  Unkekulized atoms: 0 1 9 10 12 13 14\n",
      "[17:16:15] Can't kekulize mol.  Unkekulized atoms: 0 1 2 3 11 12 14\n",
      "[17:16:15] Can't kekulize mol.  Unkekulized atoms: 0 1 9 10 11 12 13\n",
      "[17:16:15] Can't kekulize mol.  Unkekulized atoms: 13 14 16 17 18\n",
      "[17:16:15] Can't kekulize mol.  Unkekulized atoms: 0 1 9 10 12 13 14\n",
      "[17:16:15] Can't kekulize mol.  Unkekulized atoms: 0 2 3 11 12 13 14\n",
      "[17:16:15] Can't kekulize mol.  Unkekulized atoms: 0 1 2 4 12 13 14\n",
      "[17:16:15] Can't kekulize mol.  Unkekulized atoms: 0 1 2 3 11 12 13\n",
      "[17:16:15] Can't kekulize mol.  Unkekulized atoms: 0 1 3 4 12 13 14\n",
      "[17:16:15] Can't kekulize mol.  Unkekulized atoms: 0 1 2 3 11 19 20\n",
      "[17:16:15] Can't kekulize mol.  Unkekulized atoms: 0 1 2 3 11 12 13\n",
      "[17:16:15] Can't kekulize mol.  Unkekulized atoms: 0 1 2 3 12 13 14\n",
      "[17:16:15] Can't kekulize mol.  Unkekulized atoms: 0 1 2 10 11 13 14\n",
      "[17:16:15] Can't kekulize mol.  Unkekulized atoms: 0 1 2 3 11 12 14\n",
      "[17:16:15] Explicit valence for atom # 4 N, 4, is greater than permitted\n",
      "[17:16:15] SMILES Parse Error: unclosed ring for input: 'C1CCCCC2C(CCC[N+]23CCCC2)C1'\n",
      "[17:16:15] Explicit valence for atom # 1 C, 5, is greater than permitted\n",
      "[17:16:15] Explicit valence for atom # 2 C, 5, is greater than permitted\n",
      "[17:16:15] SMILES Parse Error: unclosed ring for input: 'C1C(C2CC1C2(C)C)CCC[N+]2(CC)CC'\n",
      "[17:16:15] Can't kekulize mol.  Unkekulized atoms: 0 1 2 3 8\n",
      "[17:16:15] Can't kekulize mol.  Unkekulized atoms: 0 1 2 3 7 8 9\n",
      "[17:16:15] Can't kekulize mol.  Unkekulized atoms: 0 1 4 5 6\n",
      "[17:16:15] SMILES Parse Error: unclosed ring for input: 'C1C2CC3CC1(n1c[n+](cc1)C14CC5CC(CC(C5)C4)C5)CC(C3)C2'\n",
      "[17:16:15] Explicit valence for atom # 12 C, 5, is greater than permitted\n",
      "[17:16:15] SMILES Parse Error: extra open parentheses for input: 'N1C(CC(NCCNC(C)CC(NCC1)(C)C)(C)C'\n",
      "[17:16:15] Can't kekulize mol.  Unkekulized atoms: 1 2 4 5 6\n",
      "[17:16:15] Can't kekulize mol.  Unkekulized atoms: 0 1 2 11 12 13 14\n",
      "[17:16:15] Can't kekulize mol.  Unkekulized atoms: 0 1 2 3 4 13 14\n",
      "[17:16:15] SMILES Parse Error: unclosed ring for input: 'C1CCCC2C3CN4C(C(C[N+]21C)C)C3'\n",
      "[17:16:15] SMILES Parse Error: unclosed ring for input: 'C1CCCC2C3CN4C(C(C[N+]21C)C)CCCC4'\n",
      "[17:16:15] SMILES Parse Error: unclosed ring for input: 'C12CC3CC(C2)CC([n+]2ccn(C45CC6CC(C5)CC(C6)C6)c2)(C1)C3'\n",
      "[17:16:15] Can't kekulize mol.  Unkekulized atoms: 0 1 13 14 15 16 17\n",
      "[17:16:15] Can't kekulize mol.  Unkekulized atoms: 0 12 13 14 15 16 17\n",
      "[17:16:15] SMILES Parse Error: unclosed ring for input: 'C1CCCC2N1CC1C3[N+](C)(C)CC2C1'\n",
      "[17:16:15] Can't kekulize mol.  Unkekulized atoms: 0 1 13 14 15 16 17\n",
      "[17:16:15] Can't kekulize mol.  Unkekulized atoms: 0 12 13 14 15 16 17\n",
      "[17:16:15] Can't kekulize mol.  Unkekulized atoms: 0 1 2 16 17 18 19\n",
      "[17:16:15] SMILES Parse Error: unclosed ring for input: 'C1CCCCC[N+]1(CC1CC2CN2CCCCC21)C'\n",
      "[17:16:15] Can't kekulize mol.  Unkekulized atoms: 0 1 13 14 15 16 18\n",
      "[17:16:15] Can't kekulize mol.  Unkekulized atoms: 0 1 2 3 15 16 17\n",
      "[17:16:15] Can't kekulize mol.  Unkekulized atoms: 0 1 2 14 15 16 17\n",
      "[17:16:15] SMILES Parse Error: unclosed ring for input: 'C12CC3CC(C2)CC(C3)([n+]2ccn(c2)C23CC4CC(CC(C4)C5)C2)C1'\n",
      "[17:16:15] SMILES Parse Error: unclosed ring for input: 'C1C2CC3CC(C2)CC1([n+]1cn(C24CC5CC(CC(C5)C6)C2)cc1)C3'\n",
      "[17:16:15] SMILES Parse Error: unclosed ring for input: 'C1C2CC3CC1CC(C2)(n1cc[n+](C24CC5CC(C4)CC(C5)C5)c1)C3'\n",
      "[17:16:15] SMILES Parse Error: unclosed ring for input: 'C1C2CC3CC(CC1C3)(C2)[n+]1cn(C23CC4CC(CC(C4)C2)C4)cc1'\n",
      "[17:16:15] SMILES Parse Error: unclosed ring for input: 'C1C2CC3CC(CC1(C3)[n+]1ccn(c1)C13CC4CC(CC(C5)C4)C1)C2'\n",
      "[17:16:15] SMILES Parse Error: unclosed ring for input: 'C12C3C(C[N+](C3)(C)C)C(C=C1)C1C2C[N+](CC21)(C)C'\n",
      "[17:16:15] SMILES Parse Error: unclosed ring for input: 'C12C(C3C4C5C[N+](C)(C)CC5C(C1C=C3)C)C[N+](C)(C2)C'\n",
      "[17:16:15] SMILES Parse Error: extra open parentheses for input: 'C1N(CCN(CCN(CCN(C)CCN(C)CCN(C1)C)C)C'\n",
      "[17:16:15] SMILES Parse Error: extra open parentheses for input: 'C1N(C)CCN(CCN(CCN(CCN(CCN(C1)C)C)C)C'\n",
      "[17:16:15] SMILES Parse Error: unclosed ring for input: 'C1C2CC3CC(C2)CC1(C3)n1c[n+](C23CC4CC(CC(C5)C4)C2)cc1'\n",
      "[17:16:15] SMILES Parse Error: unclosed ring for input: 'C1C2CC3CC(CC1C3)(n1cc[n+](c1)C14CC5CC(C4)CC(C5)C4)C2'\n",
      "[17:16:15] SMILES Parse Error: extra open parentheses for input: 'c1ccc(cc1)C[N+](CC[N+](Cc1ccccc1)(C)C'\n",
      "[17:16:15] SMILES Parse Error: extra open parentheses for input: 'C1C(C)(C2CC(C2(C)C)[N+](CC)(CC)C1'\n",
      "[17:16:15] SMILES Parse Error: extra open parentheses for input: 'C12C(C)(C(C2)C(CC[N+]1(CC)CC)C'\n",
      "[17:16:15] Can't kekulize mol.  Unkekulized atoms: 0 1 17 18 19 20 21\n",
      "[17:16:15] SMILES Parse Error: unclosed ring for input: 'c1c(C2(C[N+]3(CCC(CC3)C2)C)CCCC2)cccc1'\n",
      "[17:16:15] Can't kekulize mol.  Unkekulized atoms: 0 1 2 3 17 18 19\n",
      "[17:16:15] SMILES Parse Error: extra open parentheses for input: 'C1N(CCN(CCN(CCN(CCN(C)CCN(C)C1)C)C)C'\n",
      "[17:16:15] SMILES Parse Error: extra open parentheses for input: 'C1N(CCN(CCN(CCN(CCN(CCN(C1)C)C)C)C)C'\n",
      "[17:16:15] Can't kekulize mol.  Unkekulized atoms: 0 1 11 12 13 23 24\n",
      "[17:16:15] SMILES Parse Error: unclosed ring for input: 'C12C(C3C=CC1C1C3C[N+](C)(CC12)C)C1C[N+](C)(C)CC14'\n",
      "[17:16:15] SMILES Parse Error: unclosed ring for input: 'C12C3C=CC(C2C[N+](C)(C1)C)C1C2C[N+](CC21)(C)C'\n",
      "[17:16:15] SMILES Parse Error: unclosed ring for input: 'C1C2C3C4C=CC(C3C2C[N+]1(C)C)C1C2C[N+](C)(C)CC21'\n",
      "[17:16:15] SMILES Parse Error: unclosed ring for input: '[N+]1(CC2C3C=CC(C4C3C3C[N+](C)(C4)C)C2C1)(C)C'\n",
      "[17:16:15] SMILES Parse Error: unclosed ring for input: 'C12C3C=CC(C1C[N+](C)(C)C2)C2C3C(C12)C[N+](C)(C2)C'\n",
      "[17:16:15] SMILES Parse Error: unclosed ring for input: 'C1C2C3C4C5C[N+](C)(CC5C(C2C[N+]1(C)C)C=C3)C'\n",
      "[17:16:15] SMILES Parse Error: unclosed ring for input: '[N+]1(CC2C(C1)C1C3C=CC(C21)C1C[N+](C)(CC21)C)(C)C'\n",
      "[17:16:15] SMILES Parse Error: unclosed ring for input: 'C12C3C=CC(C2C[N+](C)(C)C1)C1C2C[N+](C)(CC21)C'\n",
      "[17:16:15] SMILES Parse Error: extra open parentheses for input: 'C(C[N+]1(CCC(CC1)[N+]1(CCCC1)C)C'\n",
      "[17:16:15] SMILES Parse Error: extra open parentheses for input: 'C(C[N+]1(CCC(CC1)[N+]1(CCCC1)C)C'\n",
      "[17:16:15] SMILES Parse Error: extra open parentheses for input: 'N(P(N(C)C)(=NC(C)(C)C)(N(C)C)C'\n",
      "[17:16:15] SMILES Parse Error: extra open parentheses for input: 'N(P(N(C)C)(=NC(C)(C)C)(N(C)C)C'\n",
      "[17:16:15] SMILES Parse Error: extra open parentheses for input: 'N(P(N(C)C)(=NC(C)(C)C)(N(C)C)N(C)C'\n",
      "[17:16:15] SMILES Parse Error: extra open parentheses for input: 'N(P(N(C)C)(=NC(C)(C)C)(N(C)C)C'\n",
      "[17:16:15] SMILES Parse Error: unclosed ring for input: 'C1C2CC3CC(C2)CC1([n+]1cn(C24CC5CC(CC(C5)C7)C2)cc1)C3'\n",
      "[17:16:15] SMILES Parse Error: unclosed ring for input: 'C1C2(n3cc[n+](C45CC6CC(C4)C6)c3)CC3CC1CC(C2)C3'\n",
      "[17:16:15] SMILES Parse Error: unclosed ring for input: 'C1C2CC3CC(CC1(C3)[n+]1ccn(c1)C13CC4CC(CC(C1)C5)C3)C2'\n",
      "[17:16:15] SMILES Parse Error: unclosed ring for input: 'C1C2(n3c[n+](C45CC6CC(C5)CC(C6)C5)cc3)CC3CC(CC1C3)C2'\n",
      "[17:16:15] SMILES Parse Error: unclosed ring for input: 'C12CC3CC(CC(C3)(C1)n1cc[n+](C34CC5CC(CC(C5)C5)C5)c1)C2'\n",
      "[17:16:15] SMILES Parse Error: unclosed ring for input: 'C1C2CC3CC(CC1(C3)[n+]1ccn(c1)C13CC4CC(CC(C4)C5)C1)C2'\n",
      "[17:16:15] SMILES Parse Error: unclosed ring for input: 'C12CC3CC(CC(C3)(C1)n1cc[n+](C34CC5CC(C5)CC(C5)C5)c1)C2'\n",
      "[17:16:15] SMILES Parse Error: unclosed ring for input: 'C12CC3CC(CC(C3)(C2)n2cc[n+](C34CC5CC(CC(C5)C5)C5)c2)C1'\n",
      "[17:16:15] SMILES Parse Error: unclosed ring for input: 'C1C2CC3([n+]4cn(cc4)C45CC6CC(C5)CC(C5)C5)CC(CC1C3)C2'\n",
      "[17:16:15] SMILES Parse Error: extra close parentheses while parsing: C1CCCC2C3CN4C(C(C[N+]21C)C)C3)CCCC4\n",
      "[17:16:15] SMILES Parse Error: Failed parsing SMILES 'C1CCCC2C3CN4C(C(C[N+]21C)C)C3)CCCC4' for input: 'C1CCCC2C3CN4C(C(C[N+]21C)C)C3)CCCC4'\n",
      "[17:16:15] SMILES Parse Error: unclosed ring for input: 'C1CCCC2C3CN4C(C(C[N+]12C)C)CCCC4'\n",
      "[17:16:15] SMILES Parse Error: unclosed ring for input: 'C1C2CC3([n+]4ccn(C56CC7CC(C6)CC(C5)C6)c4)CC1CC(C3)C2'\n",
      "[17:16:15] SMILES Parse Error: unclosed ring for input: 'C12CC(CN3C1CCCC3)C1[N+](C)(C)CCCC1'\n",
      "[17:16:15] SMILES Parse Error: unclosed ring for input: 'C12C3CCCCN3CC(C3CCCCN3C1)C[N+]1(C)C2'\n",
      "[17:16:15] SMILES Parse Error: unclosed ring for input: 'C1CCCC2C3CN4C(C(C[N+]21C)C)C3'\n",
      "[17:16:16] SMILES Parse Error: unclosed ring for input: 'C1C2CC(CN3CCCCC23)C2CCCC[N+]2(CCCC21)C'\n",
      "[17:16:16] SMILES Parse Error: unclosed ring for input: 'C1C2CC3CC(CC1([n+]1ccn(c1)C14CC5CC(C1)CC(C5)C5)C2)C3'\n",
      "[17:16:16] SMILES Parse Error: unclosed ring for input: 'C1C2CC3CC(C2)CC1(C3)n1c[n+](C23CC4CC(CC(C4)C2)C5)cc1'\n",
      "[17:16:16] SMILES Parse Error: unclosed ring for input: 'N12C(C3C[N+]4(C)C(C(C3)C1CCCC4)C2)CCCC4'\n",
      "[17:16:16] SMILES Parse Error: unclosed ring for input: 'C1C2CC3CC1CC(n1cc[n+](C45CC6CC(C5)CC(C5)C7)c1)(C3)C2'\n",
      "[17:16:16] SMILES Parse Error: unclosed ring for input: 'c1ccccc1C[nH+]cc1'\n",
      "[17:16:16] Can't kekulize mol.  Unkekulized atoms: 0 2 3 4 5\n",
      "[17:16:16] Can't kekulize mol.  Unkekulized atoms: 0 1 2 6 7\n",
      "[17:16:16] Can't kekulize mol.  Unkekulized atoms: 0 1 2 5 6\n",
      "[17:16:16] Can't kekulize mol.  Unkekulized atoms: 0 1 2 5 6\n",
      "[17:16:16] Explicit valence for atom # 1 C, 5, is greater than permitted\n",
      "[17:16:16] Can't kekulize mol.  Unkekulized atoms: 0 1 2 3 7\n",
      "[17:16:16] SMILES Parse Error: extra open parentheses for input: 'CC1(CC(NCCNC(CC(NCCN1)(C)C)C)C'\n",
      "[17:16:16] SMILES Parse Error: syntax error while parsing: C1[NH+]2+].[NH4+].C(C([O-])=O)[O-]\n",
      "[17:16:16] SMILES Parse Error: Failed parsing SMILES 'C1[NH+]2+].[NH4+].C(C([O-])=O)[O-]' for input: 'C1[NH+]2+].[NH4+].C(C([O-])=O)[O-]'\n",
      "[17:16:16] SMILES Parse Error: syntax error while parsing: C1[NH+]2+]C)CC[NH4+].C(=O)C1\n",
      "[17:16:16] SMILES Parse Error: Failed parsing SMILES 'C1[NH+]2+]C)CC[NH4+].C(=O)C1' for input: 'C1[NH+]2+]C)CC[NH4+].C(=O)C1'\n",
      "[17:16:16] Explicit valence for atom # 1 N, 4, is greater than permitted\n",
      "[17:16:16] SMILES Parse Error: unclosed ring for input: 'C1[NH4+].[NH4+].C(=O)C([O-])=O'\n",
      "[17:16:16] Can't kekulize mol.  Unkekulized atoms: 0 1 2 3 4 5 6\n",
      "[17:16:16] Explicit valence for atom # 0 O, 3, is greater than permitted\n",
      "[17:16:16] SMILES Parse Error: unclosed ring for input: 'C12CC(CC2[N+](C)(C)C)C2CCC2C1CCC2'\n",
      "[17:16:16] SMILES Parse Error: unclosed ring for input: 'C1C2C(C[N+]1(C)C)C1CCCC1CC2C=C1'\n",
      "[17:16:16] SMILES Parse Error: extra open parentheses for input: 'C12C(C(C3CCCC31)CC2[N+](C)(C)C'\n",
      "[17:16:16] SMILES Parse Error: unclosed ring for input: 'C1(C2CC1C(CC2)C[N+](C)(C)C)C1CC1CCCC1'\n",
      "[17:16:16] SMILES Parse Error: extra open parentheses for input: 'C[N+](CC1C2CC(C(CC1)C2(C)C)C'\n",
      "[17:16:16] SMILES Parse Error: unclosed ring for input: 'C(C1CCC2CC1C2(C)C)CC1CCCCN1C2'\n",
      "[17:16:16] SMILES Parse Error: extra open parentheses for input: 'C12C(CC(C2(C)C)C2CCCC2[N+](C)(C)C'\n",
      "[17:16:16] SMILES Parse Error: extra open parentheses for input: 'c1(n(c([n+](CCCC[n+]2c(C)n(c(c2C)C)C)c1C)C)C'\n",
      "[17:16:16] SMILES Parse Error: extra open parentheses for input: '[n+]1(CCCCC[n+]2c(n(c(c2C)C)C)c(C)c(C)n(C)c1C'\n",
      "[17:16:16] SMILES Parse Error: extra open parentheses for input: 'Cc1c(n(C)c([n+]1CCC[n+]1c(c(C)n(c1C)C)C)C'\n",
      "[17:16:16] SMILES Parse Error: extra open parentheses for input: 'Cc1n(c(c([n+]1CCCCC[n+]1c(c(n(C)c1C)C)C)C)C'\n",
      "[17:16:16] SMILES Parse Error: unclosed ring for input: 'C1C2CC1C(C2)C(N)C1'\n",
      "[17:16:16] SMILES Parse Error: unclosed ring for input: 'C1CC2CC[N+]1(C1CCCC1)C2CCCCN2C1'\n",
      "[17:16:16] SMILES Parse Error: unclosed ring for input: '[N+]1(C)(CC2C(C3C4C5C(C[N+](C5)(C)C)C2C=C3)C1)C'\n",
      "[17:16:16] SMILES Parse Error: unclosed ring for input: 'C1C2C3C4C5C(C(C2C[N+]1(C)C)C=C3)C[N+](C)(C5)C'\n",
      "[17:16:16] Explicit valence for atom # 1 N, 4, is greater than permitted\n",
      "[17:16:16] SMILES Parse Error: unclosed ring for input: 'C12C(C[N+](C)(C)C2)C2C3C4C(C[N+](C)(C)C5)C4C(C2C1)C=C3'\n",
      "[17:16:16] SMILES Parse Error: unclosed ring for input: 'C1C2C(C3C4C5C[N+](C)(C)CC5C(C3C2C[N+]1(C)C)C=C3)C'\n",
      "[17:16:16] Can't kekulize mol.  Unkekulized atoms: 0 1 2 3 4 15 16\n",
      "[17:16:16] SMILES Parse Error: unclosed ring for input: '[n+]1(CC)ccc(-c2c3nc(c(c4[nH]c(cc4)c4C=Cc(c(-c5cc[n+](C)cc5)c5nc2[nH]c(C=C5)-c2cc[n+](cc2)C)cc2)c3)-c2cc[n+](cc3)C)cc1'\n",
      "[17:16:16] SMILES Parse Error: extra open parentheses for input: '[n+]1(CC)ccc(-c2c3nc(C=C3)c(-c3cc[n+](C)cc3)c3[nH]c(c(-c5cc[n+](C)cc5)c4nc(c(c5nc(C=C5)c(c(c1[nH]2)-c1cc[n+](C)cc1)cc3'\n",
      "[17:16:16] SMILES Parse Error: extra open parentheses for input: 'c1cc(-c2c3ccc([nH]3)c(c3C=Cc(c(-c4cc[n+](C)cc4)c4nc(c(c4c(-c5cc[n+](cc5)C)c4nc1[nH]2)-c1cc[n+](C)cc1)-c1cc[n+](cc1)C'\n",
      "[17:16:16] SMILES Parse Error: syntax error while parsing: c1[n+](C)ccc(-c2c3[nH]c(c(-c4cc[n+](C)cc4)c4nc(c(c(-c5cc[n+](cc5)C)c5C=Cc(c(c(-c6cc[n+](cc5)cc[nH](C)c5Cc2nH]4)c2c5C=C=C)ccccc\n",
      "[17:16:16] SMILES Parse Error: Failed parsing SMILES 'c1[n+](C)ccc(-c2c3[nH]c(c(-c4cc[n+](C)cc4)c4nc(c(c(-c5cc[n+](cc5)C)c5C=Cc(c(c(-c6cc[n+](cc5)cc[nH](C)c5Cc2nH]4)c2c5C=C=C)ccccc' for input: 'c1[n+](C)ccc(-c2c3[nH]c(c(-c4cc[n+](C)cc4)c4nc(c(c(-c5cc[n+](cc5)C)c5C=Cc(c(c(-c6cc[n+](cc5)cc[nH](C)c5Cc2nH]4)c2c5C=C=C)ccccc'\n",
      "[17:16:16] SMILES Parse Error: extra open parentheses for input: 'c1c(-c2c3ccc(c(-c4cc[n+](C)cc4)c4nc(c(c(-c5cc[n+](cc5)C)c5C=Cc(c(c5cc[nH]c2n5)-c2cc[n+](cc2)C)n4)[nH]4)-c2cc[n+](C)cc3'\n",
      "[17:16:16] SMILES Parse Error: extra close parentheses while parsing: c1cc(-c2c3ccc([nH]3)c(-c3cc[n+](C)cc3)c3nc(c(-c4cc[n+](cc4)C)c4nc(c(c(C=C4)c1)-c1cc[n+](C)cc1)cc[nH]3)C=C3)c1)-cc2\n",
      "[17:16:16] SMILES Parse Error: Failed parsing SMILES 'c1cc(-c2c3ccc([nH]3)c(-c3cc[n+](C)cc3)c3nc(c(-c4cc[n+](cc4)C)c4nc(c(c(C=C4)c1)-c1cc[n+](C)cc1)cc[nH]3)C=C3)c1)-cc2' for input: 'c1cc(-c2c3ccc([nH]3)c(-c3cc[n+](C)cc3)c3nc(c(-c4cc[n+](cc4)C)c4nc(c(c(C=C4)c1)-c1cc[n+](C)cc1)cc[nH]3)C=C3)c1)-cc2'\n",
      "[17:16:16] SMILES Parse Error: extra open parentheses for input: 'n1(C)ccc(-c2c3ccc([nH]3)c(-c3cc[n+](C)cc3)c3nc(C=C4)c(-c4cc[n+](C)cc4)c4nc(C=Cc(c(c(c4ccc2-c2cc[n+](C)cc2)ccc4)[nH]1'\n",
      "[17:16:16] SMILES Parse Error: extra open parentheses for input: 'c12c(-c3cc[n+](cc3)C)c3nc(c(c4ccc([nH]4)c(-c5cc[n+](C)cc5)c4nc(C=C4)c(-c4cc[n+](C)ccc5nc(c(cc2)[nH]4)-c2cc[n+](cc1)C'\n",
      "[17:16:16] SMILES Parse Error: syntax error while parsing: c1(-c2cc[n+](C)cc2)c2nc(C=C2)c(-c2cc[n+](C)cc2)c2[nH]c(c(c(-c4cc[n+](C)cc4)c4C=Cc(c1nH]2)-c1cc[n+](C)cc1c1)n+](cc1)C\n",
      "[17:16:16] SMILES Parse Error: Failed parsing SMILES 'c1(-c2cc[n+](C)cc2)c2nc(C=C2)c(-c2cc[n+](C)cc2)c2[nH]c(c(c(-c4cc[n+](C)cc4)c4C=Cc(c1nH]2)-c1cc[n+](C)cc1c1)n+](cc1)C' for input: 'c1(-c2cc[n+](C)cc2)c2nc(C=C2)c(-c2cc[n+](C)cc2)c2[nH]c(c(c(-c4cc[n+](C)cc4)c4C=Cc(c1nH]2)-c1cc[n+](C)cc1c1)n+](cc1)C'\n",
      "[17:16:16] SMILES Parse Error: syntax error while parsing: c1c2c(-c3cc[n+](C)cc3)c3nc(c(c4[nH]c(c(c4C=Cc(c(c2cc2)[nH]H]4)-c2cc[n+](cc2)C)C=C4)-c2cc[n+](cc2)C)cc[n+](C)cc2)c1\n",
      "[17:16:16] SMILES Parse Error: Failed parsing SMILES 'c1c2c(-c3cc[n+](C)cc3)c3nc(c(c4[nH]c(c(c4C=Cc(c(c2cc2)[nH]H]4)-c2cc[n+](cc2)C)C=C4)-c2cc[n+](cc2)C)cc[n+](C)cc2)c1' for input: 'c1c2c(-c3cc[n+](C)cc3)c3nc(c(c4[nH]c(c(c4C=Cc(c(c2cc2)[nH]H]4)-c2cc[n+](cc2)C)C=C4)-c2cc[n+](cc2)C)cc[n+](C)cc2)c1'\n",
      "[17:16:16] SMILES Parse Error: syntax error while parsing: c1cc(cc[n+]1C)-c1c2[nH]c(c(c3C=Cc(c(-c4cc[n+](cc4)C)c4[nH]c(c(c(c5[nH]c2-c2cc[n+](cc2)C)nH]3)-cc2cc[n+](C)c2)C=C)cc1\n",
      "[17:16:16] SMILES Parse Error: Failed parsing SMILES 'c1cc(cc[n+]1C)-c1c2[nH]c(c(c3C=Cc(c(-c4cc[n+](cc4)C)c4[nH]c(c(c(c5[nH]c2-c2cc[n+](cc2)C)nH]3)-cc2cc[n+](C)c2)C=C)cc1' for input: 'c1cc(cc[n+]1C)-c1c2[nH]c(c(c3C=Cc(c(-c4cc[n+](cc4)C)c4[nH]c(c(c(c5[nH]c2-c2cc[n+](cc2)C)nH]3)-cc2cc[n+](C)c2)C=C)cc1'\n",
      "[17:16:16] SMILES Parse Error: unclosed ring for input: 'c1(-c2cc[n+](C)cc2)c2[nH]c(cc2)c(-c2cc[n+](cc2)C)c2nc(C=C2)c(-c2cc[n+](C)cc2)c2[nH]c(cc3C=Cc(c(c4[nH]3)c3)c1n3)[nH]2'\n",
      "[17:16:16] SMILES Parse Error: extra open parentheses for input: '[n+]1(CC)ccc(-c2c3nc(C)c(-c4cc[n+](C)cc4)c4nc(c(-c5cc[n+](cc5)C)c5ccccc(c5nc(c(c5[nH]c2C=C5)-c2c[n+](C)cc2)C=Cc2)cc1'\n",
      "[17:16:16] SMILES Parse Error: extra open parentheses for input: 'c1c(cc[n+](C)c1)-c1c2ccc([nH]2)c(c2nc(c(c3C=Cc(n3)c(-c3cc[n+](cc3)C)c3[nH]c(c(c1C=C4)-c1cc[n+](cc1)C)-c1cc[n+](C)cc1'\n",
      "[17:16:16] SMILES Parse Error: extra open parentheses for input: '[n+]1(CCCC)ccc(-c2c3nc(C)c(c4ccc(c(c(-c5cc[n+](C)cc5)c5[nH]c(c5nc(C=Cc(c(c(-c5cc6cc[n+](cc5)C)c2)n5)C=C4)c4)[nH]3)c1'\n",
      "[17:16:16] SMILES Parse Error: extra open parentheses for input: 'c1cc(-c2c3ccc([nH]3)c(c3C=Cc(c(c4[nH]c(cc4)c(c5C=Cc(n2)c(-c2cc[n+](C)cc2)nccc1)-c1cc[n+](C)cc1)-cc1cc[n+](cc1)C)C=C2'\n",
      "[17:16:16] SMILES Parse Error: syntax error while parsing: c12c(c3nc(c(-c4cc[n+](C)cc4)c4C=Cc(c(c(-c5cc[n+](cc5)C)c5ccccc([nH]H]c(c(c(-c5cc[n+](C)cc5)c5C=C1n4)C5)-c1cc[n+](C)cc3\n",
      "[17:16:16] SMILES Parse Error: Failed parsing SMILES 'c12c(c3nc(c(-c4cc[n+](C)cc4)c4C=Cc(c(c(-c5cc[n+](cc5)C)c5ccccc([nH]H]c(c(c(-c5cc[n+](C)cc5)c5C=C1n4)C5)-c1cc[n+](C)cc3' for input: 'c12c(c3nc(c(-c4cc[n+](C)cc4)c4C=Cc(c(c(-c5cc[n+](cc5)C)c5ccccc([nH]H]c(c(c(-c5cc[n+](C)cc5)c5C=C1n4)C5)-c1cc[n+](C)cc3'\n",
      "[17:16:16] SMILES Parse Error: extra open parentheses for input: 'c1c(-c2c3nc(c(c4ccc(c(-c5cc[n+](C)cc5)c5C=Cc(c(-c5cc[n+](C)cc5)c5ccccccc2[nH]6)[nH]6)-c2cc[n+](C)cc2)cc[n+](cc3)n1)C'\n",
      "[17:16:16] SMILES Parse Error: extra open parentheses for input: 'c1cc2-c3ccc(c(-c4cc[n+](cc4)C)c4[nH]c(c(-c5cc[n+](C)cc5)c5nc(c(c(c(c5ccc2[nH]6)C=C5)-c2cc[n+](cc2)C)n3)-cc[n+](cc1)C'\n",
      "[17:16:16] SMILES Parse Error: extra open parentheses for input: 'c1c[n+](ccc1-c1c2[nH]c(cc2)c(-c2cc[n+](C)cc2)c2nc(c(c4[nH]c(cc4)c(-c4cc[n+](cc5)C)c4C=Cc2n4)-c2cc[n+](cc2)C=C3)cc1'\n",
      "[17:16:16] SMILES Parse Error: extra open parentheses for input: 'C[n+]1ccc(-c2c3ccc([nH]3)c(-c3cc[n+](C)cc3)c3nc(c(-c4cc[n+](C)cc4)c4nc(c(c4[nH]c(c5C=Cc(c2-c2cc[n+](C)ccc2)c2)c2)C)C'\n",
      "[17:16:16] SMILES Parse Error: unclosed ring for input: 'c12c(-c3cc[n+](C)cc3)c3C=Cc(c(-c4cc[n+](cc4)C)c4nc(c(c(-c5cc[n+](C)cc5)c5nc2C=C5)-c2cc[n+](cc2)C)cc2c[n+](cc2)c3)cc1'\n",
      "[17:16:16] SMILES Parse Error: syntax error while parsing: c1cc(-c2c3ccc(c(-c4cc[n+](C)cc4)c4nc(c(-c5cc[n+](cc5)C)c5C=Cc(c(c(-c5cc[n+](C)cc5)c2[nH]5)nH]4)-c2cc[n+](C)cc2)cc1\n",
      "[17:16:16] SMILES Parse Error: Failed parsing SMILES 'c1cc(-c2c3ccc(c(-c4cc[n+](C)cc4)c4nc(c(-c5cc[n+](cc5)C)c5C=Cc(c(c(-c5cc[n+](C)cc5)c2[nH]5)nH]4)-c2cc[n+](C)cc2)cc1' for input: 'c1cc(-c2c3ccc(c(-c4cc[n+](C)cc4)c4nc(c(-c5cc[n+](cc5)C)c5C=Cc(c(c(-c5cc[n+](C)cc5)c2[nH]5)nH]4)-c2cc[n+](C)cc2)cc1'\n",
      "[17:16:16] SMILES Parse Error: extra open parentheses for input: 'c1c(-c2c3ccc([nH]3)c(-c3cc[n+](cc3)C)c3C=Cc(c(c4[nH]c(cc4)c(-c4cc[n+](C)cc4)c4nc(c(c1[nH]2)C=C4)-c1cc[n+](C)cc1)n3)C'\n",
      "[17:16:16] SMILES Parse Error: extra open parentheses for input: 'c1(-c2cc[n+](cc2)C)c2nc(C=C2)c(-c2cc[n+](C)cc2)c2ccc([nH]2)c(-c2cc[n+](cc2)C)c2nc(c(C=Cc3nc(c(c3n4)c1n4)cc[nH]3)C=C2'\n",
      "[17:16:16] SMILES Parse Error: unclosed ring for input: 'c1c2c(-c3cc[n+](cc3)C)c3nc(c(c4ccc(c(-c4cc[n+](cc4)C)c4nc(c(cc2C=C4)[nH]4)-c2cc[n+](C)cc2)C=C3)-c2cc[n+](C)cc3)[nH]1'\n",
      "[17:16:16] SMILES Parse Error: extra open parentheses for input: 'c1cc(-c2c3ccc([nH]3)c(c3C=Cc(n3)c(-c3cc[n+](cc3)C)c3[nH]c(c(c(-c4cc[n+](cc5)C)c5C=Cc1n5)-c1cc[n+](C)cc1)cc[n+](C)cc1'\n",
      "[17:16:16] SMILES Parse Error: extra open parentheses for input: '[n+]1(ccc(cc1)-c1c2ccc(c(c(-c4cc[n+](C)cc4)c4C=Cc(n(c(c(-c5cc[n+](cc5)C)c5nc1C5)-c1cc[n+](C)cc1)C=C3)-c1cc[n+](cc1)C'\n",
      "[17:16:16] SMILES Parse Error: extra open parentheses for input: 'c1c(-c2c3ccc([nH]3)c(-c3cc[n+](cc3)C)c3nc(c(-c4cc[n+](cc5)C)c4ccc(c(c(c5C=C5)c(c1n2)-c1cc[n+](C)cc1)n4)-c1cc[n+](cc3)C'\n",
      "[17:16:16] SMILES Parse Error: syntax error while parsing: c1c[n+](CC)ccc1-c1c2ccc([nH]2)c(-c2cc[n+](C)cc2)c2nc(C=C2)c(-c2cc[n+](cc2)C)c3nc(c(C=C3)c(c1n3)-c1cc[n+](C)ccc1)nH]2\n",
      "[17:16:16] SMILES Parse Error: Failed parsing SMILES 'c1c[n+](CC)ccc1-c1c2ccc([nH]2)c(-c2cc[n+](C)cc2)c2nc(C=C2)c(-c2cc[n+](cc2)C)c3nc(c(C=C3)c(c1n3)-c1cc[n+](C)ccc1)nH]2' for input: 'c1c[n+](CC)ccc1-c1c2ccc([nH]2)c(-c2cc[n+](C)cc2)c2nc(C=C2)c(-c2cc[n+](cc2)C)c3nc(c(C=C3)c(c1n3)-c1cc[n+](C)ccc1)nH]2'\n",
      "[17:16:16] SMILES Parse Error: extra open parentheses for input: 'c1ccc([nH]c1-c1c2nc(C=C2)c(-c2cc[n+](C)cc2)c2[nH]c(c(c(-c5cc[n+](C)cc5)c4nc(c(c5C=Cc2-c2cc[n+](C)cc2)cc4)[nH]3)cc1'\n",
      "[17:16:16] SMILES Parse Error: extra close parentheses while parsing: c12nc(C=C2)c(-c2cc[n+](C)cc2)c2[nH]c(cc2)c(-c2cc[n+](cc2)C)c2ccc(c3nc1-c1cc[n+](C)cc1)cc3C=C2)-c1cc[n+](cc1)C)n3)cc1\n",
      "[17:16:16] SMILES Parse Error: Failed parsing SMILES 'c12nc(C=C2)c(-c2cc[n+](C)cc2)c2[nH]c(cc2)c(-c2cc[n+](cc2)C)c2ccc(c3nc1-c1cc[n+](C)cc1)cc3C=C2)-c1cc[n+](cc1)C)n3)cc1' for input: 'c12nc(C=C2)c(-c2cc[n+](C)cc2)c2[nH]c(cc2)c(-c2cc[n+](cc2)C)c2ccc(c3nc1-c1cc[n+](C)cc1)cc3C=C2)-c1cc[n+](cc1)C)n3)cc1'\n",
      "[17:16:16] SMILES Parse Error: extra open parentheses for input: 'c1c2c(-c3cc[n+](C)cc3)c3[nH]c(c(c4nc(c(-c4cc[n+](C)cc5)c5C=Cc(c(-c6cc[n+](cc5)c5)ccc2nc2[nH]4)-c2cc[n+](cc2)C)cc3C=C'\n",
      "[17:16:16] SMILES Parse Error: syntax error while parsing: c1cc(-c2c3ccc([nH]3)c(-c3cc[n+](C)cc3)c3nc(c(-c4cc[n+](cc4)C)c4[nH]c(c(c(c5C=Cc(n5)c1[nH]2)-c1cc[n+](C)cc1)C)n+]3)c1\n",
      "[17:16:16] SMILES Parse Error: Failed parsing SMILES 'c1cc(-c2c3ccc([nH]3)c(-c3cc[n+](C)cc3)c3nc(c(-c4cc[n+](cc4)C)c4[nH]c(c(c(c5C=Cc(n5)c1[nH]2)-c1cc[n+](C)cc1)C)n+]3)c1' for input: 'c1cc(-c2c3ccc([nH]3)c(-c3cc[n+](C)cc3)c3nc(c(-c4cc[n+](cc4)C)c4[nH]c(c(c(c5C=Cc(n5)c1[nH]2)-c1cc[n+](C)cc1)C)n+]3)c1'\n",
      "[17:16:16] SMILES Parse Error: extra open parentheses for input: 'c1cc2c(-c3cc[n+](C)cc3)c3[nH]c(c(-c4cc[n+](C)cc4)c4nc(c(C=C4)c(-c5cc[n+](C)cc5nc(c(c5[nH](C)cc1)ccc2)-c1cc[n+](cc1)C'\n",
      "[17:16:16] SMILES Parse Error: extra open parentheses for input: 'c1c(-c2c3ccc([nH]3)c(c3nc(c(c4nc(c(c(c5C=Cc(c(-c5cc[n+](C)cc5)c2C)[nH]4)[nH]4)-c2cc[n+](C)cc2)C=C4)-c2cc[n+](cc2)cc1'\n",
      "[17:16:16] SMILES Parse Error: extra open parentheses for input: '[n+]1(cccc(-c2c3[nH]c(cc3)c(-c4cc[n+](cc4)C)c4nc(C=C4)c(-c4cc[n+](C)cc4)c4nc(C=Cc1c2)-c1cc[n+](C)cc1)-c1cc[n+](C)cc1'\n",
      "[17:16:16] SMILES Parse Error: extra open parentheses for input: '[n+]1(C)ccc(-c2c3nc(c(-c4cc[n+](cc4)C)c4nc(c(-c5cc[n+](cc5)C)c4C=Cc(c(c(-c5cc[n+](cc5)C)cc1)n2)[nH]4)-c1cc[n+](C)cc1'\n",
      "[17:16:16] SMILES Parse Error: extra open parentheses for input: 'c1c2c(-c3cc[n+](C)cc3)c3[nH]c(c(c4nc(c(-c5cc[n+](cc5)C)c5C=Cc(c(c(-c5cc[n+](cc5)C)c5nc2cc[nH]5)[nH]4)-c2cc[n+](C)cc3)cc[n+](C)'\n",
      "[17:16:16] SMILES Parse Error: extra open parentheses for input: 'C[n+]1ccc(-c2c3C=Cc(n3)c(-c3cc[n+](cc3)C)c3nc(c(-c4cc[n+](cc4)C)c4nc(c(c(c4[nH]c2C=C5)-c2cc[n+](cc2)C)cc2c[nH](C)cc1'\n",
      "[17:16:16] SMILES Parse Error: extra close parentheses while parsing: C1C2C3C(C(C=1)C1C2C[N+](CC)(C1)CC)C[N+](CC)(C3C)CC)CC\n",
      "[17:16:16] SMILES Parse Error: Failed parsing SMILES 'C1C2C3C(C(C=1)C1C2C[N+](CC)(C1)CC)C[N+](CC)(C3C)CC)CC' for input: 'C1C2C3C(C(C=1)C1C2C[N+](CC)(C1)CC)C[N+](CC)(C3C)CC)CC'\n",
      "[17:16:16] SMILES Parse Error: extra close parentheses while parsing: C1C2C3C4C(C(C2C[N+]1(CC)CC)C=C3C)C[N+](CC)(C4)CC)CC\n",
      "[17:16:16] SMILES Parse Error: Failed parsing SMILES 'C1C2C3C4C(C(C2C[N+]1(CC)CC)C=C3C)C[N+](CC)(C4)CC)CC' for input: 'C1C2C3C4C(C(C2C[N+]1(CC)CC)C=C3C)C[N+](CC)(C4)CC)CC'\n",
      "[17:16:16] SMILES Parse Error: unclosed ring for input: 'C12C(C3(C4C[N+](CC)(CC)CC4C2C(=C3)C)C[N+](CC)(C4)CC)C'\n",
      "[17:16:16] SMILES Parse Error: extra close parentheses while parsing: C1C2C3C4C[N+](CC)(CC)CC4C(C2C[N+]1(CC)CC)C=C3C)CC\n",
      "[17:16:16] SMILES Parse Error: Failed parsing SMILES 'C1C2C3C4C[N+](CC)(CC)CC4C(C2C[N+]1(CC)CC)C=C3C)CC' for input: 'C1C2C3C4C[N+](CC)(CC)CC4C(C2C[N+]1(CC)CC)C=C3C)CC'\n",
      "[17:16:16] SMILES Parse Error: unclosed ring for input: 'C12C3C4C(C(C)=C3)C1C[N+](CC)(CC)C2'\n",
      "[17:16:16] SMILES Parse Error: unclosed ring for input: 'C1C2C3C4C5C(C(C2C[N+]1(C)C)C=C3)C[N+](C)(C)C5'\n",
      "[17:16:16] SMILES Parse Error: extra open parentheses for input: 'C1C2C(C3(C4C(C2C(=C3)C)C[N+](CC)(CC)C4)C[N+]1(CC)CC'\n",
      "[17:16:16] SMILES Parse Error: unclosed ring for input: 'C1C2C3C4C5C(C(C2C[N+]1(C)C)C=C3)C[N+](C)(C)C5'\n",
      "[17:16:16] SMILES Parse Error: unclosed ring for input: 'C12C3C4C5C(C(C3C[N+](C)(C1)C)C=C2)C[N+](C)(C)C5'\n",
      "[17:16:16] SMILES Parse Error: unclosed ring for input: '[N+]1(CC2C3C4C=CC(C5C[N+](C)(CC55)C)C3C2C1)(C)C'\n",
      "[17:16:16] SMILES Parse Error: unclosed ring for input: 'C12C3C(C(C)=C2)C2C1C[N+](CC)(CC)C2'\n",
      "[17:16:16] SMILES Parse Error: unclosed ring for input: 'C1C2C3C4C5C(C(C=C4)C3C2C[N+]1(C)C)C[N+](C)(C)C2'\n",
      "[17:16:16] SMILES Parse Error: unclosed ring for input: 'C12C3C(C(C1C[N+](CC)(CC)C2)(C)C=C3C)C[N+](CC)(CC)C2'\n",
      "[17:16:16] SMILES Parse Error: ring closure 2 duplicates bond between atom 0 and atom 16 for input: 'C12C3C[N+](C)(CC3C(C3C4C[N+](C)(C)CC4C12)C=C3)C'\n",
      "[17:16:16] SMILES Parse Error: unclosed ring for input: 'C12C3C4C(C(C)=C3)C1C[N+](CC)(CC)C2'\n",
      "[17:16:16] SMILES Parse Error: extra open parentheses for input: 'C1C2C3C[N+](CC3C(C3C4C[N+](CC)(CC)CC4C2C=1)(CC)CC'\n",
      "[17:16:16] SMILES Parse Error: unclosed ring for input: 'C1C2C3C4C5C(C(C2C[N+]1(C)C)C=C3)C[N+](C)(C)C5'\n",
      "[17:16:16] SMILES Parse Error: unclosed ring for input: 'C1C2C3C4C5C(C(C2C[N+]1(C)C)C=C3)C[N+](C)(C)C5'\n",
      "[17:16:16] SMILES Parse Error: unclosed ring for input: 'C12C3C4C(C4C[N+](C)(C)CC45)C(C=C3)C1C[N+](C)(C2)C'\n",
      "[17:16:16] SMILES Parse Error: unclosed ring for input: 'C12C(C3C4C(C2C=C3)C2C[N+](CC)(CC)C2)C[N+](CC)(CC)C1'\n",
      "[17:16:16] SMILES Parse Error: extra close parentheses while parsing: C1C2C3C4C(C(C2C[N+]1(CC)CC)C=C3C)C[N+](CC)(C4)CC)CC\n",
      "[17:16:16] SMILES Parse Error: Failed parsing SMILES 'C1C2C3C4C(C(C2C[N+]1(CC)CC)C=C3C)C[N+](CC)(C4)CC)CC' for input: 'C1C2C3C4C(C(C2C[N+]1(CC)CC)C=C3C)C[N+](CC)(C4)CC)CC'\n",
      "[17:16:16] Can't kekulize mol.  Unkekulized atoms: 0 1 2 5 6\n",
      "[17:16:16] Can't kekulize mol.  Unkekulized atoms: 0 1 2 3 4 13 14\n",
      "[17:16:16] SMILES Parse Error: extra close parentheses while parsing: C12(C)CC(C)(C)CC(C)(C)C2)C[N+](C)(C1)C\n",
      "[17:16:16] SMILES Parse Error: Failed parsing SMILES 'C12(C)CC(C)(C)CC(C)(C)C2)C[N+](C)(C1)C' for input: 'C12(C)CC(C)(C)CC(C)(C)C2)C[N+](C)(C1)C'\n",
      "[17:16:16] SMILES Parse Error: extra open parentheses for input: 'C1C2(CC(C)(CC(C)(C2)C)C[N+]1(C)C'\n",
      "[17:16:16] SMILES Parse Error: unclosed ring for input: 'C1CCC[N+]21CCCC1CC2C1CCCCN1C2'\n",
      "[17:16:16] SMILES Parse Error: unclosed ring for input: 'C1CCCC[N+]12CCCC1CC2CC1CCCC1'\n",
      "[17:16:16] SMILES Parse Error: unclosed ring for input: 'C1CCCC[N+]12CCCCC2C1(C)C'\n",
      "[17:16:16] SMILES Parse Error: extra open parentheses for input: 'C(CCCCCCCCCCCCCCCC[N+](C)(C)CCCCC'\n",
      "[17:16:16] Can't kekulize mol.  Unkekulized atoms: 0 1 2 3 4 5 6 7 8 9 10\n",
      "[17:16:16] Can't kekulize mol.  Unkekulized atoms: 0 1 2 3 4 5 6 7 8 9 10\n",
      "[17:16:16] Can't kekulize mol.  Unkekulized atoms: 1 2 3 4 5 6 7 8 9 10 11\n",
      "[17:16:16] Can't kekulize mol.  Unkekulized atoms: 0 1 2 3 4 5 6 7 11 12 13\n",
      "[17:16:16] Can't kekulize mol.  Unkekulized atoms: 0 1 2 3 4 5 6 7 8 9 10\n",
      "[17:16:16] Can't kekulize mol.  Unkekulized atoms: 0 1 2 3 4 5 6 10 14 15 16\n",
      "[17:16:16] Can't kekulize mol.  Unkekulized atoms: 0 1 2 3 4 5 6 7 8 9 10\n",
      "[17:16:16] Can't kekulize mol.  Unkekulized atoms: 0 1 2 3 4 5 9 10 11 12 13\n",
      "[17:16:16] Can't kekulize mol.  Unkekulized atoms: 0 1 2 3 4 5 6 7 11 15 16\n",
      "[17:16:16] Can't kekulize mol.  Unkekulized atoms: 0 1 2 3 7 8 9 10 14 15 16\n",
      "[17:16:16] Can't kekulize mol.  Unkekulized atoms: 0 1 2 3 7 8 9 10 11 12 13 14 18\n",
      "[17:16:16] Can't kekulize mol.  Unkekulized atoms: 0 1 2 3 4 5 6 7 8 9 13\n",
      "[17:16:16] Can't kekulize mol.  Unkekulized atoms: 0 1 2 3 4 5 6 7 8 9 10\n",
      "[17:16:16] SMILES Parse Error: unclosed ring for input: 'c1ccc(CN(C)C)c2c(cccc2)N(C)C'\n",
      "[17:16:16] Can't kekulize mol.  Unkekulized atoms: 0 1 2 3 4 5 6 7 11 15 16\n",
      "[17:16:16] Can't kekulize mol.  Unkekulized atoms: 0 1 2 3 4 5 9 10 11 12 13\n",
      "[17:16:16] Can't kekulize mol.  Unkekulized atoms: 0 1 2 3 4 5 6 7 8 9 13\n",
      "[17:16:16] Can't kekulize mol.  Unkekulized atoms: 1 2 3 4 5 6 7 11 12 13 14\n",
      "[17:16:16] Can't kekulize mol.  Unkekulized atoms: 0 1 2 3 7 8 9 10 11 12 13\n",
      "[17:16:16] Can't kekulize mol.  Unkekulized atoms: 0 1 2 3 4 5 6 7 11 12 13\n",
      "[17:16:16] Can't kekulize mol.  Unkekulized atoms: 0 1 2 3 4 5 6 7 8 9 10\n",
      "[17:16:16] Can't kekulize mol.  Unkekulized atoms: 0 1 2 3 7 8 9 10 14 15 16\n",
      "[17:16:16] SMILES Parse Error: extra open parentheses for input: 'c1ccc2c(c1c(N(C)C)c(ccc2)N(C)C'\n",
      "[17:16:16] Can't kekulize mol.  Unkekulized atoms: 0 1 2 3 4 14 15\n",
      "[17:16:16] SMILES Parse Error: unclosed ring for input: 'c1cccc2c1C[N+](C2CCCCC2)(C1)C1CCCCC1'\n",
      "[17:16:16] SMILES Parse Error: unclosed ring for input: 'c1cccc2c1C[N+](C1CCCCC1)(C2CCCCC2)C1'\n",
      "[17:16:16] SMILES Parse Error: extra open parentheses for input: '[N+]1(CC2C3C4C[N+](CC)(CC4C(C=C3)C2C1)C(C)C(C)C'\n",
      "[17:16:16] SMILES Parse Error: extra close parentheses while parsing: CC(C)[N+]1(CC)CC2C(C1)C1C=CC2C2C[N+](CC)(CC)CC2C1C)CC\n",
      "[17:16:16] SMILES Parse Error: Failed parsing SMILES 'CC(C)[N+]1(CC)CC2C(C1)C1C=CC2C2C[N+](CC)(CC)CC2C1C)CC' for input: 'CC(C)[N+]1(CC)CC2C(C1)C1C=CC2C2C[N+](CC)(CC)CC2C1C)CC'\n",
      "[17:16:16] SMILES Parse Error: extra close parentheses while parsing: CC(C)[N+]1(CC2C3C=CC(C4C[N+](CC)(CC)CC43)C2C1)CC)CC\n",
      "[17:16:16] SMILES Parse Error: Failed parsing SMILES 'CC(C)[N+]1(CC2C3C=CC(C4C[N+](CC)(CC)CC43)C2C1)CC)CC' for input: 'CC(C)[N+]1(CC2C3C=CC(C4C[N+](CC)(CC)CC43)C2C1)CC)CC'\n",
      "[17:16:16] SMILES Parse Error: extra open parentheses for input: 'N([P+](N(C)C)(N(C)C)(CCCC[P+](N(C)C)(N(C)C)N(C)C)N(C)C'\n",
      "[17:16:16] SMILES Parse Error: extra open parentheses for input: 'C(CCCCCCCCCCCCCC[N+](CCCCCC[N+](C)(C)C12CC3CC(C1)CC(C2)C3)(C)C'\n",
      "[17:16:16] SMILES Parse Error: extra open parentheses for input: 'C(CCCCCCCCCCCCCC[N+](C)(CCCCCC[N+](C)(C12CC3CC(CC(C3)C1)CC2)C)C'\n",
      "[17:16:16] SMILES Parse Error: unclosed ring for input: 'C(CCCCCCCCCCCCCC[N+](CCCCCC[N+](C)(C)C1)(C)C)CCCC'\n",
      "[17:16:16] SMILES Parse Error: extra open parentheses for input: 'C(C)(C)(C)[P+](C(C)(C)C)(CCCC[P+](C(C)(C)C)(C(C)(C)(C)C)C(C)C(C)(C)C(C)(C)(C)(C)(C)(C)(C)(C)(C)(C)(C)(C)C'\n",
      "[17:16:16] SMILES Parse Error: extra open parentheses for input: '[P+](C(C)(C)C)(CCCC[P+](C(C)(C)C)(C(C)(C)C)C(C)(C)C)(C(C)(C)C(C)(C)C)C(C)(C)(C)(C)(C)(C)(C)(C)(C)(C)(C)(C'\n",
      "[17:16:16] Can't kekulize mol.  Unkekulized atoms: 0 1 2 3 15 16 17\n",
      "[17:16:16] Can't kekulize mol.  Unkekulized atoms: 0 1 2 3 4 5 9\n",
      "[17:16:16] SMILES Parse Error: extra open parentheses for input: 'C1CC([N+]2(Cc3c(C2)cccc3)C(C1)C'\n",
      "[17:16:16] Can't kekulize mol.  Unkekulized atoms: 0 1 2 3 4 5 6\n",
      "[17:16:16] Can't kekulize mol.  Unkekulized atoms: 0 1 2 3 4 14 15\n",
      "[17:16:16] SMILES Parse Error: extra open parentheses for input: 'C1C([N+]2(Cc3c(cccc3)C2)C(CC1)C'\n",
      "[17:16:16] SMILES Parse Error: extra open parentheses for input: 'C1CC([N+]2(Cc3c(C2)cccc3)C(C1)C'\n",
      "[17:16:16] SMILES Parse Error: extra open parentheses for input: 'C(C)(C)([P+](C(C)(C)c1ccccc1)C'\n",
      "[17:16:16] SMILES Parse Error: unclosed ring for input: 'C1C2(C)C[N+]3(C1CC(C)(C)C)CCCC3'\n",
      "[17:16:16] SMILES Parse Error: unclosed ring for input: 'C1CC[N+]2(C1)C1CC(C)(C)CC(C)(C)C1'\n",
      "[17:16:16] SMILES Parse Error: unclosed ring for input: '[N+]12(CCCC1)C1CC(C)(C)CC(C)(C)C1'\n",
      "[17:16:16] SMILES Parse Error: unclosed ring for input: 'C12C(C[N+](C)(C)C1)C1C=CC2C2C1C1C[N+](C)(C2)C'\n",
      "[17:16:16] SMILES Parse Error: unclosed ring for input: 'C12(CC(CC(C)(C)C1)[N+]1(C2)CCCC1)[N+](CCCC1)(C)C'\n",
      "[17:16:16] SMILES Parse Error: unclosed ring for input: 'C1CN2CC[N+]1(CC2C)Cc1ccccc1C2'\n",
      "[17:16:16] SMILES Parse Error: unclosed ring for input: 'c1cc(ccc1C[N+]1(C2)CC(C)CCC1)C'\n",
      "[17:16:16] SMILES Parse Error: extra open parentheses for input: 'C1C2(CC(C)(CC([N+]3(C2)CCCCC3)C1)C'\n",
      "[17:16:16] SMILES Parse Error: unclosed ring for input: 'C1CC2C3CCC(C[N+]2(C)C)CC1'\n",
      "[17:16:16] Explicit valence for atom # 2 C, 5, is greater than permitted\n",
      "[17:16:16] SMILES Parse Error: extra open parentheses for input: 'C12(CCC(C)(CC([N+](C)(C)C2)C1)C'\n",
      "[17:16:16] Can't kekulize mol.  Unkekulized atoms: 0 1 2 3 4 5 6 7 8 9 10\n",
      "[17:16:16] Can't kekulize mol.  Unkekulized atoms: 0 1 2 3 4 5 6 7 8 9 10\n",
      "[17:16:16] Can't kekulize mol.  Unkekulized atoms: 0 1 2 3 4 5 6 7 8 9 10\n",
      "[17:16:16] Can't kekulize mol.  Unkekulized atoms: 0 1 2 3 4 5 6 7 8 9 10\n",
      "[17:16:16] Can't kekulize mol.  Unkekulized atoms: 0 1 2 3 4 5 6 7 8 9 10\n",
      "[17:16:16] Can't kekulize mol.  Unkekulized atoms: 0 1 2 3 4 5 6 7 8 9 10\n",
      "[17:16:16] Can't kekulize mol.  Unkekulized atoms: 0 1 2 3 4 12 13\n",
      "[17:16:16] Can't kekulize mol.  Unkekulized atoms: 0 1 2 3 4 5 6 7 8\n",
      "[17:16:16] Can't kekulize mol.  Unkekulized atoms: 0 1 2 3 4 5 6 7 8 9 10\n",
      "[17:16:16] Can't kekulize mol.  Unkekulized atoms: 0 1 11 12 13\n",
      "[17:16:16] Can't kekulize mol.  Unkekulized atoms: 0 1 2 10 11 12 13\n",
      "[17:16:16] Can't kekulize mol.  Unkekulized atoms: 0 1 2 3 4 5 6 7 8 9 10\n",
      "[17:16:16] SMILES Parse Error: extra open parentheses for input: 'c1cc(cc2c(cccc21)Cn1c[n+](cc1)C'\n",
      "[17:16:16] Can't kekulize mol.  Unkekulized atoms: 0 1 2 3 4 5 6 7 8 9 10\n",
      "[17:16:16] Can't kekulize mol.  Unkekulized atoms: 0 1 2 3 4 5 6 7 8 9 10\n",
      "[17:16:16] Can't kekulize mol.  Unkekulized atoms: 0 1 2 3 4 5 6 7 8\n",
      "[17:16:16] Can't kekulize mol.  Unkekulized atoms: 0 1 2 10 11 12 13\n",
      "[17:16:16] SMILES Parse Error: extra open parentheses for input: 'n1(cc[n+](Cc2ccccc2ccccc2cc1)C'\n",
      "[17:16:16] Can't kekulize mol.  Unkekulized atoms: 0 1 11 12 13\n",
      "[17:16:16] Can't kekulize mol.  Unkekulized atoms: 0 1 2 3 4 5 6 7 8 9 10\n",
      "[17:16:16] Can't kekulize mol.  Unkekulized atoms: 2 3 4 5 6 7 8 9 10 11 12\n",
      "[17:16:16] Can't kekulize mol.  Unkekulized atoms: 0 1 15 16 17\n",
      "[17:16:16] Can't kekulize mol.  Unkekulized atoms: 0 1 2 3 4 5 6 7 8 9 10\n",
      "[17:16:16] Can't kekulize mol.  Unkekulized atoms: 0 1 2 10 11 12 14\n",
      "[17:16:16] Can't kekulize mol.  Unkekulized atoms: 0 1 2 3 11 12 13\n",
      "[17:16:16] Can't kekulize mol.  Unkekulized atoms: 0 1 2 3 4 5 6 7 8 9 10\n",
      "[17:16:16] Can't kekulize mol.  Unkekulized atoms: 0 8 9 10 12 13 14\n",
      "[17:16:16] Can't kekulize mol.  Unkekulized atoms: 5 6 7 8 9 10 11 12 13 14 15\n",
      "[17:16:16] Can't kekulize mol.  Unkekulized atoms: 0 1 2 10 11 12 14\n",
      "[17:16:16] Can't kekulize mol.  Unkekulized atoms: 2 3 4 5 6 7 8 9 10 11 12\n",
      "[17:16:16] Can't kekulize mol.  Unkekulized atoms: 1 2 3 4 5 6 7 8 9 10 11\n",
      "[17:16:16] Can't kekulize mol.  Unkekulized atoms: 0 1 2 3 4 5 6 7 8 9 10\n",
      "[17:16:16] Can't kekulize mol.  Unkekulized atoms: 0 1 2 3 4 5 6 7 8 9 10\n",
      "[17:16:16] Can't kekulize mol.  Unkekulized atoms: 0 1 9 10 11 13 14\n",
      "[17:16:16] Can't kekulize mol.  Unkekulized atoms: 0 1 2 3 4 5 6 7 8 9 10\n",
      "[17:16:16] Can't kekulize mol.  Unkekulized atoms: 6 7 8 17 24\n",
      "[17:16:16] non-ring atom 7 marked aromatic\n",
      "[17:16:16] SMILES Parse Error: unclosed ring for input: 'C12C3C(CCCC3C3CCC2)C2CCCCC2(C1)C'\n",
      "[17:16:16] SMILES Parse Error: unclosed ring for input: 'C12C3CCCC2C2CCCCC2(C)C1CCCC2'\n",
      "[17:16:16] SMILES Parse Error: extra open parentheses for input: 'C12C3C(=CC(C4C[N+](CC)(CC43)CC)(C)C2C[N+](CC)(CC)C1'\n",
      "[17:16:16] Can't kekulize mol.  Unkekulized atoms: 1 2 15 16 17\n",
      "[17:16:16] SMILES Parse Error: unclosed ring for input: 'C1CC2C3C(CCCC3C3CCC2)CCC1C'\n",
      "[17:16:16] SMILES Parse Error: unclosed ring for input: 'C1CCC2C3C(CCC2)CCC3C1C1C(C)(C3)C'\n",
      "[17:16:16] SMILES Parse Error: unclosed ring for input: 'C12C3CCCC3CCC1CCC2(C)CCCCC3'\n",
      "[17:16:16] SMILES Parse Error: ring closure 3 duplicates bond between atom 10 and atom 11 for input: 'C1C2C3CCCCC3(C)CC3C3C2C(CCC3)CC1'\n",
      "[17:16:16] SMILES Parse Error: unclosed ring for input: 'C1C2C3C(CCCC3C3CCCC1)CC1(C)CCCCC21'\n",
      "[17:16:16] SMILES Parse Error: unclosed ring for input: 'C1C2C3C(CCCC3C3CCC2)(C)CCCC1'\n",
      "[17:16:16] SMILES Parse Error: unclosed ring for input: 'C1CC2C3C(CCCC3C3C2)CCCC1(C)C'\n",
      "[17:16:16] SMILES Parse Error: ring closure 3 duplicates bond between atom 9 and atom 10 for input: 'C12C3CCCCC3(C)CC3C3C2C(CCC3)CCC1'\n",
      "[17:16:16] SMILES Parse Error: unclosed ring for input: 'C1CC2C3C(CCCC3C3C2)CCCC1(C)C'\n",
      "[17:16:16] SMILES Parse Error: unclosed ring for input: 'C1C2C3C(CC1)CCCC3C1C(CCCC2)(C)CCC3'\n",
      "[17:16:16] SMILES Parse Error: unclosed ring for input: 'C1CCCC2(C1C1C3C(CCCC3CCC2)CCC31)C'\n",
      "[17:16:16] SMILES Parse Error: unclosed ring for input: 'C1CCC2C3C(CCCC3C3CCCC1)CC1CCC2'\n",
      "[17:16:16] SMILES Parse Error: unclosed ring for input: 'C1CC2CCCC3C2C(C1)(CCCC3)CCC2'\n",
      "[17:16:16] Can't kekulize mol.  Unkekulized atoms: 5 6 24\n",
      "[17:16:16] SMILES Parse Error: unclosed ring for input: 'C12CCCC3CC4C3C(CCC4)CCC(C32)CCC1'\n",
      "[17:16:16] Can't kekulize mol.  Unkekulized atoms: 0 1 15 16 17\n",
      "[17:16:16] SMILES Parse Error: ring closure 3 duplicates bond between atom 8 and atom 9 for input: 'C12C3CCCCC3(CC3C3C2C(CCC3)CCC1)C'\n",
      "[17:16:16] Can't kekulize mol.  Unkekulized atoms: 5 6 13 15 22\n",
      "[17:16:16] SMILES Parse Error: unclosed ring for input: 'C12C3CCCC3(CC3CCCC(C32)CCCC3)CCC1'\n",
      "[17:16:16] SMILES Parse Error: extra open parentheses for input: '[N+]1(CC)(CC2C3C4C(C(C(=C3)C2C1)C[N+](CC)(CC)C4)C'\n",
      "[17:16:16] SMILES Parse Error: unclosed ring for input: 'C1CCC2C3C(CCCC3C3CCCC1)CC1CCC2'\n",
      "[17:16:16] SMILES Parse Error: unclosed ring for input: 'C1CC2C3C(CCCC3C3C1)C1C(C2)(CCCC1)C'\n",
      "[17:16:16] SMILES Parse Error: unclosed ring for input: '[N+]1(CC)(CC)CC2C(C1)C1(C)C=C(C)C2C[N+](CC)(CC)CC21'\n",
      "[17:16:16] SMILES Parse Error: unclosed ring for input: 'C1C2C3C(CCCC3C3C(CCC2)C)CCC1'\n",
      "[17:16:16] SMILES Parse Error: ring closure 3 duplicates bond between atom 9 and atom 10 for input: 'C1C2C3C(CCCC3)CC3C3C2C(CCC3)CCC1'\n",
      "[17:16:16] SMILES Parse Error: ring closure 3 duplicates bond between atom 8 and atom 9 for input: 'C12C3CCCCC3(CC3C3C2C(CCC3)CCC1)C'\n",
      "[17:16:16] SMILES Parse Error: unclosed ring for input: 'C1CCC2C3C(CCCC3C3CCCC(CC1)C2)C'\n",
      "[17:16:16] SMILES Parse Error: unclosed ring for input: 'C12C3CCCCC3CC3(CC3C2C(CCC3)CCC1)C'\n",
      "[17:16:16] Can't kekulize mol.  Unkekulized atoms: 0 1 2 5 6\n",
      "[17:16:16] SMILES Parse Error: extra close parentheses while parsing: CC[N+]1(CC)CC2C(C1)C1(C3C[N+](CC)(CC)CC3C2C(=C1)C)C)C\n",
      "[17:16:16] SMILES Parse Error: Failed parsing SMILES 'CC[N+]1(CC)CC2C(C1)C1(C3C[N+](CC)(CC)CC3C2C(=C1)C)C)C' for input: 'CC[N+]1(CC)CC2C(C1)C1(C3C[N+](CC)(CC)CC3C2C(=C1)C)C)C'\n",
      "[17:16:16] SMILES Parse Error: extra open parentheses for input: '[n+]1(Cc2cc(C[n+]3ccn(C)c3C)cc(C[n+]3c(C)n(cc3)C)c2)c(n(cc1)C'\n",
      "[17:16:16] SMILES Parse Error: extra open parentheses for input: 'CC[N+]1(CC2C(C3(C)C4C(C2C(=C3)C[N+](CC)(C4)CC)C1)CC'\n",
      "[17:16:16] SMILES Parse Error: extra open parentheses for input: 'C1C2C3(C=C(C(C4C[N+](CC)(CC)CC43)C2C[N+]1(CC)CC)C[N+](CC)(CC)CC'\n",
      "[17:16:16] SMILES Parse Error: unclosed ring for input: 'C12C(C3C(=CC1(C1C[N+](CC)(CC)CC1C3C2C[N+](CC)(CC)C1)C)C)C'\n",
      "[17:16:16] SMILES Parse Error: extra close parentheses while parsing: C12C(C[N+](CC)(CC)C2)C2C(C1C[N+](CC)(CC)C2)C(=C2)C)CC\n",
      "[17:16:16] SMILES Parse Error: Failed parsing SMILES 'C12C(C[N+](CC)(CC)C2)C2C(C1C[N+](CC)(CC)C2)C(=C2)C)CC' for input: 'C12C(C[N+](CC)(CC)C2)C2C(C1C[N+](CC)(CC)C2)C(=C2)C)CC'\n",
      "[17:16:16] SMILES Parse Error: extra open parentheses for input: 'CC[N+]1(CC2C(C3(C4C(C[N+](C4)(CC)CC)C2C(=C3)C)C1)CC'\n",
      "[17:16:16] SMILES Parse Error: unclosed ring for input: 'C1C2C3C(C(C)=CC3C2C[N+]1(CC)CC)(C)C[N+](CC)(CC)C2'\n",
      "[17:16:16] SMILES Parse Error: extra open parentheses for input: 'C(C)[N+]1(CC2C3(C4C(C(C2C1)C(=C3)C)C[N+](C4)(CC)CC)CC'\n",
      "[17:16:16] SMILES Parse Error: extra close parentheses while parsing: C12C(C3(C4C(C2C(=C3)C[N+](CC)(CC)C4)C)C[N+](CC)(CC)C4)C=C1)C[N+](CC)(CC)CC\n",
      "[17:16:16] SMILES Parse Error: Failed parsing SMILES 'C12C(C3(C4C(C2C(=C3)C[N+](CC)(CC)C4)C)C[N+](CC)(CC)C4)C=C1)C[N+](CC)(CC)CC' for input: 'C12C(C3(C4C(C2C(=C3)C[N+](CC)(CC)C4)C)C[N+](CC)(CC)C4)C=C1)C[N+](CC)(CC)CC'\n",
      "[17:16:16] SMILES Parse Error: extra close parentheses while parsing: C1C2C3C4C(C(C2C[N+]1(CC)CC)C=C3C)C[N+](CC)(C4)CC)CC\n",
      "[17:16:16] SMILES Parse Error: Failed parsing SMILES 'C1C2C3C4C(C(C2C[N+]1(CC)CC)C=C3C)C[N+](CC)(C4)CC)CC' for input: 'C1C2C3C4C(C(C2C[N+]1(CC)CC)C=C3C)C[N+](CC)(C4)CC)CC'\n",
      "[17:16:16] SMILES Parse Error: extra close parentheses while parsing: CC[N+]1(CC)CC2C(C3(C4C[N+](CC)(CC4)CC)C2C(=C3)C)C1)CC\n",
      "[17:16:16] SMILES Parse Error: Failed parsing SMILES 'CC[N+]1(CC)CC2C(C3(C4C[N+](CC)(CC4)CC)C2C(=C3)C)C1)CC' for input: 'CC[N+]1(CC)CC2C(C3(C4C[N+](CC)(CC4)CC)C2C(=C3)C)C1)CC'\n",
      "[17:16:16] SMILES Parse Error: unclosed ring for input: 'C12C3C(C(C)=CC2(C)C2C[N+](CC)(CC)CC2C1C[N+](CC)(CC)C2)C'\n",
      "[17:16:16] SMILES Parse Error: unclosed ring for input: 'c1(C)[n+](ccn1C)Cc1cc(C[n+]2ccn(C)c2C)cc(C[n+]2c(C)n(cc2)C)cc(c1)C[n+]1ccn(C)C'\n",
      "[17:16:16] SMILES Parse Error: unclosed ring for input: 'C12C3C(C(C)=CC2C)C2C1C[N+](CC)(CC)C2'\n",
      "[17:16:16] Can't kekulize mol.  Unkekulized atoms: 0 2 30 31 32\n",
      "[17:16:16] Can't kekulize mol.  Unkekulized atoms: 7 8 9 18 19 28 29\n",
      "[17:16:16] SMILES Parse Error: extra open parentheses for input: 'C1C2C3C(C(C)=CC(C)(C4C[N+](CC)(CC)CC43)C2C[N+]1(CC)CC'\n",
      "[17:16:16] Can't kekulize mol.  Unkekulized atoms: 0 1 2 11 12 13 14\n",
      "[17:16:16] Can't kekulize mol.  Unkekulized atoms: 0 1 10 11 12 13 22\n",
      "[17:16:16] Can't kekulize mol.  Unkekulized atoms: 0 2 4 5 6 7 8 17 19 20 21\n",
      "[17:16:16] Can't kekulize mol.  Unkekulized atoms: 0 1 10 11 30\n",
      "[17:16:16] Can't kekulize mol.  Unkekulized atoms: 0 1 10 11 20 21 22\n",
      "[17:16:16] Can't kekulize mol.  Unkekulized atoms: 2 3 12 13 22\n",
      "[17:16:16] SMILES Parse Error: extra open parentheses for input: 'C[n+]1c(n(Cc2cc(C[n+]3ccn(c3C)C)ccc2)cc1'\n",
      "[17:16:16] Can't kekulize mol.  Unkekulized atoms: 0 1 2 11 12 13 14\n",
      "[17:16:16] Can't kekulize mol.  Unkekulized atoms: 0 1 2 11 12 21 22\n",
      "[17:16:16] Can't kekulize mol.  Unkekulized atoms: 1 2 3 12 13 14 15\n",
      "[17:16:16] Can't kekulize mol.  Unkekulized atoms: 1 2 3 6 7\n",
      "[17:16:16] Can't kekulize mol.  Unkekulized atoms: 0 1 2 3 4\n",
      "[17:16:16] Can't kekulize mol.  Unkekulized atoms: 0 1 2 3 4\n",
      "[17:16:16] Explicit valence for atom # 4 N, 5, is greater than permitted\n",
      "[17:16:16] Can't kekulize mol.  Unkekulized atoms: 0 1 9 10 11 13 14\n",
      "[17:16:16] Can't kekulize mol.  Unkekulized atoms: 0 1 2 5 6\n",
      "[17:16:16] Can't kekulize mol.  Unkekulized atoms: 0 1 2 3 4 8 9\n",
      "[17:16:16] Can't kekulize mol.  Unkekulized atoms: 0 1 2 3 4 5 6 7 8 9 10\n",
      "[17:16:16] Can't kekulize mol.  Unkekulized atoms: 0 1 2 3 4 5 6 7 8 9 13\n",
      "[17:16:16] SMILES Parse Error: unclosed ring for input: 'c12cccc3C[N+](Cc(cccc1)C[N+](C)(C)C2)(C)Cc3cccc1'\n",
      "[17:16:16] SMILES Parse Error: unclosed ring for input: 'C1c2cccc3c2c(cccc3C[N+]1(C)C)C[N+](C)(C2)C'\n",
      "[17:16:16] Can't kekulize mol.  Unkekulized atoms: 0 1 2 3 4 5 6 7 8 9 14\n",
      "[17:16:16] SMILES Parse Error: unclosed ring for input: 'c1c2c3c(ccc2)C[N+](Cc1cccc2)(C)C3'\n",
      "[17:16:16] SMILES Parse Error: unclosed ring for input: 'c12cccc3c1c(C[N+](C)(C)Cc23)ccc3'\n",
      "[17:16:16] Can't kekulize mol.  Unkekulized atoms: 0 1 2 3 4 8 9 10 13 14 15\n",
      "[17:16:16] Can't kekulize mol.  Unkekulized atoms: 0 5 6 7 8 9 10 11 12 13 14\n",
      "[17:16:16] SMILES Parse Error: unclosed ring for input: 'c1c2c3c(cccc3c1)C[N+](C)(Cc2ccc3)C'\n",
      "[17:16:16] Can't kekulize mol.  Unkekulized atoms: 0 1 2 3 4 5 6 7 8 9 10\n",
      "[17:16:16] SMILES Parse Error: unclosed ring for input: 'c12c3c(ccc2)C[N+](Cc1c(cccc1)C)(C)C[N+](C)(C)Cc3'\n",
      "[17:16:16] Can't kekulize mol.  Unkekulized atoms: 0 1 2 3 4 5 6 7 11\n",
      "[17:16:16] Can't kekulize mol.  Unkekulized atoms: 0 1 2 7 8 9 11 12 13 14 15 16 17\n",
      "[17:16:16] SMILES Parse Error: unclosed ring for input: 'C[N+]1(Cc2c3c(C1)cccc3ccccc3C2)C'\n",
      "[17:16:16] Can't kekulize mol.  Unkekulized atoms: 0 1 2 3 4 10 11\n",
      "[17:16:16] Can't kekulize mol.  Unkekulized atoms: 0 1 2 3 4 10 11\n",
      "[17:16:16] SMILES Parse Error: unclosed ring for input: 'C(c1cCC[n+]1ccn(c1)C)CC'\n",
      "[17:16:16] Can't kekulize mol.  Unkekulized atoms: 0 1 2 3 4 13 14\n",
      "[17:16:16] Can't kekulize mol.  Unkekulized atoms: 0 1 2 3 8\n",
      "[17:16:16] Can't kekulize mol.  Unkekulized atoms: 0 1 2 3 4 5 6\n",
      "[17:16:16] SMILES Parse Error: unclosed ring for input: 'C1Cc2cccc3CCC[N+](C)(C)c23'\n",
      "[17:16:16] Can't kekulize mol.  Unkekulized atoms: 0 1 2 3 4 5 6\n",
      "[17:16:16] Can't kekulize mol.  Unkekulized atoms: 8 9 10 12 13 14 15\n",
      "[17:16:16] SMILES Parse Error: unclosed ring for input: 'c1cc2CCC[N+]3(CCCc(c23)C)CC'\n",
      "[17:16:16] Can't kekulize mol.  Unkekulized atoms: 0 1 2 11 12\n",
      "[17:16:16] SMILES Parse Error: unclosed ring for input: 'c1cccc2c1CCC[N+]3(C)CCC2'\n",
      "[17:16:16] SMILES Parse Error: extra open parentheses for input: 'C(CCCCCCCCCCCC)CCCCC[N+](C)(CCCC[N+](C)(C12CC3CC(CC(C1)C3)C2)C'\n",
      "[17:16:16] Can't kekulize mol.  Unkekulized atoms: 0 1 10 11 12 13 14\n",
      "[17:16:16] Can't kekulize mol.  Unkekulized atoms: 0 1 2 3 12 13 14\n",
      "[17:16:16] Can't kekulize mol.  Unkekulized atoms: 0 1 2 3 4\n",
      "[17:16:16] Can't kekulize mol.  Unkekulized atoms: 1 2 11 12 13\n",
      "[17:16:16] Can't kekulize mol.  Unkekulized atoms: 0 9 10 11 12 13 14\n",
      "[17:16:16] Can't kekulize mol.  Unkekulized atoms: 0 9 10 11 12 13 14\n",
      "[17:16:16] Can't kekulize mol.  Unkekulized atoms: 0 1 3 4 5 14 15\n",
      "[17:16:16] Can't kekulize mol.  Unkekulized atoms: 0 1 2 3 8\n",
      "[17:16:16] Can't kekulize mol.  Unkekulized atoms: 0 1 6 11 12 13 14\n",
      "[17:16:16] Can't kekulize mol.  Unkekulized atoms: 0 1 2 3 4\n",
      "[17:16:16] SMILES Parse Error: unclosed ring for input: 'C1[N+]2(C)CCCc3c2c(CCC2)cccc31'\n",
      "[17:16:16] SMILES Parse Error: unclosed ring for input: 'O12CCN2CCOCC(CC1)CC2'\n",
      "[17:16:16] SMILES Parse Error: unclosed ring for input: 'C[NH+]1'\n",
      "[17:16:16] SMILES Parse Error: unclosed ring for input: 'C[N+]1(Cc2c(C1)c1C[N+](Cc1c2C[N+](C)(C)C1)(C)C)C'\n",
      "[17:16:16] SMILES Parse Error: unclosed ring for input: 'C[N+]1(C)Cc2c(C1)c1C[N+](C)(Cc1c2C[N+](C)(Cc21)C)C'\n",
      "[17:16:16] SMILES Parse Error: extra open parentheses for input: '[N+]1(Cc2c3C[N+](C)(Cc3c3c(C[N+](C)(C)C3)c2C1)C'\n",
      "[17:16:16] SMILES Parse Error: unclosed ring for input: 'c12c(C[N+](C)(C2)C)c2c(C[N+](C)(C)C2)c1C[N+](C)(C2)C'\n",
      "[17:16:16] SMILES Parse Error: unclosed ring for input: 'c12c(C[N+](C)(C2)C)c2c(C[N+](C)(C)C2)c1C[N+](C)(C)C2'\n",
      "[17:16:16] SMILES Parse Error: extra open parentheses for input: '[N+]1(Cc2c(c3c(C[N+](C)(C)C3)c3c2C[N+](C3)(C)C)C[N+](C)(C)C'\n",
      "[17:16:16] Can't kekulize mol.  Unkekulized atoms: 0 1 3 7 8\n",
      "[17:16:16] SMILES Parse Error: unclosed ring for input: 'C[N+]1(Cc2c(C1)c1C[N+](C)(Cc1c2C[N+](C)(Cc21)C)C)C'\n",
      "[17:16:16] Can't kekulize mol.  Unkekulized atoms: 5 6 10 11 16\n",
      "[17:16:16] SMILES Parse Error: unclosed ring for input: 'C[N+]1(Cc2c(C1)c1C[N+](C)(Cc1c2C[N+](C)(C1)C)C)C'\n",
      "[17:16:16] SMILES Parse Error: unclosed ring for input: 'C[N+]1(C)Cc2c(C1)c1C[N+](C)(Cc1c2C[N+](Cc21)(C)C)C'\n",
      "[17:16:16] SMILES Parse Error: unclosed ring for input: '[N+]1(Cc2c(C1)c1C[N+](C)(Cc1c2C[N+](Cc21)(C)C)C)(C)C'\n",
      "[17:16:16] SMILES Parse Error: unclosed ring for input: 'C[N+]1(Cc2c(C1)c1C[N+](Cc1c2C[N+](C)(Cc21)C)(C)C)C'\n",
      "[17:16:16] SMILES Parse Error: unclosed ring for input: 'C[N+]1(Cc2c3C[N+](Cc3c3C[N+](C)(C)Cc2C1)(C)C)C'\n",
      "[17:16:16] SMILES Parse Error: unclosed ring for input: 'C[N+]1(C)Cc2c3C[N+](Cc3c3C[N+](C)(Cc2C1)C)(C)C'\n",
      "[17:16:16] SMILES Parse Error: unclosed ring for input: 'C[N+]1(C)Cc2c(C1)c1C[N+](Cc1c2C[N+](C)(Cc12)C)(C)C'\n",
      "[17:16:16] SMILES Parse Error: extra open parentheses for input: 'C[N+]1(Cc2c(c3C[N+](Cc4c2C[N+](C)(C)C1)C[N+](C3)(C)C)C'\n",
      "[17:16:16] Explicit valence for atom # 5 N, 4, is greater than permitted\n",
      "[17:16:16] SMILES Parse Error: extra open parentheses for input: 'C[N+]1(Cc2c(c3C[N+](Cc4c2C[N+](C)(C)C1)C[N+](C3)(C)C)C'\n",
      "[17:16:16] SMILES Parse Error: unclosed ring for input: 'C[N+]1(Cc2c(C1)c1C[N+](C)(Cc1c2C[N+](C)(C1)C)C)C'\n",
      "[17:16:16] SMILES Parse Error: unclosed ring for input: 'C[N+]1(Cc2c(C1)c1C[N+](C)(Cc1c2C[N+](C)(C)C1)C)C'\n",
      "[17:16:16] SMILES Parse Error: unclosed ring for input: 'c12c(C[N+](C)(C)C1)c1C[N+](Cc1c2C[N+](C)(Cc21)C)(C)C'\n",
      "[17:16:16] SMILES Parse Error: unclosed ring for input: 'C1[N+](C)(Cc2c3c(c4C[N+](Cc21)(C)C)C[N+](C)(C3)C)C'\n",
      "[17:16:16] SMILES Parse Error: unclosed ring for input: 'C1c2c(C[N+]1(C)C)c1c(c3C[N+](C)(Cc1c2C[N+](C)(C1)C)C)C'\n",
      "[17:16:16] SMILES Parse Error: unclosed ring for input: 'C[N+]1(Cc2c(C1)c1C[N+](Cc1c2C[N+](C1)(C)C)(C)C)C'\n",
      "[17:16:16] SMILES Parse Error: unclosed ring for input: 'c12c(C[N+](C1)(C)C)c1C[N+](Cc1c2C[N+](C)(C)C1)(C)C'\n",
      "[17:16:16] SMILES Parse Error: unclosed ring for input: 'c12C[N+](C)(Cc2c2C[N+](Cc1c1C[N+](C)(C)Cc2)C)C'\n",
      "[17:16:16] SMILES Parse Error: unclosed ring for input: 'c12c(c3c(C[N+](C3)(C)C)c3C[N+](Cc3c2C[N+](C)(C)C3)(C)C)C[N+](C)(C)C1'\n",
      "[17:16:16] SMILES Parse Error: extra open parentheses for input: 'C(CCCCCCCCCCCCCCCCCC[N+](CCCCCC[N+](C)(C)C12CC3CC(C2)CC(C3)C1)(C)C'\n",
      "[17:16:16] SMILES Parse Error: extra open parentheses for input: 'C(CC[N+]1(CC[N+](CCC)(CCC)CC1)CC'\n",
      "[17:16:16] SMILES Parse Error: unclosed ring for input: 'C(CCCCCCCCCCCCCCCCC)CC[N+](CCCCCC[N+](C)(C)C1)(C)C'\n",
      "[17:16:16] SMILES Parse Error: unclosed ring for input: 'C(CCCCCCCCCCCCCCCC[N+](CCCCCC[N+](C)(C)C1)(C)C)CCCC'\n",
      "[17:16:16] SMILES Parse Error: extra open parentheses for input: 'C(C[N+]1(CC[N+](CCC)(CCC)CC1)C'\n",
      "[17:16:16] SMILES Parse Error: extra open parentheses for input: 'C(CCCCCCCCCCCCCCCCCC[N+](CCCCCC[N+](C)(C)C12CC3CC(C2)CC(C3)C1)(C)C'\n",
      "[17:16:16] Can't kekulize mol.  Unkekulized atoms: 0 1 2 3 24 25 26\n",
      "[17:16:16] Can't kekulize mol.  Unkekulized atoms: 0 1 2 3 4 24 25\n",
      "[17:16:16] SMILES Parse Error: extra open parentheses for input: 'c1ccc([P+](c2ccccc2)(c2ccccc2)Ccccc1'\n",
      "[17:16:16] SMILES Parse Error: unclosed ring for input: 'C(CCCCCCCCCCCCCCCC[N+](CCCCCC[N+](C)(C)C1)(CCCCCC)C)C'\n",
      "[17:16:16] SMILES Parse Error: unclosed ring for input: 'C(CCCCCCCCCCCCCCCCCC[N+](CCCCCC[N+](C)(C)C1)(C)C)CC'\n",
      "[17:16:16] SMILES Parse Error: unclosed ring for input: 'C(CCCCCCCCCCCCCC)CCCCC[N+](CCCCCC[N+](C)(C)C1)(C)C'\n",
      "[17:16:16] SMILES Parse Error: extra open parentheses for input: 'C(CCCCCCCCCCCCCCCCCCCC[N+](C)(CCCCCC[N+](CCCCCC)(C)C)C'\n",
      "[17:16:16] Can't kekulize mol.  Unkekulized atoms: 0 1 2 3 11 12 13\n",
      "[17:16:16] SMILES Parse Error: extra open parentheses for input: 'C(C[N+]1(CCC(CC1)[N+]1(CCC)CCCC1)CCC'\n",
      "[17:16:16] Can't kekulize mol.  Unkekulized atoms: 0 1 2 3 11 12 13\n",
      "[17:16:16] Can't kekulize mol.  Unkekulized atoms: 0 1 2 20 21\n",
      "[17:16:16] Can't kekulize mol.  Unkekulized atoms: 0 1 2 7 8\n",
      "[17:16:16] Can't kekulize mol.  Unkekulized atoms: 0 1 3 4 5\n",
      "[17:16:16] SMILES Parse Error: extra open parentheses for input: 'C(C[N+]1(CCC(CC1)[N+]1(CCC)CCCC1)CCC'\n",
      "[17:16:16] SMILES Parse Error: unclosed ring for input: 'C1CC[N+](C)(C)C(C)CCC(C)[N+]2(C)CCCC2'\n",
      "[17:16:16] SMILES Parse Error: extra open parentheses for input: 'C(CCCCC[N+]1(CCC(CCCC2CC[N+](CC2)(CCCCCCC)C)CC1)C'\n",
      "[17:16:17] SMILES Parse Error: unclosed ring for input: 'O1C2(OC(CC)CC[N+](C)(CC2)C)CC'\n",
      "[17:16:17] SMILES Parse Error: extra open parentheses for input: 'C(CCCCCCCCCCCCCCCCCCCC[N+](C)(C)CCCCCC[N+](C)(C)CCCC'\n",
      "[17:16:17] SMILES Parse Error: unclosed ring for input: 'C1CC(CCCC2CC[N+](C)(C2)CCCCC)CC[N+]1(CCCC1)C'\n",
      "[17:16:17] SMILES Parse Error: extra open parentheses for input: 'C(CCCCC[N+]1(CCC(CCCC2CC[N+](CC2)(C)CCCCC)CC1)C'\n",
      "[17:16:17] SMILES Parse Error: extra open parentheses for input: 'C1C(N2CC([N+]1(CCCCCCC[N+]13CC(N(CC3)CC1)C)CC2)C'\n",
      "[17:16:17] SMILES Parse Error: unclosed ring for input: '[N+]12(CCCCCCCC[N+]34C(C)CN(C(C)C4)C)CCN(CC1)CC2'\n",
      "[17:16:17] SMILES Parse Error: extra open parentheses for input: 'C(CCCC[N+]1(CCC(CCCC2CC[N+](CC2)(C)CCCCCC)CC1)C'\n",
      "[17:16:17] Explicit valence for atom # 0 O, 3, is greater than permitted\n",
      "[17:16:17] SMILES Parse Error: unclosed ring for input: 'O1CC2CC[N+](CCC)(CCC)CC2'\n",
      "[17:16:17] SMILES Parse Error: extra open parentheses for input: 'C(CCCCCCCCCCCCCC[N+](CCCCCC[N+](C)(C)C1)(C)CCCCCC'\n",
      "[17:16:17] SMILES Parse Error: unclosed ring for input: 'C12CC3CC(C1)(n1cc[n+](C45CC6CC(CC(C5)C6)C6)c1)CC(C2)C3'\n",
      "[17:16:17] SMILES Parse Error: unclosed ring for input: 'C12CC3CC(CC(C2)(n2c[n+](C45CC6CC(C5)CC(C6)C6)cc2)C3)C1'\n",
      "[17:16:17] SMILES Parse Error: unclosed ring for input: 'C1C2CC3CC(C2)CC1(n1cc[n+](c1)C14CC5CC(CC(C5)C4)C2)C3'\n",
      "[17:16:17] SMILES Parse Error: unclosed ring for input: 'C1C2CC3(CC1CC(C2)C3)[n+]1cn(C23CC4CC(CC(C4)C2)C4)cc1'\n",
      "[17:16:17] SMILES Parse Error: unclosed ring for input: 'C1CCC[N+]2(C1)CCCC1C(C)(C)CC1C2CCC1'\n",
      "[17:16:17] SMILES Parse Error: unclosed ring for input: 'C1C2CC3CC(CC1([n+]1cn(C45CC6CC(C5)CC(C5)C6)cc1)C3)C2'\n",
      "[17:16:17] SMILES Parse Error: unclosed ring for input: 'C1C2CC(C1C2(C)C)CCC[N+]2(CC)CC'\n",
      "[17:16:17] Explicit valence for atom # 0 C, 5, is greater than permitted\n",
      "[17:16:17] SMILES Parse Error: unclosed ring for input: 'C12CC3CC(CC(C3)(C2)n2cc[n+](c2)C23CC4CC(CC(C4)C2)C5)C1'\n",
      "[17:16:17] SMILES Parse Error: unclosed ring for input: 'C1C2CC3CC(CC1(C3)[n+]1ccn(c1)C13CC4CC(CC(C4)C5)C1)C2'\n",
      "[17:16:17] SMILES Parse Error: unclosed ring for input: 'C1C2CC3CC([n+]4cn(C56CC7CC(C5)CC(C7)C7)cc4)(CC(C2)C3)C1'\n",
      "[17:16:17] SMILES Parse Error: unclosed ring for input: 'C1C2CC3CC1CC(C2)([n+]1ccn(c1)C14CC5CC(CC(C5)C4)C2)C3'\n",
      "[17:16:17] SMILES Parse Error: extra close parentheses while parsing: C12C(C[N+](CC)(C1)C(C)C)C1C=CC2C2C1C[N+](CC)(C2)CC)CC\n",
      "[17:16:17] SMILES Parse Error: Failed parsing SMILES 'C12C(C[N+](CC)(C1)C(C)C)C1C=CC2C2C1C[N+](CC)(C2)CC)CC' for input: 'C12C(C[N+](CC)(C1)C(C)C)C1C=CC2C2C1C[N+](CC)(C2)CC)CC'\n",
      "[17:16:17] SMILES Parse Error: extra close parentheses while parsing: C1C[N+](CC)(CC)CC2C1C1C3C(C[N+](CC)(CC)C3)C2C=C1)CC\n",
      "[17:16:17] SMILES Parse Error: Failed parsing SMILES 'C1C[N+](CC)(CC)CC2C1C1C3C(C[N+](CC)(CC)C3)C2C=C1)CC' for input: 'C1C[N+](CC)(CC)CC2C1C1C3C(C[N+](CC)(CC)C3)C2C=C1)CC'\n",
      "[17:16:17] SMILES Parse Error: unclosed ring for input: 'C1CCCC[N+]1(CC)CC2C3C[N+](CC)(CC)CC3C1C=C2'\n",
      "[17:16:17] SMILES Parse Error: unclosed ring for input: 'C1CCCC[N+]1(C1CC2CC(C1)C2CCCC[N+]1(C)CCC2)C'\n",
      "[17:16:17] SMILES Parse Error: unclosed ring for input: 'C1CC[N+](CC1)(CC)C1CC2CC(C1)[N+]1(C2CCCCC1CC2)C'\n",
      "[17:16:17] SMILES Parse Error: unclosed ring for input: 'C1CC[N+]2(C1)CN'\n",
      "[17:16:17] SMILES Parse Error: unclosed ring for input: 'N12CN3CN(C[N+](C3)(C)CC)C1'\n",
      "[17:16:17] SMILES Parse Error: extra close parentheses while parsing: [N+](C)(C)(C)CCCCC)CN(C)C\n",
      "[17:16:17] SMILES Parse Error: Failed parsing SMILES '[N+](C)(C)(C)CCCCC)CN(C)C' for input: '[N+](C)(C)(C)CCCCC)CN(C)C'\n",
      "[17:16:17] SMILES Parse Error: unclosed ring for input: 'C1CCC2CCCC2C1C[N+](C)(C2)C'\n",
      "[17:16:17] Can't kekulize mol.  Unkekulized atoms: 0 14 15 16 17\n",
      "[17:16:17] Can't kekulize mol.  Unkekulized atoms: 0 1 10 11 12 13 14\n",
      "[17:16:17] SMILES Parse Error: unclosed ring for input: 'C1CC2(C[N+]1(Cc1ccccc1)C)C[N+](C)(C2CCC1CCC2)C'\n",
      "[17:16:17] Can't kekulize mol.  Unkekulized atoms: 0 1 12 13 14 25 26\n",
      "[17:16:17] Can't kekulize mol.  Unkekulized atoms: 0 1 10 11 12 13 14\n",
      "[17:16:17] Can't kekulize mol.  Unkekulized atoms: 0 1 2 3 26 27 28\n",
      "[17:16:17] Can't kekulize mol.  Unkekulized atoms: 0 9 10 11 12 13 14\n",
      "[17:16:17] Can't kekulize mol.  Unkekulized atoms: 0 1 10 11 12 13 14\n",
      "[17:16:17] Can't kekulize mol.  Unkekulized atoms: 0 1 2 3 4 13 14\n",
      "[17:16:17] SMILES Parse Error: unclosed ring for input: 'C1CCC2[N+](C)(C1)C1CC([N+]3(C(CCCC3)C)C2)CC2C1'\n",
      "[17:16:17] Explicit valence for atom # 5 N, 4, is greater than permitted\n",
      "[17:16:17] Can't kekulize mol.  Unkekulized atoms: 0 1 2 3 4 13 14\n",
      "[17:16:17] Can't kekulize mol.  Unkekulized atoms: 0 1 10 11 12 13 14\n",
      "[17:16:17] Can't kekulize mol.  Unkekulized atoms: 0 1 2 3 4 13 14\n",
      "[17:16:17] Can't kekulize mol.  Unkekulized atoms: 0 1 2 25 26 27 28\n",
      "[17:16:17] Can't kekulize mol.  Unkekulized atoms: 0 1 2 3 16\n",
      "[17:16:17] Can't kekulize mol.  Unkekulized atoms: 0 1 2 5 6\n",
      "[17:16:17] SMILES Parse Error: extra close parentheses while parsing: C(CCCCCCCCCCCCC)CC[N+](CCCCCC[N+](C)(C)Cc1ccc(cc1)C[N+](CCCCCC[N+](C)(C)CCCCCCCCCCCC)C)(C)C)C\n",
      "[17:16:17] SMILES Parse Error: Failed parsing SMILES 'C(CCCCCCCCCCCCC)CC[N+](CCCCCC[N+](C)(C)Cc1ccc(cc1)C[N+](CCCCCC[N+](C)(C)CCCCCCCCCCCC)C)(C)C)C' for input: 'C(CCCCCCCCCCCCC)CC[N+](CCCCCC[N+](C)(C)Cc1ccc(cc1)C[N+](CCCCCC[N+](C)(C)CCCCCCCCCCCC)C)(C)C)C'\n",
      "[17:16:17] SMILES Parse Error: extra close parentheses while parsing: C(CCCCCCCCCCCCC)CC[N+](C)(CCCCCC[N+](C)(C)Cc1ccc(C[N+](C)(CCCCC[N+](CCCCCCCCCCCC)C)(C)C)cc1)C)C\n",
      "[17:16:17] SMILES Parse Error: Failed parsing SMILES 'C(CCCCCCCCCCCCC)CC[N+](C)(CCCCCC[N+](C)(C)Cc1ccc(C[N+](C)(CCCCC[N+](CCCCCCCCCCCC)C)(C)C)cc1)C)C' for input: 'C(CCCCCCCCCCCCC)CC[N+](C)(CCCCCC[N+](C)(C)Cc1ccc(C[N+](C)(CCCCC[N+](CCCCCCCCCCCC)C)(C)C)cc1)C)C'\n",
      "[17:16:17] SMILES Parse Error: extra open parentheses for input: 'C(CCCCCCCCCCCCCC)C[N+](C)(C)CCCC[N+](C)(Cc1ccc(cc1)C[N+](C)(CCCCCC[N+](C)(CCCCCCCCCCCCCC)C)C'\n",
      "[17:16:17] SMILES Parse Error: extra close parentheses while parsing: C(CCCCCCCCCCCCC)CC[N+](C)(C)CCCCCC[N+](C)(C)CCCCCC[N+](C)(C)CCCCCC[N+](CCCCCCCCCCCCC)(C)C)C\n",
      "[17:16:17] SMILES Parse Error: Failed parsing SMILES 'C(CCCCCCCCCCCCC)CC[N+](C)(C)CCCCCC[N+](C)(C)CCCCCC[N+](C)(C)CCCCCC[N+](CCCCCCCCCCCCC)(C)C)C' for input: 'C(CCCCCCCCCCCCC)CC[N+](C)(C)CCCCCC[N+](C)(C)CCCCCC[N+](C)(C)CCCCCC[N+](CCCCCCCCCCCCC)(C)C)C'\n",
      "[17:16:17] Explicit valence for atom # 24 N, 4, is greater than permitted\n",
      "[17:16:17] SMILES Parse Error: extra close parentheses while parsing: C(CCCCCCCCCCCCC)CC[N+](C)(CCCCCC[N+](C)(C)CCCCCC[N+](C)(C)CCCCCC[N+](C)(CCCCCCCCCCCCC)C)C)C\n",
      "[17:16:17] SMILES Parse Error: Failed parsing SMILES 'C(CCCCCCCCCCCCC)CC[N+](C)(CCCCCC[N+](C)(C)CCCCCC[N+](C)(C)CCCCCC[N+](C)(CCCCCCCCCCCCC)C)C)C' for input: 'C(CCCCCCCCCCCCC)CC[N+](C)(CCCCCC[N+](C)(C)CCCCCC[N+](C)(C)CCCCCC[N+](C)(CCCCCCCCCCCCC)C)C)C'\n",
      "[17:16:17] SMILES Parse Error: extra close parentheses while parsing: C(CCCCCCCCCCCCCC)C[N+](C)(C)CCCCCC[N+](C)(CCCCCC[N+](C)(CCCCCC[N+](CCCCCCCCCCCCC)(C)C)C)C)C\n",
      "[17:16:17] SMILES Parse Error: Failed parsing SMILES 'C(CCCCCCCCCCCCCC)C[N+](C)(C)CCCCCC[N+](C)(CCCCCC[N+](C)(CCCCCC[N+](CCCCCCCCCCCCC)(C)C)C)C)C' for input: 'C(CCCCCCCCCCCCCC)C[N+](C)(C)CCCCCC[N+](C)(CCCCCC[N+](C)(CCCCCC[N+](CCCCCCCCCCCCC)(C)C)C)C)C'\n",
      "[17:16:17] SMILES Parse Error: extra close parentheses while parsing: C(CCCCCCCCCCC)CCCC[N+](C)(CCCCCC[N+](C)(C)Cc1ccc(cc1)C[N+](CCCCCC[N+](CCCCCCCCCCCCCC)(C)C)C)C)C\n",
      "[17:16:17] SMILES Parse Error: Failed parsing SMILES 'C(CCCCCCCCCCC)CCCC[N+](C)(CCCCCC[N+](C)(C)Cc1ccc(cc1)C[N+](CCCCCC[N+](CCCCCCCCCCCCCC)(C)C)C)C)C' for input: 'C(CCCCCCCCCCC)CCCC[N+](C)(CCCCCC[N+](C)(C)Cc1ccc(cc1)C[N+](CCCCCC[N+](CCCCCCCCCCCCCC)(C)C)C)C)C'\n",
      "[17:16:17] SMILES Parse Error: extra close parentheses while parsing: C(CCCCCCCCCCCCC)CC[N+](CCCCCC[N+](C)(C)Cc1ccc(cc1)C[N+](C)(CCCCCC[N+](C)(C)C)C)(C)C)CCC[N+](C)(C)C\n",
      "[17:16:17] SMILES Parse Error: Failed parsing SMILES 'C(CCCCCCCCCCCCC)CC[N+](CCCCCC[N+](C)(C)Cc1ccc(cc1)C[N+](C)(CCCCCC[N+](C)(C)C)C)(C)C)CCC[N+](C)(C)C' for input: 'C(CCCCCCCCCCCCC)CC[N+](CCCCCC[N+](C)(C)Cc1ccc(cc1)C[N+](C)(CCCCCC[N+](C)(C)C)C)(C)C)CCC[N+](C)(C)C'\n",
      "[17:16:17] SMILES Parse Error: unclosed ring for input: 'C(CCCCCCCCCCCCCC[N+](C)(C)CCCCCC[N+](C)(C)CCCCCC[N+](C)(C)CCCCCC[N+](CCCCCCCCCCCCC)(C)C)cc1'\n",
      "[17:16:17] SMILES Parse Error: extra close parentheses while parsing: C(CCCCCCCCCCCCCCC[N+](C)(Cc1ccc(C[N+](C)(CCCCCC[N+](C)(C)Cc2ccc(C[N+](CCCC[N+](C)(C)C)cc2)C)cc1)C)C)C)C\n",
      "[17:16:17] SMILES Parse Error: Failed parsing SMILES 'C(CCCCCCCCCCCCCCC[N+](C)(Cc1ccc(C[N+](C)(CCCCCC[N+](C)(C)Cc2ccc(C[N+](CCCC[N+](C)(C)C)cc2)C)cc1)C)C)C)C' for input: 'C(CCCCCCCCCCCCCCC[N+](C)(Cc1ccc(C[N+](C)(CCCCCC[N+](C)(C)Cc2ccc(C[N+](CCCC[N+](C)(C)C)cc2)C)cc1)C)C)C)C'\n",
      "[17:16:17] Explicit valence for atom # 16 N, 4, is greater than permitted\n",
      "[17:16:17] SMILES Parse Error: extra close parentheses while parsing: [N+](C)(CCCCCC[N+](C)(Cc1ccc(C[N+](CCCCCC[N+](C)(C)C)cc1)C)C)(C)CCCCCC[N+](C)(Cc1ccccc1)C)C\n",
      "[17:16:17] SMILES Parse Error: Failed parsing SMILES '[N+](C)(CCCCCC[N+](C)(Cc1ccc(C[N+](CCCCCC[N+](C)(C)C)cc1)C)C)(C)CCCCCC[N+](C)(Cc1ccccc1)C)C' for input: '[N+](C)(CCCCCC[N+](C)(Cc1ccc(C[N+](CCCCCC[N+](C)(C)C)cc1)C)C)(C)CCCCCC[N+](C)(Cc1ccccc1)C)C'\n",
      "[17:16:17] Can't kekulize mol.  Unkekulized atoms: 29 30 31 56 57\n",
      "[17:16:17] SMILES Parse Error: extra close parentheses while parsing: c1cc(C[N+](C)(C)CCCCCC[N+](C)(C)Cc2ccc(C[N+](C)(C)CCCCC[N+](C)(C)C)cc1)CCCC[N+](C)(C)CCCCC[N+](C)(C)C)C\n",
      "[17:16:17] SMILES Parse Error: Failed parsing SMILES 'c1cc(C[N+](C)(C)CCCCCC[N+](C)(C)Cc2ccc(C[N+](C)(C)CCCCC[N+](C)(C)C)cc1)CCCC[N+](C)(C)CCCCC[N+](C)(C)C)C' for input: 'c1cc(C[N+](C)(C)CCCCCC[N+](C)(C)Cc2ccc(C[N+](C)(C)CCCCC[N+](C)(C)C)cc1)CCCC[N+](C)(C)CCCCC[N+](C)(C)C)C'\n",
      "[17:16:17] SMILES Parse Error: extra close parentheses while parsing: C(CCCCCCCCCCCCCC[N+](C)(C)CCCCCC[N+](C)(C)CCCCCC[N+](C)(C)CCCCCC[N+](CCCCCCCCCCCCC)(C)C)C)C\n",
      "[17:16:17] SMILES Parse Error: Failed parsing SMILES 'C(CCCCCCCCCCCCCC[N+](C)(C)CCCCCC[N+](C)(C)CCCCCC[N+](C)(C)CCCCCC[N+](CCCCCCCCCCCCC)(C)C)C)C' for input: 'C(CCCCCCCCCCCCCC[N+](C)(C)CCCCCC[N+](C)(C)CCCCCC[N+](C)(C)CCCCCC[N+](CCCCCCCCCCCCC)(C)C)C)C'\n",
      "[17:16:17] SMILES Parse Error: extra open parentheses for input: 'C(CCCCCCCCCCCCCC[N+](C)(C)Cc1ccc(cc1)C[N+](C)(CCCCCC[N+](C)(Cc1ccc(C[N+](C)(C)CCCCCC[N+](C)(C)C)C)C)(C)C'\n",
      "[17:16:17] SMILES Parse Error: extra close parentheses while parsing: C(CC[N+](C)(C)C)C[N+](Cc1ccc(C[N+](C)(C)CCCCC[N+](C)(C)C)cc1)(C)CCCCC[N+](CCCCCCCCCCCCCC)(C)C)(C)C\n",
      "[17:16:17] SMILES Parse Error: Failed parsing SMILES 'C(CC[N+](C)(C)C)C[N+](Cc1ccc(C[N+](C)(C)CCCCC[N+](C)(C)C)cc1)(C)CCCCC[N+](CCCCCCCCCCCCCC)(C)C)(C)C' for input: 'C(CC[N+](C)(C)C)C[N+](Cc1ccc(C[N+](C)(C)CCCCC[N+](C)(C)C)cc1)(C)CCCCC[N+](CCCCCCCCCCCCCC)(C)C)(C)C'\n",
      "[17:16:17] SMILES Parse Error: extra close parentheses while parsing: C(CCCCCCCCCCCCCCCC[N+](CCCCCC[N+](C)(CCCCCC[N+](C)(C)CCCCCC[N+](CCCCCCCC)(C)C)C)(C)C)C)CCCCC\n",
      "[17:16:17] SMILES Parse Error: Failed parsing SMILES 'C(CCCCCCCCCCCCCCCC[N+](CCCCCC[N+](C)(CCCCCC[N+](C)(C)CCCCCC[N+](CCCCCCCC)(C)C)C)(C)C)C)CCCCC' for input: 'C(CCCCCCCCCCCCCCCC[N+](CCCCCC[N+](C)(CCCCCC[N+](C)(C)CCCCCC[N+](CCCCCCCC)(C)C)C)(C)C)C)CCCCC'\n",
      "[17:16:17] SMILES Parse Error: extra close parentheses while parsing: c1cccc(c1C[N+](C)(CCCCCC[N+](C)(C)Cc1ccc(cc1)C[N+](C)(CCCCCC[N+](C)(C)C)C)C[N+](C)(C)C)CCCC[N+](C)(C)C)C\n",
      "[17:16:17] SMILES Parse Error: Failed parsing SMILES 'c1cccc(c1C[N+](C)(CCCCCC[N+](C)(C)Cc1ccc(cc1)C[N+](C)(CCCCCC[N+](C)(C)C)C)C[N+](C)(C)C)CCCC[N+](C)(C)C)C' for input: 'c1cccc(c1C[N+](C)(CCCCCC[N+](C)(C)Cc1ccc(cc1)C[N+](C)(CCCCCC[N+](C)(C)C)C)C[N+](C)(C)C)CCCC[N+](C)(C)C)C'\n",
      "[17:16:17] Explicit valence for atom # 16 N, 4, is greater than permitted\n",
      "[17:16:17] SMILES Parse Error: extra open parentheses for input: 'C(CCCCCCCCCC[N+](C)(CCCCCC[N+](C)(C)Cc1ccc(cc1)C[N+](C)(CCCCCC[N+](C)(C)C)C)C)[N+](CCCCCCCCCCCCCCC'\n",
      "[17:16:17] Can't kekulize mol.  Unkekulized atoms: 0 34 35 36 37 50 51\n",
      "[17:16:17] Explicit valence for atom # 24 N, 4, is greater than permitted\n",
      "[17:16:17] SMILES Parse Error: extra close parentheses while parsing: c1(C[N+](C)(CCCCCC[N+](C)(C)Cc2ccc(cc2)C[N+](C)(CCCCCC[N+](C)(C)C)C)C)ccccc(cc1)C[N+](CCC)(C)C)C\n",
      "[17:16:17] SMILES Parse Error: Failed parsing SMILES 'c1(C[N+](C)(CCCCCC[N+](C)(C)Cc2ccc(cc2)C[N+](C)(CCCCCC[N+](C)(C)C)C)C)ccccc(cc1)C[N+](CCC)(C)C)C' for input: 'c1(C[N+](C)(CCCCCC[N+](C)(C)Cc2ccc(cc2)C[N+](C)(CCCCCC[N+](C)(C)C)C)C)ccccc(cc1)C[N+](CCC)(C)C)C'\n",
      "[17:16:17] SMILES Parse Error: extra close parentheses while parsing: C(CCCCCCCCCCCC)CCC[N+](C)(CCCCCC[N+](C)(CCCCCC[N+](C)(CCCCCC[N+](C)(CCCCCCCCCCCC)C)C)(C)C)C)C\n",
      "[17:16:17] SMILES Parse Error: Failed parsing SMILES 'C(CCCCCCCCCCCC)CCC[N+](C)(CCCCCC[N+](C)(CCCCCC[N+](C)(CCCCCC[N+](C)(CCCCCCCCCCCC)C)C)(C)C)C)C' for input: 'C(CCCCCCCCCCCC)CCC[N+](C)(CCCCCC[N+](C)(CCCCCC[N+](C)(CCCCCC[N+](C)(CCCCCCCCCCCC)C)C)(C)C)C)C'\n",
      "[17:16:17] Explicit valence for atom # 8 N, 4, is greater than permitted\n",
      "[17:16:17] Explicit valence for atom # 8 N, 4, is greater than permitted\n",
      "[17:16:17] SMILES Parse Error: extra open parentheses for input: 'C(CCCCCCCCCCCCCC)CCC[N+](C)(C)CCCC[N+](C)(Cc1ccc(C[N+](CCCC[N+](CCCCCCCCCCCCCC)(C)C)(C)C)cc1'\n",
      "[17:16:17] SMILES Parse Error: extra close parentheses while parsing: C(CCCCCCCCCCCCCC[N+](C)(C)CCCCCC[N+](C)(C)Cc1ccc(C[N+](C)(CCCCC[N+](CCCCCCCCCCCC)(C)C)C)cc1)C)CCCC\n",
      "[17:16:17] SMILES Parse Error: Failed parsing SMILES 'C(CCCCCCCCCCCCCC[N+](C)(C)CCCCCC[N+](C)(C)Cc1ccc(C[N+](C)(CCCCC[N+](CCCCCCCCCCCC)(C)C)C)cc1)C)CCCC' for input: 'C(CCCCCCCCCCCCCC[N+](C)(C)CCCCCC[N+](C)(C)Cc1ccc(C[N+](C)(CCCCC[N+](CCCCCCCCCCCC)(C)C)C)cc1)C)CCCC'\n",
      "[17:16:17] SMILES Parse Error: extra close parentheses while parsing: c1c(C[N+](C)(CCCCCC[N+](C)(C)Cc2ccc(C[N+](CCCCCC[N+](C)(C)C)cc2)C)ccc(c1)C[N+](C)(C)C)CCCCC[N+](C)(C)C)C\n",
      "[17:16:17] SMILES Parse Error: Failed parsing SMILES 'c1c(C[N+](C)(CCCCCC[N+](C)(C)Cc2ccc(C[N+](CCCCCC[N+](C)(C)C)cc2)C)ccc(c1)C[N+](C)(C)C)CCCCC[N+](C)(C)C)C' for input: 'c1c(C[N+](C)(CCCCCC[N+](C)(C)Cc2ccc(C[N+](CCCCCC[N+](C)(C)C)cc2)C)ccc(c1)C[N+](C)(C)C)CCCCC[N+](C)(C)C)C'\n",
      "[17:16:17] SMILES Parse Error: extra close parentheses while parsing: C[N+](CCCCCC[N+](C)(C)Cc1ccc(cc1)C[N+](C)(C)CCCCCC[N+](C)(C)Cc1ccc(cc1)C[N+](CCCCCC[N+](C)(C)C)C)(C)C)(C)C\n",
      "[17:16:17] SMILES Parse Error: Failed parsing SMILES 'C[N+](CCCCCC[N+](C)(C)Cc1ccc(cc1)C[N+](C)(C)CCCCCC[N+](C)(C)Cc1ccc(cc1)C[N+](CCCCCC[N+](C)(C)C)C)(C)C)(C)C' for input: 'C[N+](CCCCCC[N+](C)(C)Cc1ccc(cc1)C[N+](C)(C)CCCCCC[N+](C)(C)Cc1ccc(cc1)C[N+](CCCCCC[N+](C)(C)C)C)(C)C)(C)C'\n",
      "[17:16:17] SMILES Parse Error: extra close parentheses while parsing: [N+](C)(CCCCCC[N+](C)(C)C)(C)Cc1ccc(C[N+](C)(CCCCCC[N+](C)(C)C)cc1)C[N+](C)(CCCCCC[N+](C)(C)C)C)C\n",
      "[17:16:17] SMILES Parse Error: Failed parsing SMILES '[N+](C)(CCCCCC[N+](C)(C)C)(C)Cc1ccc(C[N+](C)(CCCCCC[N+](C)(C)C)cc1)C[N+](C)(CCCCCC[N+](C)(C)C)C)C' for input: '[N+](C)(CCCCCC[N+](C)(C)C)(C)Cc1ccc(C[N+](C)(CCCCCC[N+](C)(C)C)cc1)C[N+](C)(CCCCCC[N+](C)(C)C)C)C'\n",
      "[17:16:17] SMILES Parse Error: extra close parentheses while parsing: C[N+](CCCCCC[N+](C)(C)Cc1ccc(C[N+](C)(CCCCCC[N+](C)(Cc2ccc(cc2)C[N+](CCCC[N+](C)(C)C)C)(C)C)C)C)cc1)(C)C\n",
      "[17:16:17] SMILES Parse Error: Failed parsing SMILES 'C[N+](CCCCCC[N+](C)(C)Cc1ccc(C[N+](C)(CCCCCC[N+](C)(Cc2ccc(cc2)C[N+](CCCC[N+](C)(C)C)C)(C)C)C)C)cc1)(C)C' for input: 'C[N+](CCCCCC[N+](C)(C)Cc1ccc(C[N+](C)(CCCCCC[N+](C)(Cc2ccc(cc2)C[N+](CCCC[N+](C)(C)C)C)(C)C)C)C)cc1)(C)C'\n",
      "[17:16:17] SMILES Parse Error: extra close parentheses while parsing: C(CCCCCCCCCCCCC[N+](C)(C)CCCCCC[N+](CCCCCC[N+](C)(CCCCCC[N+](CCCCCCCCCCC)C)(C)C)(C)C)C)CCCCC\n",
      "[17:16:17] SMILES Parse Error: Failed parsing SMILES 'C(CCCCCCCCCCCCC[N+](C)(C)CCCCCC[N+](CCCCCC[N+](C)(CCCCCC[N+](CCCCCCCCCCC)C)(C)C)(C)C)C)CCCCC' for input: 'C(CCCCCCCCCCCCC[N+](C)(C)CCCCCC[N+](CCCCCC[N+](C)(CCCCCC[N+](CCCCCCCCCCC)C)(C)C)(C)C)C)CCCCC'\n",
      "[17:16:17] SMILES Parse Error: extra open parentheses for input: 'C(CCCCCCCCCCCCCC[N+](CCCCCC[N+](C)(C)CCCCCC[N+](C)(C)CCCCCC[N+](C)(C)C)[N+](C)(C)CCCCCCCCCCC'\n",
      "[17:16:17] SMILES Parse Error: extra close parentheses while parsing: C(CCCCCCCCCCCCCCC[N+](C)(CCCCCC[N+](C)(CCCCCC[N+](CCCCCC[N+](C)(C)C)C)C)C)CCCC[N+](CCCCCCCCCCCCC)(C)C)(C)C\n",
      "[17:16:17] SMILES Parse Error: Failed parsing SMILES 'C(CCCCCCCCCCCCCCC[N+](C)(CCCCCC[N+](C)(CCCCCC[N+](CCCCCC[N+](C)(C)C)C)C)C)CCCC[N+](CCCCCCCCCCCCC)(C)C)(C)C' for input: 'C(CCCCCCCCCCCCCCC[N+](C)(CCCCCC[N+](C)(CCCCCC[N+](CCCCCC[N+](C)(C)C)C)C)C)CCCC[N+](CCCCCCCCCCCCC)(C)C)(C)C'\n",
      "[17:16:17] Explicit valence for atom # 24 N, 4, is greater than permitted\n",
      "[17:16:17] SMILES Parse Error: extra open parentheses for input: 'C(CCCCCCCCCCCCC)CC[N+](CCCCCC[N+](C)(Cc1ccc(C[N+](C)(CCCCCC[N+](C)(CCCCCCCCCCCCCC)C)C)cc1)(C)C'\n",
      "[17:16:17] SMILES Parse Error: extra close parentheses while parsing: C(CCCCCCCCCCC[N+](C)(CCCCCC[N+](C)(Cc1ccc(cc1)C[N+](CCCCCC[N+](C)(C)CCCCCCCCCCCCCC)(C)C)C)C)C)CCCC\n",
      "[17:16:17] SMILES Parse Error: Failed parsing SMILES 'C(CCCCCCCCCCC[N+](C)(CCCCCC[N+](C)(Cc1ccc(cc1)C[N+](CCCCCC[N+](C)(C)CCCCCCCCCCCCCC)(C)C)C)C)C)CCCC' for input: 'C(CCCCCCCCCCC[N+](C)(CCCCCC[N+](C)(Cc1ccc(cc1)C[N+](CCCCCC[N+](C)(C)CCCCCCCCCCCCCC)(C)C)C)C)C)CCCC'\n",
      "[17:16:17] SMILES Parse Error: unclosed ring for input: 'C1CC(CCCC2CC[N+](C)(CC2)CC2CC[N+](CC2)(CC2CCCCC)C)CC1'\n",
      "[17:16:17] Can't kekulize mol.  Unkekulized atoms: 0 9 10 11 12 13 14\n",
      "[17:16:17] Can't kekulize mol.  Unkekulized atoms: 0 1 2 9 10\n",
      "[17:16:17] Can't kekulize mol.  Unkekulized atoms: 28 29 30 31 32\n",
      "[17:16:17] Can't kekulize mol.  Unkekulized atoms: 0 1 24 25 26 27 28\n",
      "[17:16:17] Can't kekulize mol.  Unkekulized atoms: 0 1 2 25 26 27 28\n",
      "[17:16:17] Can't kekulize mol.  Unkekulized atoms: 0 1 24 25 26 27 28\n",
      "[17:16:17] Can't kekulize mol.  Unkekulized atoms: 0 1 11 12 13 14 15\n",
      "[17:16:17] SMILES Parse Error: extra open parentheses for input: 'c1ccc(C[N+](C)(CC2CC[N+](C)(CC2)C)ccc1'\n",
      "[17:16:17] Can't kekulize mol.  Unkekulized atoms: 0 1 2 3 4 16 17\n",
      "[17:16:17] SMILES Parse Error: unclosed ring for input: 'C1C2CC3CC(CC4CCCCN2CCCC1)[N+]3(CCCC1)C'\n",
      "[17:16:17] SMILES Parse Error: extra open parentheses for input: 'c1cc(C[N+](CC2CC[N+](C)(CC2)C)ccc1'\n",
      "[17:16:17] SMILES Parse Error: unclosed ring for input: 'C1C2[N+]3(CC(CC3)NCCCCC2C3)CCCC1'\n",
      "[17:16:17] Can't kekulize mol.  Unkekulized atoms: 0 1 2 3 4 16 17\n",
      "[17:16:17] SMILES Parse Error: unclosed ring for input: 'C12CC3[N+](C)(C(CC4[N+]2(C)CCCC1)C3)CCCC3'\n",
      "[17:16:17] SMILES Parse Error: extra open parentheses for input: 'C([N+]1(CCC(CCCCCC2CC[N+](CC2)(Cc2ccccc2)C)CC1)c1ccccc1'\n",
      "[17:16:17] SMILES Parse Error: extra close parentheses while parsing: C1[N+](C)(CC)CC2C1C1C=CC2C2C[N+](CC)(CC12)CC)CC\n",
      "[17:16:17] SMILES Parse Error: Failed parsing SMILES 'C1[N+](C)(CC)CC2C1C1C=CC2C2C[N+](CC)(CC12)CC)CC' for input: 'C1[N+](C)(CC)CC2C1C1C=CC2C2C[N+](CC)(CC12)CC)CC'\n",
      "[17:16:17] Can't kekulize mol.  Unkekulized atoms: 0 1 2 3 6 7 14 15 16 19 20 21 22 23 24\n",
      "[17:16:17] SMILES Parse Error: unclosed ring for input: 'c1cccc2c1Cn1c[n+](CCCCCC[n+]3ccn(Cc4ccccc4)cc3)cc1'\n",
      "[17:16:17] Can't kekulize mol.  Unkekulized atoms: 16 17 18 27 28\n",
      "[17:16:17] SMILES Parse Error: unclosed ring for input: 'C1CCC2CC[N+](C)(CC2)Cc2ccc(C[N+]3(C)CCC(CCC3)CC2)cc2ccc1'\n",
      "[17:16:17] SMILES Parse Error: extra open parentheses for input: 'n12c[n+](CCCCCC[n+]3cn(Cc4ccc(Cn(CC)c1)cc4)cc2'\n",
      "[17:16:17] SMILES Parse Error: unclosed ring for input: 'C1CCC2CC[N+](CC2)(C)Cc2ccc(C[N+]3(C)CCC(CCC2)CC3)cc2ccc1'\n",
      "[17:16:17] Can't kekulize mol.  Unkekulized atoms: 17 18 27\n",
      "[17:16:17] SMILES Parse Error: extra close parentheses while parsing: C1CC2CC[N+](CC2)(C)Cc2ccc(C[N+]3(CCC(CCC2)CC3)C)cc2)CC1\n",
      "[17:16:17] SMILES Parse Error: Failed parsing SMILES 'C1CC2CC[N+](CC2)(C)Cc2ccc(C[N+]3(CCC(CCC2)CC3)C)cc2)CC1' for input: 'C1CC2CC[N+](CC2)(C)Cc2ccc(C[N+]3(CCC(CCC2)CC3)C)cc2)CC1'\n",
      "[17:16:17] SMILES Parse Error: unclosed ring for input: 'c1ccccc1Cn1cc[n+](CCCCCC[n+]2ccn(Cc3ccccc3)c1)c1'\n",
      "[17:16:17] SMILES Parse Error: unclosed ring for input: 'C1C2CC[N+](CC2)(Cc2ccc(C[N+]3(C)CCC(CCC2)CC3)cc2)CC1'\n",
      "[17:16:17] SMILES Parse Error: unclosed ring for input: 'C1C[N+]2(CCC(CCCC3CC[N+](CC3)(Cc3ccc1)C)CC2)C'\n",
      "[17:16:17] SMILES Parse Error: unclosed ring for input: 'C12C3C4C(C(C=C3)C1C[N+](CC)(C(C)C)CC)C[N+](CC)(C2)C(C)C'\n",
      "[17:16:17] SMILES Parse Error: unclosed ring for input: 'C12C3C=CC(C1C[N+](CC)(CC)C(C)C)C1C2C[N+](C1)(CC)C(C)C'\n",
      "[17:16:17] SMILES Parse Error: extra close parentheses while parsing: C(C)(C)[N+]1(CC)CC2C(C1)C1C3C[N+](CC)(CC)CC3C2C=C1)CC\n",
      "[17:16:17] SMILES Parse Error: Failed parsing SMILES 'C(C)(C)[N+]1(CC)CC2C(C1)C1C3C[N+](CC)(CC)CC3C2C=C1)CC' for input: 'C(C)(C)[N+]1(CC)CC2C(C1)C1C3C[N+](CC)(CC)CC3C2C=C1)CC'\n",
      "[17:16:17] SMILES Parse Error: extra open parentheses for input: 'C(C)([N+]1(CCC2C(C1)C1C3C(C[N+](C(C)C)(CCC)CC3C2C=C1)CCCC)CCC'\n",
      "[17:16:17] SMILES Parse Error: extra open parentheses for input: 'C12(C)CC3(CC(CC(C3)(C1)C)C2[NH3+]'\n",
      "[17:16:17] SMILES Parse Error: unclosed ring for input: 'C1C2(C)CC3(CC(C)(CC1C3)C)[NH3+]'\n",
      "[17:16:17] SMILES Parse Error: extra open parentheses for input: 'c1ccc(cc1C[n+]1c(n(cc1)CCC)C'\n",
      "[17:16:17] SMILES Parse Error: extra close parentheses while parsing: C(CCCCCCCCCCCCCCCC[N+](CCCC[N+](C12CC3CC(CC(C3)C2)C1)(C)C)(C)C)C)CCCC\n",
      "[17:16:17] SMILES Parse Error: Failed parsing SMILES 'C(CCCCCCCCCCCCCCCC[N+](CCCC[N+](C12CC3CC(CC(C3)C2)C1)(C)C)(C)C)C)CCCC' for input: 'C(CCCCCCCCCCCCCCCC[N+](CCCC[N+](C12CC3CC(CC(C3)C2)C1)(C)C)(C)C)C)CCCC'\n",
      "[17:16:17] SMILES Parse Error: extra close parentheses while parsing: C(CCCCCCCCCCCCCCCC[N+](C)(CCCC[N+](C12CC3CC(CC(C3)C1)C2)(C)C)C)C)CCCC\n",
      "[17:16:17] SMILES Parse Error: Failed parsing SMILES 'C(CCCCCCCCCCCCCCCC[N+](C)(CCCC[N+](C12CC3CC(CC(C3)C1)C2)(C)C)C)C)CCCC' for input: 'C(CCCCCCCCCCCCCCCC[N+](C)(CCCC[N+](C12CC3CC(CC(C3)C1)C2)(C)C)C)C)CCCC'\n",
      "[17:16:17] SMILES Parse Error: extra close parentheses while parsing: C(CCCCCCCCCCCCCCCC[N+](CCCC[N+](C)(C12CC3CC(CC(C1)C3)C2)C)(C)C)C)CCCC\n",
      "[17:16:17] SMILES Parse Error: Failed parsing SMILES 'C(CCCCCCCCCCCCCCCC[N+](CCCC[N+](C)(C12CC3CC(CC(C1)C3)C2)C)(C)C)C)CCCC' for input: 'C(CCCCCCCCCCCCCCCC[N+](CCCC[N+](C)(C12CC3CC(CC(C1)C3)C2)C)(C)C)C)CCCC'\n",
      "[17:16:17] SMILES Parse Error: extra close parentheses while parsing: C(CCCCCCCCCCCCCCCC[N+](CCCC[N+](C)(C12CC3CC(CC(C3)C2)C1)C)(C)C)C)CCCC\n",
      "[17:16:17] SMILES Parse Error: Failed parsing SMILES 'C(CCCCCCCCCCCCCCCC[N+](CCCC[N+](C)(C12CC3CC(CC(C3)C2)C1)C)(C)C)C)CCCC' for input: 'C(CCCCCCCCCCCCCCCC[N+](CCCC[N+](C)(C12CC3CC(CC(C3)C2)C1)C)(C)C)C)CCCC'\n",
      "[17:16:17] SMILES Parse Error: extra close parentheses while parsing: C(CCCCCCCCCCCCCCCC[N+](CCCC[N+](C)(C12CC3CC(CC(C3)C2)C1)C)(C)C)C)CCCC\n",
      "[17:16:17] SMILES Parse Error: Failed parsing SMILES 'C(CCCCCCCCCCCCCCCC[N+](CCCC[N+](C)(C12CC3CC(CC(C3)C2)C1)C)(C)C)C)CCCC' for input: 'C(CCCCCCCCCCCCCCCC[N+](CCCC[N+](C)(C12CC3CC(CC(C3)C2)C1)C)(C)C)C)CCCC'\n",
      "[17:16:17] SMILES Parse Error: extra close parentheses while parsing: C(CCCCCCCCCCCCCCCC[N+](CCCC[N+](C)(C12CC3CC(CC(C2)C3)C1)C)(C)C)C)CCCC\n",
      "[17:16:17] SMILES Parse Error: Failed parsing SMILES 'C(CCCCCCCCCCCCCCCC[N+](CCCC[N+](C)(C12CC3CC(CC(C2)C3)C1)C)(C)C)C)CCCC' for input: 'C(CCCCCCCCCCCCCCCC[N+](CCCC[N+](C)(C12CC3CC(CC(C2)C3)C1)C)(C)C)C)CCCC'\n",
      "[17:16:17] SMILES Parse Error: extra open parentheses for input: 'C1C2CC3CC(CC1C3[N+](C)(CCCC[N+](CCCCCCCCCCCCCCCC)(C)C)C2'\n",
      "[17:16:17] SMILES Parse Error: extra close parentheses while parsing: C(CCCCCCCCCCCCCCCC[N+](C)(CCCC[N+](C)(C12CC3CC(CC(C3)C2)C1)C)C)C)CCCC\n",
      "[17:16:17] SMILES Parse Error: Failed parsing SMILES 'C(CCCCCCCCCCCCCCCC[N+](C)(CCCC[N+](C)(C12CC3CC(CC(C3)C2)C1)C)C)C)CCCC' for input: 'C(CCCCCCCCCCCCCCCC[N+](C)(CCCC[N+](C)(C12CC3CC(CC(C3)C2)C1)C)C)C)CCCC'\n",
      "[17:16:17] SMILES Parse Error: extra open parentheses for input: '[NH3+]C12CC3(CC(C)(C2)CC(C3)(C1)C'\n",
      "[17:16:17] SMILES Parse Error: extra close parentheses while parsing: C(CCCCCCCCCCCCCCCC[N+](CCCC[N+](C)(C12CC3CC(CC(C3)C1)C2)C)(C)C)C)CCCC\n",
      "[17:16:17] SMILES Parse Error: Failed parsing SMILES 'C(CCCCCCCCCCCCCCCC[N+](CCCC[N+](C)(C12CC3CC(CC(C3)C1)C2)C)(C)C)C)CCCC' for input: 'C(CCCCCCCCCCCCCCCC[N+](CCCC[N+](C)(C12CC3CC(CC(C3)C1)C2)C)(C)C)C)CCCC'\n",
      "[17:16:17] SMILES Parse Error: extra open parentheses for input: 'O(CCOC1CCCN1'\n",
      "[17:16:17] Can't kekulize mol.  Unkekulized atoms: 0 1 2 4 5 6 7\n",
      "[17:16:17] Can't kekulize mol.  Unkekulized atoms: 0 1 2 4 5\n",
      "[17:16:17] Can't kekulize mol.  Unkekulized atoms: 0 1 3 4 5\n",
      "[17:16:17] Can't kekulize mol.  Unkekulized atoms: 0 1 2 3 6\n",
      "[17:16:17] Can't kekulize mol.  Unkekulized atoms: 0 1 2 8 9\n",
      "[17:16:17] Can't kekulize mol.  Unkekulized atoms: 0 1 2 6 8\n",
      "[17:16:17] Can't kekulize mol.  Unkekulized atoms: 0 13 14 15 19\n",
      "[17:16:17] SMILES Parse Error: unclosed ring for input: 'O1CCOCC1CCCC1'\n",
      "[17:16:17] SMILES Parse Error: extra close parentheses while parsing: C[N+]1(C)CCC(C)C2CC1C2(C)C)CC\n",
      "[17:16:17] SMILES Parse Error: Failed parsing SMILES 'C[N+]1(C)CCC(C)C2CC1C2(C)C)CC' for input: 'C[N+]1(C)CCC(C)C2CC1C2(C)C)CC'\n",
      "[17:16:17] Can't kekulize mol.  Unkekulized atoms: 0 2 3 4 5\n",
      "[17:16:17] Can't kekulize mol.  Unkekulized atoms: 0 1 2 4 5\n",
      "[17:16:17] Can't kekulize mol.  Unkekulized atoms: 0 1 3 4 6\n",
      "[17:16:17] Can't kekulize mol.  Unkekulized atoms: 0 1 2 3 4\n",
      "[17:16:17] Can't kekulize mol.  Unkekulized atoms: 0 1 2 5 6\n",
      "[17:16:17] SMILES Parse Error: extra close parentheses while parsing: C1CC(C)C2C(C)(C)C1C2)[N+](CC)(CC)CC\n",
      "[17:16:17] SMILES Parse Error: Failed parsing SMILES 'C1CC(C)C2C(C)(C)C1C2)[N+](CC)(CC)CC' for input: 'C1CC(C)C2C(C)(C)C1C2)[N+](CC)(CC)CC'\n",
      "[17:16:17] SMILES Parse Error: unclosed ring for input: 'C12CC(CC1)C1C[N+](C)(CC1CC2CC1)C'\n",
      "[17:16:17] SMILES Parse Error: extra open parentheses for input: 'C12C(C)(C(C2)[N+](CC)(CCCC1C)CC'\n",
      "[17:16:17] Can't kekulize mol.  Unkekulized atoms: 0 1 2 11 12 13 14\n",
      "[17:16:17] Can't kekulize mol.  Unkekulized atoms: 0 1 10 11 12 13 14\n",
      "[17:16:17] SMILES Parse Error: unclosed ring for input: 'c12c3cccc2CCC[N+]2(C)CCCc13'\n",
      "[17:16:17] SMILES Parse Error: unclosed ring for input: 'C1C[N+]2(CCCc3c2c(CCC3)cccc31)C'\n",
      "[17:16:17] Can't kekulize mol.  Unkekulized atoms: 0 1 2 3 4 12 13\n",
      "[17:16:17] Can't kekulize mol.  Unkekulized atoms: 0 1 2 10 11 12 13\n",
      "[17:16:17] SMILES Parse Error: unclosed ring for input: 'C1N(CCCN)CCN(CCCN)CCN'\n",
      "[17:16:17] SMILES Parse Error: unclosed ring for input: 'C(CNCCN)N1CCN'\n",
      "[17:16:17] Can't kekulize mol.  Unkekulized atoms: 0 1 2 10 11\n",
      "[17:16:17] Can't kekulize mol.  Unkekulized atoms: 6 7 8 10 11 12 13\n",
      "[17:16:17] SMILES Parse Error: unclosed ring for input: 'c1cc2CCC[N+]3(C)CCCc(c23)CC'\n",
      "[17:16:17] SMILES Parse Error: extra open parentheses for input: 'C(C)(C)(C)[P+](C(C)(C)C)(C(C)(C)C)CCCC[P+](C(C)(C)C)(C(C(C)(C)C)(C)C(C'\n",
      "[17:16:17] SMILES Parse Error: extra open parentheses for input: 'C1N(CCN(CCN(CCN(CCN(CCN(C)C1)C)C)C)C'\n",
      "[17:16:17] SMILES Parse Error: extra open parentheses for input: 'C1N(CCN(CCN(CCN(CCN(CCN(C)C1)C)C)C)C'\n",
      "[17:16:17] SMILES Parse Error: extra open parentheses for input: 'C1N(C)CCN(CCN(CCN(CCN(CCN(C)C1)C)C)C'\n",
      "[17:16:17] SMILES Parse Error: extra open parentheses for input: 'C1N(CCN(C)CCN(CCN(CCN(CCN(C)C1)C)C)C'\n",
      "[17:16:17] SMILES Parse Error: extra open parentheses for input: 'C1N(CCN(CCN(CCN(CCN(CCN(C)CCN(C)C1)C)C)C)C'\n",
      "[17:16:17] SMILES Parse Error: extra open parentheses for input: 'C1N(CCN(CCN(C)CCN(CCN(CCN(C1)C)C)C)C'\n",
      "[17:16:17] SMILES Parse Error: unclosed ring for input: 'C1CCC2C(CCCC2)[N+]21CCCC2CCCC2'\n",
      "[17:16:17] SMILES Parse Error: unclosed ring for input: 'C1CCC[N+]1(CC)C2CCCCC2CC1'\n",
      "[17:16:17] Can't kekulize mol.  Unkekulized atoms: 0 17 18 19 20 21 22\n",
      "[17:16:17] Can't kekulize mol.  Unkekulized atoms: 0 1 2 3 4 21 22\n",
      "[17:16:17] Can't kekulize mol.  Unkekulized atoms: 0 1 2 3 4 21 22\n",
      "[17:16:17] Can't kekulize mol.  Unkekulized atoms: 0 1 18 19 20 21 22\n",
      "[17:16:17] Can't kekulize mol.  Unkekulized atoms: 0 1 2 3 4 21 22\n",
      "[17:16:17] Can't kekulize mol.  Unkekulized atoms: 0 1 2 17 18 19 20\n",
      "[17:16:17] Can't kekulize mol.  Unkekulized atoms: 0 1 2 19 20 21 22\n",
      "[17:16:17] Can't kekulize mol.  Unkekulized atoms: 0 1 2 3 20 21 22\n",
      "[17:16:17] Can't kekulize mol.  Unkekulized atoms: 0 17 18 19 20 22 23\n",
      "[17:16:17] Can't kekulize mol.  Unkekulized atoms: 0 17 18 19 20 21 22\n",
      "[17:16:17] Can't kekulize mol.  Unkekulized atoms: 0 1 2 3 4 22 23\n",
      "[17:16:17] Can't kekulize mol.  Unkekulized atoms: 0 1 2 3 4 21 22\n",
      "[17:16:17] SMILES Parse Error: extra open parentheses for input: 'c1(c(N(C)C)ccncc1'\n",
      "[17:16:17] Can't kekulize mol.  Unkekulized atoms: 0 1 2 6 7 8 9\n",
      "[17:16:17] SMILES Parse Error: unclosed ring for input: 'C1C2CCCCCC2[N+](CC)(C(C)CC2C1)CC'\n",
      "[17:16:17] SMILES Parse Error: unclosed ring for input: 'C1C2CCCCCC2[N+](CC)(C(C)CC2C1)C'\n",
      "[17:16:17] SMILES Parse Error: unclosed ring for input: 'C1CC2CCCCC2[N+](CC)(C(C)CC2C1)CC'\n",
      "[17:16:17] SMILES Parse Error: unclosed ring for input: 'C12CCCCC2[N+](CC)(C(C)CC2CCC1)CC'\n",
      "[17:16:17] Can't kekulize mol.  Unkekulized atoms: 0 1 13 14 15 16 17\n",
      "[17:16:17] Can't kekulize mol.  Unkekulized atoms: 0 13 14 15 17 18 19\n",
      "[17:16:17] Can't kekulize mol.  Unkekulized atoms: 0 1 13 14 15 16 17\n",
      "[17:16:17] Can't kekulize mol.  Unkekulized atoms: 0 1 14 15 16 18 19\n",
      "[17:16:17] SMILES Parse Error: unclosed ring for input: 'c1(C2(C[N+]3(CCCCCC3)CC1)CCCC2)ccc(Cl)cc1'\n",
      "[17:16:17] SMILES Parse Error: unclosed ring for input: 'C12CC3CC(C[N+]3(C)C)(C1)CC(C2)C3'\n",
      "[17:16:17] SMILES Parse Error: unclosed ring for input: 'C12CCC(C3CCCC13)C[N+]2(C)CCCC3'\n",
      "[17:16:17] SMILES Parse Error: unclosed ring for input: 'C123C(CCCC1)(C1C=CC3CC2C1)C[N+](C)(C)C3'\n",
      "[17:16:17] SMILES Parse Error: unclosed ring for input: 'C12C=CC(C34C[N+](C)(C)CC4C13)CCCC3'\n",
      "[17:16:17] SMILES Parse Error: unclosed ring for input: 'C12CCC(C3CCCC[N+]3(C)C1C3)C2'\n",
      "[17:16:17] SMILES Parse Error: unclosed ring for input: 'C12CC(C=C1)C13CCCCC13CCCC12'\n",
      "[17:16:17] SMILES Parse Error: extra close parentheses while parsing: C1C23C4C=CC(C4)C2(C[N+](C)(C)C2)CCC3)C[N+]1(C)C\n",
      "[17:16:17] SMILES Parse Error: Failed parsing SMILES 'C1C23C4C=CC(C4)C2(C[N+](C)(C)C2)CCC3)C[N+]1(C)C' for input: 'C1C23C4C=CC(C4)C2(C[N+](C)(C)C2)CCC3)C[N+]1(C)C'\n",
      "[17:16:17] SMILES Parse Error: unclosed ring for input: 'C12C[N+](CC3CC1C1CC3C=C1)(C)C'\n",
      "[17:16:17] SMILES Parse Error: extra open parentheses for input: 'C1C2(C)C(C)(C(C[N+](C2)(C)C)CC1'\n",
      "[17:16:17] SMILES Parse Error: unclosed ring for input: 'C1C2CC3CC(CC1(C3)[n+]1ccn(C34CC5CC(CC(C5)C4)C5)c1)C2'\n",
      "[17:16:17] SMILES Parse Error: unclosed ring for input: 'C1C2CC3CC(C2)CC1(n1c[n+](C24CC5CC(CC(C5)C5)C4)cc1)C3'\n",
      "[17:16:17] SMILES Parse Error: unclosed ring for input: 'C1CCC([N+]21CCCC2)CCCC1C'\n",
      "[17:16:17] SMILES Parse Error: unclosed ring for input: 'C1C2CC3CC(CC1C3)(C2)n1c[n+](C23CC4CC(C2)CC(C4)C4)cc1'\n",
      "[17:16:17] SMILES Parse Error: unclosed ring for input: 'C1CC2CC1C1CCCC[N+]2(C)C'\n",
      "[17:16:17] SMILES Parse Error: unclosed ring for input: 'C12CC3CC(C1)CC([n+]1cn(cc1)C14CC5CC(CC(C5)C4)C5)(C3)C2'\n",
      "[17:16:17] SMILES Parse Error: unclosed ring for input: 'C12CC3CC(C1)CC(C3)(n1c[n+](C45CC6CC(C4)CC(C5)C5)cc1)C2'\n",
      "[17:16:17] SMILES Parse Error: unclosed ring for input: 'C1C2CC3CC(C2)CC1(n1cc[n+](c1)C14CC5CC(CC(C5)C5)C4)C3'\n",
      "[17:16:17] SMILES Parse Error: unclosed ring for input: 'C1C2CC3CC(C2)CC1(C3)n1c[n+](C23CC4CC(CC(C4)C2)C4)cc1'\n",
      "[17:16:17] SMILES Parse Error: unclosed ring for input: 'C1C2CC3CC(C2)CC1(C3)[n+]1ccn(C23CC4CC(C2)CC(C4)C2)c1'\n",
      "[17:16:17] SMILES Parse Error: unclosed ring for input: 'C1CCCC23C4C=CC(C21)C1C[N+](CC31)(C)C'\n",
      "[17:16:17] SMILES Parse Error: unclosed ring for input: 'C1C2CC3(n4c[n+](C56CC7CC(C6)CC(C6)C5)cc4)CC(CC1C3)C2'\n",
      "[17:16:18] SMILES Parse Error: unclosed ring for input: 'C1C2CC3(n4cc[n+](C56CC7CC(C6)CC(C6)C7)c4)CC1CC(C2)C3'\n",
      "[17:16:18] SMILES Parse Error: unclosed ring for input: 'C1C2CC3CC(CC1(C3)n1cc[n+](C34CC5CC(CC(C5)C4)C5)c1)C2'\n",
      "[17:16:18] SMILES Parse Error: extra open parentheses for input: 'C12CC3CC(CC([N+](C)(C)CC(C2)C3)C1'\n",
      "[17:16:18] SMILES Parse Error: unclosed ring for input: 'C1C2CC3CC1(CC(C3)C2)n1c[n+](C23CC4CC(CC(C4)C2)C4)cc1'\n",
      "[17:16:18] SMILES Parse Error: unclosed ring for input: 'C1C2CC3CC(C2)CC1(C3)n1c[n+](C23CC4CC(C2)CC(C5)C4)cc1'\n",
      "[17:16:18] SMILES Parse Error: unclosed ring for input: 'C1C2CC3CC(CC1(C3)[n+]1cn(C34CC5CC(C4)CC(C5)C5)cc1)C2'\n",
      "[17:16:18] Explicit valence for atom # 0 C, 5, is greater than permitted\n",
      "[17:16:18] SMILES Parse Error: extra open parentheses for input: 'n1(C)c([n+](CCCC[n+]2c(n(c(c2C)C)C)c(C)c1C)C'\n",
      "[17:16:18] SMILES Parse Error: extra open parentheses for input: 'Cc1n(c([n+](c1C)CCCC[n+]1c(c(C)n(C)c1C)C)C'\n",
      "[17:16:18] SMILES Parse Error: extra open parentheses for input: 'Cc1n(c([n+](CCCCC[n+]2ccn(c2C)C)c1)C'\n",
      "[17:16:18] SMILES Parse Error: extra open parentheses for input: 'Cc1[n+](CCCCC[n+]2c(C)n(c(C)c2C)c(C)c(n1C)C'\n",
      "[17:16:18] SMILES Parse Error: unclosed ring for input: 'C1CCC[N+]2(C1)C1C3CCC[N+]4(CCC2C1)CCCC3'\n",
      "[17:16:18] SMILES Parse Error: unclosed ring for input: 'C12C3[N+](CCCC3C3C(CCC2)C[N+]2(C)C1CCC2)(C)C'\n",
      "[17:16:18] SMILES Parse Error: unclosed ring for input: 'C12C3CCC[N+]4(C)C3C(CCC[N+]2(CCC1)C)CCCC3'\n",
      "[17:16:18] SMILES Parse Error: unclosed ring for input: 'C1CCC[N+]2(C)C3C4N(CCCC4C(C3)C21)CCCC4'\n",
      "[17:16:18] SMILES Parse Error: unclosed ring for input: 'C1CC2C3[N+](CCC3C[N+](C)(CC32)C)(C)C1'\n",
      "[17:16:18] SMILES Parse Error: unclosed ring for input: 'C12C3C4[N+](CCC3)(CCCC[N+]2(CCCC1)C)C'\n",
      "[17:16:18] SMILES Parse Error: unclosed ring for input: 'C1[N+]2(C3C(CCC2)C2CCC[N+]3(CCC2)CCC3)CCC1'\n",
      "[17:16:18] Can't kekulize mol.  Unkekulized atoms: 0 1 2 3 4\n",
      "[17:16:18] SMILES Parse Error: unclosed ring for input: 'c1ccccc1[n+](C)c1'\n",
      "[17:16:18] Can't kekulize mol.  Unkekulized atoms: 0 1 2 4 5\n",
      "[17:16:18] Can't kekulize mol.  Unkekulized atoms: 0 1 2 3 11 12 13\n",
      "[17:16:18] Can't kekulize mol.  Unkekulized atoms: 0 1 2 16 17\n",
      "[17:16:18] Can't kekulize mol.  Unkekulized atoms: 0 1 2 6 7 8 9\n",
      "[17:16:18] Can't kekulize mol.  Unkekulized atoms: 0 1 2 3 4 5 17\n",
      "[17:16:18] SMILES Parse Error: unclosed ring for input: 'C1[N+]2(CCCCC2)C2CCCCC2CCCCC21'\n",
      "[17:16:18] SMILES Parse Error: unclosed ring for input: 'c1cccc2c1C[N+]1(C2)CCCCC1CCCC1'\n",
      "[17:16:18] SMILES Parse Error: unclosed ring for input: 'c1cccc2c1C[N+]1(C2)CCCCC1CCCC1'\n",
      "[17:16:18] SMILES Parse Error: ring closure 1 duplicates bond between atom 7 and atom 21 for input: 'c1cccc2c1C[N+]1(C[N+]3(CCCCC3)CC(CCC2)C)C1'\n",
      "[17:16:18] SMILES Parse Error: extra open parentheses for input: 'C1CC(C)C[N+]2(Cc3c(C[N+]4(CC(C)CCC4)Cccccc3C2)C1'\n",
      "[17:16:18] SMILES Parse Error: unclosed ring for input: 'c1cc2c(cc1)C[N+]1(C2)CCCCC1CCCC2'\n",
      "[17:16:18] SMILES Parse Error: unclosed ring for input: 'c1cccc2c1C[N+]1(C2)CCCCC1CCCC1'\n",
      "[17:16:18] SMILES Parse Error: unclosed ring for input: 'c1cccc2c1C[N+]1(C2)CCCCC1CCCC1'\n",
      "[17:16:18] SMILES Parse Error: unclosed ring for input: 'C1CCC2CC3[N+]4(C(CC(C3)[N+]2(C)CCC1)C)C'\n",
      "[17:16:18] SMILES Parse Error: unclosed ring for input: 'C1CC2CC3[N+](C)(CCCC3)C1CC1CCCCN2'\n",
      "[17:16:18] SMILES Parse Error: unclosed ring for input: 'C1[N+]2(CCCCC2CC2CC1CC1CCCCN2)C'\n"
     ]
    },
    {
     "name": "stdout",
     "output_type": "stream",
     "text": [
      "FCD score: 0.18165066915429762\n"
     ]
    }
   ],
   "source": [
    "# calculate the metrics\n",
    "print('Validity rate:', validity_rate(generated_smiles))\n",
    "print('Uniqueness rate:', uniqueness_rate(generated_smiles))\n",
    "print('Novelty rate:', novelty_rate(generated_smiles, target_smi))\n",
    "print('Reconstructability rate:', reconstructability_rate(generated_smiles, target_smi))\n",
    "print('Novelty rate:', novelty_rate(generated_smiles, target_smi))\n",
    "print('IntDiv:', IntDiv(generated_smiles))\n",
    "# print('KL-divergence:', KL_divergence(target_smi, generated_smile))\n",
    "print('FCD score:', FCD_score(target_smile, generated_smile))"
   ]
  },
  {
   "cell_type": "code",
   "execution_count": 14,
   "metadata": {},
   "outputs": [
    {
     "data": {
      "image/png": "[encoded data removed]",
      "text/plain": [
       "<Figure size 432x288 with 1 Axes>"
      ]
     },
     "metadata": {
      "needs_background": "light"
     },
     "output_type": "display_data"
    }
   ],
   "source": [
    "# plot the loss and acc\n",
    "plot_loss(train_loss_history, test_loss_history, 'GPT')"
   ]
  }
 ],
 "metadata": {
  "kernelspec": {
   "display_name": "zeosyn",
   "language": "python",
   "name": "python3"
  },
  "language_info": {
   "codemirror_mode": {
    "name": "ipython",
    "version": 3
   },
   "file_extension": ".py",
   "mimetype": "text/x-python",
   "name": "python",
   "nbconvert_exporter": "python",
   "pygments_lexer": "ipython3",
   "version": "3.7.10"
  }
 },
 "nbformat": 4,
 "nbformat_minor": 2
}
