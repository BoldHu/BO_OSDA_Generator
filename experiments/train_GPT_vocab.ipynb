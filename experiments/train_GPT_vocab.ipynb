{
 "cells": [
  {
   "cell_type": "markdown",
   "metadata": {},
   "source": [
    "# Train Model with GPT architecture Using Pre-setting Vocab"
   ]
  },
  {
   "cell_type": "code",
   "execution_count": 1,
   "metadata": {},
   "outputs": [
    {
     "name": "stdout",
     "output_type": "stream",
     "text": [
      "/home/hudongcheng/Desktop/bo_osda_generator\n"
     ]
    }
   ],
   "source": [
    "# change working path to the current file\n",
    "%cd .."
   ]
  },
  {
   "cell_type": "code",
   "execution_count": 2,
   "metadata": {},
   "outputs": [],
   "source": [
    "import numpy as np\n",
    "import os\n",
    "import torch\n",
    "import torch.nn as nn\n",
    "from torch.utils.data import DataLoader\n",
    "from torch.nn import functional as F\n",
    "from tqdm import tqdm\n",
    "from datetime import datetime\n",
    "import torch.backends.cudnn as cudnn\n",
    "\n",
    "# import custom modules\n",
    "from models.GPT import *\n",
    "from utils.utils import *\n",
    "from datasets.data_loader import *\n",
    "from utils.plot_figures import *\n",
    "from utils.metrics import *\n",
    "from utils.build_vocab import *"
   ]
  },
  {
   "cell_type": "code",
   "execution_count": 3,
   "metadata": {},
   "outputs": [],
   "source": [
    "cudnn.benchmark = True\n",
    "cudnn.enabled = True\n",
    "\n",
    "train_loss_history = []\n",
    "train_acc_history = []\n",
    "test_loss_history = []\n",
    "test_acc_history = []\n",
    "\n",
    "log_dir = './logs/'\n",
    "save_best_weight_path = './checkpoints/'\n",
    "\n",
    "now = datetime.now().strftime('%Y-%m-%d-%H-%M-%S')"
   ]
  },
  {
   "cell_type": "code",
   "execution_count": 4,
   "metadata": {},
   "outputs": [],
   "source": [
    "PAD = 0\n",
    "UNK = 1\n",
    "EOS = 2\n",
    "SOS = 3\n",
    "MASK = 4\n",
    "MAX_LEN = 220"
   ]
  },
  {
   "cell_type": "code",
   "execution_count": 5,
   "metadata": {},
   "outputs": [
    {
     "name": "stdout",
     "output_type": "stream",
     "text": [
      "the vocab size is : 45\n",
      "the total num of charset is : 45\n"
     ]
    }
   ],
   "source": [
    "# read the data and convert to the format we need\n",
    "train_smiles = read_strings('./data/train_smiles.csv', idx=False)\n",
    "train_zeo = read_vec('./data/train_zeo.csv', idx=False)\n",
    "train_syn = read_vec('./data/train_syn.csv', idx=False)\n",
    "train_codes = read_strings('./data/train_codes.csv', idx=False)\n",
    "test_smiles = read_strings('./data/test_smiles.csv', idx=False)\n",
    "test_zeo = read_vec('./data/test_zeo.csv', idx=False)\n",
    "test_syn = read_vec('./data/test_syn.csv', idx=False)\n",
    "test_codes = read_strings('./data/test_codes.csv', idx=False)\n",
    "\n",
    "vocab = WordVocab.load_vocab('./model_hub/vocab.pkl')\n",
    "print('the vocab size is :', len(vocab))\n",
    "\n",
    "charlen = len(vocab)\n",
    "print('the total num of charset is :', charlen)"
   ]
  },
  {
   "cell_type": "code",
   "execution_count": 6,
   "metadata": {},
   "outputs": [],
   "source": [
    "# hyperparameters\n",
    "device = torch.device(\"cuda:0\" if torch.cuda.is_available() else \"cpu\")\n",
    "batch_size = 128\n",
    "epoch = 20\n",
    "seqlen = 127"
   ]
  },
  {
   "cell_type": "code",
   "execution_count": 7,
   "metadata": {},
   "outputs": [
    {
     "name": "stdout",
     "output_type": "stream",
     "text": [
      "total parameters: 3.25M\n"
     ]
    }
   ],
   "source": [
    "# create the dataset and dataloader\n",
    "train_dataset = Seq2seqDataset(train_zeo, train_syn, train_smiles, vocab)\n",
    "test_dataset = Seq2seqDataset(test_zeo, test_syn, test_smiles, vocab)\n",
    "train_dataloader = DataLoader(train_dataset, batch_size=batch_size, shuffle=True)\n",
    "test_dataloader = DataLoader(test_dataset, batch_size=batch_size, shuffle=False)\n",
    "# create the model\n",
    "config = GPTConfig(vocab_size=charlen, block_size=220, num_props=24)\n",
    "model = GPT(config).to(device)\n",
    "# loss\n",
    "loss_func = torch.nn.CrossEntropyLoss(ignore_index=PAD)\n",
    "optim = torch.optim.Adam(model.parameters(), lr=6e-4)\n",
    "total = sum(p.numel() for p in model.parameters())\n",
    "print('total parameters: %0.2fM' % (total / 1e6))"
   ]
  },
  {
   "cell_type": "code",
   "execution_count": 8,
   "metadata": {},
   "outputs": [],
   "source": [
    "# train function\n",
    "def train(model, train_dataloader, loss_func, optim, device):\n",
    "    model.train()\n",
    "    total_loss = 0\n",
    "    total_acc = 0\n",
    "    total_num = 0\n",
    "    for i, (zeo, syn, tgt) in enumerate(tqdm(train_dataloader)):\n",
    "        zeo = zeo.to(device)\n",
    "        syn = syn.to(device)\n",
    "        tgt = tgt.to(device)\n",
    "        # concat zeo and syn as the input (prop)\n",
    "        synthesis_condition = torch.cat([zeo, syn], dim=-1)\n",
    "        tgt_input = tgt[:, :-1].contiguous()\n",
    "        tgt_label = tgt[:, 1:].contiguous()\n",
    "        \n",
    "        # forward\n",
    "        optim.zero_grad()\n",
    "        output = model(idx=tgt_input, prop=synthesis_condition)\n",
    "        loss = loss_func(output.view(-1, output.size(-1)), tgt_label.view(-1))\n",
    "        \n",
    "        # calculate the accuracy\n",
    "        pred = torch.argmax(output, dim=-1)\n",
    "        num_correct = (pred == tgt_label) & (tgt_label != PAD)\n",
    "        num_words = (tgt_label != PAD).sum().item()\n",
    "        \n",
    "        # backward\n",
    "        loss.backward()\n",
    "        optim.step()\n",
    "        \n",
    "        total_loss += loss.item()\n",
    "        total_acc += num_correct.sum().item()\n",
    "        total_num += num_words\n",
    "    return total_loss / len(train_dataloader), total_acc / total_num"
   ]
  },
  {
   "cell_type": "code",
   "execution_count": 9,
   "metadata": {},
   "outputs": [],
   "source": [
    "def evaluate(model, test_dataloader, loss_func, device):\n",
    "    model.eval()\n",
    "    total_loss = 0\n",
    "    total_acc = 0\n",
    "    total_num = 0\n",
    "    with torch.no_grad():\n",
    "        for i, (zeo, syn, tgt) in enumerate(tqdm(test_dataloader)):\n",
    "            zeo = zeo.to(device)\n",
    "            syn = syn.to(device)\n",
    "            tgt = tgt.to(device)\n",
    "            # concat zeo and syn as the input (prop)\n",
    "            synthesis_condition = torch.cat([zeo, syn], dim=-1)\n",
    "            tgt_input = tgt[:, :-1].contiguous()\n",
    "            tgt_label = tgt[:, 1:].contiguous()\n",
    "            # forward\n",
    "            output = model(idx=tgt_input, prop=synthesis_condition)\n",
    "            loss = loss_func(output.view(-1, output.size(-1)), tgt_label.view(-1))\n",
    "            # calculate the accuracy\n",
    "            pred = torch.argmax(output, dim=-1)\n",
    "            num_correct = (pred == tgt_label) & (tgt_label != PAD)\n",
    "            num_words = (tgt_label != PAD).sum().item()\n",
    "            total_loss += loss.item()\n",
    "            total_acc += num_correct.sum().item()\n",
    "            total_num += num_words\n",
    "    return total_loss / len(test_dataloader), total_acc / total_num"
   ]
  },
  {
   "cell_type": "code",
   "execution_count": 10,
   "metadata": {},
   "outputs": [
    {
     "name": "stderr",
     "output_type": "stream",
     "text": [
      "100%|██████████| 1133/1133 [01:16<00:00, 14.72it/s]\n"
     ]
    },
    {
     "name": "stdout",
     "output_type": "stream",
     "text": [
      "epoch: 0, train loss: 0.7569, train acc: 0.7348\n"
     ]
    },
    {
     "name": "stderr",
     "output_type": "stream",
     "text": [
      "100%|██████████| 272/272 [00:07<00:00, 34.50it/s]\n"
     ]
    },
    {
     "name": "stdout",
     "output_type": "stream",
     "text": [
      "epoch: 0 test loss: 0.4856, test acc: 0.8203\n"
     ]
    },
    {
     "name": "stderr",
     "output_type": "stream",
     "text": [
      "100%|██████████| 1133/1133 [01:16<00:00, 14.75it/s]\n"
     ]
    },
    {
     "name": "stdout",
     "output_type": "stream",
     "text": [
      "epoch: 1, train loss: 0.4524, train acc: 0.8275\n"
     ]
    },
    {
     "name": "stderr",
     "output_type": "stream",
     "text": [
      "100%|██████████| 272/272 [00:07<00:00, 34.41it/s]\n"
     ]
    },
    {
     "name": "stdout",
     "output_type": "stream",
     "text": [
      "epoch: 1 test loss: 0.3817, test acc: 0.8545\n"
     ]
    },
    {
     "name": "stderr",
     "output_type": "stream",
     "text": [
      "100%|██████████| 1133/1133 [01:16<00:00, 14.76it/s]\n"
     ]
    },
    {
     "name": "stdout",
     "output_type": "stream",
     "text": [
      "epoch: 2, train loss: 0.3703, train acc: 0.8557\n"
     ]
    },
    {
     "name": "stderr",
     "output_type": "stream",
     "text": [
      "100%|██████████| 272/272 [00:07<00:00, 34.57it/s]\n"
     ]
    },
    {
     "name": "stdout",
     "output_type": "stream",
     "text": [
      "epoch: 2 test loss: 0.3221, test acc: 0.8762\n"
     ]
    },
    {
     "name": "stderr",
     "output_type": "stream",
     "text": [
      "100%|██████████| 1133/1133 [01:16<00:00, 14.77it/s]\n"
     ]
    },
    {
     "name": "stdout",
     "output_type": "stream",
     "text": [
      "epoch: 3, train loss: 0.3262, train acc: 0.8704\n"
     ]
    },
    {
     "name": "stderr",
     "output_type": "stream",
     "text": [
      "100%|██████████| 272/272 [00:07<00:00, 34.46it/s]\n"
     ]
    },
    {
     "name": "stdout",
     "output_type": "stream",
     "text": [
      "epoch: 3 test loss: 0.2923, test acc: 0.8855\n"
     ]
    },
    {
     "name": "stderr",
     "output_type": "stream",
     "text": [
      "100%|██████████| 1133/1133 [01:16<00:00, 14.76it/s]\n"
     ]
    },
    {
     "name": "stdout",
     "output_type": "stream",
     "text": [
      "epoch: 4, train loss: 0.2986, train acc: 0.8795\n"
     ]
    },
    {
     "name": "stderr",
     "output_type": "stream",
     "text": [
      "100%|██████████| 272/272 [00:07<00:00, 34.42it/s]\n"
     ]
    },
    {
     "name": "stdout",
     "output_type": "stream",
     "text": [
      "epoch: 4 test loss: 0.2670, test acc: 0.8932\n"
     ]
    },
    {
     "name": "stderr",
     "output_type": "stream",
     "text": [
      "100%|██████████| 1133/1133 [01:16<00:00, 14.77it/s]\n"
     ]
    },
    {
     "name": "stdout",
     "output_type": "stream",
     "text": [
      "epoch: 5, train loss: 0.2804, train acc: 0.8857\n"
     ]
    },
    {
     "name": "stderr",
     "output_type": "stream",
     "text": [
      "100%|██████████| 272/272 [00:07<00:00, 34.48it/s]\n"
     ]
    },
    {
     "name": "stdout",
     "output_type": "stream",
     "text": [
      "epoch: 5 test loss: 0.2568, test acc: 0.8967\n"
     ]
    },
    {
     "name": "stderr",
     "output_type": "stream",
     "text": [
      "100%|██████████| 1133/1133 [01:16<00:00, 14.77it/s]\n"
     ]
    },
    {
     "name": "stdout",
     "output_type": "stream",
     "text": [
      "epoch: 6, train loss: 0.2672, train acc: 0.8901\n"
     ]
    },
    {
     "name": "stderr",
     "output_type": "stream",
     "text": [
      "100%|██████████| 272/272 [00:07<00:00, 34.49it/s]\n"
     ]
    },
    {
     "name": "stdout",
     "output_type": "stream",
     "text": [
      "epoch: 6 test loss: 0.2474, test acc: 0.9001\n"
     ]
    },
    {
     "name": "stderr",
     "output_type": "stream",
     "text": [
      "100%|██████████| 1133/1133 [01:16<00:00, 14.77it/s]\n"
     ]
    },
    {
     "name": "stdout",
     "output_type": "stream",
     "text": [
      "epoch: 7, train loss: 0.2576, train acc: 0.8932\n"
     ]
    },
    {
     "name": "stderr",
     "output_type": "stream",
     "text": [
      "100%|██████████| 272/272 [00:07<00:00, 34.53it/s]\n"
     ]
    },
    {
     "name": "stdout",
     "output_type": "stream",
     "text": [
      "epoch: 7 test loss: 0.2391, test acc: 0.9019\n"
     ]
    },
    {
     "name": "stderr",
     "output_type": "stream",
     "text": [
      "100%|██████████| 1133/1133 [01:16<00:00, 14.75it/s]\n"
     ]
    },
    {
     "name": "stdout",
     "output_type": "stream",
     "text": [
      "epoch: 8, train loss: 0.2497, train acc: 0.8959\n"
     ]
    },
    {
     "name": "stderr",
     "output_type": "stream",
     "text": [
      "100%|██████████| 272/272 [00:07<00:00, 34.54it/s]\n"
     ]
    },
    {
     "name": "stdout",
     "output_type": "stream",
     "text": [
      "epoch: 8 test loss: 0.2342, test acc: 0.9040\n"
     ]
    },
    {
     "name": "stderr",
     "output_type": "stream",
     "text": [
      "100%|██████████| 1133/1133 [01:16<00:00, 14.75it/s]\n"
     ]
    },
    {
     "name": "stdout",
     "output_type": "stream",
     "text": [
      "epoch: 9, train loss: 0.2435, train acc: 0.8979\n"
     ]
    },
    {
     "name": "stderr",
     "output_type": "stream",
     "text": [
      "100%|██████████| 272/272 [00:07<00:00, 34.45it/s]\n"
     ]
    },
    {
     "name": "stdout",
     "output_type": "stream",
     "text": [
      "epoch: 9 test loss: 0.2287, test acc: 0.9052\n"
     ]
    },
    {
     "name": "stderr",
     "output_type": "stream",
     "text": [
      "100%|██████████| 1133/1133 [01:16<00:00, 14.75it/s]\n"
     ]
    },
    {
     "name": "stdout",
     "output_type": "stream",
     "text": [
      "epoch: 10, train loss: 0.2383, train acc: 0.8995\n"
     ]
    },
    {
     "name": "stderr",
     "output_type": "stream",
     "text": [
      "100%|██████████| 272/272 [00:07<00:00, 34.52it/s]\n"
     ]
    },
    {
     "name": "stdout",
     "output_type": "stream",
     "text": [
      "epoch: 10 test loss: 0.2247, test acc: 0.9062\n"
     ]
    },
    {
     "name": "stderr",
     "output_type": "stream",
     "text": [
      "100%|██████████| 1133/1133 [01:16<00:00, 14.75it/s]\n"
     ]
    },
    {
     "name": "stdout",
     "output_type": "stream",
     "text": [
      "epoch: 11, train loss: 0.2342, train acc: 0.9009\n"
     ]
    },
    {
     "name": "stderr",
     "output_type": "stream",
     "text": [
      "100%|██████████| 272/272 [00:07<00:00, 34.44it/s]\n"
     ]
    },
    {
     "name": "stdout",
     "output_type": "stream",
     "text": [
      "epoch: 11 test loss: 0.2219, test acc: 0.9071\n"
     ]
    },
    {
     "name": "stderr",
     "output_type": "stream",
     "text": [
      "100%|██████████| 1133/1133 [01:16<00:00, 14.74it/s]\n"
     ]
    },
    {
     "name": "stdout",
     "output_type": "stream",
     "text": [
      "epoch: 12, train loss: 0.2305, train acc: 0.9021\n"
     ]
    },
    {
     "name": "stderr",
     "output_type": "stream",
     "text": [
      "100%|██████████| 272/272 [00:07<00:00, 34.47it/s]\n"
     ]
    },
    {
     "name": "stdout",
     "output_type": "stream",
     "text": [
      "epoch: 12 test loss: 0.2189, test acc: 0.9085\n"
     ]
    },
    {
     "name": "stderr",
     "output_type": "stream",
     "text": [
      "100%|██████████| 1133/1133 [01:16<00:00, 14.75it/s]\n"
     ]
    },
    {
     "name": "stdout",
     "output_type": "stream",
     "text": [
      "epoch: 13, train loss: 0.2270, train acc: 0.9031\n"
     ]
    },
    {
     "name": "stderr",
     "output_type": "stream",
     "text": [
      "100%|██████████| 272/272 [00:07<00:00, 34.44it/s]\n"
     ]
    },
    {
     "name": "stdout",
     "output_type": "stream",
     "text": [
      "epoch: 13 test loss: 0.2181, test acc: 0.9086\n"
     ]
    },
    {
     "name": "stderr",
     "output_type": "stream",
     "text": [
      "100%|██████████| 1133/1133 [01:16<00:00, 14.76it/s]\n"
     ]
    },
    {
     "name": "stdout",
     "output_type": "stream",
     "text": [
      "epoch: 14, train loss: 0.2243, train acc: 0.9039\n"
     ]
    },
    {
     "name": "stderr",
     "output_type": "stream",
     "text": [
      "100%|██████████| 272/272 [00:07<00:00, 34.49it/s]\n"
     ]
    },
    {
     "name": "stdout",
     "output_type": "stream",
     "text": [
      "epoch: 14 test loss: 0.2145, test acc: 0.9097\n"
     ]
    },
    {
     "name": "stderr",
     "output_type": "stream",
     "text": [
      "100%|██████████| 1133/1133 [01:16<00:00, 14.76it/s]\n"
     ]
    },
    {
     "name": "stdout",
     "output_type": "stream",
     "text": [
      "epoch: 15, train loss: 0.2219, train acc: 0.9045\n"
     ]
    },
    {
     "name": "stderr",
     "output_type": "stream",
     "text": [
      "100%|██████████| 272/272 [00:07<00:00, 34.40it/s]\n"
     ]
    },
    {
     "name": "stdout",
     "output_type": "stream",
     "text": [
      "epoch: 15 test loss: 0.2129, test acc: 0.9096\n"
     ]
    },
    {
     "name": "stderr",
     "output_type": "stream",
     "text": [
      "100%|██████████| 1133/1133 [01:16<00:00, 14.76it/s]\n"
     ]
    },
    {
     "name": "stdout",
     "output_type": "stream",
     "text": [
      "epoch: 16, train loss: 0.2191, train acc: 0.9055\n"
     ]
    },
    {
     "name": "stderr",
     "output_type": "stream",
     "text": [
      "100%|██████████| 272/272 [00:07<00:00, 34.55it/s]\n"
     ]
    },
    {
     "name": "stdout",
     "output_type": "stream",
     "text": [
      "epoch: 16 test loss: 0.2121, test acc: 0.9099\n"
     ]
    },
    {
     "name": "stderr",
     "output_type": "stream",
     "text": [
      "100%|██████████| 1133/1133 [01:16<00:00, 14.76it/s]\n"
     ]
    },
    {
     "name": "stdout",
     "output_type": "stream",
     "text": [
      "epoch: 17, train loss: 0.2177, train acc: 0.9058\n"
     ]
    },
    {
     "name": "stderr",
     "output_type": "stream",
     "text": [
      "100%|██████████| 272/272 [00:07<00:00, 34.48it/s]\n"
     ]
    },
    {
     "name": "stdout",
     "output_type": "stream",
     "text": [
      "epoch: 17 test loss: 0.2099, test acc: 0.9108\n"
     ]
    },
    {
     "name": "stderr",
     "output_type": "stream",
     "text": [
      "100%|██████████| 1133/1133 [01:16<00:00, 14.75it/s]\n"
     ]
    },
    {
     "name": "stdout",
     "output_type": "stream",
     "text": [
      "epoch: 18, train loss: 0.2158, train acc: 0.9064\n"
     ]
    },
    {
     "name": "stderr",
     "output_type": "stream",
     "text": [
      "100%|██████████| 272/272 [00:07<00:00, 34.43it/s]\n"
     ]
    },
    {
     "name": "stdout",
     "output_type": "stream",
     "text": [
      "epoch: 18 test loss: 0.2087, test acc: 0.9109\n"
     ]
    },
    {
     "name": "stderr",
     "output_type": "stream",
     "text": [
      "100%|██████████| 1133/1133 [01:16<00:00, 14.75it/s]\n"
     ]
    },
    {
     "name": "stdout",
     "output_type": "stream",
     "text": [
      "epoch: 19, train loss: 0.2138, train acc: 0.9069\n"
     ]
    },
    {
     "name": "stderr",
     "output_type": "stream",
     "text": [
      "100%|██████████| 272/272 [00:07<00:00, 34.56it/s]"
     ]
    },
    {
     "name": "stdout",
     "output_type": "stream",
     "text": [
      "epoch: 19 test loss: 0.2070, test acc: 0.9107\n"
     ]
    },
    {
     "name": "stderr",
     "output_type": "stream",
     "text": [
      "\n"
     ]
    }
   ],
   "source": [
    "# train the model\n",
    "for i in range(epoch):\n",
    "    train_loss, train_acc = train(model, train_dataloader, loss_func, optim, device)\n",
    "    train_loss_history.append(train_loss)\n",
    "    train_acc_history.append(train_acc)\n",
    "    print('epoch: %d, train loss: %.4f, train acc: %.4f' % (i, train_loss, train_acc))\n",
    "    test_loss, test_acc = evaluate(model, test_dataloader, loss_func, device)\n",
    "    test_loss_history.append(test_loss)\n",
    "    test_acc_history.append(test_acc)\n",
    "    print('epoch: %d test loss: %.4f, test acc: %.4f' % (i, test_loss, test_acc))\n",
    "    if i == 0:\n",
    "        best_acc = test_acc\n",
    "    if test_acc > best_acc:\n",
    "        best_acc = test_acc\n",
    "        torch.save(model.state_dict(), save_best_weight_path + 'best_GPT_model.pth')\n",
    "    torch.save(model.state_dict(), save_best_weight_path + 'last_GPT_model.pth')"
   ]
  },
  {
   "cell_type": "code",
   "execution_count": 11,
   "metadata": {},
   "outputs": [],
   "source": [
    "def generate_gpt(model, start_sequence, condition_props, max_length, vocab, device, temperature=1.0, top_k=0):\n",
    "    \"\"\"\n",
    "    Autoregressive generation process for a GPT model.\n",
    "\n",
    "    Args:\n",
    "        model (GPT): The pre-trained GPT model for token generation.\n",
    "        start_sequence (torch.Tensor): The initial sequence to start generation (batch_size, seq_length).\n",
    "        condition_props (torch.Tensor): The conditional property vector (batch_size, num_props).\n",
    "        max_length (int): The maximum length of the generated sequence.\n",
    "        vocab: The vocabulary object for encoding and decoding SMILES strings.\n",
    "        device (torch.device): The device on which to run the generation.\n",
    "        temperature (float): Temperature parameter for sampling; higher values increase randomness.\n",
    "        top_k (int): Limits sampling to top-k logits; if 0, no top-k sampling is applied.\n",
    "\n",
    "    Returns:\n",
    "        List[str]: A list of generated SMILES strings.\n",
    "    \"\"\"\n",
    "    model.eval()\n",
    "    batch_size = start_sequence.size(0)\n",
    "    generated_sequences = start_sequence.clone().to(device)  # Clone and move to device\n",
    "\n",
    "    for _ in range(max_length - start_sequence.size(1)):\n",
    "        # Get the current sequence length\n",
    "        current_length = generated_sequences.size(1)\n",
    "\n",
    "        # Forward pass through the model\n",
    "        logits = model(generated_sequences, condition_props)  # (batch_size, seq_length, vocab_size)\n",
    "\n",
    "        # Extract the logits for the last time step\n",
    "        next_token_logits = logits[:, -1, :]  # (batch_size, vocab_size)\n",
    "\n",
    "        # Apply temperature scaling\n",
    "        next_token_logits = next_token_logits / temperature\n",
    "\n",
    "        # Apply top-k filtering\n",
    "        if top_k > 0:\n",
    "            top_k_logits, top_k_indices = torch.topk(next_token_logits, top_k, dim=-1)\n",
    "            mask = torch.full_like(next_token_logits, float('-inf'))\n",
    "            mask.scatter_(dim=-1, index=top_k_indices, src=top_k_logits)\n",
    "            next_token_logits = mask\n",
    "\n",
    "        # Convert logits to probabilities\n",
    "        next_token_probs = F.softmax(next_token_logits, dim=-1)\n",
    "\n",
    "        # Sample from the probability distribution\n",
    "        next_token = torch.multinomial(next_token_probs, num_samples=1)  # (batch_size, 1)\n",
    "        \n",
    "        # Get the most likely next token\n",
    "        # next_token = torch.argmax(next_token_logits, dim=-1, keepdim=True)\n",
    "\n",
    "        # Append the generated token to the sequence\n",
    "        generated_sequences = torch.cat([generated_sequences, next_token], dim=1)\n",
    "\n",
    "        # Check if all sequences have reached the end token\n",
    "        if all(next_token[i].item() == EOS for i in range(batch_size)):\n",
    "            break\n",
    "\n",
    "    # Decode the generated sequences into SMILES strings\n",
    "    generated_smiles = []\n",
    "    for seq in generated_sequences:\n",
    "        # Convert indices to characters, ignoring padding and start tokens\n",
    "        # check if the generated sequence contains the end token, if meet, stop decoding\n",
    "        smiles = ''\n",
    "        for idx in seq:\n",
    "            if idx.item() == EOS:\n",
    "                break\n",
    "            elif idx.item() != PAD and idx.item() != SOS:\n",
    "                smiles += vocab.itos[idx.item()]\n",
    "        generated_smiles.append(smiles)\n",
    "\n",
    "    return generated_smiles\n"
   ]
  },
  {
   "cell_type": "code",
   "execution_count": 12,
   "metadata": {},
   "outputs": [
    {
     "name": "stderr",
     "output_type": "stream",
     "text": [
      "100%|██████████| 272/272 [06:40<00:00,  1.47s/it]\n"
     ]
    }
   ],
   "source": [
    "# generate the smiles for the test dataset\n",
    "generated_smile = []\n",
    "target_smile = []\n",
    "for i, (zeo, syn, tgt) in enumerate(tqdm(test_dataloader)):\n",
    "    zeo = zeo.to(device)\n",
    "    syn = syn.to(device)\n",
    "    tgt = tgt.to(device)\n",
    "    condition_synthesis = torch.cat([zeo, syn], dim=1)\n",
    "    generated_smiles = generate_gpt(model, tgt[:, :2], condition_synthesis, MAX_LEN, vocab, device, 0.5)\n",
    "    generated_smile.extend(generated_smiles)\n",
    "    # convert the tgt to smiles\n",
    "    tgt_smiles = []\n",
    "    for seq in tgt:\n",
    "        smiles = ''\n",
    "        for idx in seq:\n",
    "            if idx.item() == EOS:\n",
    "                break\n",
    "            elif idx.item() != PAD and idx.item() != SOS:\n",
    "                smiles += vocab.itos[idx.item()]\n",
    "        tgt_smiles.append(smiles)\n",
    "    target_smile.extend(tgt_smiles)"
   ]
  },
  {
   "cell_type": "code",
   "execution_count": 13,
   "metadata": {},
   "outputs": [
    {
     "name": "stderr",
     "output_type": "stream",
     "text": [
      "[15:10:25] SMILES Parse Error: extra open parentheses for input: 'C(CCCCNCCCC'\n",
      "[15:10:25] SMILES Parse Error: extra open parentheses for input: 'N(CCCCC'\n",
      "[15:10:25] SMILES Parse Error: extra open parentheses for input: 'C(CCCCNCCCC'\n",
      "[15:10:25] SMILES Parse Error: extra open parentheses for input: 'C(CCCCNCCCC'\n",
      "[15:10:25] SMILES Parse Error: extra open parentheses for input: 'N(CCCCC'\n",
      "[15:10:25] SMILES Parse Error: extra open parentheses for input: 'C(CCCCNCCCC'\n"
     ]
    },
    {
     "name": "stdout",
     "output_type": "stream",
     "text": [
      "Validity rate: 0.9741379310344828\n",
      "Uniqueness rate: 0.646551724137931\n",
      "Novelty rate: 0.38666666666666666\n",
      "Reconstructability rate: 0.6133333333333333\n",
      "Novelty rate: 0.38666666666666666\n",
      "IntDiv: 0.6954749271482998\n"
     ]
    },
    {
     "name": "stderr",
     "output_type": "stream",
     "text": [
      "[15:10:28] SMILES Parse Error: unclosed ring for input: 'C1CCC2CC3CC([N+]2(CC)C1)CC1N3CCCC1C2'\n",
      "[15:10:28] SMILES Parse Error: unclosed ring for input: 'C1C2CC3CC([N+]2(CC)CCC1)CC1N3CCCC1C2'\n",
      "[15:10:28] SMILES Parse Error: extra open parentheses for input: 'C(CCCCC[N+](C)(Cc1ccc(C[N+](C)(CCCCCCN(C)C)C)cc1)N(C)C'\n",
      "[15:10:28] SMILES Parse Error: extra open parentheses for input: 'N(CCCCCC[N+](C)(Cc1ccc(C[N+](C)(C)CCCCCCN(C)C)cc1)(C)C'\n",
      "[15:10:28] Can't kekulize mol.  Unkekulized atoms: 0 12 13 14 28\n",
      "[15:10:28] SMILES Parse Error: extra open parentheses for input: 'N(C)(CCCCCC[N+](Cc1ccc(C[N+](C)(CCCCCCN(C)C)C)cc1)(C)C'\n",
      "[15:10:28] SMILES Parse Error: unclosed ring for input: 'C1CCCCC1CCCCC[N+]1(C)Cc1ccccc1'\n",
      "[15:10:28] SMILES Parse Error: unclosed ring for input: 'C1CCCCC1CCCC[N+]1(C)Cc1ccccc1'\n",
      "[15:10:28] SMILES Parse Error: extra open parentheses for input: 'C1CCCCCC([N+](C)(CCCCCC2CCCC[N+](C)(Cc3ccccc3)CC2)C1'\n",
      "[15:10:28] SMILES Parse Error: unclosed ring for input: 'C1CCCCC1CCCC[N+]1(Cc1ccccc1)C'\n",
      "[15:10:28] SMILES Parse Error: unclosed ring for input: 'C1CCCCC1CCCC[N+]1(Cc1ccccc1)C'\n",
      "[15:10:28] SMILES Parse Error: extra close parentheses while parsing: [N+]1(C)(C)CC2C(C3C=CC2C2C4C3C[N+](C)(C)C4)C2)C1\n",
      "[15:10:28] SMILES Parse Error: Failed parsing SMILES '[N+]1(C)(C)CC2C(C3C=CC2C2C4C3C[N+](C)(C)C4)C2)C1' for input: '[N+]1(C)(C)CC2C(C3C=CC2C2C4C3C[N+](C)(C)C4)C2)C1'\n",
      "[15:10:28] SMILES Parse Error: unclosed ring for input: 'C1CCC(C)(C)C[n+]1ccn(CC(C)(C)C)c1'\n",
      "[15:10:28] SMILES Parse Error: extra close parentheses while parsing: C(CCCCC)CC[N+](CCCCCC[N+](C)(C)CCCCCCCCCCCCCCC)(C)C)CC\n",
      "[15:10:28] SMILES Parse Error: Failed parsing SMILES 'C(CCCCC)CC[N+](CCCCCC[N+](C)(C)CCCCCCCCCCCCCCC)(C)C)CC' for input: 'C(CCCCC)CC[N+](CCCCCC[N+](C)(C)CCCCCCCCCCCCCCC)(C)C)CC'\n",
      "[15:10:28] SMILES Parse Error: unclosed ring for input: 'C12C3C=CC(C1C[N+](C)(C)C2)C1C2C[N+](C)(C)CC31'\n",
      "[15:10:28] SMILES Parse Error: extra open parentheses for input: 'C1C2CC[N+](C)(CCCCCC[N+]3(C)CCC(CCC2)C1'\n",
      "[15:10:28] SMILES Parse Error: extra open parentheses for input: 'C1C2CCCC3CC[N+](C)(Cc4ccc(cc4)C[N+](C)(Cc4ccc(cc4)C2)C1'\n",
      "[15:10:28] SMILES Parse Error: extra open parentheses for input: 'C1C2CC[N+](C)(Cc3ccc(cc3)C[N+]3(C)CCC(CCC2)C1'\n",
      "[15:10:28] Can't kekulize mol.  Unkekulized atoms: 0 1 10 11 13\n",
      "[15:10:28] Can't kekulize mol.  Unkekulized atoms: 0 1 10 11 13\n",
      "[15:10:28] Can't kekulize mol.  Unkekulized atoms: 0 1 10 11 13\n",
      "[15:10:28] SMILES Parse Error: extra open parentheses for input: 'c1[n+](C)cn(Cc2cc3c(cccc32)c1'\n",
      "[15:10:28] SMILES Parse Error: extra open parentheses for input: '[N+](C)(C)(CCC[N+](C)(CCC[N+](C)(C)C)C'\n",
      "[15:10:28] SMILES Parse Error: unclosed ring for input: 'C1C2CCC(C2)C2CCC[N+]1(C)C'\n",
      "[15:10:28] SMILES Parse Error: extra close parentheses while parsing: C1CCCC2CC([N+]12CC)CC)C2(C)C\n",
      "[15:10:28] SMILES Parse Error: Failed parsing SMILES 'C1CCCC2CC([N+]12CC)CC)C2(C)C' for input: 'C1CCCC2CC([N+]12CC)CC)C2(C)C'\n",
      "[15:10:28] SMILES Parse Error: unclosed ring for input: 'C1CCC2CCC1[N+]2(CCCC2)CC'\n",
      "[15:10:28] SMILES Parse Error: unclosed ring for input: 'C1CC2CCC(C1)[N+]2(CCCC2)C'\n",
      "[15:10:28] SMILES Parse Error: unclosed ring for input: 'C1CCC2CCC1[N+]2(CCCC2)C'\n",
      "[15:10:28] Can't kekulize mol.  Unkekulized atoms: 0 1 2 3 4\n",
      "[15:10:28] SMILES Parse Error: extra open parentheses for input: 'N(C(=N)N'\n",
      "[15:10:28] SMILES Parse Error: unclosed ring for input: 'CC1C2CC(C2(C)C)[N+]2(CC)CCC1'\n",
      "[15:10:28] SMILES Parse Error: unclosed ring for input: 'C12CC(CCC1)C2([N+](C)(C)C)CCC1'\n",
      "[15:10:28] SMILES Parse Error: unclosed ring for input: 'C1CC2CC(C2(C)C)[N+]2(CC)C1'\n",
      "[15:10:28] SMILES Parse Error: extra open parentheses for input: 'C(NC)(C(O)c1ccccc1'\n",
      "[15:10:29] Can't kekulize mol.  Unkekulized atoms: 11 12 23\n",
      "[15:10:29] SMILES Parse Error: unclosed ring for input: 'C12C(C3C=CC1C1C3C2C[N+](C)(C)C1)C[N+](C)(C)C3'\n",
      "[15:10:29] SMILES Parse Error: extra open parentheses for input: 'C1C2CC3CC(C2)CC1(n1c[n+](C24CC5CC(CC(C4)C5)cc1)C3'\n",
      "[15:10:29] SMILES Parse Error: extra close parentheses while parsing: C(N(CCCC)CCCCCN(CCCC)CCCC)CCCC)CC\n",
      "[15:10:29] SMILES Parse Error: Failed parsing SMILES 'C(N(CCCC)CCCCCN(CCCC)CCCC)CCCC)CC' for input: 'C(N(CCCC)CCCCCN(CCCC)CCCC)CCCC)CC'\n",
      "[15:10:29] SMILES Parse Error: extra open parentheses for input: 'C([N+](C)(C)CC[N+](C)(C)CCC'\n",
      "[15:10:29] SMILES Parse Error: extra close parentheses while parsing: C(CN(CCCCCN(CCCCC)CCCCC)CCCCC)CCCCC)C\n",
      "[15:10:29] SMILES Parse Error: Failed parsing SMILES 'C(CN(CCCCCN(CCCCC)CCCCC)CCCCC)CCCCC)C' for input: 'C(CN(CCCCCN(CCCCC)CCCCC)CCCCC)CCCCC)C'\n",
      "[15:10:29] SMILES Parse Error: extra open parentheses for input: 'C(CN(CCCCCN(CCCCCN(CCCCC)CCCCC)CCCCC)CC'\n",
      "[15:10:29] SMILES Parse Error: extra open parentheses for input: 'C(CCCCCCCCCCCCCCCCCC[N+](C)(CC[N+](CCCCCCCC)(C)C)C'\n",
      "[15:10:29] SMILES Parse Error: extra open parentheses for input: 'C(CCCCCCCCCCCCCCCCCC[N+](CC[N+](CCCCCCCC)(C)C)(C)C'\n",
      "[15:10:29] SMILES Parse Error: extra open parentheses for input: 'C(CCCCCCCCCCCCCCCCCC[N+](C)(C)CC[N+](CCCCCCCC)(C)C'\n",
      "[15:10:29] SMILES Parse Error: extra open parentheses for input: 'c1cccc(C[N+](C)(CC[N+](Cc2ccccc2)(C)C)C1'\n",
      "[15:10:29] SMILES Parse Error: extra open parentheses for input: 'c1cccc(C[N+](C)(CC[N+](Cc2ccccc2)(C)C)C1'\n",
      "[15:10:29] SMILES Parse Error: unclosed ring for input: '[N+]12(CCCCC1)Cc1ccc(C[N+]34CCC(CC3)CC4)cc1'\n",
      "[15:10:29] SMILES Parse Error: unclosed ring for input: 'N12CC[N+](Cc3ccccc3C1)(CC1)CC2'\n",
      "[15:10:29] SMILES Parse Error: extra open parentheses for input: 'C12C=CC(C3C4C3C[N+](C)(C)CC4C1C1C2C[N+](C)(C)C1'\n",
      "[15:10:29] SMILES Parse Error: unclosed ring for input: '[N+]1(C)(C)CC2C(C3C=CC2C2C3C[N+](C)(C)CC22)C1'\n",
      "[15:10:29] SMILES Parse Error: unclosed ring for input: 'C12C3C(C3C4C5C[N+](C)(C)CC5C(C13)C=C4)C[N+](C)(C)C2'\n",
      "[15:10:29] SMILES Parse Error: unclosed ring for input: 'C12C3C(C4C3C[N+](C)(C)C3)C(C=C1)C1C2C[N+](C)(C)C1'\n",
      "[15:10:29] Explicit valence for atom # 2 N, 6, is greater than permitted\n",
      "[15:10:29] SMILES Parse Error: extra open parentheses for input: 'P(N(C)(P(N(C)C)(=NC(C)(C)C)N(C)C'\n",
      "[15:10:29] SMILES Parse Error: extra open parentheses for input: 'N(P(N(P(C)C)(N(C)C)(=NC(C)(C)C)C'\n",
      "[15:10:29] SMILES Parse Error: extra open parentheses for input: 'C1CCC2CC3CC(C2)CC1(n1cc[n+](C24CC5CC(CC(C4)C5)C3)c1'\n",
      "[15:10:29] SMILES Parse Error: unclosed ring for input: 'C1C2C[N+]3(C)C(C(CN2CCC1)C2)CCCC3'\n",
      "[15:10:29] SMILES Parse Error: unclosed ring for input: 'C1CC[N+]2(C)C(CC3CC2CCCCN23)C1'\n",
      "[15:10:29] SMILES Parse Error: unclosed ring for input: 'C1C2([n+]3cn(C45CC6CC(CC(C2)C4)C5)cc3)CC3CC1CC(C2)C3'\n",
      "[15:10:29] SMILES Parse Error: unclosed ring for input: 'c1ccccc1ncc1'\n",
      "[15:10:29] Can't kekulize mol.  Unkekulized atoms: 0 1 2 6 8\n",
      "[15:10:29] SMILES Parse Error: unclosed ring for input: 'C1CCC[N+]1(CC)CCCC(C)(C)C1'\n",
      "[15:10:29] SMILES Parse Error: extra open parentheses for input: 'CC([N+](C)(C(C)C)C'\n",
      "[15:10:29] SMILES Parse Error: extra open parentheses for input: 'CC([N+](C(C)C)(CC)C'\n",
      "[15:10:29] SMILES Parse Error: unclosed ring for input: 'C1C2CC(C3CCCC23)C2C([N+](C)(C)C)C1'\n",
      "[15:10:29] SMILES Parse Error: extra open parentheses for input: 'C1C2CC(C2(C[N+](C)(C)C)CC1(C)C'\n",
      "[15:10:29] SMILES Parse Error: unclosed ring for input: 'C1=CC2C3C[NH3+]'\n",
      "[15:10:29] SMILES Parse Error: extra open parentheses for input: 'C(C(N)(C)N'\n",
      "[15:10:29] SMILES Parse Error: unclosed ring for input: 'C1N2CCOCCOCCOCCOCCOCC1'\n",
      "[15:10:29] SMILES Parse Error: unclosed ring for input: 'C12C(C[N+](C)(C)C3)C1C=CC(C21)C1C[N+](C)(C)CC31'\n",
      "[15:10:29] SMILES Parse Error: unclosed ring for input: '[n+]1(C)ccc(-c2c3nc(c(-c4cc[n+](C)cc4)c4ccc(c(-c5cc[n+](C)cc5)c5ccc([nH]5)c2-c2cc[n+](C)cc2[nH]5)C=C4)[nH]3)C=C(C)c1'\n",
      "[15:10:29] SMILES Parse Error: unclosed ring for input: 'c1(-c2c3nc(c(-c4cc[n+](C)cc4)c4[nH]c(cc4)c(-c3cc[n+](C)cc3)c3nc(c(-c4cc[n+](C)cc4)c4[nH]c2cc4)ccc4[nH]4)C=C3)cc[nH]1'\n",
      "[15:10:29] Can't kekulize mol.  Unkekulized atoms: 0 1 46 47 48\n",
      "[15:10:29] SMILES Parse Error: extra close parentheses while parsing: c1cc(-c2c3nc(c(-c4cc[n+](C)cc4)c4ccc(c(-c5cc[n+](C)cc5)c5nc(c(-c6cc[n+](C)cc6)c6[nH]c2cc6)ccc6[nH]6)C=C4)cc4)c3)C=C1\n",
      "[15:10:29] SMILES Parse Error: Failed parsing SMILES 'c1cc(-c2c3nc(c(-c4cc[n+](C)cc4)c4ccc(c(-c5cc[n+](C)cc5)c5nc(c(-c6cc[n+](C)cc6)c6[nH]c2cc6)ccc6[nH]6)C=C4)cc4)c3)C=C1' for input: 'c1cc(-c2c3nc(c(-c4cc[n+](C)cc4)c4ccc(c(-c5cc[n+](C)cc5)c5nc(c(-c6cc[n+](C)cc6)c6[nH]c2cc6)ccc6[nH]6)C=C4)cc4)c3)C=C1'\n",
      "[15:10:29] SMILES Parse Error: syntax error while parsing: c1c(-c2c3nc(c(-c4cc[n+](C)cc4)c4ccc(c(-c5cc[n+](C)cc5)c5nc(c(-c6cc[n+](C)cc6)c6[nH]c2cc6[nH]6)c1nH]4)C=C3)cc[n+](C\n",
      "[15:10:29] SMILES Parse Error: Failed parsing SMILES 'c1c(-c2c3nc(c(-c4cc[n+](C)cc4)c4ccc(c(-c5cc[n+](C)cc5)c5nc(c(-c6cc[n+](C)cc6)c6[nH]c2cc6[nH]6)c1nH]4)C=C3)cc[n+](C' for input: 'c1c(-c2c3nc(c(-c4cc[n+](C)cc4)c4ccc(c(-c5cc[n+](C)cc5)c5nc(c(-c6cc[n+](C)cc6)c6[nH]c2cc6[nH]6)c1nH]4)C=C3)cc[n+](C'\n",
      "[15:10:29] SMILES Parse Error: unclosed ring for input: 'c1c(-c2c3nc(c(-c4cc[n+](C)cc4)c4ccc([nH]4)c(-c3cc[n+](C)cc3)c4nc(c(-c5cc[n+](C)cc5)c5[nH]c2cc6)C=C4)[nH]3)cc[n+]1C'\n",
      "[15:10:29] SMILES Parse Error: extra close parentheses while parsing: c12nc(c(-c3cc[n+](C)cc3)c3ccc(c(-c4cc[n+](C)cc4)c4nc(c(-c5cc[n+](C)cc5[nH]c(c(-c6cc[n+](C)cc6)c6nc1C=C2)[nH]4)C=C3)cccc2)c2)ccc2)cccccccccccc2)cc[nH](ccccccc2)cccccc[nH](ccccc2)cccccc2)cccc[nH](cc2\n",
      "[15:10:29] SMILES Parse Error: Failed parsing SMILES 'c12nc(c(-c3cc[n+](C)cc3)c3ccc(c(-c4cc[n+](C)cc4)c4nc(c(-c5cc[n+](C)cc5[nH]c(c(-c6cc[n+](C)cc6)c6nc1C=C2)[nH]4)C=C3)cccc2)c2)ccc2)cccccccccccc2)cc[nH](ccccccc2)cccccc[nH](ccccc2)cccccc2)cccc[nH](cc2' for input: 'c12nc(c(-c3cc[n+](C)cc3)c3ccc(c(-c4cc[n+](C)cc4)c4nc(c(-c5cc[n+](C)cc5[nH]c(c(-c6cc[n+](C)cc6)c6nc1C=C2)[nH]4)C=C3)cccc2)c2)ccc2)cccccccccccc2)cc[nH](ccccccc2)cccccc[nH](ccccc2)cccccc2)cccc[nH](cc2'\n",
      "[15:10:29] SMILES Parse Error: extra open parentheses for input: 'c1cc(-c2c3nc(c(-c4cc[n+](C)cc4)c4[nH]c(c(-c5cc[n+](C)cc5)c5nc(c(-c6cc[n+](C)cc6)c6[nH]c2cc6)ccc2[nH]4)C=C3)ccc[nH]1'\n",
      "[15:10:29] SMILES Parse Error: unclosed ring for input: 'c1cc(-c2c3nc(c(-c4cc[n+](C)cc4)c4[nH]c(cc4)c(-c3cc[n+](C)cc4)c4nc(c(-c5cc[n+](C)cc5)c6[nH]c2cc6)C=C4)C=C3)cc[n+]1C'\n",
      "[15:10:29] SMILES Parse Error: unclosed ring for input: 'c1c[n+](C)ccc1-c1c2nc(c(-c3cc[n+](C)cc3)c3[nH]c(cc3)c(-c3cc[n+](C)cc3)c3nc(c(-c4cc[n+](C)cc4)c4[nH]c1n2)C=C3)cc[nH]3'\n",
      "[15:10:29] SMILES Parse Error: extra open parentheses for input: 'c12nc(c(-c3cc[n+](C)cc3)c3ccc(c(-c4cc[n+](C)cc4)c4nc(c(-c5cc[n+](C)cc5cc(c(-c6cc[n+](C)cc6)c6[nH]c1n2)C=C4)[nH]3)cc1'\n",
      "[15:10:29] SMILES Parse Error: unclosed ring for input: 'c1c(-c2c3nc(c(-c4cc[n+](C)cc4)c4ccc(c(-c5cc[n+](C)cc5)c5nc(c2-c2cc[n+](C)cc6)c6[nH]c2cc6[nH]6)C=C4)[nH]3)cc[n+](C)c1'\n",
      "[15:10:29] SMILES Parse Error: extra open parentheses for input: 'c1c2[nH]c1c(-c1cc[n+](C)cc1)c1nc(c(-c3cc[n+](C)cc3)c3[nH]c(c(-c4cc[n+](C)cc4)c4nc(c2-c2cc[n+](C)cc2)C=C3)cc[n+](C)c1'\n",
      "[15:10:29] SMILES Parse Error: extra open parentheses for input: 'c1(-c2c3nc(c(-c4cc[n+](C)cc4)c4ccc(c(-c5cc[n+](C)cc5)c5nc(c(-c6cc[n+](C)cc6)c6[nH]c2[nH]6)C=C5)[nH]4)C=C3)cc[n+](C'\n",
      "[15:10:29] SMILES Parse Error: extra close parentheses while parsing: c1c(-c2c3nc(c(-c4cc[n+](C)cc4)c4ccc([nH]4)c(-c3cc[n+](C)cc3)c4nc(c(-c5cc[n+](C)cc6)c5ccc2[nH]6)C=C4)[nH]3)C=C3)cc1\n",
      "[15:10:29] SMILES Parse Error: Failed parsing SMILES 'c1c(-c2c3nc(c(-c4cc[n+](C)cc4)c4ccc([nH]4)c(-c3cc[n+](C)cc3)c4nc(c(-c5cc[n+](C)cc6)c5ccc2[nH]6)C=C4)[nH]3)C=C3)cc1' for input: 'c1c(-c2c3nc(c(-c4cc[n+](C)cc4)c4ccc([nH]4)c(-c3cc[n+](C)cc3)c4nc(c(-c5cc[n+](C)cc6)c5ccc2[nH]6)C=C4)[nH]3)C=C3)cc1'\n",
      "[15:10:29] SMILES Parse Error: unclosed ring for input: 'c1cc(-c2c3nc(c(-c4cc[n+](C)cc4)c4ccc(c(-c5cc[n+](C)cc5)c5nc(c(-c6cc[n+](C)cc6)c6[nH]c2cc6)cccc6)cc4)C=C3)cc[n+](C)c1'\n",
      "[15:10:29] SMILES Parse Error: extra open parentheses for input: 'c1c(-c2c3nc(c(-c4cc[n+](C)cc4)c4ccc(c(-c5cc[n+](C)cc5)c5nc(c(-c6cc[n+](C)cc6)c6[nH]c2cc6[nH]6)C=C4)[nH]3)cc[n+](C)c1'\n",
      "[15:10:29] Can't kekulize mol.  Unkekulized atoms: 0 1 3 4 5 13 14 15 16 24 25 26 27 29 37 38 39 42 43\n",
      "[15:10:29] SMILES Parse Error: unclosed ring for input: 'c1cc(-c2c3nc(c(-c4cc[n+](C)cc4)c4ccc([nH]4)c(-c3cc[n+](C)cc3)c3nc(c(-c5cc[n+](C)cc5)c6[nH]c2cc6)C=C4)C=C3)cc[n+]1C'\n",
      "[15:10:29] Can't kekulize mol.  Unkekulized atoms: 0 1 47 48 49 51 52\n",
      "[15:10:29] SMILES Parse Error: extra close parentheses while parsing: c12c(-c3cc[n+](C)cc3)c3ccc([nH]3)c(-c3cc[n+](C)cc3)c3nc(c(-c4cc[n+](C)cc4)c4ccc(c(-c5cc[n+](C)cc5)[nH]4)C=C3)c1)C=C2\n",
      "[15:10:29] SMILES Parse Error: Failed parsing SMILES 'c12c(-c3cc[n+](C)cc3)c3ccc([nH]3)c(-c3cc[n+](C)cc3)c3nc(c(-c4cc[n+](C)cc4)c4ccc(c(-c5cc[n+](C)cc5)[nH]4)C=C3)c1)C=C2' for input: 'c12c(-c3cc[n+](C)cc3)c3ccc([nH]3)c(-c3cc[n+](C)cc3)c3nc(c(-c4cc[n+](C)cc4)c4ccc(c(-c5cc[n+](C)cc5)[nH]4)C=C3)c1)C=C2'\n",
      "[15:10:29] SMILES Parse Error: unclosed ring for input: 'c1cc(-c2c3nc(c(-c4cc[n+](C)cc4)c4[nH]c(c(-c5cc[n+](C)cc5)c5nc(c(-c6cc[n+](C)cc6)c6[nH]c2cc6)cc4)cccc4)C=C3)ccc[n+]1'\n",
      "[15:10:29] SMILES Parse Error: syntax error while parsing: c1cc(-c2c3nc(c(-c4cc[n+](C)cc4)c4ccc([nH]4)c(-c3cc[n+](C)cc3)c3nc(c(-c5cc[n+](C)cc5)c5[nH]c2-c2cc6)C=C4)[nH]3)cc[nH]1C=C]1)cccccccccccc[nH]1)cccccccc[n+](ccccccccccccccccc[n+](cccccccc[n+](ccccccccc[n+](c2)cccccc[n+](cc\n",
      "[15:10:29] SMILES Parse Error: Failed parsing SMILES 'c1cc(-c2c3nc(c(-c4cc[n+](C)cc4)c4ccc([nH]4)c(-c3cc[n+](C)cc3)c3nc(c(-c5cc[n+](C)cc5)c5[nH]c2-c2cc6)C=C4)[nH]3)cc[nH]1C=C]1)cccccccccccc[nH]1)cccccccc[n+](ccccccccccccccccc[n+](cccccccc[n+](ccccccccc[n+](c2)cccccc[n+](cc' for input: 'c1cc(-c2c3nc(c(-c4cc[n+](C)cc4)c4ccc([nH]4)c(-c3cc[n+](C)cc3)c3nc(c(-c5cc[n+](C)cc5)c5[nH]c2-c2cc6)C=C4)[nH]3)cc[nH]1C=C]1)cccccccccccc[nH]1)cccccccc[n+](ccccccccccccccccc[n+](cccccccc[n+](ccccccccc[n+](c2)cccccc[n+](cc'\n",
      "[15:10:29] SMILES Parse Error: unclosed ring for input: 'c12c(-c3cc[n+](C)cc3)c3ccc([nH]3)c(-c3cc[n+](C)cc3)c3nc(c(-c4cc[n+](C)cc4)c4ccc([nH]4)c1-c1cc[n+](C)cc2)[nH]3'\n",
      "[15:10:29] SMILES Parse Error: unclosed ring for input: 'c1cc(-c2c3nc(c(-c4cc[n+](C)cc4)c4[nH]c(cc4)c(-c3cc[n+](C)cc3)c4nc(c(-c5cc[n+](C)cc5)ccc2[nH]5)C=C4)cc3)ccc[n+](C)cc1'\n",
      "[15:10:29] SMILES Parse Error: extra open parentheses for input: 'c1c(-c2c3nc(c(-c4cc[n+](C)cc4)c4ccc(c(-c5cc[n+](C)cc5)c5nc(c(-c6cc[n+](C)cc6)c6[nH]c2cc6[nH]6)C=C4)[nH]3)cc[n+](C)c1'\n",
      "[15:10:29] SMILES Parse Error: unclosed ring for input: 'c1c(-c2c3nc(c(-c4cc[n+](C)cc4)c4[nH]c(cc4)c(-c3cc[n+](C)cc3)c4nc(c(-c5cc[n+](C)cc5)c5[nH]c2cc6)C=C4)cc3)cc[n+](C)cc1'\n",
      "[15:10:29] SMILES Parse Error: extra close parentheses while parsing: C1=Cc2c(-c3cc[n+](C)cc3)c3ccc([nH]3)c(-c3cc[n+](C)cc3)c3nc(c(-c4cc[n+](C)cc4)c4[nH]c(c2-c2cc[n+](C)cc2)C=C4)[nH]3)c1\n",
      "[15:10:29] SMILES Parse Error: Failed parsing SMILES 'C1=Cc2c(-c3cc[n+](C)cc3)c3ccc([nH]3)c(-c3cc[n+](C)cc3)c3nc(c(-c4cc[n+](C)cc4)c4[nH]c(c2-c2cc[n+](C)cc2)C=C4)[nH]3)c1' for input: 'C1=Cc2c(-c3cc[n+](C)cc3)c3ccc([nH]3)c(-c3cc[n+](C)cc3)c3nc(c(-c4cc[n+](C)cc4)c4[nH]c(c2-c2cc[n+](C)cc2)C=C4)[nH]3)c1'\n",
      "[15:10:29] SMILES Parse Error: unclosed ring for input: 'c1cc(-c2c3nc(c(-c4cc[n+](C)cc4)c4ccc([nH]4)c(-c3cc[n+](C)cc3)c3nc(c(-c5cc[n+](C)cc5)c6ccc2[nH]5)C=C4)C=C3)cc[n+]1C'\n",
      "[15:10:29] SMILES Parse Error: extra open parentheses for input: 'c1(-c2c3nc(c(-c4cc[n+](C)cc4)c4ccc([nH]4)c(-c3cc[n+](C)cc3)c3nc(c(-c4cc[n+](C)cc4)c4ccc2[nH]4)C=C3)[nH](C)cc[n+]1C'\n",
      "[15:10:29] SMILES Parse Error: unclosed ring for input: 'c1(-c2c3nc(c(-c4cc[n+](C)cc4)c4ccc(c(-c5cc[n+](C)cc5)c5nc(c(-c6cc[n+](C)cc6)c2[nH]6)ccc2[nH]6)C=C4)[nH]3)cc[n+](C)c1'\n",
      "[15:10:29] SMILES Parse Error: unclosed ring for input: 'c1c(-c2c3nc(c(-c4cc[n+](C)cc4)c4ccc([nH]4)c(-c3cc[n+](C)cc3)c4nc(c(-c5cc[n+](C)cc5)c5[nH]c2cc6)C=C4)[nH]3)cc[n+]1C'\n",
      "[15:10:29] SMILES Parse Error: extra close parentheses while parsing: c1c2c(-c3cc[n+](C)cc3)c3ccc(c(-c4cc[n+](C)cc4)c4nc(c(-c5cc[n+](C)cc5)c5ccc(c2-c2cc[n+](C)cc2)c1[nH]5)C=C4)[nH]3)C=C2\n",
      "[15:10:29] SMILES Parse Error: Failed parsing SMILES 'c1c2c(-c3cc[n+](C)cc3)c3ccc(c(-c4cc[n+](C)cc4)c4nc(c(-c5cc[n+](C)cc5)c5ccc(c2-c2cc[n+](C)cc2)c1[nH]5)C=C4)[nH]3)C=C2' for input: 'c1c2c(-c3cc[n+](C)cc3)c3ccc(c(-c4cc[n+](C)cc4)c4nc(c(-c5cc[n+](C)cc5)c5ccc(c2-c2cc[n+](C)cc2)c1[nH]5)C=C4)[nH]3)C=C2'\n",
      "[15:10:29] SMILES Parse Error: unclosed ring for input: 'C1=Cc2nc1c(-c1cc[n+](C)cc1)c1[nH]c(cc1)c(-c3cc[n+](C)cc3)c3nc(c(-c4cc[n+](C)cc4)c4ccc(c2-c2cc[n+](C)cc2)[nH]3)C=C1'\n",
      "[15:10:29] SMILES Parse Error: extra open parentheses for input: 'C1[N+](C)(C)CC2C3C4C5C(C(C=C4)C3C12'\n",
      "[15:10:29] SMILES Parse Error: extra open parentheses for input: 'C([N+](C)(C)CCCCCC[N+](C)(C)C'\n",
      "[15:10:29] SMILES Parse Error: unclosed ring for input: 'C1(C)(C)CC2(C)C3[N+](C)(C)CC(C1)C2'\n",
      "[15:10:29] SMILES Parse Error: extra open parentheses for input: 'N(C)(c1c2c(ccc1)cccc2N(C)C'\n",
      "[15:10:29] SMILES Parse Error: extra open parentheses for input: 'CN(c1cccc2cccc(N(C)C)c12'\n",
      "[15:10:29] SMILES Parse Error: extra open parentheses for input: 'N(C)(c1c2c(ccc1)cccc2N(C)C'\n",
      "[15:10:29] SMILES Parse Error: extra open parentheses for input: 'CC(C)([P+](C)(C(C)(C)C)C(C)(C)C'\n",
      "[15:10:29] SMILES Parse Error: extra open parentheses for input: 'C([P+](c1ccccc1)(CC)c1ccccc1'\n",
      "[15:10:29] SMILES Parse Error: extra close parentheses while parsing: C1C2C3C4C[N+](CC)(C(C)C)C4C(C2C[N+]1(CC)C(C)C)CC)C=C3\n",
      "[15:10:29] SMILES Parse Error: Failed parsing SMILES 'C1C2C3C4C[N+](CC)(C(C)C)C4C(C2C[N+]1(CC)C(C)C)CC)C=C3' for input: 'C1C2C3C4C[N+](CC)(C(C)C)C4C(C2C[N+]1(CC)C(C)C)CC)C=C3'\n",
      "[15:10:29] SMILES Parse Error: extra close parentheses while parsing: C(C)([N+]1(CC)CC2C3C4C[N+](CC)(C(C)C)C)CC4C(C=C3)C2C1)C\n",
      "[15:10:29] SMILES Parse Error: Failed parsing SMILES 'C(C)([N+]1(CC)CC2C3C4C[N+](CC)(C(C)C)C)CC4C(C=C3)C2C1)C' for input: 'C(C)([N+]1(CC)CC2C3C4C[N+](CC)(C(C)C)C)CC4C(C=C3)C2C1)C'\n",
      "[15:10:29] SMILES Parse Error: extra open parentheses for input: 'CC(CC[P+](CCCC[P+](N(C)C)(N(C)C)N(C)C)(N(C)C)N(C)C'\n",
      "[15:10:29] SMILES Parse Error: extra open parentheses for input: 'N(C)([P+](CCCC[P+](N(C)C)(N(C)C)N(C)C)(N(C)C)N(C)C'\n",
      "[15:10:29] SMILES Parse Error: extra close parentheses while parsing: CC([N+]1(CC)CC2C(C3C4C[N+](CC)(C(C)C)C)CC4C2C=C3)C1)C\n",
      "[15:10:29] SMILES Parse Error: Failed parsing SMILES 'CC([N+]1(CC)CC2C(C3C4C[N+](CC)(C(C)C)C)CC4C2C=C3)C1)C' for input: 'CC([N+]1(CC)CC2C(C3C4C[N+](CC)(C(C)C)C)CC4C2C=C3)C1)C'\n",
      "[15:10:29] SMILES Parse Error: extra close parentheses while parsing: CC([N+]1(CC)CC2C(C3C4C[N+](CC)(C(C)C)C)CC4C2C=C3)C1)C\n",
      "[15:10:29] SMILES Parse Error: Failed parsing SMILES 'CC([N+]1(CC)CC2C(C3C4C[N+](CC)(C(C)C)C)CC4C2C=C3)C1)C' for input: 'CC([N+]1(CC)CC2C(C3C4C[N+](CC)(C(C)C)C)CC4C2C=C3)C1)C'\n",
      "[15:10:29] SMILES Parse Error: extra open parentheses for input: 'CC(C)(C)[P+](C(C)(C)C)(C(C)(C)C)CCCC[P+](C(C)(C)C)(C(C)C'\n",
      "[15:10:29] SMILES Parse Error: extra open parentheses for input: 'CC([P+](CCCC[P+](C(C)(C)C)(C(C)(C)C)C(C)(C)C)(C(C)(C)C)C(C)C'\n",
      "[15:10:29] SMILES Parse Error: extra open parentheses for input: 'CC(C)(C)[P+](C(C)(C)C)(C(C)(C)C)CCCC[P+](C(C)(C)C)(C(C)C'\n",
      "[15:10:29] SMILES Parse Error: extra open parentheses for input: '[P+](C(C)(C)C)(C(C)(C)C)(C(C)(C)C)CCCC[P+](C(C)(C)C)(C(C)C'\n",
      "[15:10:29] SMILES Parse Error: extra open parentheses for input: 'CC(C)(C)[P+](C(C)(C)C)(C(C)(C)C)CCCC[P+](C(C)(C)C)(C(C)C(C)C'\n",
      "[15:10:29] SMILES Parse Error: unclosed ring for input: 'c12c(cccc1)C[N+]1(C2)CCCC2C1C'\n",
      "[15:10:29] SMILES Parse Error: extra open parentheses for input: 'C([P+](c1ccccc1)(CC)c1ccccc1'\n",
      "[15:10:29] SMILES Parse Error: extra open parentheses for input: 'C([P+](c1ccccc1)(CC)c1ccccc1'\n",
      "[15:10:29] SMILES Parse Error: extra close parentheses while parsing: C1C2(C)C[N+]3(C(C)CC1(C)C)C2)CCCC3\n",
      "[15:10:29] SMILES Parse Error: Failed parsing SMILES 'C1C2(C)C[N+]3(C(C)CC1(C)C)C2)CCCC3' for input: 'C1C2(C)C[N+]3(C(C)CC1(C)C)C2)CCCC3'\n",
      "[15:10:29] SMILES Parse Error: unclosed ring for input: 'C1CCCC[N+]12CCCC1(C)CC(C)(C)C2'\n",
      "[15:10:29] Can't kekulize mol.  Unkekulized atoms: 6 7 8 9 10 11 12 13 14 15 16\n",
      "[15:10:29] Can't kekulize mol.  Unkekulized atoms: 0 1 2 3 11 12 13 14 15 16 17\n",
      "[15:10:29] Can't kekulize mol.  Unkekulized atoms: 0 1 9 10 12\n",
      "[15:10:29] SMILES Parse Error: ring closure 4 duplicates bond between atom 2 and atom 3 for input: 'C12C3C4C4C[N+](CC)(CC)CC4C(C)(C=C3C)C1C[N+](CC)(CC)C2'\n",
      "[15:10:29] SMILES Parse Error: unclosed ring for input: 'C12C3C[N+](C)(C)CC3C(C3C4C[N+](C)(C)CC13)C=C2'\n",
      "[15:10:29] SMILES Parse Error: unclosed ring for input: 'C1C2C3C(C4C=CC3C3C[N+](CC)(CC)C4)C2C[N+]1(CC)CC'\n",
      "[15:10:29] SMILES Parse Error: extra open parentheses for input: 'C1CC2C3C(C4C(C)(CC3C4CCC2)CCC1'\n",
      "[15:10:29] SMILES Parse Error: extra close parentheses while parsing: C12C3C(C4C[N+](CC)(CC)CC14)C=C2)C1C[N+](CC)(CC)CC31\n",
      "[15:10:29] SMILES Parse Error: Failed parsing SMILES 'C12C3C(C4C[N+](CC)(CC)CC14)C=C2)C1C[N+](CC)(CC)CC31' for input: 'C12C3C(C4C[N+](CC)(CC)CC14)C=C2)C1C[N+](CC)(CC)CC31'\n",
      "[15:10:29] SMILES Parse Error: unclosed ring for input: 'C12C3C(C4C=CC3C3C[N+](CC)(CC)C4)C1C[N+](CC)(CC)C2'\n",
      "[15:10:29] SMILES Parse Error: unclosed ring for input: 'C1C2C3C(CCC2)CCCC2(C)CCCCC3CC1'\n",
      "[15:10:29] SMILES Parse Error: unclosed ring for input: 'C1CCC2C3C(CCC2)CCCC3CCCC12C'\n",
      "[15:10:29] SMILES Parse Error: unclosed ring for input: 'C1C2CCCC3C2C(C)(CCCC3)CCC2C1'\n",
      "[15:10:29] SMILES Parse Error: extra open parentheses for input: 'C1CCC2C3C(C4C(C)(CCCC4)CC2(C)C13'\n",
      "[15:10:29] SMILES Parse Error: unclosed ring for input: 'C1CCC2C3C(C)(CC4CCCC(C2)C134)CCCC4'\n",
      "[15:10:29] SMILES Parse Error: unclosed ring for input: 'C12C3C4C(C1C[N+](CC)(CC)C2)C[N+](CC)(CC)C3'\n",
      "[15:10:29] SMILES Parse Error: extra close parentheses while parsing: C12C3C4C(C3C[N+](CC)(CC)C4)C(C)=C1C)C[N+](CC)(CC)C2\n",
      "[15:10:29] SMILES Parse Error: Failed parsing SMILES 'C12C3C4C(C3C[N+](CC)(CC)C4)C(C)=C1C)C[N+](CC)(CC)C2' for input: 'C12C3C4C(C3C[N+](CC)(CC)C4)C(C)=C1C)C[N+](CC)(CC)C2'\n",
      "[15:10:29] SMILES Parse Error: unclosed ring for input: 'C1CC2C3C(C4C5C[N+](C)(C)CC5C4C2C[N+]1(C)C)C'\n",
      "[15:10:29] SMILES Parse Error: ring closure 3 duplicates bond between atom 6 and atom 7 for input: 'C1CC2CCCC3C3CCCC(CC1)C23CCC3'\n",
      "[15:10:29] SMILES Parse Error: extra close parentheses while parsing: C(c1ccccc1)[N+]12CCc3c(cccc3)CC1)C2\n",
      "[15:10:29] SMILES Parse Error: Failed parsing SMILES 'C(c1ccccc1)[N+]12CCc3c(cccc3)CC1)C2' for input: 'C(c1ccccc1)[N+]12CCc3c(cccc3)CC1)C2'\n",
      "[15:10:29] SMILES Parse Error: extra open parentheses for input: 'C1[N+]2(Cc3c(cccc3)CC2Cc2c(cccc2)C1'\n",
      "[15:10:29] SMILES Parse Error: extra open parentheses for input: 'CC12C3C(C4C[N+](CC)(CC)CC4C(C1C[N+](CC)(CC)C2)C(C)=C3'\n",
      "[15:10:29] SMILES Parse Error: extra open parentheses for input: 'C1C2C3C(CCCC3C3CCCC(C)(C23)CC1'\n",
      "[15:10:29] SMILES Parse Error: unclosed ring for input: 'C12C3C(C[N+](C)(C)C3)C1C1C2C[N+](C)(C)CC1C=C2'\n",
      "[15:10:29] SMILES Parse Error: unclosed ring for input: 'C1CC2C3CCCC4CCCC(CC2(C)CCC1)C3'\n",
      "[15:10:29] SMILES Parse Error: unclosed ring for input: 'C12C3C(C)=CC(C)(C4C[N+](CC)(CC)CC14)C1C[N+](CC)(CC)CC21'\n",
      "[15:10:29] SMILES Parse Error: unclosed ring for input: 'C12C3C(C)=CC(C)(C4C[N+](CC)(CC)CC14)C1C[N+](CC)(CC)CC21'\n",
      "[15:10:29] SMILES Parse Error: unclosed ring for input: 'C12C3C(C)=CC(C)(C4C[N+](CC)(CC)CC13)C1C2C[N+](CC)(CC)C1'\n",
      "[15:10:29] SMILES Parse Error: extra close parentheses while parsing: C12C3C[N+](CC)(CC)CC3C1(C)C=C(C)C)C1C[N+](CC)(CC)CC21\n",
      "[15:10:29] SMILES Parse Error: Failed parsing SMILES 'C12C3C[N+](CC)(CC)CC3C1(C)C=C(C)C)C1C[N+](CC)(CC)CC21' for input: 'C12C3C[N+](CC)(CC)CC3C1(C)C=C(C)C)C1C[N+](CC)(CC)CC21'\n",
      "[15:10:30] SMILES Parse Error: extra open parentheses for input: 'C([P+](CC)(Cc1cc(C[P+](CC)(CC)CC)ccc1)CC'\n",
      "[15:10:30] Can't kekulize mol.  Unkekulized atoms: 0 2 11 12 13\n",
      "[15:10:30] Can't kekulize mol.  Unkekulized atoms: 0 2 11 12 13\n",
      "[15:10:30] SMILES Parse Error: unclosed ring for input: '[NH2+]C=C3'\n",
      "[15:10:30] SMILES Parse Error: unclosed ring for input: '[NH2+]CC=C3'\n",
      "[15:10:30] Can't kekulize mol.  Unkekulized atoms: 2 3 5\n",
      "[15:10:30] Can't kekulize mol.  Unkekulized atoms: 0 1 2 3 4 5 6\n",
      "[15:10:30] Can't kekulize mol.  Unkekulized atoms: 0 1 2 3 4 5 6\n",
      "[15:10:30] Can't kekulize mol.  Unkekulized atoms: 0 1 2 3 4 5 6 7 8 14 15\n",
      "[15:10:30] Can't kekulize mol.  Unkekulized atoms: 0 1 2 3 4 5 6 7 8 14 15\n",
      "[15:10:30] Can't kekulize mol.  Unkekulized atoms: 4 5 6 7 8 9 11 12 13\n",
      "[15:10:30] Can't kekulize mol.  Unkekulized atoms: 4 5 6 7 8 9 11 12 13\n",
      "[15:10:30] Can't kekulize mol.  Unkekulized atoms: 4 5 6 7 8 9 11 12 13\n",
      "[15:10:30] Can't kekulize mol.  Unkekulized atoms: 4 5 6 7 8 9 11 12 13\n",
      "[15:10:30] Can't kekulize mol.  Unkekulized atoms: 5 6 7 8 9 10 11\n",
      "[15:10:30] Can't kekulize mol.  Unkekulized atoms: 4 5 6 7 8 9 11 12 13\n",
      "[15:10:30] Can't kekulize mol.  Unkekulized atoms: 4 5 6 7 8 9 11 12 13\n",
      "[15:10:30] SMILES Parse Error: extra open parentheses for input: 'C(CCCCCCCCCCCCCCCCCCCCCC[N+](C)(C)CCCCCC[N+](C)(C)CCCCCC'\n",
      "[15:10:30] SMILES Parse Error: extra close parentheses while parsing: C(CCCCCCCCCCCCCCCCC))C[N+](C)(C)CCCCCC[N+](CCCCCC)(C)C\n",
      "[15:10:30] SMILES Parse Error: Failed parsing SMILES 'C(CCCCCCCCCCCCCCCCC))C[N+](C)(C)CCCCCC[N+](CCCCCC)(C)C' for input: 'C(CCCCCCCCCCCCCCCCC))C[N+](C)(C)CCCCCC[N+](CCCCCC)(C)C'\n",
      "[15:10:30] Explicit valence for atom # 0 O, 3, is greater than permitted\n",
      "[15:10:30] SMILES Parse Error: extra close parentheses while parsing: C(CCCCCCCCCCCCCCCCC)[N+](CCCCCC[N+](CCCC)(C)CCCCCC)(C)C)(C)C\n",
      "[15:10:30] SMILES Parse Error: Failed parsing SMILES 'C(CCCCCCCCCCCCCCCCC)[N+](CCCCCC[N+](CCCC)(C)CCCCCC)(C)C)(C)C' for input: 'C(CCCCCCCCCCCCCCCCC)[N+](CCCCCC[N+](CCCC)(C)CCCCCC)(C)C)(C)C'\n",
      "[15:10:30] SMILES Parse Error: extra close parentheses while parsing: C(CCN(CCCCCN(CCCC)CCCC)CCCC)CCCC)CC\n",
      "[15:10:30] SMILES Parse Error: Failed parsing SMILES 'C(CCN(CCCCCN(CCCC)CCCC)CCCC)CCCC)CC' for input: 'C(CCN(CCCCCN(CCCC)CCCC)CCCC)CCCC)CC'\n",
      "[15:10:30] SMILES Parse Error: extra close parentheses while parsing: C(CN(CCCCCN(CCCC)CCCC)CCCC)CCCC)C\n",
      "[15:10:30] SMILES Parse Error: Failed parsing SMILES 'C(CN(CCCCCN(CCCC)CCCC)CCCC)CCCC)C' for input: 'C(CN(CCCCCN(CCCC)CCCC)CCCC)CCCC)C'\n",
      "[15:10:30] SMILES Parse Error: extra open parentheses for input: 'C(CCCCCCCCCCCCCCCCCC[N+](CCCCCC[N+](C)(C)CCCCCC)(C)C'\n",
      "[15:10:30] SMILES Parse Error: extra open parentheses for input: 'C(CCCCC[N+](C)(CCCCCC[N+](C)(CCCCCCCCCCCCCCCCCCC)C)C'\n",
      "[15:10:30] SMILES Parse Error: extra open parentheses for input: 'c1cccc([P+](c2ccccc2)(c2ccccc2)c1'\n",
      "[15:10:30] SMILES Parse Error: extra close parentheses while parsing: C(CCCC[N+](CCCC)(CCCC)CCCC)CCCC)C[N+](CCCC)(CCCC)CCCC\n",
      "[15:10:30] SMILES Parse Error: Failed parsing SMILES 'C(CCCC[N+](CCCC)(CCCC)CCCC)CCCC)C[N+](CCCC)(CCCC)CCCC' for input: 'C(CCCC[N+](CCCC)(CCCC)CCCC)CCCC)C[N+](CCCC)(CCCC)CCCC'\n",
      "[15:10:30] SMILES Parse Error: unclosed ring for input: 'C1(C)[N+]2(CCCC)CCC(C)C1'\n",
      "[15:10:30] SMILES Parse Error: extra close parentheses while parsing: C(CCCN(CCCCCN(CCCCC)CCCCC)CCCCC)CCCCC)C\n",
      "[15:10:30] SMILES Parse Error: Failed parsing SMILES 'C(CCCN(CCCCCN(CCCCC)CCCCC)CCCCC)CCCCC)C' for input: 'C(CCCN(CCCCCN(CCCCC)CCCCC)CCCCC)CCCCC)C'\n",
      "[15:10:30] SMILES Parse Error: extra open parentheses for input: 'C(CCCCCC[N+](CCCCCC[N+](CCCCCCCCCCCCCCCCCCC)(C)C)C'\n",
      "[15:10:30] SMILES Parse Error: extra open parentheses for input: 'C(CCCCCCCCCCCCCCCCCCCCCCCC[N+](C)(CCCCCC[N+](C)(C)CCCCCC)C'\n",
      "[15:10:30] SMILES Parse Error: extra open parentheses for input: 'C(CCCCCCCCCCCCCCCCCCCCCC[N+](C)(CCCCCC[N+](CCCCCC)(C)C)C'\n",
      "[15:10:30] SMILES Parse Error: extra open parentheses for input: 'C(CCCCCCCCCCCCCCCCCCCCCCCC)CCCC[N+](CCCCCC[N+](C)(CCCC)C'\n",
      "[15:10:30] SMILES Parse Error: extra open parentheses for input: 'C(CCCCCCCCCCCCCCCCCCCCCC[N+](C)(CCCCCC[N+](CCCCCC)(C)C)C'\n",
      "[15:10:30] SMILES Parse Error: extra open parentheses for input: 'C(CCCCCCCCCCCCCCCCCCCCCCCCC)[N+](CCCCCC[N+](C)(C)CCCCCCC'\n",
      "[15:10:30] Can't kekulize mol.  Unkekulized atoms: 16 17 21\n",
      "[15:10:30] SMILES Parse Error: extra close parentheses while parsing: C(CCCC[N+](CCCC)(CCCC)CCCC)CCCC)CC[N+](CCCC)(CCCC)CCCC\n",
      "[15:10:30] SMILES Parse Error: Failed parsing SMILES 'C(CCCC[N+](CCCC)(CCCC)CCCC)CCCC)CC[N+](CCCC)(CCCC)CCCC' for input: 'C(CCCC[N+](CCCC)(CCCC)CCCC)CCCC)CC[N+](CCCC)(CCCC)CCCC'\n",
      "[15:10:30] SMILES Parse Error: extra close parentheses while parsing: C(CCCCC[N+](CCCC)(CCCC)CCCC)CCCC)[N+](CCCC)(CCCC)C\n",
      "[15:10:30] SMILES Parse Error: Failed parsing SMILES 'C(CCCCC[N+](CCCC)(CCCC)CCCC)CCCC)[N+](CCCC)(CCCC)C' for input: 'C(CCCCC[N+](CCCC)(CCCC)CCCC)CCCC)[N+](CCCC)(CCCC)C'\n",
      "[15:10:30] SMILES Parse Error: extra close parentheses while parsing: C(CCCC[N+](CCCC)(CCCC)CCCC)CCCC)CC[N+](CCCC)(CCCC)CCCC\n",
      "[15:10:30] SMILES Parse Error: Failed parsing SMILES 'C(CCCC[N+](CCCC)(CCCC)CCCC)CCCC)CC[N+](CCCC)(CCCC)CCCC' for input: 'C(CCCC[N+](CCCC)(CCCC)CCCC)CCCC)CC[N+](CCCC)(CCCC)CCCC'\n",
      "[15:10:30] SMILES Parse Error: extra close parentheses while parsing: C(N(CCCCCN(CCCC)CCCC)CCCC)CCCC)CC\n",
      "[15:10:30] SMILES Parse Error: Failed parsing SMILES 'C(N(CCCCCN(CCCC)CCCC)CCCC)CCCC)CC' for input: 'C(N(CCCCCN(CCCC)CCCC)CCCC)CCCC)CC'\n",
      "[15:10:30] SMILES Parse Error: extra open parentheses for input: 'C([N+](C)(CCCCCCCCC[N+](C)(C)C)C'\n",
      "[15:10:30] SMILES Parse Error: extra open parentheses for input: 'C(CCCCCCCCCCCCCCCCCCCCCC[N+](CCCCCC[N+](C)(CCCCCC)C)(C)C'\n",
      "[15:10:30] SMILES Parse Error: extra open parentheses for input: 'C(CCCCCCCCCCCCCCCCCCCCCC[N+](C)(C)CCCCCC[N+](C)(C)CCCCCC'\n",
      "[15:10:30] SMILES Parse Error: extra close parentheses while parsing: C(N(CCCCCN(CCCC)CCCC)CCCC)CCCC)CC\n",
      "[15:10:30] SMILES Parse Error: Failed parsing SMILES 'C(N(CCCCCN(CCCC)CCCC)CCCC)CCCC)CC' for input: 'C(N(CCCCCN(CCCC)CCCC)CCCC)CCCC)CC'\n",
      "[15:10:30] Can't kekulize mol.  Unkekulized atoms: 16 17 21\n",
      "[15:10:30] SMILES Parse Error: extra close parentheses while parsing: C(CCCC[N+](CCCC)(CCCC)CCCC)CCCC)CC[N+](CCCC)(CCCC)CCCC\n",
      "[15:10:30] SMILES Parse Error: Failed parsing SMILES 'C(CCCC[N+](CCCC)(CCCC)CCCC)CCCC)CC[N+](CCCC)(CCCC)CCCC' for input: 'C(CCCC[N+](CCCC)(CCCC)CCCC)CCCC)CC[N+](CCCC)(CCCC)CCCC'\n",
      "[15:10:30] SMILES Parse Error: extra open parentheses for input: 'C(CCCCCCCCCCCCCCCCCCCC)CCC[N+](C)(CCCCCC[N+](CCCCCC)(C)C'\n",
      "[15:10:30] SMILES Parse Error: extra open parentheses for input: 'C(C[N+](CCCCCCCC[N+](CCC)(CCC)CCC)(CCC)C'\n",
      "[15:10:30] SMILES Parse Error: extra open parentheses for input: 'C(CCCCCCCCCCCCCCCCCCCCCCCC[N+](C)(CCCCCC[N+](C)(CCCCCC)C)C'\n",
      "[15:10:30] SMILES Parse Error: extra open parentheses for input: 'C(CCCCCCCCCCCCCCCCCC[N+](C)(CCCCCC[N+](C)(CCCCCC)C)C'\n",
      "[15:10:30] SMILES Parse Error: extra open parentheses for input: 'C(CCCCCCCCCCCCCCCCCCCCCC[N+](C)(C)CCCCCC[N+](CCCCCC)(C)C'\n",
      "[15:10:30] SMILES Parse Error: extra open parentheses for input: 'C(CCCCCCCCCCCCCCCCCCCCCC[N+](C)(C)CCCCCC[N+](C)(CCCCCC)C'\n",
      "[15:10:30] SMILES Parse Error: extra open parentheses for input: 'C(CCCCCCCCCCCCCCCCCCCCCC[N+](CCCCCC[N+](C)(C)CCCCCC)(C)C'\n",
      "[15:10:30] SMILES Parse Error: extra open parentheses for input: 'C(CCCCCCCCCCCCCCCCCCCCCCCC[N+](C)(C)CCCCCC[N+](C)(C)CCCCCC'\n",
      "[15:10:30] SMILES Parse Error: unclosed ring for input: 'C12CCC(CC1)[N+]1(CCCCCC[N+]1(C)C3CCCC1CC3)CCC2'\n",
      "[15:10:30] SMILES Parse Error: extra open parentheses for input: 'C(CC[N+](C)(CCCCCC[N+](CCCCCCCCCCCCCCCCCCCCCCCC)(C)C)CCC'\n",
      "[15:10:30] SMILES Parse Error: extra open parentheses for input: 'C(CCCCCCCCCCCCCCCCCCCCC)CC[N+](C)(CCCCCC[N+](C)(C)CCCCCC'\n",
      "[15:10:30] SMILES Parse Error: extra open parentheses for input: 'C(CCCCCCCCCCCCCCCCCCCCCC[N+](C)(CCCCCC[N+](C)(CCCCCC)C)C'\n",
      "[15:10:30] SMILES Parse Error: extra open parentheses for input: 'C(CCCCCCCCCCCCCCCCCCCCCC[N+](C)(CCCCCC[N+](CCCCCC)(C)C)C'\n",
      "[15:10:30] SMILES Parse Error: extra open parentheses for input: 'C(CCCCCCCCCCCCCCCCCCCCCC[N+](C)(CCCCCC[N+](C)(CCCCCC)C)C'\n",
      "[15:10:30] Explicit valence for atom # 4 O, 3, is greater than permitted\n",
      "[15:10:30] SMILES Parse Error: extra open parentheses for input: 'N(C)(CC(C)(CN(C)C)C'\n",
      "[15:10:30] SMILES Parse Error: extra open parentheses for input: 'C(CCCCCCCCCCCCCCCCCCCCCC[N+](C)(CCCCCC[N+](C)(C)CCCCCC)C'\n",
      "[15:10:30] SMILES Parse Error: extra open parentheses for input: 'C1CC2CCC([N+]2(CCCCCC[N+]2(C)C3CCC2CCC3)C1'\n",
      "[15:10:30] SMILES Parse Error: extra open parentheses for input: 'C(CCCCCCCCCCCCCCCCCCCCCCCCCC[N+](CCCCCC[N+](C)(CCCCCC)C)(C)C'\n",
      "[15:10:30] SMILES Parse Error: extra open parentheses for input: 'C(CCCCCCC[N+](C)(CCCCCC[N+](CCCCCCCCCCCCCCCCCCCCC)(C)C)C'\n",
      "[15:10:30] SMILES Parse Error: extra open parentheses for input: 'C(CCCCCCCCCCCCCCCCCCCCCC[N+](C)(CCCCCC[N+](C)(CCCCCC)C)C'\n",
      "[15:10:30] SMILES Parse Error: extra close parentheses while parsing: C(CCCCC[N+](CCCC)(CCCC)CCCC)CCCC)[N+](CCCC)(CCCC)C\n",
      "[15:10:30] SMILES Parse Error: Failed parsing SMILES 'C(CCCCC[N+](CCCC)(CCCC)CCCC)CCCC)[N+](CCCC)(CCCC)C' for input: 'C(CCCCC[N+](CCCC)(CCCC)CCCC)CCCC)[N+](CCCC)(CCCC)C'\n",
      "[15:10:30] SMILES Parse Error: unclosed ring for input: 'C1C2CC([n+]3cn(C45CC6CC(CC(C4)C6)C5)cc3)C1CC(C3)C2'\n",
      "[15:10:30] SMILES Parse Error: extra open parentheses for input: 'C1CC2CCC([N+]2(CCCC[N+]2(C)C3CCCC2CC3)C1'\n",
      "[15:10:30] SMILES Parse Error: extra open parentheses for input: 'C(CCCCCCCCCCCCCCCCCCCC[N+](C)(CC[N+](C)(CCCCCCCC)C)C'\n",
      "[15:10:30] SMILES Parse Error: extra open parentheses for input: 'C(CCCCCCCCCCCCCCCCCC[N+](C)(CC[N+](CCCCCCCC)(C)C)C'\n",
      "[15:10:30] SMILES Parse Error: extra open parentheses for input: 'C(CCCCCCCCCCCCCCCCCCCC[N+](C)(CC[N+](C)(CCCCCCCC)C)C'\n",
      "[15:10:30] SMILES Parse Error: extra open parentheses for input: 'C(CCCCCCCCCCCCCCCC[N+](CC[N+](CCCCCCCCCCCCC)(C)C)C'\n",
      "[15:10:30] SMILES Parse Error: extra open parentheses for input: 'C(CCCCCCCCCCCCCCCCCCC[N+](C)(CC[N+](CCCCCCC)(C)C)C'\n",
      "[15:10:30] SMILES Parse Error: extra open parentheses for input: 'C(CCCCCCCCCCCCCCCCCC[N+](C)(CC[N+](CCCCCCCC)(C)C)C'\n",
      "[15:10:30] SMILES Parse Error: extra open parentheses for input: 'C(CCCCCCCCCCCCCCCCCCCCCC[N+](C)(CC[N+](C)(CCCCCCCC)C)C'\n",
      "[15:10:30] SMILES Parse Error: extra open parentheses for input: 'C(CCCCCCCCCCCCCCCCCC[N+](C)(CC[N+](CCCCCCCC)(C)C)C'\n",
      "[15:10:30] SMILES Parse Error: extra open parentheses for input: 'C(CCCCCCCCCCCCCCCCCC[N+](C)(CC[N+](C)(CCCCCCCC)C)C'\n",
      "[15:10:30] SMILES Parse Error: extra open parentheses for input: 'N(C)(CC(C)(CN(C)C)C'\n",
      "[15:10:30] SMILES Parse Error: extra open parentheses for input: 'C[N+](C)(CCC[N+](C)(CCC[N+](C)(C)C)C'\n",
      "[15:10:30] SMILES Parse Error: extra open parentheses for input: '[N+](C)(CCC[N+](C)(CCC[N+](C)(C)C)(C)C'\n",
      "[15:10:30] Can't kekulize mol.  Unkekulized atoms: 5 6 11\n",
      "[15:10:30] SMILES Parse Error: extra open parentheses for input: 'C(c1ccccc1)(C(C)(C)C)n1cc(C(C)(C)C'\n",
      "[15:10:30] Can't kekulize mol.  Unkekulized atoms: 5 6 11 12 13\n",
      "[15:10:30] SMILES Parse Error: extra open parentheses for input: 'N(CCCCCC[N+](Cc1ccc(C[N+](C)(C)CCCCCC)cc1)(C)C'\n",
      "[15:10:30] SMILES Parse Error: extra close parentheses while parsing: C(CCCCC[N+](C)(Cc1ccc(C[N+](C)(CCCCCC)C)cc1)C)C)CC\n",
      "[15:10:30] SMILES Parse Error: Failed parsing SMILES 'C(CCCCC[N+](C)(Cc1ccc(C[N+](C)(CCCCCC)C)cc1)C)C)CC' for input: 'C(CCCCC[N+](C)(Cc1ccc(C[N+](C)(CCCCCC)C)cc1)C)C)CC'\n",
      "[15:10:30] SMILES Parse Error: extra open parentheses for input: 'c1cc(C[N+](C)(CCCCCC[N+](C)(Cc2ccccc2)C)ccc1'\n",
      "[15:10:30] SMILES Parse Error: extra open parentheses for input: 'C1CC2(CC[N+]1(Cc1ccccc1)CC2'\n",
      "[15:10:30] SMILES Parse Error: extra open parentheses for input: 'CC1(C)C2CC1C(C[N+](C)(CC1CC[N+](C)(C)CC1)CC2'\n",
      "[15:10:30] SMILES Parse Error: extra close parentheses while parsing: C[N+]1(C)CCC(C[N+](C)(C)CC2C3CC(CC2)C3)(C)C)CC1\n",
      "[15:10:30] SMILES Parse Error: Failed parsing SMILES 'C[N+]1(C)CCC(C[N+](C)(C)CC2C3CC(CC2)C3)(C)C)CC1' for input: 'C[N+]1(C)CCC(C[N+](C)(C)CC2C3CC(CC2)C3)(C)C)CC1'\n",
      "[15:10:30] SMILES Parse Error: extra open parentheses for input: 'CC1(C)C2CC1C(C[N+](C)(CC1CC[N+](C)(C)CC1)CC2'\n",
      "[15:10:30] Explicit valence for atom # 7 N, 4, is greater than permitted\n",
      "[15:10:30] Can't kekulize mol.  Unkekulized atoms: 0 1 10 11 13\n",
      "[15:10:30] Can't kekulize mol.  Unkekulized atoms: 0 1 2 3 17\n",
      "[15:10:30] Can't kekulize mol.  Unkekulized atoms: 2 4 24\n",
      "[15:10:30] Explicit valence for atom # 18 N, 4, is greater than permitted\n",
      "[15:10:30] SMILES Parse Error: extra open parentheses for input: 'C(CCCCCCCCCCCCCC[N+](C)(C)CCCCCC[N+](C)(CCCCCC[N+](C)(CCCCCC[N+](C)(CCCCCCCCCCCCCCCC)C)C)C'\n",
      "[15:10:30] SMILES Parse Error: extra close parentheses while parsing: C(CCCCCCCCCCCCCCC[N+](CCCCCC[N+](C)(C)CCCCC[N+](CCCCCC[N+](C)(C)CCCCCCCCCCCCCCCCC)(C)C)C)(C)C)(C)C\n",
      "[15:10:30] SMILES Parse Error: Failed parsing SMILES 'C(CCCCCCCCCCCCCCC[N+](CCCCCC[N+](C)(C)CCCCC[N+](CCCCCC[N+](C)(C)CCCCCCCCCCCCCCCCC)(C)C)C)(C)C)(C)C' for input: 'C(CCCCCCCCCCCCCCC[N+](CCCCCC[N+](C)(C)CCCCC[N+](CCCCCC[N+](C)(C)CCCCCCCCCCCCCCCCC)(C)C)C)(C)C)(C)C'\n",
      "[15:10:30] SMILES Parse Error: extra open parentheses for input: 'C(CCCCCCCCCCCCCCCC[N+]1(C)CCC(CCCC2CC[N+](CCCCCCCCCCCCCCCC)(C)CC2)CC1'\n",
      "[15:10:30] Explicit valence for atom # 30 N, 4, is greater than permitted\n",
      "[15:10:30] SMILES Parse Error: extra close parentheses while parsing: C(CCCCCCCCCCCCCCCC[N+](C)(C)CCCCCC[N+](CCCCCC[N+](C)(CCCC[N+](C)(CCCCCCCCCCCCCCCCC)C)C)(C)C)C)(C)C\n",
      "[15:10:30] SMILES Parse Error: Failed parsing SMILES 'C(CCCCCCCCCCCCCCCC[N+](C)(C)CCCCCC[N+](CCCCCC[N+](C)(CCCC[N+](C)(CCCCCCCCCCCCCCCCC)C)C)(C)C)C)(C)C' for input: 'C(CCCCCCCCCCCCCCCC[N+](C)(C)CCCCCC[N+](CCCCCC[N+](C)(CCCC[N+](C)(CCCCCCCCCCCCCCCCC)C)C)(C)C)C)(C)C'\n",
      "[15:10:30] Explicit valence for atom # 24 N, 4, is greater than permitted\n",
      "[15:10:30] SMILES Parse Error: extra close parentheses while parsing: C(CCCCCCCCCCCCCCC)[N+](C)(CCCCCC[N+](C)(C)CCCCCC[N+](C)(CCCCCC[N+](C)(CCCCCCCCCCCCCCCCC)C)C)C)(C)C\n",
      "[15:10:30] SMILES Parse Error: Failed parsing SMILES 'C(CCCCCCCCCCCCCCC)[N+](C)(CCCCCC[N+](C)(C)CCCCCC[N+](C)(CCCCCC[N+](C)(CCCCCCCCCCCCCCCCC)C)C)C)(C)C' for input: 'C(CCCCCCCCCCCCCCC)[N+](C)(CCCCCC[N+](C)(C)CCCCCC[N+](C)(CCCCCC[N+](C)(CCCCCCCCCCCCCCCCC)C)C)C)(C)C'\n",
      "[15:10:30] SMILES Parse Error: extra open parentheses for input: 'C(CCCCCCCCCCCCCCCC[N+]1(C)CCC(CCCC2CC[N+](CCCCCCCCCCCCCC)(C)CC2)CC1'\n",
      "[15:10:30] SMILES Parse Error: extra close parentheses while parsing: C(CCCCCCCCCCCCCCC)[N+](C)(CCCCCC[N+](C)(CCCCCC[N+](C)(C)CCCC[N+](C)(C)CCCCCCCCCCCCCCC)C)C)C\n",
      "[15:10:30] SMILES Parse Error: Failed parsing SMILES 'C(CCCCCCCCCCCCCCC)[N+](C)(CCCCCC[N+](C)(CCCCCC[N+](C)(C)CCCC[N+](C)(C)CCCCCCCCCCCCCCC)C)C)C' for input: 'C(CCCCCCCCCCCCCCC)[N+](C)(CCCCCC[N+](C)(CCCCCC[N+](C)(C)CCCC[N+](C)(C)CCCCCCCCCCCCCCC)C)C)C'\n",
      "[15:10:30] Explicit valence for atom # 31 N, 4, is greater than permitted\n",
      "[15:10:30] Explicit valence for atom # 23 N, 4, is greater than permitted\n",
      "[15:10:30] SMILES Parse Error: extra open parentheses for input: 'C[N+](CCCCCC[N+](Cc1ccc(C[N+](C)(CCCCCC[N+](C)(C)Cc2ccc(C[N+](C)(C)CC2)cc1)(C)CCCCCC[N+](C)(C)C'\n",
      "[15:10:30] SMILES Parse Error: extra open parentheses for input: 'C(CCCCCCCCCCCCCC[N+](CCCCCC[N+](C)(Cc1ccc(C[N+](C)(C)CCCCC[N+](C)(C)CCCCCCCCCCCCCCCCC)cc1)(C)C)C'\n",
      "[15:10:30] SMILES Parse Error: extra open parentheses for input: 'C(CCCCCCCCCCCCCCC[N+]1(C)CCC(CCCC2CC[N+](CCCCCCCCCCCCCCCC)(C)CC2)CC1'\n",
      "[15:10:30] SMILES Parse Error: extra open parentheses for input: 'C(CCCCCCCCC[N+](C)(CCCCCC[N+](C)(C)CCCCCC[N+](CCCCCC[N+](CCCCCCCCCCCCCCCCCC)(C)C)(C)C)CCCC'\n",
      "[15:10:30] SMILES Parse Error: extra open parentheses for input: 'C(CCCCCCCCCCCCCC)C[N+](C)(CCCCCC[N+](C)(Cc1ccc(C[N+](CCCCCC[N+](C)(C)CCCCCCCCCCCCCCC)C)cc1)C'\n",
      "[15:10:30] SMILES Parse Error: extra open parentheses for input: 'C(CCCCCCCCCCCCCCC)[N+](CCCCCC[N+](CCCCCC[N+](C)(C)CCCCCC[N+](C)(CCCCCCCCCCCCCCCC)(C)C)(C)C'\n",
      "[15:10:30] SMILES Parse Error: extra open parentheses for input: 'C(CCCCCCCCCCCCC)CC[N+](C)(CCCCCC[N+](C)(CCCCCC[N+](C)(CCCCCC[N+](C)(CCCCCCCCCCCCCC)C)C)C'\n",
      "[15:10:30] SMILES Parse Error: extra open parentheses for input: 'c1(C[N+](C)(CCCCCC[N+](C)(C)Cc2ccc(C[N+](C)(C)CCCCCC[N+](C)(C)Cc2ccc(C[N+](C)(C)CCCC[N+](C)(C)C)cc2)cc1'\n",
      "[15:10:30] SMILES Parse Error: extra open parentheses for input: 'c1c(C[N+](C)(CCCCCC[N+](Cc2ccc(C[N+](C)(CCCCCC[N+](C)(C)C)cc2)C)ccc(C[N+](C)(C)CCCCCC[N+](C)(C)C)c1'\n",
      "[15:10:30] SMILES Parse Error: extra open parentheses for input: 'C(CCCCCCCCCCCCCCC[N+](C)(CCCCCC[N+](C)(C)CCCCCC[N+](C)(C)CCCCCC[N+](C)(C)CCCCCCCCCCCCCCC)C'\n",
      "[15:10:30] SMILES Parse Error: extra close parentheses while parsing: C(CCCCCCCCCCCCCCC[N+](CCCCCC[N+](C)(C)CCCCCC[N+](C)(CCCC[N+](C)(CCCCCCCCCCCCCC)C)C)(C)C)C)CC\n",
      "[15:10:30] SMILES Parse Error: Failed parsing SMILES 'C(CCCCCCCCCCCCCCC[N+](CCCCCC[N+](C)(C)CCCCCC[N+](C)(CCCC[N+](C)(CCCCCCCCCCCCCC)C)C)(C)C)C)CC' for input: 'C(CCCCCCCCCCCCCCC[N+](CCCCCC[N+](C)(C)CCCCCC[N+](C)(CCCC[N+](C)(CCCCCCCCCCCCCC)C)C)(C)C)C)CC'\n",
      "[15:10:30] Explicit valence for atom # 21 N, 4, is greater than permitted\n",
      "[15:10:30] Explicit valence for atom # 23 N, 4, is greater than permitted\n",
      "[15:10:30] SMILES Parse Error: extra open parentheses for input: 'C(CCCCCCCCCCCCCC[N+](CCCCCC[N+](C)(C)CCCCC[N+](CCCCCC[N+](CCCCCC[N+](C)(C)CCCCCCCCCCCCCCCCCC)(C)C)(C)C)C'\n",
      "[15:10:30] SMILES Parse Error: extra open parentheses for input: 'C(CCCCCCCCCCCCC)CC[N+](CCCCCC[N+](C)(Cc1ccc(C[N+](CCCCCC[N+](C)(CCCCCCCCCCCCC)C)cc1)(C)C)CCC'\n",
      "[15:10:30] SMILES Parse Error: extra close parentheses while parsing: C(CCCCCCCCCCCCC)CC[N+](CCCCCC[N+](C)(C)CCCCCC[N+](CCCCCC[N+](C)(CCCCCCCCCCCCCCCCCC)C)(C)C)C)(C)C\n",
      "[15:10:30] SMILES Parse Error: Failed parsing SMILES 'C(CCCCCCCCCCCCC)CC[N+](CCCCCC[N+](C)(C)CCCCCC[N+](CCCCCC[N+](C)(CCCCCCCCCCCCCCCCCC)C)(C)C)C)(C)C' for input: 'C(CCCCCCCCCCCCC)CC[N+](CCCCCC[N+](C)(C)CCCCCC[N+](CCCCCC[N+](C)(CCCCCCCCCCCCCCCCCC)C)(C)C)C)(C)C'\n",
      "[15:10:30] SMILES Parse Error: extra open parentheses for input: 'C(CC[N+](C)(CCCCCC[N+](C)(CCCCCC[N+](C)(C)CCCCCCCCCCCCC)C)CCC[N+](C)(C)CCCCCCCCCCCCCCCCCCC'\n",
      "[15:10:30] SMILES Parse Error: extra open parentheses for input: 'C(CCCCCCCCCCCCCCC[N+]1(C)CCC(CCCC2CC[N+](C)(CCCCCCCCCCCC)CC2)CC1'\n",
      "[15:10:30] Explicit valence for atom # 37 N, 4, is greater than permitted\n",
      "[15:10:30] SMILES Parse Error: extra open parentheses for input: 'c1(C[N+](CCCCCC[N+](Cc2ccc(C[N+](C)(CCCCCC[N+](C)(C)C)cc2)(C)C)ccc(C[N+](C)(C)CCCCCC[N+](C)(C)C)cc1'\n",
      "[15:10:30] Can't kekulize mol.  Unkekulized atoms: 11 12 13 42 43\n",
      "[15:10:30] SMILES Parse Error: extra open parentheses for input: 'c1(C[N+](C)(CCCCCC[N+](C)(C)Cc2ccc(C[N+](C)(CCCCCC[N+](C)(C)C)C)cc2)C)ccc(C[N+](C)(CCCCC[N+](C)C)cc1'\n",
      "[15:10:30] Explicit valence for atom # 33 N, 4, is greater than permitted\n",
      "[15:10:30] SMILES Parse Error: extra open parentheses for input: 'c1(C[N+](C)(CCCCCC[N+](C)(C)Cc2ccc(C[N+](C)(CCCCCC[N+](C)(C)Cc2ccc(C[N+](C)(CCCC[N+](C)(C)C)cc2)C)cc1)(C)C'\n",
      "[15:10:30] SMILES Parse Error: extra close parentheses while parsing: C(CCCCCCCCCCCCCCC[N+](C)(CCCCCC[N+](C)(C)CCCCCC[N+](CCCC[N+](CCCCCCCCCCCCCC)(C)C)C)(C)C)C)CC\n",
      "[15:10:30] SMILES Parse Error: Failed parsing SMILES 'C(CCCCCCCCCCCCCCC[N+](C)(CCCCCC[N+](C)(C)CCCCCC[N+](CCCC[N+](CCCCCCCCCCCCCC)(C)C)C)(C)C)C)CC' for input: 'C(CCCCCCCCCCCCCCC[N+](C)(CCCCCC[N+](C)(C)CCCCCC[N+](CCCC[N+](CCCCCCCCCCCCCC)(C)C)C)(C)C)C)CC'\n",
      "[15:10:30] SMILES Parse Error: extra open parentheses for input: 'C(CCCCCCCCCCCCCCCC[N+]1(C)CCC(CCCC2CC[N+](CCCCCCCCCCCCCCCC)(C)CC2)CC1'\n",
      "[15:10:30] SMILES Parse Error: extra close parentheses while parsing: C(CCCCCCCCCCCCCC[N+](C)(C)CCCCCC[N+](CCCCCC[N+](C)(C)CCCCCC[N+](C)(C)CCCCCCCCCCCCC)(C)C)C)CC\n",
      "[15:10:30] SMILES Parse Error: Failed parsing SMILES 'C(CCCCCCCCCCCCCC[N+](C)(C)CCCCCC[N+](CCCCCC[N+](C)(C)CCCCCC[N+](C)(C)CCCCCCCCCCCCC)(C)C)C)CC' for input: 'C(CCCCCCCCCCCCCC[N+](C)(C)CCCCCC[N+](CCCCCC[N+](C)(C)CCCCCC[N+](C)(C)CCCCCCCCCCCCC)(C)C)C)CC'\n",
      "[15:10:30] SMILES Parse Error: extra close parentheses while parsing: C(CCCCCCCCCCCCCC[N+](C)(CCCCCC[N+](C)(C)CCCCCC[N+](C)(C)CCCCCC[N+](C)(CCCCCCCCCCCCCCC)C)C)C)CC\n",
      "[15:10:30] SMILES Parse Error: Failed parsing SMILES 'C(CCCCCCCCCCCCCC[N+](C)(CCCCCC[N+](C)(C)CCCCCC[N+](C)(C)CCCCCC[N+](C)(CCCCCCCCCCCCCCC)C)C)C)CC' for input: 'C(CCCCCCCCCCCCCC[N+](C)(CCCCCC[N+](C)(C)CCCCCC[N+](C)(C)CCCCCC[N+](C)(CCCCCCCCCCCCCCC)C)C)C)CC'\n",
      "[15:10:30] SMILES Parse Error: extra open parentheses for input: 'C(CCCCCCCCCCCCC)CC[N+](C)(CCCCCC[N+](C)(C)Cc1ccc(C[N+](C)(CCCCCC[N+](C)(C)CCCCCCCCCCCCCCCCCCCC)cc1'\n",
      "[15:10:30] Explicit valence for atom # 16 N, 4, is greater than permitted\n",
      "[15:10:30] Explicit valence for atom # 25 N, 4, is greater than permitted\n",
      "[15:10:30] SMILES Parse Error: extra open parentheses for input: 'C(CCCCCCCCCCCCCC[N+](CCCCCC[N+](C)(CCCCCC[N+](CCCCCC[N+](C)(C)CCCC[N+](C)(C)CCCCCCCCCCCCCCC)(C)C)C'\n",
      "[15:10:30] SMILES Parse Error: extra open parentheses for input: '[N+](Cc1ccc(C[N+](C)(C)CCCCCC[N+](C)(C)Cc2ccc(C[N+](CCCCCC[N+](C)(C)C)cc2)C)c1)(CCCC[N+](C)(C)C'\n",
      "[15:10:30] Explicit valence for atom # 15 N, 4, is greater than permitted\n",
      "[15:10:30] SMILES Parse Error: extra open parentheses for input: 'C(CCCCCCCCCCCCCCCC[N+](CCCCCC[N+](C)(C)CCCCC[N+](C)(C)CCCC[N+](C)(CCCCCCCCCCCCCCCCC)C)(C)C'\n",
      "[15:10:30] SMILES Parse Error: extra open parentheses for input: '[N+](CCCCCC[N+](C)(C)Cc1ccc(C[N+](Cc2ccc(C[N+](C)(CCCCCC[N+](C)(C)C)cc2)(C)C)cc1)(C)CCCCCCCCCCCCCC'\n",
      "[15:10:30] SMILES Parse Error: extra open parentheses for input: 'C(CCCCCCCCCCCCCCC[N+]1(C)CCC(CCCC2CC[N+](C)(CCCCCCCCCCCCCC)CC2)CC1'\n",
      "[15:10:30] SMILES Parse Error: extra close parentheses while parsing: C(CCCCCCCCCCCC)CCC[N+](C)(C)CCCCCC[N+](C)(CCCCCC[N+](C)(CCCCCC[N+](C)(C)CCCCCCCCCCCCCCCCC)C)C)(C)C\n",
      "[15:10:30] SMILES Parse Error: Failed parsing SMILES 'C(CCCCCCCCCCCC)CCC[N+](C)(C)CCCCCC[N+](C)(CCCCCC[N+](C)(CCCCCC[N+](C)(C)CCCCCCCCCCCCCCCCC)C)C)(C)C' for input: 'C(CCCCCCCCCCCC)CCC[N+](C)(C)CCCCCC[N+](C)(CCCCCC[N+](C)(CCCCCC[N+](C)(C)CCCCCCCCCCCCCCCCC)C)C)(C)C'\n",
      "[15:10:30] SMILES Parse Error: extra open parentheses for input: 'C(CCCCCCCCCCCCC)CC[N+](C)(CCCCCC[N+](C)(C)CCCCCC[N+](C)(CCCCCC[N+](CCCCCCCCCCCCCCCC)(C)C)C'\n",
      "[15:10:30] Explicit valence for atom # 24 N, 4, is greater than permitted\n",
      "[15:10:30] SMILES Parse Error: extra open parentheses for input: 'C(CCCCCCCCCCCCCCCC[N+](CCCCCC[N+](C)(Cc1ccc(C[N+](C)(CCCCCC[N+](CCCCCCCCCCCCCCCCC)C)(C)C)cc1)C)(C)C'\n",
      "[15:10:30] SMILES Parse Error: extra open parentheses for input: 'C(CCCCCCCCCCCCCC[N+]1(C)CCC(CCCC2CC[N+](CCCCCCCCCCCCCCCCC)(C)CC2)CC1'\n",
      "[15:10:30] SMILES Parse Error: extra open parentheses for input: 'C1CC2(C[N+]1(Cc1ccccc1)CC2'\n",
      "[15:10:30] SMILES Parse Error: extra open parentheses for input: 'C1CC2(C[N+]1(Cc1ccccc1)CC2'\n",
      "[15:10:30] SMILES Parse Error: extra open parentheses for input: 'C(CCCC[N+](C)(Cc1ccccc1)CCC[N+](Cc1ccccc1)(C)C'\n",
      "[15:10:30] SMILES Parse Error: unclosed ring for input: 'C(CCCCC[N+](Cc1ccccc1)(C)C)CC[N+](C)(Cc1ccccc1)C2'\n",
      "[15:10:30] SMILES Parse Error: extra open parentheses for input: 'C([N+](CCCCC[N+](C)(Cc1ccccc1)C)(C)Cc1ccccc1'\n",
      "[15:10:30] SMILES Parse Error: extra open parentheses for input: 'c1ccc(C[N+](C)(CCCCCC[N+](C)(Cc2ccccc2)C)cc1'\n",
      "[15:10:30] SMILES Parse Error: extra open parentheses for input: 'C1C2CC[N+](C)(Cc3ccc(cc3)C[N+]3(C)CCC(CC1)CC2'\n",
      "[15:10:30] SMILES Parse Error: extra open parentheses for input: 'c1cccc(Cn2c[n+](CCCCCC[n+]3cn(Cc4ccccc4)cc3)c1'\n",
      "[15:10:30] SMILES Parse Error: extra open parentheses for input: 'C1CCC2CC[N+](C)(Cc3ccc(cc3)C[N+]3(C)CCC(CC1)CC2'\n",
      "[15:10:30] SMILES Parse Error: unclosed ring for input: 'c1cc2ccc1C[N+]1(C)CCC(CCCC3CC[N+](C)(Cc4ccccc4)CC3)C2'\n",
      "[15:10:30] SMILES Parse Error: extra open parentheses for input: 'C1CCC2CC[N+](C)(Cc3ccc(cc3)C[N+]3(C)CCC(CC1)CC2'\n",
      "[15:10:30] SMILES Parse Error: extra open parentheses for input: '[N+]12(C)CCC(CC1)CCCC1CC[N+](C)(Cc3ccc(cc3)C2'\n",
      "[15:10:30] SMILES Parse Error: extra close parentheses while parsing: C12C3C4C[N+](CC)(C(C)C)C)CC4C(C=C3)C1C[N+](CC)(C(C)C)C2\n",
      "[15:10:30] SMILES Parse Error: Failed parsing SMILES 'C12C3C4C[N+](CC)(C(C)C)C)CC4C(C=C3)C1C[N+](CC)(C(C)C)C2' for input: 'C12C3C4C[N+](CC)(C(C)C)C)CC4C(C=C3)C1C[N+](CC)(C(C)C)C2'\n",
      "[15:10:30] SMILES Parse Error: extra close parentheses while parsing: C(C)([N+]1(CC)CC2C3C4C[N+](CC)(C(C)C)C)CC4C(C=C3)C2C1)C\n",
      "[15:10:30] SMILES Parse Error: Failed parsing SMILES 'C(C)([N+]1(CC)CC2C3C4C[N+](CC)(C(C)C)C)CC4C(C=C3)C2C1)C' for input: 'C(C)([N+]1(CC)CC2C3C4C[N+](CC)(C(C)C)C)CC4C(C=C3)C2C1)C'\n",
      "[15:10:30] SMILES Parse Error: extra close parentheses while parsing: C12C3C4C[N+](CCC)(C(C)C)C)CC4C(C=C3)C1C[N+](C(C)C)(CCC)C2\n",
      "[15:10:30] SMILES Parse Error: Failed parsing SMILES 'C12C3C4C[N+](CCC)(C(C)C)C)CC4C(C=C3)C1C[N+](C(C)C)(CCC)C2' for input: 'C12C3C4C[N+](CCC)(C(C)C)C)CC4C(C=C3)C1C[N+](C(C)C)(CCC)C2'\n",
      "[15:10:30] SMILES Parse Error: extra close parentheses while parsing: C1=CC2C3C[N+](CCC)(C(C)C)C)CC3C1C1C[N+](CCC)(C(C)C)CC21\n",
      "[15:10:30] SMILES Parse Error: Failed parsing SMILES 'C1=CC2C3C[N+](CCC)(C(C)C)C)CC3C1C1C[N+](CCC)(C(C)C)CC21' for input: 'C1=CC2C3C[N+](CCC)(C(C)C)C)CC3C1C1C[N+](CCC)(C(C)C)CC21'\n",
      "[15:10:30] SMILES Parse Error: extra close parentheses while parsing: C12C3C4C[N+](CCC)(C(C)C)C)CC4C(C)(C1C[N+](C(C)C)C2)C=C3\n",
      "[15:10:30] SMILES Parse Error: Failed parsing SMILES 'C12C3C4C[N+](CCC)(C(C)C)C)CC4C(C)(C1C[N+](C(C)C)C2)C=C3' for input: 'C12C3C4C[N+](CCC)(C(C)C)C)CC4C(C)(C1C[N+](C(C)C)C2)C=C3'\n",
      "[15:10:30] SMILES Parse Error: extra close parentheses while parsing: C12C3C4C[N+](CCC)(C(C)C)C)CC4C(C=C3)C1C[N+](CCC)(C(C)C)C2\n",
      "[15:10:30] SMILES Parse Error: Failed parsing SMILES 'C12C3C4C[N+](CCC)(C(C)C)C)CC4C(C=C3)C1C[N+](CCC)(C(C)C)C2' for input: 'C12C3C4C[N+](CCC)(C(C)C)C)CC4C(C=C3)C1C[N+](CCC)(C(C)C)C2'\n",
      "[15:10:30] SMILES Parse Error: extra close parentheses while parsing: C12C3C4C[N+](CCC)(C(C)C)C)CC4C(C1C[N+](CCC)(C(C)C)C2)C=C3\n",
      "[15:10:30] SMILES Parse Error: Failed parsing SMILES 'C12C3C4C[N+](CCC)(C(C)C)C)CC4C(C1C[N+](CCC)(C(C)C)C2)C=C3' for input: 'C12C3C4C[N+](CCC)(C(C)C)C)CC4C(C1C[N+](CCC)(C(C)C)C2)C=C3'\n",
      "[15:10:30] SMILES Parse Error: unclosed ring for input: 'C12C(C[N+](CCC)(C(C)C)C)C1C=CC2C2C[N+](CCC)(C(C)C)CC21'\n",
      "[15:10:30] SMILES Parse Error: unclosed ring for input: 'C12C(C[N+](CCC)(C(C)C)C)C1C3C[N+](CCC)(C(C)C)CC3C2C=C1'\n",
      "[15:10:30] SMILES Parse Error: extra open parentheses for input: 'C(CCC[N+](C)(C)CCCC[N+](C)(C12CC3CC(CC(C3)C1)C2)CCCCCCCCCCCCCC'\n",
      "[15:10:30] SMILES Parse Error: extra open parentheses for input: 'C(CCCCCCCCCCCCCCCC[N+](C)(CCCC[N+](C)(C)C12CC3CC(C1)CC(C3)C2)C'\n",
      "[15:10:30] SMILES Parse Error: extra open parentheses for input: 'C(CCCCCCCCCCCC[N+](CCCC[N+](C)(C12CC3CC(CC(C1)C3)C2)(C)C)CCCCC'\n",
      "[15:10:30] SMILES Parse Error: extra open parentheses for input: 'C(CCCCCCCCCCCCCC[N+](CCCC[N+](C)(C)CCCC[N+](C12CC3CC(C1)CC(C2)C3)(C)(C)CCCCCCCCCCCCCCCCCCCCCCCCC)C'\n",
      "[15:10:30] SMILES Parse Error: extra open parentheses for input: 'C(CCCCCCCCCCCCCCCC[N+](C)(C)CCCC[N+](C)(C12CC3CC(CC(C1)C3)C2)C'\n",
      "[15:10:30] SMILES Parse Error: extra open parentheses for input: 'C(CCCCCCCCCCCCCCCC[N+](C)(C)CCCC[N+](C12CC3CC(CC(C1)C3)C2)(C)C'\n",
      "[15:10:30] SMILES Parse Error: extra open parentheses for input: 'C(CCCCCCCCCCCCCCCC[N+](C)(CCCC[N+](C12CC3CC(CC(C3)C1)C2)(C)C)C'\n",
      "[15:10:30] SMILES Parse Error: extra open parentheses for input: 'C(CCCCCCCCCCCCCCCC[N+](CCCC[N+](C)(C12CC3CC(CC(C1)C3)C2)(C)C)C'\n",
      "[15:10:30] Explicit valence for atom # 15 N, 4, is greater than permitted\n",
      "[15:10:30] SMILES Parse Error: extra open parentheses for input: 'C(CCCCCCCCCCCCC[N+](CCCC[N+](C)(C12CC3CC(C1)CC(C2)C3)(C)C)(C)C'\n",
      "[15:10:30] SMILES Parse Error: extra open parentheses for input: 'C(CCCCCCCCCCC[N+](C)(CCCC[N+](C)(C12CC3CC(CC(C1)C3)C2)(C)C)CCC'\n",
      "[15:10:30] SMILES Parse Error: extra open parentheses for input: 'C1C2([N+](C)(CCCC[N+](C)(CCCCCCCCCCCCCCCCCCCCC)C)CC3CC(C2)C3'\n",
      "[15:10:30] SMILES Parse Error: extra open parentheses for input: 'C(CCCCCCCCCCCCCC[N+](CCCC[N+](C)(C12CC3CC(C1)CC(C3)C2)(C)C)CCC'\n",
      "[15:10:30] SMILES Parse Error: extra open parentheses for input: 'C(CCCCCCCCCCCCCCCC[N+](C)(C)CCCC[N+](C)(C12CC3CC(CC(C1)C3)C2)C'\n",
      "[15:10:30] SMILES Parse Error: extra open parentheses for input: 'C(CCCCCCCCCCCCCCCC[N+](C)(CCCC[N+](C)(C12CC3CC(CC(C1)C3)C2)C)C'\n",
      "[15:10:30] SMILES Parse Error: extra open parentheses for input: 'C(CCCCCCCCCCCCCCC[N+](CCCC[N+](C)(C12CC3CC(CC(C3)C1)C2)(C)C)(C)C'\n",
      "[15:10:30] SMILES Parse Error: extra open parentheses for input: 'C(CCCCCCCCCCCCCCC[N+](CCCC[N+](C12CC3CC(CC(C3)C1)C2)(C)C)CCCCC'\n",
      "[15:10:30] SMILES Parse Error: extra open parentheses for input: 'C(CCCCCCCCCCCCCCCCCC[N+](C)(C)CCCC[N+](C12CC3CC(CC(C1)C3)C2)(C)C'\n",
      "[15:10:30] SMILES Parse Error: extra open parentheses for input: 'C(CCCCCCCCCCCCCC[N+](C)(CCCC[N+](C12CC3CC(C1)CC(C2)C3)(C)C)CCC'\n",
      "[15:10:30] SMILES Parse Error: extra open parentheses for input: 'C(CCCCCCCCCCCCC[N+](CCCC[N+](C)(C12CC3CC(C1)CC(C2)C3)(C)C)(C)C'\n",
      "[15:10:30] Explicit valence for atom # 8 N, 4, is greater than permitted\n",
      "[15:10:30] Can't kekulize mol.  Unkekulized atoms: 0 1 2 3 5\n",
      "[15:10:30] Can't kekulize mol.  Unkekulized atoms: 0 2 3 15 16\n",
      "[15:10:30] Can't kekulize mol.  Unkekulized atoms: 1 2 16\n",
      "[15:10:30] Can't kekulize mol.  Unkekulized atoms: 12 15 17\n",
      "[15:10:30] Can't kekulize mol.  Unkekulized atoms: 8 11 13\n",
      "[15:10:31] SMILES Parse Error: unclosed ring for input: 'C(NCCN)CN1CCN'\n",
      "[15:10:31] SMILES Parse Error: unclosed ring for input: 'C(CNCCN)N1CCN'\n",
      "[15:10:31] SMILES Parse Error: unclosed ring for input: 'C(CN)NCCN1CCN'\n",
      "[15:10:31] SMILES Parse Error: extra open parentheses for input: 'CC(C)([P+](CCCC[P+](C(C)(C)C)(C(C)(C)C)C(C)(C)C)(C(C)C)C(C)C'\n",
      "[15:10:31] SMILES Parse Error: extra open parentheses for input: 'CC([P+](C(C)(C)C)(C(C)(C)C)C(C)(C)C'\n",
      "[15:10:31] SMILES Parse Error: extra open parentheses for input: 'CC(C)([P+](CCCC[P+](C(C)(C)C)(C(C)(C)C)C(C)(C)C)C(C)(C)C'\n",
      "[15:10:31] SMILES Parse Error: extra open parentheses for input: 'CC(C)([P+](C(C)(C)C)(C(C)(C)C)CCCC[P+](C(C)(C)C)(C(C)C)C(C)(C)C'\n",
      "[15:10:31] SMILES Parse Error: extra open parentheses for input: 'C1CCCC1(C(c1ccccc1)C[N+](C)(C)C'\n",
      "[15:10:31] SMILES Parse Error: unclosed ring for input: 'C1CCCCCCCCC1(C[N+](C)(C)C)CCCCC1'\n",
      "[15:10:31] SMILES Parse Error: extra open parentheses for input: 'C1C2CC3CC(C2)CC1(n1cc[n+](C24CC5CC(CC(C2)C4)C3)c1'\n",
      "[15:10:31] SMILES Parse Error: unclosed ring for input: 'C12CCC(C34CC1C=C3)C[N+](C)(C)C4'\n",
      "[15:10:31] SMILES Parse Error: extra open parentheses for input: 'C1CC23C4C=CC(C2(C[N+](C)(C)C3)CCC1'\n",
      "[15:10:31] SMILES Parse Error: unclosed ring for input: 'C12CCC(C)(C13C[N+](C)(C)CC13)C=C2'\n",
      "[15:10:31] SMILES Parse Error: unclosed ring for input: 'C1C23C4C=CC(C4C2(C[N+](C)(C)C3)CCC1)C4'\n",
      "[15:10:31] SMILES Parse Error: extra open parentheses for input: 'C1C2CC3CC(C2)CC1([n+]1ccn(C24CC5CC(CC(C5)C2)C3)c1'\n",
      "[15:10:31] SMILES Parse Error: unclosed ring for input: 'C1C2CC3CC(C2)CC(C2)C[N+]1(C)C3'\n",
      "[15:10:31] SMILES Parse Error: unclosed ring for input: 'C1C2CC3CC(C2)CC1([n+]1cn(C24CC5CC(CC(C4)C6)C5)cc1)C3'\n",
      "[15:10:31] SMILES Parse Error: unclosed ring for input: 'C1C2CC3CC(C2)CC1([n+]1ccn(C24CC5CC(CC(C2)C4)C3)c1)C'\n",
      "[15:10:31] SMILES Parse Error: unclosed ring for input: 'C1C2CC3CC(C2)CC1([n+]1cn(C24CC5CC(CC(C4)C5)C4)cc1)C3'\n",
      "[15:10:31] SMILES Parse Error: extra open parentheses for input: 'N(C)([P+](N(C)C)(CCCC[P+](N(C)C)(N(C)C)N(C)C)N(C)C'\n",
      "[15:10:31] SMILES Parse Error: unclosed ring for input: 'C1C2CCC[N+]3(C)CCCC(C[N+]1(C)CCCCC13)C2'\n",
      "[15:10:31] SMILES Parse Error: unclosed ring for input: 'C1CCCC2C3CCC[N+]4(C)CCCC(C[N+]1(C)CCCC2)C3'\n",
      "[15:10:31] SMILES Parse Error: unclosed ring for input: 'C1CC[N+]2(C)C3C4C(CCC[N+]4(C)CCC34)CC1CCC2'\n",
      "[15:10:31] SMILES Parse Error: unclosed ring for input: 'C1CCCC2[N+]3(C)CCCCC3CCC[N+]1(C)CC23'\n",
      "[15:10:31] SMILES Parse Error: extra open parentheses for input: 'C1C2C3C4C(CCC[N+]4(C)CCCC(C2CCC1)C34'\n",
      "[15:10:31] SMILES Parse Error: extra open parentheses for input: 'C1CCC2C3C(C4C(C)(CCCC4)C3CC2C1'\n",
      "[15:10:31] SMILES Parse Error: unclosed ring for input: 'C1C[N+]2(C)CC3C4CCCC[N+]4(C)CC(C2CC1)C34'\n",
      "[15:10:31] Can't kekulize mol.  Unkekulized atoms: 0 1 2 4 6\n",
      "[15:10:31] SMILES Parse Error: extra open parentheses for input: 'C(CCCCCCCCC[n+]1ccn(C)c1'\n",
      "[15:10:31] SMILES Parse Error: unclosed ring for input: 'C1CCCCC1[N+]1(CCCCC1)CCCC2'\n",
      "[15:10:31] SMILES Parse Error: unclosed ring for input: 'C1CCCCC1[N+]1(CCCCC1)CCCC2'\n",
      "[15:10:31] SMILES Parse Error: unclosed ring for input: 'C1CCCCC1[N+]1(CCCCC1)CCCC2'\n",
      "[15:10:31] SMILES Parse Error: unclosed ring for input: 'C1CCCCC1[N+]1(CCCCC1)CCCC2'\n",
      "[15:10:31] SMILES Parse Error: unclosed ring for input: 'C1CCCCC2C(CCC[N+]12CCCCC2)C'\n",
      "[15:10:31] SMILES Parse Error: extra open parentheses for input: 'C(CCCCNCCCC'\n",
      "[15:10:31] SMILES Parse Error: extra open parentheses for input: 'N(CCCCC'\n",
      "[15:10:31] SMILES Parse Error: extra open parentheses for input: 'C(CCCCNCCCC'\n"
     ]
    },
    {
     "name": "stdout",
     "output_type": "stream",
     "text": [
      "FCD score: 0.15066653971741673\n"
     ]
    }
   ],
   "source": [
    "# calculate the metrics\n",
    "print('Validity rate:', validity_rate(generated_smiles))\n",
    "print('Uniqueness rate:', uniqueness_rate(generated_smiles))\n",
    "print('Novelty rate:', novelty_rate(generated_smiles, target_smile))\n",
    "print('Reconstructability rate:', reconstructability_rate(generated_smiles, target_smile))\n",
    "print('Novelty rate:', novelty_rate(generated_smiles, target_smile))\n",
    "print('IntDiv:', IntDiv(generated_smiles))\n",
    "# print('KL-divergence:', KL_divergence(target_smile), generated_smile))\n",
    "print('FCD score:', FCD_score(target_smile, generated_smile))"
   ]
  },
  {
   "cell_type": "code",
   "execution_count": 14,
   "metadata": {},
   "outputs": [
    {
     "data": {
      "image/png": "[encoded data removed]",
      "text/plain": [
       "<Figure size 432x288 with 1 Axes>"
      ]
     },
     "metadata": {
      "needs_background": "light"
     },
     "output_type": "display_data"
    }
   ],
   "source": [
    "# plot the loss and acc\n",
    "plot_loss(train_loss_history, test_loss_history, 'GPT')"
   ]
  }
 ],
 "metadata": {
  "kernelspec": {
   "display_name": "zeosyn",
   "language": "python",
   "name": "python3"
  },
  "language_info": {
   "codemirror_mode": {
    "name": "ipython",
    "version": 3
   },
   "file_extension": ".py",
   "mimetype": "text/x-python",
   "name": "python",
   "nbconvert_exporter": "python",
   "pygments_lexer": "ipython3",
   "version": "3.7.10"
  }
 },
 "nbformat": 4,
 "nbformat_minor": 2
}
