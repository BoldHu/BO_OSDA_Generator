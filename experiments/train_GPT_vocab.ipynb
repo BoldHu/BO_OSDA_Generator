{
 "cells": [
  {
   "cell_type": "markdown",
   "metadata": {},
   "source": [
    "# Train Model with GPT architecture Using Pre-setting Vocab"
   ]
  },
  {
   "cell_type": "code",
   "execution_count": 1,
   "metadata": {},
   "outputs": [
    {
     "name": "stdout",
     "output_type": "stream",
     "text": [
      "/home/hudongcheng/Desktop/bo_osda_generator\n"
     ]
    }
   ],
   "source": [
    "# change working path to the current file\n",
    "%cd .."
   ]
  },
  {
   "cell_type": "code",
   "execution_count": 2,
   "metadata": {},
   "outputs": [],
   "source": [
    "import numpy as np\n",
    "import os\n",
    "import torch\n",
    "import torch.nn as nn\n",
    "from torch.utils.data import DataLoader\n",
    "from torch.nn import functional as F\n",
    "from tqdm import tqdm\n",
    "from datetime import datetime\n",
    "import torch.backends.cudnn as cudnn\n",
    "\n",
    "# import custom modules\n",
    "from models.GPT import *\n",
    "from utils.utils import *\n",
    "from datasets.data_loader import *\n",
    "from utils.plot_figures import *\n",
    "from utils.metrics import *\n",
    "from utils.build_vocab import *"
   ]
  },
  {
   "cell_type": "code",
   "execution_count": 3,
   "metadata": {},
   "outputs": [],
   "source": [
    "cudnn.benchmark = True\n",
    "cudnn.enabled = True\n",
    "\n",
    "train_loss_history = []\n",
    "train_acc_history = []\n",
    "test_loss_history = []\n",
    "test_acc_history = []\n",
    "\n",
    "log_dir = './logs/'\n",
    "save_best_weight_path = './checkpoints/'\n",
    "\n",
    "now = datetime.now().strftime('%Y-%m-%d-%H-%M-%S')"
   ]
  },
  {
   "cell_type": "code",
   "execution_count": 4,
   "metadata": {},
   "outputs": [],
   "source": [
    "PAD = 0\n",
    "UNK = 1\n",
    "EOS = 2\n",
    "SOS = 3\n",
    "MASK = 4\n",
    "MAX_LEN = 220"
   ]
  },
  {
   "cell_type": "code",
   "execution_count": 5,
   "metadata": {},
   "outputs": [
    {
     "name": "stdout",
     "output_type": "stream",
     "text": [
      "the vocab size is : 45\n",
      "the total num of charset is : 45\n"
     ]
    }
   ],
   "source": [
    "# read the data and convert to the format we need\n",
    "train_smiles = read_strings('./data/train_smiles.csv', idx=False)\n",
    "train_zeo = read_vec('./data/train_zeo.csv', idx=False)\n",
    "train_syn = read_vec('./data/train_syn.csv', idx=False)\n",
    "train_codes = read_strings('./data/train_codes.csv', idx=False)\n",
    "test_smiles = read_strings('./data/test_smiles.csv', idx=False)\n",
    "test_zeo = read_vec('./data/test_zeo.csv', idx=False)\n",
    "test_syn = read_vec('./data/test_syn.csv', idx=False)\n",
    "test_codes = read_strings('./data/test_codes.csv', idx=False)\n",
    "\n",
    "vocab = WordVocab.load_vocab('./model_hub/vocab.pkl')\n",
    "print('the vocab size is :', len(vocab))\n",
    "\n",
    "charlen = len(vocab)\n",
    "print('the total num of charset is :', charlen)"
   ]
  },
  {
   "cell_type": "code",
   "execution_count": 6,
   "metadata": {},
   "outputs": [],
   "source": [
    "# hyperparameters\n",
    "device = torch.device(\"cuda:0\" if torch.cuda.is_available() else \"cpu\")\n",
    "batch_size = 512\n",
    "epoch = 20\n",
    "seqlen = 127"
   ]
  },
  {
   "cell_type": "code",
   "execution_count": 7,
   "metadata": {},
   "outputs": [
    {
     "name": "stdout",
     "output_type": "stream",
     "text": [
      "total parameters: 3.25M\n"
     ]
    }
   ],
   "source": [
    "# create the dataset and dataloader\n",
    "train_dataset = Seq2seqDataset(train_zeo, train_syn, train_smiles, vocab)\n",
    "test_dataset = Seq2seqDataset(test_zeo, test_syn, test_smiles, vocab)\n",
    "train_dataloader = DataLoader(train_dataset, batch_size=batch_size, shuffle=True)\n",
    "test_dataloader = DataLoader(test_dataset, batch_size=batch_size, shuffle=False)\n",
    "# create the model\n",
    "config = GPTConfig(vocab_size=charlen, block_size=220, num_props=24)\n",
    "model = GPT(config).to(device)\n",
    "# loss\n",
    "loss_func = torch.nn.CrossEntropyLoss(ignore_index=PAD)\n",
    "optim = torch.optim.Adam(model.parameters(), lr=6e-4)\n",
    "total = sum(p.numel() for p in model.parameters())\n",
    "print('total parameters: %0.2fM' % (total / 1e6))"
   ]
  },
  {
   "cell_type": "code",
   "execution_count": 8,
   "metadata": {},
   "outputs": [],
   "source": [
    "# train function\n",
    "def train(model, train_dataloader, loss_func, optim, device):\n",
    "    model.train()\n",
    "    total_loss = 0\n",
    "    total_acc = 0\n",
    "    total_num = 0\n",
    "    for i, (zeo, syn, tgt) in enumerate(tqdm(train_dataloader)):\n",
    "        zeo = zeo.to(device)\n",
    "        syn = syn.to(device)\n",
    "        tgt = tgt.to(device)\n",
    "        # concat zeo and syn as the input (prop)\n",
    "        synthesis_condition = torch.cat([zeo, syn], dim=-1)\n",
    "        tgt_input = tgt[:, :-1].contiguous()\n",
    "        tgt_label = tgt[:, 1:].contiguous()\n",
    "        \n",
    "        # forward\n",
    "        optim.zero_grad()\n",
    "        output = model(idx=tgt_input, prop=synthesis_condition)\n",
    "        loss = loss_func(output.view(-1, output.size(-1)), tgt_label.view(-1))\n",
    "        \n",
    "        # calculate the accuracy\n",
    "        pred = torch.argmax(output, dim=-1)\n",
    "        num_correct = (pred == tgt_label) & (tgt_label != PAD)\n",
    "        num_words = (tgt_label != PAD).sum().item()\n",
    "        \n",
    "        # backward\n",
    "        loss.backward()\n",
    "        optim.step()\n",
    "        \n",
    "        total_loss += loss.item()\n",
    "        total_acc += num_correct.sum().item()\n",
    "        total_num += num_words\n",
    "    return total_loss / len(train_dataloader), total_acc / total_num"
   ]
  },
  {
   "cell_type": "code",
   "execution_count": 9,
   "metadata": {},
   "outputs": [],
   "source": [
    "def evaluate(model, test_dataloader, loss_func, device):\n",
    "    model.eval()\n",
    "    total_loss = 0\n",
    "    total_acc = 0\n",
    "    total_num = 0\n",
    "    with torch.no_grad():\n",
    "        for i, (zeo, syn, tgt) in enumerate(tqdm(test_dataloader)):\n",
    "            zeo = zeo.to(device)\n",
    "            syn = syn.to(device)\n",
    "            tgt = tgt.to(device)\n",
    "            # concat zeo and syn as the input (prop)\n",
    "            synthesis_condition = torch.cat([zeo, syn], dim=-1)\n",
    "            tgt_input = tgt[:, :-1].contiguous()\n",
    "            tgt_label = tgt[:, 1:].contiguous()\n",
    "            # forward\n",
    "            output = model(idx=tgt_input, prop=synthesis_condition)\n",
    "            loss = loss_func(output.view(-1, output.size(-1)), tgt_label.view(-1))\n",
    "            # calculate the accuracy\n",
    "            pred = torch.argmax(output, dim=-1)\n",
    "            num_correct = (pred == tgt_label) & (tgt_label != PAD)\n",
    "            num_words = (tgt_label != PAD).sum().item()\n",
    "            total_loss += loss.item()\n",
    "            total_acc += num_correct.sum().item()\n",
    "            total_num += num_words\n",
    "    return total_loss / len(test_dataloader), total_acc / total_num"
   ]
  },
  {
   "cell_type": "code",
   "execution_count": 10,
   "metadata": {},
   "outputs": [
    {
     "name": "stderr",
     "output_type": "stream",
     "text": [
      "100%|██████████| 284/284 [01:17<00:00,  3.67it/s]\n"
     ]
    },
    {
     "name": "stdout",
     "output_type": "stream",
     "text": [
      "epoch: 0, train loss: 1.0739, train acc: 0.6508\n"
     ]
    },
    {
     "name": "stderr",
     "output_type": "stream",
     "text": [
      "100%|██████████| 68/68 [00:08<00:00,  8.26it/s]\n"
     ]
    },
    {
     "name": "stdout",
     "output_type": "stream",
     "text": [
      "epoch: 0 test loss: 0.6658, test acc: 0.7611\n"
     ]
    },
    {
     "name": "stderr",
     "output_type": "stream",
     "text": [
      "100%|██████████| 284/284 [01:17<00:00,  3.68it/s]\n"
     ]
    },
    {
     "name": "stdout",
     "output_type": "stream",
     "text": [
      "epoch: 1, train loss: 0.6030, train acc: 0.7772\n"
     ]
    },
    {
     "name": "stderr",
     "output_type": "stream",
     "text": [
      "100%|██████████| 68/68 [00:08<00:00,  8.26it/s]\n"
     ]
    },
    {
     "name": "stdout",
     "output_type": "stream",
     "text": [
      "epoch: 1 test loss: 0.5017, test acc: 0.8127\n"
     ]
    },
    {
     "name": "stderr",
     "output_type": "stream",
     "text": [
      "100%|██████████| 284/284 [01:17<00:00,  3.67it/s]\n"
     ]
    },
    {
     "name": "stdout",
     "output_type": "stream",
     "text": [
      "epoch: 2, train loss: 0.4875, train acc: 0.8160\n"
     ]
    },
    {
     "name": "stderr",
     "output_type": "stream",
     "text": [
      "100%|██████████| 68/68 [00:08<00:00,  8.28it/s]\n"
     ]
    },
    {
     "name": "stdout",
     "output_type": "stream",
     "text": [
      "epoch: 2 test loss: 0.4228, test acc: 0.8398\n"
     ]
    },
    {
     "name": "stderr",
     "output_type": "stream",
     "text": [
      "100%|██████████| 284/284 [01:17<00:00,  3.67it/s]\n"
     ]
    },
    {
     "name": "stdout",
     "output_type": "stream",
     "text": [
      "epoch: 3, train loss: 0.4218, train acc: 0.8380\n"
     ]
    },
    {
     "name": "stderr",
     "output_type": "stream",
     "text": [
      "100%|██████████| 68/68 [00:08<00:00,  8.23it/s]\n"
     ]
    },
    {
     "name": "stdout",
     "output_type": "stream",
     "text": [
      "epoch: 3 test loss: 0.3677, test acc: 0.8594\n"
     ]
    },
    {
     "name": "stderr",
     "output_type": "stream",
     "text": [
      "100%|██████████| 284/284 [01:17<00:00,  3.67it/s]\n"
     ]
    },
    {
     "name": "stdout",
     "output_type": "stream",
     "text": [
      "epoch: 4, train loss: 0.3765, train acc: 0.8533\n"
     ]
    },
    {
     "name": "stderr",
     "output_type": "stream",
     "text": [
      "100%|██████████| 68/68 [00:08<00:00,  8.27it/s]\n"
     ]
    },
    {
     "name": "stdout",
     "output_type": "stream",
     "text": [
      "epoch: 4 test loss: 0.3299, test acc: 0.8716\n"
     ]
    },
    {
     "name": "stderr",
     "output_type": "stream",
     "text": [
      "100%|██████████| 284/284 [01:17<00:00,  3.67it/s]\n"
     ]
    },
    {
     "name": "stdout",
     "output_type": "stream",
     "text": [
      "epoch: 5, train loss: 0.3447, train acc: 0.8641\n"
     ]
    },
    {
     "name": "stderr",
     "output_type": "stream",
     "text": [
      "100%|██████████| 68/68 [00:08<00:00,  8.28it/s]\n"
     ]
    },
    {
     "name": "stdout",
     "output_type": "stream",
     "text": [
      "epoch: 5 test loss: 0.3106, test acc: 0.8773\n"
     ]
    },
    {
     "name": "stderr",
     "output_type": "stream",
     "text": [
      "100%|██████████| 284/284 [01:17<00:00,  3.67it/s]\n"
     ]
    },
    {
     "name": "stdout",
     "output_type": "stream",
     "text": [
      "epoch: 6, train loss: 0.3205, train acc: 0.8724\n"
     ]
    },
    {
     "name": "stderr",
     "output_type": "stream",
     "text": [
      "100%|██████████| 68/68 [00:08<00:00,  8.28it/s]\n"
     ]
    },
    {
     "name": "stdout",
     "output_type": "stream",
     "text": [
      "epoch: 6 test loss: 0.2813, test acc: 0.8875\n"
     ]
    },
    {
     "name": "stderr",
     "output_type": "stream",
     "text": [
      "100%|██████████| 284/284 [01:17<00:00,  3.68it/s]\n"
     ]
    },
    {
     "name": "stdout",
     "output_type": "stream",
     "text": [
      "epoch: 7, train loss: 0.3016, train acc: 0.8787\n"
     ]
    },
    {
     "name": "stderr",
     "output_type": "stream",
     "text": [
      "100%|██████████| 68/68 [00:08<00:00,  8.28it/s]\n"
     ]
    },
    {
     "name": "stdout",
     "output_type": "stream",
     "text": [
      "epoch: 7 test loss: 0.2747, test acc: 0.8897\n"
     ]
    },
    {
     "name": "stderr",
     "output_type": "stream",
     "text": [
      "100%|██████████| 284/284 [01:17<00:00,  3.68it/s]\n"
     ]
    },
    {
     "name": "stdout",
     "output_type": "stream",
     "text": [
      "epoch: 8, train loss: 0.2874, train acc: 0.8835\n"
     ]
    },
    {
     "name": "stderr",
     "output_type": "stream",
     "text": [
      "100%|██████████| 68/68 [00:08<00:00,  8.25it/s]\n"
     ]
    },
    {
     "name": "stdout",
     "output_type": "stream",
     "text": [
      "epoch: 8 test loss: 0.2668, test acc: 0.8913\n"
     ]
    },
    {
     "name": "stderr",
     "output_type": "stream",
     "text": [
      "100%|██████████| 284/284 [01:17<00:00,  3.68it/s]\n"
     ]
    },
    {
     "name": "stdout",
     "output_type": "stream",
     "text": [
      "epoch: 9, train loss: 0.2762, train acc: 0.8871\n"
     ]
    },
    {
     "name": "stderr",
     "output_type": "stream",
     "text": [
      "100%|██████████| 68/68 [00:08<00:00,  8.26it/s]\n"
     ]
    },
    {
     "name": "stdout",
     "output_type": "stream",
     "text": [
      "epoch: 9 test loss: 0.2491, test acc: 0.8972\n"
     ]
    },
    {
     "name": "stderr",
     "output_type": "stream",
     "text": [
      "100%|██████████| 284/284 [01:17<00:00,  3.68it/s]\n"
     ]
    },
    {
     "name": "stdout",
     "output_type": "stream",
     "text": [
      "epoch: 10, train loss: 0.2664, train acc: 0.8905\n"
     ]
    },
    {
     "name": "stderr",
     "output_type": "stream",
     "text": [
      "100%|██████████| 68/68 [00:08<00:00,  8.27it/s]\n"
     ]
    },
    {
     "name": "stdout",
     "output_type": "stream",
     "text": [
      "epoch: 10 test loss: 0.2435, test acc: 0.8994\n"
     ]
    },
    {
     "name": "stderr",
     "output_type": "stream",
     "text": [
      "100%|██████████| 284/284 [01:17<00:00,  3.67it/s]\n"
     ]
    },
    {
     "name": "stdout",
     "output_type": "stream",
     "text": [
      "epoch: 11, train loss: 0.2590, train acc: 0.8928\n"
     ]
    },
    {
     "name": "stderr",
     "output_type": "stream",
     "text": [
      "100%|██████████| 68/68 [00:08<00:00,  8.28it/s]\n"
     ]
    },
    {
     "name": "stdout",
     "output_type": "stream",
     "text": [
      "epoch: 11 test loss: 0.2336, test acc: 0.9025\n"
     ]
    },
    {
     "name": "stderr",
     "output_type": "stream",
     "text": [
      "100%|██████████| 284/284 [01:17<00:00,  3.67it/s]\n"
     ]
    },
    {
     "name": "stdout",
     "output_type": "stream",
     "text": [
      "epoch: 12, train loss: 0.2520, train acc: 0.8950\n"
     ]
    },
    {
     "name": "stderr",
     "output_type": "stream",
     "text": [
      "100%|██████████| 68/68 [00:08<00:00,  8.26it/s]\n"
     ]
    },
    {
     "name": "stdout",
     "output_type": "stream",
     "text": [
      "epoch: 12 test loss: 0.2292, test acc: 0.9041\n"
     ]
    },
    {
     "name": "stderr",
     "output_type": "stream",
     "text": [
      "100%|██████████| 284/284 [01:17<00:00,  3.68it/s]\n"
     ]
    },
    {
     "name": "stdout",
     "output_type": "stream",
     "text": [
      "epoch: 13, train loss: 0.2469, train acc: 0.8968\n"
     ]
    },
    {
     "name": "stderr",
     "output_type": "stream",
     "text": [
      "100%|██████████| 68/68 [00:08<00:00,  8.27it/s]\n"
     ]
    },
    {
     "name": "stdout",
     "output_type": "stream",
     "text": [
      "epoch: 13 test loss: 0.2280, test acc: 0.9046\n"
     ]
    },
    {
     "name": "stderr",
     "output_type": "stream",
     "text": [
      "100%|██████████| 284/284 [01:17<00:00,  3.68it/s]\n"
     ]
    },
    {
     "name": "stdout",
     "output_type": "stream",
     "text": [
      "epoch: 14, train loss: 0.2418, train acc: 0.8983\n"
     ]
    },
    {
     "name": "stderr",
     "output_type": "stream",
     "text": [
      "100%|██████████| 68/68 [00:08<00:00,  8.25it/s]\n"
     ]
    },
    {
     "name": "stdout",
     "output_type": "stream",
     "text": [
      "epoch: 14 test loss: 0.2233, test acc: 0.9056\n"
     ]
    },
    {
     "name": "stderr",
     "output_type": "stream",
     "text": [
      "100%|██████████| 284/284 [01:17<00:00,  3.68it/s]\n"
     ]
    },
    {
     "name": "stdout",
     "output_type": "stream",
     "text": [
      "epoch: 15, train loss: 0.2387, train acc: 0.8994\n"
     ]
    },
    {
     "name": "stderr",
     "output_type": "stream",
     "text": [
      "100%|██████████| 68/68 [00:08<00:00,  8.24it/s]\n"
     ]
    },
    {
     "name": "stdout",
     "output_type": "stream",
     "text": [
      "epoch: 15 test loss: 0.2203, test acc: 0.9063\n"
     ]
    },
    {
     "name": "stderr",
     "output_type": "stream",
     "text": [
      "100%|██████████| 284/284 [01:17<00:00,  3.68it/s]\n"
     ]
    },
    {
     "name": "stdout",
     "output_type": "stream",
     "text": [
      "epoch: 16, train loss: 0.2344, train acc: 0.9007\n"
     ]
    },
    {
     "name": "stderr",
     "output_type": "stream",
     "text": [
      "100%|██████████| 68/68 [00:08<00:00,  8.25it/s]\n"
     ]
    },
    {
     "name": "stdout",
     "output_type": "stream",
     "text": [
      "epoch: 16 test loss: 0.2173, test acc: 0.9074\n"
     ]
    },
    {
     "name": "stderr",
     "output_type": "stream",
     "text": [
      "100%|██████████| 284/284 [01:17<00:00,  3.67it/s]\n"
     ]
    },
    {
     "name": "stdout",
     "output_type": "stream",
     "text": [
      "epoch: 17, train loss: 0.2319, train acc: 0.9017\n"
     ]
    },
    {
     "name": "stderr",
     "output_type": "stream",
     "text": [
      "100%|██████████| 68/68 [00:08<00:00,  8.27it/s]\n"
     ]
    },
    {
     "name": "stdout",
     "output_type": "stream",
     "text": [
      "epoch: 17 test loss: 0.2158, test acc: 0.9077\n"
     ]
    },
    {
     "name": "stderr",
     "output_type": "stream",
     "text": [
      "100%|██████████| 284/284 [01:17<00:00,  3.67it/s]\n"
     ]
    },
    {
     "name": "stdout",
     "output_type": "stream",
     "text": [
      "epoch: 18, train loss: 0.2291, train acc: 0.9023\n"
     ]
    },
    {
     "name": "stderr",
     "output_type": "stream",
     "text": [
      "100%|██████████| 68/68 [00:08<00:00,  8.27it/s]\n"
     ]
    },
    {
     "name": "stdout",
     "output_type": "stream",
     "text": [
      "epoch: 18 test loss: 0.2135, test acc: 0.9084\n"
     ]
    },
    {
     "name": "stderr",
     "output_type": "stream",
     "text": [
      "100%|██████████| 284/284 [01:17<00:00,  3.67it/s]\n"
     ]
    },
    {
     "name": "stdout",
     "output_type": "stream",
     "text": [
      "epoch: 19, train loss: 0.2265, train acc: 0.9032\n"
     ]
    },
    {
     "name": "stderr",
     "output_type": "stream",
     "text": [
      "100%|██████████| 68/68 [00:08<00:00,  8.26it/s]"
     ]
    },
    {
     "name": "stdout",
     "output_type": "stream",
     "text": [
      "epoch: 19 test loss: 0.2102, test acc: 0.9096\n"
     ]
    },
    {
     "name": "stderr",
     "output_type": "stream",
     "text": [
      "\n"
     ]
    }
   ],
   "source": [
    "# train the model\n",
    "for i in range(epoch):\n",
    "    train_loss, train_acc = train(model, train_dataloader, loss_func, optim, device)\n",
    "    train_loss_history.append(train_loss)\n",
    "    train_acc_history.append(train_acc)\n",
    "    print('epoch: %d, train loss: %.4f, train acc: %.4f' % (i, train_loss, train_acc))\n",
    "    test_loss, test_acc = evaluate(model, test_dataloader, loss_func, device)\n",
    "    test_loss_history.append(test_loss)\n",
    "    test_acc_history.append(test_acc)\n",
    "    print('epoch: %d test loss: %.4f, test acc: %.4f' % (i, test_loss, test_acc))\n",
    "    if i == 0:\n",
    "        best_acc = test_acc\n",
    "    if test_acc > best_acc:\n",
    "        best_acc = test_acc\n",
    "        torch.save(model.state_dict(), save_best_weight_path + 'best_GPT_model.pth')\n",
    "    torch.save(model.state_dict(), save_best_weight_path + 'last_GPT_model.pth')"
   ]
  },
  {
   "cell_type": "code",
   "execution_count": 11,
   "metadata": {},
   "outputs": [],
   "source": [
    "def generate_gpt(model, start_sequence, condition_props, max_length, vocab, device, temperature=1.0, top_k=0):\n",
    "    \"\"\"\n",
    "    Autoregressive generation process for a GPT model.\n",
    "\n",
    "    Args:\n",
    "        model (GPT): The pre-trained GPT model for token generation.\n",
    "        start_sequence (torch.Tensor): The initial sequence to start generation (batch_size, seq_length).\n",
    "        condition_props (torch.Tensor): The conditional property vector (batch_size, num_props).\n",
    "        max_length (int): The maximum length of the generated sequence.\n",
    "        vocab: The vocabulary object for encoding and decoding SMILES strings.\n",
    "        device (torch.device): The device on which to run the generation.\n",
    "        temperature (float): Temperature parameter for sampling; higher values increase randomness.\n",
    "        top_k (int): Limits sampling to top-k logits; if 0, no top-k sampling is applied.\n",
    "\n",
    "    Returns:\n",
    "        List[str]: A list of generated SMILES strings.\n",
    "    \"\"\"\n",
    "    model.eval()\n",
    "    batch_size = start_sequence.size(0)\n",
    "    generated_sequences = start_sequence.clone().to(device)  # Clone and move to device\n",
    "\n",
    "    for _ in range(max_length - start_sequence.size(1)):\n",
    "        # Get the current sequence length\n",
    "        current_length = generated_sequences.size(1)\n",
    "\n",
    "        # Forward pass through the model\n",
    "        logits = model(generated_sequences, condition_props)  # (batch_size, seq_length, vocab_size)\n",
    "\n",
    "        # Extract the logits for the last time step\n",
    "        next_token_logits = logits[:, -1, :]  # (batch_size, vocab_size)\n",
    "\n",
    "        # Apply temperature scaling\n",
    "        next_token_logits = next_token_logits / temperature\n",
    "\n",
    "        # Apply top-k filtering\n",
    "        if top_k > 0:\n",
    "            top_k_logits, top_k_indices = torch.topk(next_token_logits, top_k, dim=-1)\n",
    "            mask = torch.full_like(next_token_logits, float('-inf'))\n",
    "            mask.scatter_(dim=-1, index=top_k_indices, src=top_k_logits)\n",
    "            next_token_logits = mask\n",
    "\n",
    "        # Convert logits to probabilities\n",
    "        next_token_probs = F.softmax(next_token_logits, dim=-1)\n",
    "\n",
    "        # Sample from the probability distribution\n",
    "        next_token = torch.multinomial(next_token_probs, num_samples=1)  # (batch_size, 1)\n",
    "        \n",
    "        # Get the most likely next token\n",
    "        # next_token = torch.argmax(next_token_logits, dim=-1, keepdim=True)\n",
    "\n",
    "        # Append the generated token to the sequence\n",
    "        generated_sequences = torch.cat([generated_sequences, next_token], dim=1)\n",
    "\n",
    "        # Check if all sequences have reached the end token\n",
    "        if all(next_token[i].item() == EOS for i in range(batch_size)):\n",
    "            break\n",
    "\n",
    "    # Decode the generated sequences into SMILES strings\n",
    "    generated_smiles = []\n",
    "    for seq in generated_sequences:\n",
    "        # Convert indices to characters, ignoring padding and start tokens\n",
    "        # check if the generated sequence contains the end token, if meet, stop decoding\n",
    "        smiles = ''\n",
    "        for idx in seq:\n",
    "            if idx.item() == EOS:\n",
    "                break\n",
    "            elif idx.item() != PAD and idx.item() != SOS:\n",
    "                smiles += vocab.itos[idx.item()]\n",
    "        generated_smiles.append(smiles)\n",
    "\n",
    "    return generated_smiles\n"
   ]
  },
  {
   "cell_type": "code",
   "execution_count": 12,
   "metadata": {},
   "outputs": [
    {
     "name": "stderr",
     "output_type": "stream",
     "text": [
      "100%|██████████| 68/68 [02:22<00:00,  2.09s/it]\n"
     ]
    }
   ],
   "source": [
    "# generate the smiles for the test dataset\n",
    "generated_smile = []\n",
    "target_smile = []\n",
    "for i, (zeo, syn, tgt) in enumerate(tqdm(test_dataloader)):\n",
    "    zeo = zeo.to(device)\n",
    "    syn = syn.to(device)\n",
    "    tgt = tgt.to(device)\n",
    "    condition_synthesis = torch.cat([zeo, syn], dim=1)\n",
    "    generated_smiles = generate_gpt(model, tgt[:, :2], condition_synthesis, MAX_LEN, vocab, device, 0.5)\n",
    "    generated_smile.extend(generated_smiles)\n",
    "    # convert the tgt to smiles\n",
    "    tgt_smiles = []\n",
    "    for seq in tgt:\n",
    "        smiles = ''\n",
    "        for idx in seq:\n",
    "            if idx.item() == EOS:\n",
    "                break\n",
    "            elif idx.item() != PAD and idx.item() != SOS:\n",
    "                smiles += vocab.itos[idx.item()]\n",
    "        tgt_smiles.append(smiles)\n",
    "    target_smile.extend(tgt_smiles)"
   ]
  },
  {
   "cell_type": "code",
   "execution_count": 13,
   "metadata": {},
   "outputs": [
    {
     "name": "stderr",
     "output_type": "stream",
     "text": [
      "[14:52:10] Can't kekulize mol.  Unkekulized atoms: 26 27 28 29 30 31 32\n",
      "[14:52:10] SMILES Parse Error: extra open parentheses for input: 'O1C2(OC(C)CC1CC[N+](C)(C)CC2'\n",
      "[14:52:11] Can't kekulize mol.  Unkekulized atoms: 26 27 28 29 30 31 32\n",
      "[14:52:11] SMILES Parse Error: extra open parentheses for input: 'O1C2(OC(C)CC1CC[N+](C)(C)CC2'\n"
     ]
    },
    {
     "name": "stdout",
     "output_type": "stream",
     "text": [
      "Validity rate: 0.996\n",
      "Uniqueness rate: 0.602\n",
      "Novelty rate: 0.43521594684385384\n",
      "Reconstructability rate: 0.5647840531561462\n",
      "Novelty rate: 0.43521594684385384\n",
      "IntDiv: 0.7624652232391804\n"
     ]
    },
    {
     "name": "stderr",
     "output_type": "stream",
     "text": [
      "[14:52:14] SMILES Parse Error: unclosed ring for input: 'C1C[N+](C)(C)CC2C3C=CC(C4C5C[N+](C)(C)CC45)C12'\n",
      "[14:52:14] SMILES Parse Error: unclosed ring for input: '[N+]1(C)(C)CC2C3C=CC(C2C1)C1C3C[N+](C)(C)CC31'\n",
      "[14:52:14] SMILES Parse Error: unclosed ring for input: 'C12C3C=CC(C1C[N+](C)(C)C2)C1C2C3C[N+](C)(C)CC31'\n",
      "[14:52:14] SMILES Parse Error: unclosed ring for input: '[N+]1(CC)(CC)CC2C(C3C=CC2C2C[N+](CC)(CC)C2)C1'\n",
      "[14:52:14] SMILES Parse Error: unclosed ring for input: 'C12C3C=CC(C1C[N+](C)(C)C2)C1C3C[N+](C)(C)CC3C21'\n",
      "[14:52:14] SMILES Parse Error: extra close parentheses while parsing: C1CC[N+](C)(CCCC)C)CCC1\n",
      "[14:52:14] SMILES Parse Error: Failed parsing SMILES 'C1CC[N+](C)(CCCC)C)CCC1' for input: 'C1CC[N+](C)(CCCC)C)CCC1'\n",
      "[14:52:14] SMILES Parse Error: unclosed ring for input: 'C12C3C=CC(C1C[N+](C)(C)C2)C1C3C[N+](C)(C)CC3C12'\n",
      "[14:52:14] SMILES Parse Error: unclosed ring for input: '[N+]1(C)(C)CC2C(C3C=CC2C2C3C[N+](C)(C)CC23)C1'\n",
      "[14:52:14] SMILES Parse Error: extra open parentheses for input: 'C(C)[N+]1(C[N+]2(CCCC(C)C2)CCCCC1'\n",
      "[14:52:14] SMILES Parse Error: extra open parentheses for input: 'C1C2[N+]3(CC)C(CCCC3)CC(N2CCCCC12'\n",
      "[14:52:14] SMILES Parse Error: unclosed ring for input: 'C1C2CC(CC3[N+]2(CC)C3CCCC3)[N+]2(C)CCC1'\n",
      "[14:52:14] SMILES Parse Error: extra close parentheses while parsing: C1CC[N+]2(Cc3ccccc3)C2)CC1\n",
      "[14:52:14] SMILES Parse Error: Failed parsing SMILES 'C1CC[N+]2(Cc3ccccc3)C2)CC1' for input: 'C1CC[N+]2(Cc3ccccc3)C2)CC1'\n",
      "[14:52:14] Can't kekulize mol.  Unkekulized atoms: 0 2 24\n",
      "[14:52:14] SMILES Parse Error: extra open parentheses for input: 'C1CCC2C3CC(C([N+]12C)CC1[N+](C)(C)CCC3'\n",
      "[14:52:14] SMILES Parse Error: unclosed ring for input: '[N+]1(C)(C)CC2C(C3C=CC2C2C3C[N+](C)(C)C3)C1'\n",
      "[14:52:14] SMILES Parse Error: extra close parentheses while parsing: C1C2C3C(C([N+](C)(C)C)C2)CCC3)CC1\n",
      "[14:52:14] SMILES Parse Error: Failed parsing SMILES 'C1C2C3C(C([N+](C)(C)C)C2)CCC3)CC1' for input: 'C1C2C3C(C([N+](C)(C)C)C2)CCC3)CC1'\n",
      "[14:52:14] SMILES Parse Error: unclosed ring for input: 'C12C3C4C(C(C=C3)C1C[N+](C)(C)CC42)C[N+](C)(C)C4'\n",
      "[14:52:14] SMILES Parse Error: unclosed ring for input: '[N+]1(C)(C)CC2C(C1)C1C=CC2C2C1C2C[N+](C)(C)C1'\n",
      "[14:52:14] Can't kekulize mol.  Unkekulized atoms: 28 29 30 31 32\n",
      "[14:52:14] SMILES Parse Error: extra close parentheses while parsing: C1CC[N+](C)(CCCC)C)CC1\n",
      "[14:52:14] SMILES Parse Error: Failed parsing SMILES 'C1CC[N+](C)(CCCC)C)CC1' for input: 'C1CC[N+](C)(CCCC)C)CC1'\n",
      "[14:52:14] SMILES Parse Error: extra close parentheses while parsing: C1CCC([N+](C)(CCCC)C)C)CC1\n",
      "[14:52:14] SMILES Parse Error: Failed parsing SMILES 'C1CCC([N+](C)(CCCC)C)C)CC1' for input: 'C1CCC([N+](C)(CCCC)C)C)CC1'\n",
      "[14:52:14] SMILES Parse Error: unclosed ring for input: 'C1c2ccccc2C[N+]12CCCCC1'\n",
      "[14:52:14] SMILES Parse Error: unclosed ring for input: 'C1CC2CCC1[N+]1(CCCCCC[N+]1(C)C2CCC(CC1)CC2)CC'\n",
      "[14:52:14] SMILES Parse Error: unclosed ring for input: 'C12C3C=CC(C1C[N+](C)(C)C2)C1C3C[N+](C)(C)CC3C1'\n",
      "[14:52:14] SMILES Parse Error: ring closure 1 duplicates bond between atom 0 and atom 8 for input: '[N+]12(Cc3ccccc3)C1CCCCC2'\n",
      "[14:52:14] SMILES Parse Error: extra open parentheses for input: 'C1CCCC(C[N+](C)(CC2CCCCC2)C1'\n",
      "[14:52:14] SMILES Parse Error: extra close parentheses while parsing: C1CC[N+]2(Cc3ccccc3)C2)CC1\n",
      "[14:52:14] SMILES Parse Error: Failed parsing SMILES 'C1CC[N+]2(Cc3ccccc3)C2)CC1' for input: 'C1CC[N+]2(Cc3ccccc3)C2)CC1'\n",
      "[14:52:14] SMILES Parse Error: unclosed ring for input: 'C12C3C=CC(C4C3C4C[N+](C)(C)C3)C1C[N+](C)(C)C2'\n",
      "[14:52:14] SMILES Parse Error: extra close parentheses while parsing: C1CCC([N+](C)(CCCC)C)C)CC1\n",
      "[14:52:14] SMILES Parse Error: Failed parsing SMILES 'C1CCC([N+](C)(CCCC)C)C)CC1' for input: 'C1CCC([N+](C)(CCCC)C)C)CC1'\n",
      "[14:52:14] SMILES Parse Error: extra open parentheses for input: 'C1CC(CCCC2CC[N+](C)(CC2)CC1'\n",
      "[14:52:14] SMILES Parse Error: extra open parentheses for input: 'C(CCCCCCCCC[N+]1(C)CCC(CCCC2CC[N+](CCCCCCC)(C)CC2)CC1'\n",
      "[14:52:14] SMILES Parse Error: unclosed ring for input: 'C1CCC[N+]1(C)CCC(CCCC2CC[N+](CCCCCCC)(C)CC2)CC1'\n",
      "[14:52:14] SMILES Parse Error: unclosed ring for input: 'C1CCCC2C3CC(CC4[N+]3(C)CCCC43)C12'\n",
      "[14:52:14] SMILES Parse Error: unclosed ring for input: 'C1CCCC2C3CC(C([N+]12C)C3)CC([N+](C)(C)C)C2'\n",
      "[14:52:14] SMILES Parse Error: unclosed ring for input: 'C1CCCC2C3CC(CC4[N+]3(C)CCCC43)C12'\n",
      "[14:52:14] SMILES Parse Error: unclosed ring for input: 'C1CCCC2C3CC(C([N+]12C)CCC3)C2'\n",
      "[14:52:14] SMILES Parse Error: unclosed ring for input: 'C1CCCC2C3CC(C([N+]12C)C3)CC1[N+](C)(C)C2'\n",
      "[14:52:14] SMILES Parse Error: unclosed ring for input: '[N+]1(C)(C)CC2C(C1)C1C=CC2C2C[N+](C)(C)CC2C31'\n",
      "[14:52:14] SMILES Parse Error: extra close parentheses while parsing: C1CC[N+](C)(CCCC)C)CC1\n",
      "[14:52:14] SMILES Parse Error: Failed parsing SMILES 'C1CC[N+](C)(CCCC)C)CC1' for input: 'C1CC[N+](C)(CCCC)C)CC1'\n",
      "[14:52:14] SMILES Parse Error: unclosed ring for input: 'C12C3C(C(C=C1)C1C2C[N+](C)(C)C1)C[N+](C)(C)CC31'\n",
      "[14:52:14] SMILES Parse Error: unclosed ring for input: 'C1CCCC[N+]12CCCCCC[N+]1(C)CC2CCC1CN2'\n",
      "[14:52:14] SMILES Parse Error: unclosed ring for input: 'C1CCC[N+]2(C)CCC(CC2)CCCC2CC[N+]1(C)CCCCC21'\n",
      "[14:52:14] Can't kekulize mol.  Unkekulized atoms: 0 1 2 3 4 5 6\n",
      "[14:52:14] SMILES Parse Error: unclosed ring for input: 'C1CC2CC[N+]1(C)CCC(CC1)CCCC2'\n",
      "[14:52:14] Can't kekulize mol.  Unkekulized atoms: 0 1 10 12 13\n",
      "[14:52:14] Can't kekulize mol.  Unkekulized atoms: 0 1 10 11 13\n",
      "[14:52:14] SMILES Parse Error: unclosed ring for input: 'C12CC(CC1)C[N+]1(C)CCC2'\n",
      "[14:52:14] SMILES Parse Error: unclosed ring for input: 'C[N+](C1C2C(C3CCCC3C1C3)C2)(C)C'\n",
      "[14:52:14] SMILES Parse Error: extra open parentheses for input: 'C1CCC2C([N+](C)(C)CCCC12'\n",
      "[14:52:14] SMILES Parse Error: unclosed ring for input: 'C1CCC2C([N+]1(C)CCCCC2)CC1'\n",
      "[14:52:14] SMILES Parse Error: unclosed ring for input: 'C1CCCC[N+]12C1CC(CC2)C1C2CC2CC1C2'\n",
      "[14:52:14] Explicit valence for atom # 12 C, 5, is greater than permitted\n",
      "[14:52:14] SMILES Parse Error: unclosed ring for input: 'C1CC2C3CCC(C3)C[N+]2(CC1)CCCC3'\n",
      "[14:52:14] SMILES Parse Error: extra close parentheses while parsing: C1C2C3C(C(C2)C1)C=C3)C[N+](C)(C)C\n",
      "[14:52:14] SMILES Parse Error: Failed parsing SMILES 'C1C2C3C(C(C2)C1)C=C3)C[N+](C)(C)C' for input: 'C1C2C3C(C(C2)C1)C=C3)C[N+](C)(C)C'\n",
      "[14:52:14] SMILES Parse Error: extra close parentheses while parsing: C(C)(C)(C)C)(C)C(N)C\n",
      "[14:52:14] SMILES Parse Error: Failed parsing SMILES 'C(C)(C)(C)C)(C)C(N)C' for input: 'C(C)(C)(C)C)(C)C(N)C'\n",
      "[14:52:14] SMILES Parse Error: extra close parentheses while parsing: C(C)(C)(C)C)(C)N\n",
      "[14:52:14] SMILES Parse Error: Failed parsing SMILES 'C(C)(C)(C)C)(C)N' for input: 'C(C)(C)(C)C)(C)N'\n",
      "[14:52:14] SMILES Parse Error: extra close parentheses while parsing: C(C)(C)(C)C)(C)N\n",
      "[14:52:14] SMILES Parse Error: Failed parsing SMILES 'C(C)(C)(C)C)(C)N' for input: 'C(C)(C)(C)C)(C)N'\n",
      "[14:52:14] SMILES Parse Error: extra close parentheses while parsing: CC(C)(C)CC(C)(C)N)C\n",
      "[14:52:14] SMILES Parse Error: Failed parsing SMILES 'CC(C)(C)CC(C)(C)N)C' for input: 'CC(C)(C)CC(C)(C)N)C'\n",
      "[14:52:14] SMILES Parse Error: unclosed ring for input: 'C1C2C(C)(C)C(C2)C(C)CC1C[N+](C)(C)C2'\n",
      "[14:52:14] SMILES Parse Error: extra close parentheses while parsing: C(C)(C(O)c1ccccc1)NC)C\n",
      "[14:52:14] SMILES Parse Error: Failed parsing SMILES 'C(C)(C(O)c1ccccc1)NC)C' for input: 'C(C)(C(O)c1ccccc1)NC)C'\n",
      "[14:52:14] SMILES Parse Error: extra close parentheses while parsing: N(C)(C(C(O)c1ccccc1)C)C)C\n",
      "[14:52:14] SMILES Parse Error: Failed parsing SMILES 'N(C)(C(C(O)c1ccccc1)C)C)C' for input: 'N(C)(C(C(O)c1ccccc1)C)C)C'\n",
      "[14:52:14] SMILES Parse Error: extra close parentheses while parsing: c1ccccc1C(O)C(C)NC)c1\n",
      "[14:52:14] SMILES Parse Error: Failed parsing SMILES 'c1ccccc1C(O)C(C)NC)c1' for input: 'c1ccccc1C(O)C(C)NC)c1'\n",
      "[14:52:14] SMILES Parse Error: extra close parentheses while parsing: c1ccccc1C(O)C(NC)C)c1\n",
      "[14:52:14] SMILES Parse Error: Failed parsing SMILES 'c1ccccc1C(O)C(NC)C)c1' for input: 'c1ccccc1C(O)C(NC)C)c1'\n",
      "[14:52:14] SMILES Parse Error: extra close parentheses while parsing: C(C)(C(c1ccccc1)O)NC)C\n",
      "[14:52:14] SMILES Parse Error: Failed parsing SMILES 'C(C)(C(c1ccccc1)O)NC)C' for input: 'C(C)(C(c1ccccc1)O)NC)C'\n",
      "[14:52:14] SMILES Parse Error: extra close parentheses while parsing: C(C)(C(O)c1ccccc1)NC)C\n",
      "[14:52:14] SMILES Parse Error: Failed parsing SMILES 'C(C)(C(O)c1ccccc1)NC)C' for input: 'C(C)(C(O)c1ccccc1)NC)C'\n",
      "[14:52:14] SMILES Parse Error: extra close parentheses while parsing: c1ccccc1C(O)C(NC)C)c1\n",
      "[14:52:14] SMILES Parse Error: Failed parsing SMILES 'c1ccccc1C(O)C(NC)C)c1' for input: 'c1ccccc1C(O)C(NC)C)c1'\n",
      "[14:52:14] SMILES Parse Error: extra close parentheses while parsing: C(C)(C(O)c1ccccc1)NC)C\n",
      "[14:52:14] SMILES Parse Error: Failed parsing SMILES 'C(C)(C(O)c1ccccc1)NC)C' for input: 'C(C)(C(O)c1ccccc1)NC)C'\n",
      "[14:52:14] SMILES Parse Error: extra close parentheses while parsing: c1ccccc1C(O)C(NC)C)c1\n",
      "[14:52:14] SMILES Parse Error: Failed parsing SMILES 'c1ccccc1C(O)C(NC)C)c1' for input: 'c1ccccc1C(O)C(NC)C)c1'\n",
      "[14:52:14] SMILES Parse Error: extra close parentheses while parsing: c1ccccc1C(O)C(NC)C)c1\n",
      "[14:52:14] SMILES Parse Error: Failed parsing SMILES 'c1ccccc1C(O)C(NC)C)c1' for input: 'c1ccccc1C(O)C(NC)C)c1'\n",
      "[14:52:14] SMILES Parse Error: extra close parentheses while parsing: OC(c1ccccc1)C(NC)C)c1ccccc1\n",
      "[14:52:14] SMILES Parse Error: Failed parsing SMILES 'OC(c1ccccc1)C(NC)C)c1ccccc1' for input: 'OC(c1ccccc1)C(NC)C)c1ccccc1'\n",
      "[14:52:14] SMILES Parse Error: extra close parentheses while parsing: CN(C(C(O)c1ccccc1)C)C)C\n",
      "[14:52:14] SMILES Parse Error: Failed parsing SMILES 'CN(C(C(O)c1ccccc1)C)C)C' for input: 'CN(C(C(O)c1ccccc1)C)C)C'\n",
      "[14:52:14] SMILES Parse Error: extra close parentheses while parsing: c1ccccc1C(O)C(NC)C)c1\n",
      "[14:52:14] SMILES Parse Error: Failed parsing SMILES 'c1ccccc1C(O)C(NC)C)c1' for input: 'c1ccccc1C(O)C(NC)C)c1'\n",
      "[14:52:14] SMILES Parse Error: extra close parentheses while parsing: C(C)(C(O)c1ccccc1)NC)C\n",
      "[14:52:14] SMILES Parse Error: Failed parsing SMILES 'C(C)(C(O)c1ccccc1)NC)C' for input: 'C(C)(C(O)c1ccccc1)NC)C'\n",
      "[14:52:14] SMILES Parse Error: extra close parentheses while parsing: c1ccccc1C(C(NC)C)O)c1\n",
      "[14:52:14] SMILES Parse Error: Failed parsing SMILES 'c1ccccc1C(C(NC)C)O)c1' for input: 'c1ccccc1C(C(NC)C)O)c1'\n",
      "[14:52:14] SMILES Parse Error: extra close parentheses while parsing: C(C)(C(c1ccccc1)O)NC)C\n",
      "[14:52:14] SMILES Parse Error: Failed parsing SMILES 'C(C)(C(c1ccccc1)O)NC)C' for input: 'C(C)(C(c1ccccc1)O)NC)C'\n",
      "[14:52:14] SMILES Parse Error: extra close parentheses while parsing: C(C)(C(c1ccccc1)O)NC)C\n",
      "[14:52:14] SMILES Parse Error: Failed parsing SMILES 'C(C)(C(c1ccccc1)O)NC)C' for input: 'C(C)(C(c1ccccc1)O)NC)C'\n",
      "[14:52:14] SMILES Parse Error: extra close parentheses while parsing: c1ccccc1C(O)C(NC)C)c1\n",
      "[14:52:14] SMILES Parse Error: Failed parsing SMILES 'c1ccccc1C(O)C(NC)C)c1' for input: 'c1ccccc1C(O)C(NC)C)c1'\n",
      "[14:52:14] Can't kekulize mol.  Unkekulized atoms: 9 10 11 12 14\n",
      "[14:52:14] SMILES Parse Error: extra close parentheses while parsing: C(c1ccccc1)(O)C(C)NC)c1ccccc1\n",
      "[14:52:14] SMILES Parse Error: Failed parsing SMILES 'C(c1ccccc1)(O)C(C)NC)c1ccccc1' for input: 'C(c1ccccc1)(O)C(C)NC)c1ccccc1'\n",
      "[14:52:15] SMILES Parse Error: unclosed ring for input: 'C1C2CC3CC(C2)CC1C3[N+](C)(CC)C2'\n",
      "[14:52:15] Can't kekulize mol.  Unkekulized atoms: 0 1 2 3 15 17 18\n",
      "[14:52:15] Can't kekulize mol.  Unkekulized atoms: 0 1 2 14 16 17 18\n",
      "[14:52:15] SMILES Parse Error: unclosed ring for input: 'C1C2CC3CC(C2)CC1(n1cc[n+](C25CC6CC(CC(C2)C5)C4)c1)C3'\n",
      "[14:52:15] SMILES Parse Error: unclosed ring for input: 'C1C2CC3CC1CC([n+]1cn(C45CC6CC(CC(C7)C6)C5)cc1)(C2)C3'\n",
      "[14:52:15] SMILES Parse Error: extra open parentheses for input: 'C(CCCCCCCCCCCCCC)CCCCC[N+](C)(CC[N+](CCCCCCCC)(C)C'\n",
      "[14:52:15] Explicit valence for atom # 11 N, 4, is greater than permitted\n",
      "[14:52:15] SMILES Parse Error: unclosed ring for input: 'C12C3C[N+](C)(C)CC3C(C=C1)C1C3C[N+](C)(C)CC21'\n",
      "[14:52:15] SMILES Parse Error: unclosed ring for input: 'C1C2C3C4C5C[N+](C)(C)CC4C(C=C3)C2C[N+]1(C)C'\n",
      "[14:52:15] SMILES Parse Error: extra close parentheses while parsing: C1[N+](C)(C)CC2C3C=CC(C4C5C[N+](C)(C)CC45)C3)C12\n",
      "[14:52:15] SMILES Parse Error: Failed parsing SMILES 'C1[N+](C)(C)CC2C3C=CC(C4C5C[N+](C)(C)CC45)C3)C12' for input: 'C1[N+](C)(C)CC2C3C=CC(C4C5C[N+](C)(C)CC45)C3)C12'\n",
      "[14:52:15] SMILES Parse Error: unclosed ring for input: 'C1C2C3C(C(C=C2)C1)C1C2C[N+](C)(C)C1'\n",
      "[14:52:15] SMILES Parse Error: ring closure 3 duplicates bond between atom 7 and atom 8 for input: 'C12C3C(C4C=CC3C3C3C[N+](C)(C)CC34)C1C[N+](C)(C)C2'\n",
      "[14:52:15] SMILES Parse Error: unclosed ring for input: 'C12C(C3C=CC1C1C3C[N+](C)(C)C1)C1C3C2C[N+](C)(C)C1'\n",
      "[14:52:15] SMILES Parse Error: unclosed ring for input: 'C1C2C3C=CC(C4C3C4C[N+](C)(C)C3)C2C[N+]1(C)C'\n",
      "[14:52:15] SMILES Parse Error: unclosed ring for input: '[N+]1(C)(C)CC2C(C3C=CC2C2C3C[N+](C)(C)CC32)C1'\n",
      "[14:52:15] SMILES Parse Error: unclosed ring for input: 'C12C3C=CC(C4C5C[N+](C)(C)CC34)C1C[N+](C)(C)C2'\n",
      "[14:52:15] SMILES Parse Error: extra close parentheses while parsing: C1[N+]2(Cc3ccccc3)C2)Cc2c1cccc2\n",
      "[14:52:15] SMILES Parse Error: Failed parsing SMILES 'C1[N+]2(Cc3ccccc3)C2)Cc2c1cccc2' for input: 'C1[N+]2(Cc3ccccc3)C2)Cc2c1cccc2'\n",
      "[14:52:15] SMILES Parse Error: extra close parentheses while parsing: c1ccccc1C[N+]12CCc3c(cccc3)C1)CC2\n",
      "[14:52:15] SMILES Parse Error: Failed parsing SMILES 'c1ccccc1C[N+]12CCc3c(cccc3)C1)CC2' for input: 'c1ccccc1C[N+]12CCc3c(cccc3)C1)CC2'\n",
      "[14:52:15] SMILES Parse Error: unclosed ring for input: 'C1C2C(C)(C)C1C(C)CCC2C[N+]1(C)C'\n",
      "[14:52:15] Explicit valence for atom # 2 N, 4, is greater than permitted\n",
      "[14:52:15] SMILES Parse Error: extra close parentheses while parsing: c12c(cccc1)C1CCCC1[N+](C)(C)C)CC2\n",
      "[14:52:15] SMILES Parse Error: Failed parsing SMILES 'c12c(cccc1)C1CCCC1[N+](C)(C)C)CC2' for input: 'c12c(cccc1)C1CCCC1[N+](C)(C)C)CC2'\n",
      "[14:52:15] SMILES Parse Error: unclosed ring for input: 'C1C2CC3CC(C2)CC1(n1c[n+](C24CC5CC(CC(C4)C6)C5)cc1)C3'\n",
      "[14:52:15] SMILES Parse Error: unclosed ring for input: 'C1C2CC3CC(C2)CC1(n1cc[n+](C24CC5CC(CC(C4)C6)C5)c1)C3'\n",
      "[14:52:15] SMILES Parse Error: extra close parentheses while parsing: C12C3CC([N+](C)(C)C)C(C1)C2)CCCC3\n",
      "[14:52:15] SMILES Parse Error: Failed parsing SMILES 'C12C3CC([N+](C)(C)C)C(C1)C2)CCCC3' for input: 'C12C3CC([N+](C)(C)C)C(C1)C2)CCCC3'\n",
      "[14:52:15] SMILES Parse Error: unclosed ring for input: 'C1C2C(C)(C)C(C2)C(CC1)CC[N+]2(C)C'\n",
      "[14:52:15] SMILES Parse Error: extra open parentheses for input: 'C(C)(C)[N+](C(C)C)(C(C)C'\n",
      "[14:52:15] SMILES Parse Error: extra open parentheses for input: 'C(C)[N+](C(C)C)(C(C)C'\n",
      "[14:52:15] SMILES Parse Error: extra open parentheses for input: 'C(C)([N+](C(C)C)(CC)C(C)C'\n",
      "[14:52:15] SMILES Parse Error: extra open parentheses for input: '[N+](C(C)(C)(CC)(CC)C(C)(C)C'\n",
      "[14:52:15] SMILES Parse Error: extra close parentheses while parsing: C1C2C3C(C([N+](C)(C)C)C2)CCC3)CC1\n",
      "[14:52:15] SMILES Parse Error: Failed parsing SMILES 'C1C2C3C(C([N+](C)(C)C)C2)CCC3)CC1' for input: 'C1C2C3C(C([N+](C)(C)C)C2)CCC3)CC1'\n",
      "[14:52:15] SMILES Parse Error: extra open parentheses for input: 'C12CC(C(C[N+](C)(C)C)CCC1C2(C)C'\n",
      "[14:52:15] SMILES Parse Error: extra open parentheses for input: 'C12CC(C(C[N+](C)(C)C)CCC1C2(C)C'\n",
      "[14:52:15] SMILES Parse Error: unclosed ring for input: '[NH2+]1CCCCCCCC2CCC1'\n",
      "[14:52:15] SMILES Parse Error: unclosed ring for input: 'C1CCCC1CCC[N+]1(C)C'\n",
      "[14:52:15] SMILES Parse Error: unclosed ring for input: 'C1CCCC[N+]12CCC(CC1)CC2'\n",
      "[14:52:15] SMILES Parse Error: unclosed ring for input: '[N+]1(C)(C)CC2C(C3C=CC2C2C3C[N+](C)(C)CC23)C1'\n",
      "[14:52:15] SMILES Parse Error: unclosed ring for input: 'C12C3C[N+](C)(C)CC3C(C=C1)C1C3C2C[N+](C)(C)C1'\n",
      "[14:52:15] SMILES Parse Error: unclosed ring for input: 'C12C3C4C5C(C[N+](C)(C)C5)C(C1C[N+](C)(C)C2)C=C4'\n",
      "[14:52:15] SMILES Parse Error: unclosed ring for input: 'C12C3C4C(C(C=C3)C1C[N+](C)(C)C4)C1C[N+](C)(C)C2'\n",
      "[14:52:15] SMILES Parse Error: extra open parentheses for input: 'C([N+](CC)(CCCC[N+](C)(C)CC)CC'\n",
      "[14:52:15] SMILES Parse Error: unclosed ring for input: 'n1c2c(-c3cc[n+](C)cc3)c3ccc(c(-c4cc[n+](C)cc4)c4nc(c(-c5cc[n+](C)cc5)c5[nH]c(c(-c6cc[n+](C)cc6)c6[nH]2)C=C4)C=C3)cc1'\n",
      "[14:52:15] SMILES Parse Error: unclosed ring for input: 'c1ccc(-c2c3[n+](C)cc3)c3ccc([nH]3)c(-c3cc[n+](C)cc3)c3nc(c(-c4cc[n+](C)cc4)c4ccc([nH]4)c(-c5cc[n+](C)cc5)c1C=C4)C=C2'\n",
      "[14:52:15] SMILES Parse Error: extra close parentheses while parsing: c1c(-c2c3nc(c(-c4cc[n+](C)cc4)c4[nH]c(c(-c5cc[n+](C)cc5)c5nc(c(-c6cc[n+](C)cc6)c6[nH]c2cc6)C=C5)[nH]5)C=C4)C3)cc[n\n",
      "[14:52:15] SMILES Parse Error: Failed parsing SMILES 'c1c(-c2c3nc(c(-c4cc[n+](C)cc4)c4[nH]c(c(-c5cc[n+](C)cc5)c5nc(c(-c6cc[n+](C)cc6)c6[nH]c2cc6)C=C5)[nH]5)C=C4)C3)cc[n' for input: 'c1c(-c2c3nc(c(-c4cc[n+](C)cc4)c4[nH]c(c(-c5cc[n+](C)cc5)c5nc(c(-c6cc[n+](C)cc6)c6[nH]c2cc6)C=C5)[nH]5)C=C4)C3)cc[n'\n",
      "[14:52:15] SMILES Parse Error: extra close parentheses while parsing: c1cc(-c2c3nc(c(-c4cc[n+](C)cc4)c4[nH]c(c(-c5cc[n+](C)cc5)c5nc(c(-c6cc[n+](C)cc6)c6cc2[nH]6)C=C5)[nH]4)C=C3)C=C3)C=C2\n",
      "[14:52:15] SMILES Parse Error: Failed parsing SMILES 'c1cc(-c2c3nc(c(-c4cc[n+](C)cc4)c4[nH]c(c(-c5cc[n+](C)cc5)c5nc(c(-c6cc[n+](C)cc6)c6cc2[nH]6)C=C5)[nH]4)C=C3)C=C3)C=C2' for input: 'c1cc(-c2c3nc(c(-c4cc[n+](C)cc4)c4[nH]c(c(-c5cc[n+](C)cc5)c5nc(c(-c6cc[n+](C)cc6)c6cc2[nH]6)C=C5)[nH]4)C=C3)C=C3)C=C2'\n",
      "[14:52:15] SMILES Parse Error: unclosed ring for input: 'c1c2c(-c3cc[n+](C)cc3)c3nc(c(-c4cc[n+](C)cc4)c4ccc(c(-c5cc[n+](C)cc5)c5nc(c(-c6cc[n+](C)cc6)c5nc1C=C5)[nH]4)C=C3)cc2'\n",
      "[14:52:15] SMILES Parse Error: unclosed ring for input: '[n+]1(C)ccc(-c2c3nc(c(-c4cc[n+](C)cc4)c4[nH]c(c(-c5cc[n+](C)cc5)c5ccc(c(-c6cc[n+](C)cc6)c6nc2C=C5)C=C5)[nH]4)C=C3)c1'\n",
      "[14:52:15] SMILES Parse Error: extra open parentheses for input: 'c12c(-c3cc[n+](C)cc3)c3nc(c(-c4cc[n+](C)cc4)c4[nH]c(c(-c5cc[n+](C)cc5)c5nc(c(-c6cc[n+](C)cc6)c([nH]1)C=C4)C=C3)[nH]2'\n",
      "[14:52:15] SMILES Parse Error: extra open parentheses for input: 'c12c(-c3cc[n+](C)cc3)c3[nH]c(c(-c4cc[n+](C)cc4)c4nc(c(-c5cc[n+](C)cc5)c5[nH]c(c(-c6cc[n+](C)cc5)c5nc1C=C4)C=C3)[nH]2'\n",
      "[14:52:15] SMILES Parse Error: extra open parentheses for input: 'c1c[n+](C)ccc1-c1c2[nH]c(c(-c3cc[n+](C)cc3)c3nc(c(-c4cc[n+](C)cc4)c4[nH]c(c(-c5cc[n+](C)cc5)c5nc1[nH]=C4)C=C3)C=C2'\n",
      "[14:52:15] Can't kekulize mol.  Unkekulized atoms: 3 4 5 6 7 15 17 18 26 27 28 29 37 38 39\n",
      "[14:52:15] Can't kekulize mol.  Unkekulized atoms: 7 8 9 10 11 19 21 22 30 31 32 33 41 43\n",
      "[14:52:15] SMILES Parse Error: extra close parentheses while parsing: c1c(-c2c3nc(c(-c4cc[n+](C)cc4)c4[nH]c(cc5cc[n+](C)cc5)c5nc(c(-c6cc[n+](C)cc6)c6cc2[nH]c2cc5)C=C5)[nH]4)C=C3)cc4)C=C=C1\n",
      "[14:52:15] SMILES Parse Error: Failed parsing SMILES 'c1c(-c2c3nc(c(-c4cc[n+](C)cc4)c4[nH]c(cc5cc[n+](C)cc5)c5nc(c(-c6cc[n+](C)cc6)c6cc2[nH]c2cc5)C=C5)[nH]4)C=C3)cc4)C=C=C1' for input: 'c1c(-c2c3nc(c(-c4cc[n+](C)cc4)c4[nH]c(cc5cc[n+](C)cc5)c5nc(c(-c6cc[n+](C)cc6)c6cc2[nH]c2cc5)C=C5)[nH]4)C=C3)cc4)C=C=C1'\n",
      "[14:52:15] SMILES Parse Error: extra close parentheses while parsing: c1c(-c2c3nc(c(-c4cc[n+](C)cc4)c4ccc([nH]4)c(-c4cc[n+](C)cc4)c4nc(c(-c5cc[n+](C)cc5)c5ccc2[nH]5)C=C5)C=C4)[nH]3)cc1\n",
      "[14:52:15] SMILES Parse Error: Failed parsing SMILES 'c1c(-c2c3nc(c(-c4cc[n+](C)cc4)c4ccc([nH]4)c(-c4cc[n+](C)cc4)c4nc(c(-c5cc[n+](C)cc5)c5ccc2[nH]5)C=C5)C=C4)[nH]3)cc1' for input: 'c1c(-c2c3nc(c(-c4cc[n+](C)cc4)c4ccc([nH]4)c(-c4cc[n+](C)cc4)c4nc(c(-c5cc[n+](C)cc5)c5ccc2[nH]5)C=C5)C=C4)[nH]3)cc1'\n",
      "[14:52:15] SMILES Parse Error: unclosed ring for input: 'c1c[n+](C)ccc1-c1c2[nH]c(cc2)c(-c2cc[n+](C)cc2)c2nc(c(-c4cc[n+](C)cc4)c4[nH]c(c(-c5cc[n+](C)cc5)c5nc1[nH]4)C=C4)C=C3'\n",
      "[14:52:15] Can't kekulize mol.  Unkekulized atoms: 0 2 3 4 50\n",
      "[14:52:15] SMILES Parse Error: extra open parentheses for input: 'c1c(-c2c3[nH]c(c(-c4cc[n+](C)cc4)c4nc(c(-c5cc[n+](C)cc5)c5[nH]c(cc5)c5nc(c(-c6cc[n+](C)cc6)c5cc2C=C5)C=C4)[nH]3)C=C1'\n",
      "[14:52:15] Can't kekulize mol.  Unkekulized atoms: 0 2 3 4 50\n",
      "[14:52:15] SMILES Parse Error: extra close parentheses while parsing: c1c(-c2c3[nH]c(c(-c4cc[n+](C)cc4)c4nc(c(-c5cc[n+](C)cc5)c5ccc(c(-c6cc[n+](C)c6)c6[nH]c2cc6)C=C5)[nH]5)C=C4)C3)cc[n\n",
      "[14:52:15] SMILES Parse Error: Failed parsing SMILES 'c1c(-c2c3[nH]c(c(-c4cc[n+](C)cc4)c4nc(c(-c5cc[n+](C)cc5)c5ccc(c(-c6cc[n+](C)c6)c6[nH]c2cc6)C=C5)[nH]5)C=C4)C3)cc[n' for input: 'c1c(-c2c3[nH]c(c(-c4cc[n+](C)cc4)c4nc(c(-c5cc[n+](C)cc5)c5ccc(c(-c6cc[n+](C)c6)c6[nH]c2cc6)C=C5)[nH]5)C=C4)C3)cc[n'\n",
      "[14:52:15] SMILES Parse Error: syntax error while parsing: C1=Cc2c(-c3cc[n+](C)cc3)c3[nH]c(c(-c4cc[n+](C)cc4)c4nc(c(-c5cc[n+](C)cc5)c5ccc([nH]5)c5[nH]c(-c6)ccc1nH]2)C=C4)cc3\n",
      "[14:52:15] SMILES Parse Error: Failed parsing SMILES 'C1=Cc2c(-c3cc[n+](C)cc3)c3[nH]c(c(-c4cc[n+](C)cc4)c4nc(c(-c5cc[n+](C)cc5)c5ccc([nH]5)c5[nH]c(-c6)ccc1nH]2)C=C4)cc3' for input: 'C1=Cc2c(-c3cc[n+](C)cc3)c3[nH]c(c(-c4cc[n+](C)cc4)c4nc(c(-c5cc[n+](C)cc5)c5ccc([nH]5)c5[nH]c(-c6)ccc1nH]2)C=C4)cc3'\n",
      "[14:52:15] SMILES Parse Error: unclosed ring for input: 'c1[n+](C)ccc(-c2c3[nH]c(cc3)c(-c4cc[n+](C)cc4)c4nc(c(-c5cc[n+](C)cc5)c5ccccc(c(-c6cc[n+](C)cc6)c6[nH]c2)C=C4)C=C3)c1'\n",
      "[14:52:15] SMILES Parse Error: unclosed ring for input: 'c12c(-c3cc[n+](C)cc3)c3[nH]c(c(-c4cc[n+](C)cc4)c4nc(c(-c5cc[n+](C)cc5)c5ccc([nH]5)c(-c5cc[n+](C)cc5)c5nc(C=C2)C=C4)cc3)ccccccc'\n",
      "[14:52:15] SMILES Parse Error: unclosed ring for input: 'c12c(-c3cc[n+](C)cc3)c3[nH]c(cc3)c(-c3cc[n+](C)cc3)c3nc(c(-c4cc[n+](C)cc4)c4[nH]c(c(-c5cc[n+](C)cc5)c(n1)C=C4)cc3)C=C3'\n",
      "[14:52:15] SMILES Parse Error: extra close parentheses while parsing: c1c(-c2c3nc(c(-c4cc[n+](C)cc4)c4ccc([nH]4)c(-c4cc[n+](C)cc4)c4nc(c(-c5cc[n+](C)cc5)c5[nH]c2cc6)C=C5)C=C4)[nH]3)cc1\n",
      "[14:52:15] SMILES Parse Error: Failed parsing SMILES 'c1c(-c2c3nc(c(-c4cc[n+](C)cc4)c4ccc([nH]4)c(-c4cc[n+](C)cc4)c4nc(c(-c5cc[n+](C)cc5)c5[nH]c2cc6)C=C5)C=C4)[nH]3)cc1' for input: 'c1c(-c2c3nc(c(-c4cc[n+](C)cc4)c4ccc([nH]4)c(-c4cc[n+](C)cc4)c4nc(c(-c5cc[n+](C)cc5)c5[nH]c2cc6)C=C5)C=C4)[nH]3)cc1'\n",
      "[14:52:15] SMILES Parse Error: extra close parentheses while parsing: c1(-c2c3[nH]c(c(-c4cc[n+](C)cc4)c4nc(c(-c5cc[n+](C)cc5)c5[nH]c(-c6cc[n+](C)cc6)c6nc2C=C6)[nH]5)C=C4)C=C3)cc[n+](C)c1\n",
      "[14:52:15] SMILES Parse Error: Failed parsing SMILES 'c1(-c2c3[nH]c(c(-c4cc[n+](C)cc4)c4nc(c(-c5cc[n+](C)cc5)c5[nH]c(-c6cc[n+](C)cc6)c6nc2C=C6)[nH]5)C=C4)C=C3)cc[n+](C)c1' for input: 'c1(-c2c3[nH]c(c(-c4cc[n+](C)cc4)c4nc(c(-c5cc[n+](C)cc5)c5[nH]c(-c6cc[n+](C)cc6)c6nc2C=C6)[nH]5)C=C4)C=C3)cc[n+](C)c1'\n",
      "[14:52:15] SMILES Parse Error: extra close parentheses while parsing: c1(-c2c3[nH]c(cc3)c(-c3cc[n+](C)cc3)c3nc(c(-c4cc[n+](C)cc4)c4[nH]c(-c5cc[n+](C)cc5)c5nc2C=C5)C=C4)C3)ccc[n+]C=C3)cc1\n",
      "[14:52:15] SMILES Parse Error: Failed parsing SMILES 'c1(-c2c3[nH]c(cc3)c(-c3cc[n+](C)cc3)c3nc(c(-c4cc[n+](C)cc4)c4[nH]c(-c5cc[n+](C)cc5)c5nc2C=C5)C=C4)C3)ccc[n+]C=C3)cc1' for input: 'c1(-c2c3[nH]c(cc3)c(-c3cc[n+](C)cc3)c3nc(c(-c4cc[n+](C)cc4)c4[nH]c(-c5cc[n+](C)cc5)c5nc2C=C5)C=C4)C3)ccc[n+]C=C3)cc1'\n",
      "[14:52:15] SMILES Parse Error: unclosed ring for input: 'C12C3C(C[N+](C)(C)C3)C(C=C1)C1C2C[N+](C)(C)CC21'\n",
      "[14:52:15] SMILES Parse Error: unclosed ring for input: 'C1C2C3C4C[N+](C)(C)CC4C(C=C3)C2C[N+]1(C)CC1'\n",
      "[14:52:15] SMILES Parse Error: unclosed ring for input: 'C1C2C(C3C=CC2C2C3C[N+](C)(C)C3)C2C[N+]1(C)C'\n",
      "[14:52:15] SMILES Parse Error: unclosed ring for input: 'C12C3C(C[N+](C)(C)C3)C(C=C1)C1C2C[N+](C)(C)CC21'\n",
      "[14:52:15] SMILES Parse Error: unclosed ring for input: 'C1C2C3C4C[N+](C)(C)CC4C(C=C3)C2C[N+]1(C)CC1'\n",
      "[14:52:15] SMILES Parse Error: unclosed ring for input: 'C12C3C(C[N+](C)(C)C3)C(C=C1)C1C3C2C[N+](C)(C)C1'\n",
      "[14:52:15] SMILES Parse Error: unclosed ring for input: '[N+]1(CC)(CC)CC2C(C3C(C)=CC2(C)C2C[N+](CC)(CC)C2)C1'\n",
      "[14:52:15] SMILES Parse Error: unclosed ring for input: '[N+]1(CC)(CC)CC2C(C3(C)C=C(C)C2C2C[N+](CC)(CC)C2)C1'\n",
      "[14:52:15] SMILES Parse Error: extra open parentheses for input: 'C12C3C(C(C4C5C[N+](C)(C)CC5C3C=C4)C1C[N+](C)(C)C2'\n",
      "[14:52:15] SMILES Parse Error: unclosed ring for input: '[N+]1(C)(C)CC2C(C3C=CC2C2C3C[N+](C)(C)CC32)C1'\n",
      "[14:52:15] SMILES Parse Error: ring closure 3 duplicates bond between atom 9 and atom 10 for input: 'C12C3C(C[N+](C)(C)C3)C(C3C3C[N+](C)(C)CC13)C=C2'\n",
      "[14:52:15] SMILES Parse Error: unclosed ring for input: 'C1C2C(C3C=CC2C2C3C[N+](C)(C)CC23)C[N+]1(C)C'\n",
      "[14:52:15] Can't kekulize mol.  Unkekulized atoms: 1 2 12 13 14\n",
      "[14:52:15] SMILES Parse Error: extra open parentheses for input: 'C(CCCCCN(CCCCCN(CCCCC)CCCCC)CCCCC'\n",
      "[14:52:15] SMILES Parse Error: unclosed ring for input: 'C1C(C)(C)C[N+](C)(C)C'\n",
      "[14:52:15] Can't kekulize mol.  Unkekulized atoms: 2 3 4 5 6 7 8 9 13\n",
      "[14:52:15] Can't kekulize mol.  Unkekulized atoms: 0 1 2 3 4 5 6 10 11 12 13\n",
      "[14:52:15] SMILES Parse Error: extra open parentheses for input: 'C(C)([P+](C(C)(C)C)(C(C)(C)C)C(C)(C)C'\n",
      "[14:52:15] SMILES Parse Error: extra open parentheses for input: 'C(C)(C)([P+](C(C)(C)C)(C(C)(C)C)C'\n",
      "[14:52:15] SMILES Parse Error: extra open parentheses for input: 'C(C)(C)([P+](C(C)(C)C)(C(C)(C)C)C'\n",
      "[14:52:15] SMILES Parse Error: unclosed ring for input: 'C(C)([N+]1(CC)C(C)C)CC2C(C3C=CC2C[N+](C(C)C)(CC)CC32)C1'\n",
      "[14:52:15] SMILES Parse Error: extra open parentheses for input: 'N(C)([P+](N(C)C)(N(C)C)CCCC[P+](N(C)C)(N(C)C)N(C)C'\n",
      "[14:52:15] SMILES Parse Error: unclosed ring for input: 'C12C(C3C[N+](C)(C)CC13)C1C[N+](C)(C)CC3C21'\n",
      "[14:52:15] SMILES Parse Error: unclosed ring for input: 'C1C[N+](C)(C)CC1C1CCCC[N+]1(C)CCCC1'\n",
      "[14:52:15] SMILES Parse Error: extra open parentheses for input: 'C(C)([P+](C(C)(C)C)(C(C)(C)C)C(C)(C)C)CCCC[P+](C(C)(C)C)(C(C)(C)(C)C'\n",
      "[14:52:15] SMILES Parse Error: unclosed ring for input: 'C1CCCC[N+]1(C1CCCCC1)CCCC1'\n",
      "[14:52:15] SMILES Parse Error: unclosed ring for input: 'C1CC[N+](CCC1CC[N+](CCC)(CCC)CC1)CCC'\n",
      "[14:52:15] SMILES Parse Error: unclosed ring for input: 'C1CCC(C)C2CC1C2(C)CC[N+]1(CC)CC'\n",
      "[14:52:15] Can't kekulize mol.  Unkekulized atoms: 0 1 2 3 19 20 21\n",
      "[14:52:15] Can't kekulize mol.  Unkekulized atoms: 0 1 2 3 4 5 6 7 8 9 10\n",
      "[14:52:15] Can't kekulize mol.  Unkekulized atoms: 6 7 8 9 10 11 12 13 14 15 16\n",
      "[14:52:15] Can't kekulize mol.  Unkekulized atoms: 6 7 8 9 10 11 12 13 14 15 16\n",
      "[14:52:15] Can't kekulize mol.  Unkekulized atoms: 0 1 2 3 4 5 6 7 8\n",
      "[14:52:15] Can't kekulize mol.  Unkekulized atoms: 0 1 2 3 4 5 6 7 8 9 10\n",
      "[14:52:15] Can't kekulize mol.  Unkekulized atoms: 0 1 2 3 4 5 6 7 8 9 10\n",
      "[14:52:15] Can't kekulize mol.  Unkekulized atoms: 0 1 9 10 11 12 13 14 15 16 17\n",
      "[14:52:15] SMILES Parse Error: extra close parentheses while parsing: c1cc2c(cccc2)cc1)n1c[n+](C)cc1\n",
      "[14:52:15] SMILES Parse Error: Failed parsing SMILES 'c1cc2c(cccc2)cc1)n1c[n+](C)cc1' for input: 'c1cc2c(cccc2)cc1)n1c[n+](C)cc1'\n",
      "[14:52:15] Can't kekulize mol.  Unkekulized atoms: 0 1 2 3 4 5 6 7 8 16 17\n",
      "[14:52:15] Can't kekulize mol.  Unkekulized atoms: 0 1 2 3 4 5 6 7 15 16 17\n",
      "[14:52:15] Can't kekulize mol.  Unkekulized atoms: 0 1 2 3 4 5 6 7 8 9 10\n",
      "[14:52:15] Can't kekulize mol.  Unkekulized atoms: 3 4 5 6 7 8 9 10 11 12 13\n",
      "[14:52:15] non-ring atom 2 marked aromatic\n",
      "[14:52:15] Can't kekulize mol.  Unkekulized atoms: 0 1 2 3 4 5 6 7 8 9 10\n",
      "[14:52:15] Can't kekulize mol.  Unkekulized atoms: 2 3 4 5 6 7 8 9 10 11 12\n",
      "[14:52:15] SMILES Parse Error: extra close parentheses while parsing: C(CCC[n+]1cn(C)cc1))C\n",
      "[14:52:15] SMILES Parse Error: Failed parsing SMILES 'C(CCC[n+]1cn(C)cc1))C' for input: 'C(CCC[n+]1cn(C)cc1))C'\n",
      "[14:52:15] SMILES Parse Error: extra close parentheses while parsing: C(CCCCC[n+]1cn(C)cc1))[n+]1ccn(C)c1\n",
      "[14:52:15] SMILES Parse Error: Failed parsing SMILES 'C(CCCCC[n+]1cn(C)cc1))[n+]1ccn(C)c1' for input: 'C(CCCCC[n+]1cn(C)cc1))[n+]1ccn(C)c1'\n",
      "[14:52:15] Can't kekulize mol.  Unkekulized atoms: 0 1 2 3 4 5 6 7 15 16 17\n",
      "[14:52:15] Can't kekulize mol.  Unkekulized atoms: 0 1 2 3 4 5 6 7 8 9 10\n",
      "[14:52:15] Can't kekulize mol.  Unkekulized atoms: 0 1 2 3 4 5 6 7 8 9 10\n",
      "[14:52:15] SMILES Parse Error: unclosed ring for input: 'c1ccc2c(ccc(Cn4cc[n+](C)c3)c2)c1'\n",
      "[14:52:15] SMILES Parse Error: extra open parentheses for input: 'C1CCC2C3C(CCCC3C3CCCC132(C)C'\n",
      "[14:52:15] SMILES Parse Error: extra open parentheses for input: 'C1C2C3C(CCCC3C3CCCCC13(C)CCC2'\n",
      "[14:52:15] SMILES Parse Error: extra open parentheses for input: 'C1C2C3C(C4C5C[N+](C)(C)CC5C3C(C=C4)C2C[N+]1(C)C'\n",
      "[14:52:15] SMILES Parse Error: ring closure 3 duplicates bond between atom 10 and atom 11 for input: 'C1CC2C3C(CCCC3CC3C3CCCC1)CC2'\n",
      "[14:52:15] SMILES Parse Error: unclosed ring for input: 'C1C2(C)C(CCC1)C1CCCC3CCCC(C132)C3'\n",
      "[14:52:15] SMILES Parse Error: ring closure 3 duplicates bond between atom 8 and atom 9 for input: 'C1C2C3C(C4C=CC3C3C3C[N+](C)(C)CC43)C2C[N+]1(C)C'\n",
      "[14:52:15] SMILES Parse Error: unclosed ring for input: 'C1CC2C3C(CCCC3C3CCCC1)CCC2'\n",
      "[14:52:15] SMILES Parse Error: unclosed ring for input: 'C12(C)C(C3C4C(C[N+](C)(C)C4)C1C(C[N+](C)(C)C3)C1)CC2'\n",
      "[14:52:15] SMILES Parse Error: unclosed ring for input: 'C1CC2(C)C(C3CCCC4C(CCC4)C2)CCCC1'\n",
      "[14:52:15] SMILES Parse Error: unclosed ring for input: 'C12C3C4C(C5C(C[N+](C)(C)C5)C34)C(C=C4)C1C[N+](C)(C)C2'\n",
      "[14:52:15] SMILES Parse Error: extra open parentheses for input: 'C1C2C3C(CCCC3CC3CCCC(C23)CC1'\n",
      "[14:52:15] SMILES Parse Error: ring closure 2 duplicates bond between atom 1 and atom 9 for input: 'C1[N+]2(Cc3ccccc3)C2CCc2ccccc21'\n",
      "[14:52:15] Explicit valence for atom # 13 C, 5, is greater than permitted\n",
      "[14:52:15] SMILES Parse Error: unclosed ring for input: 'C1CCC2C3C(CCCC3C3C1)CC1(C)CCCCC21'\n",
      "[14:52:15] SMILES Parse Error: unclosed ring for input: 'C1C2C3C(CCCC3CC3CCCC(C2)C23)C1'\n",
      "[14:52:15] SMILES Parse Error: unclosed ring for input: 'C1CC2C3C(CCCC3C3C1)CC1(C)CCCCC21'\n",
      "[14:52:15] SMILES Parse Error: unclosed ring for input: 'C1CCC2C3C(CCCC3C3C1)CC1(C)CCC21'\n",
      "[14:52:15] SMILES Parse Error: unclosed ring for input: 'C1CC2CCCC3C2C(CC1(C)C3[N+]1(C)CCCC1)C2'\n",
      "[14:52:15] SMILES Parse Error: unclosed ring for input: 'C1C2C3C(CCCC3C3CCCC1)CC1(C)CCCC21'\n",
      "[14:52:15] SMILES Parse Error: unclosed ring for input: 'C1CCC2C(C)(CC1)CC1CCCC3CCCC2C1'\n",
      "[14:52:15] SMILES Parse Error: unclosed ring for input: 'C12CCCC3CCCC(C13)C1C(CCCC1)C23'\n",
      "[14:52:15] SMILES Parse Error: unclosed ring for input: 'C1C2C3C(CCCC3CC3CCCCC23)C2CCC1'\n",
      "[14:52:15] SMILES Parse Error: unclosed ring for input: 'C1CC2C3C(CCCC3C3C1)CC1(C)CCCCC21'\n",
      "[14:52:15] SMILES Parse Error: ring closure 3 duplicates bond between atom 8 and atom 9 for input: 'C1C2C3C(C4C=CC3C3C3C[N+](C)(C)CC43)C2C[N+]1(C)C'\n",
      "[14:52:15] SMILES Parse Error: extra open parentheses for input: 'C1C2C3C(C4C(C)(CC3CCC4)CC2CCC1'\n",
      "[14:52:15] SMILES Parse Error: unclosed ring for input: 'C1C2C3C(CCCC3C3CCCC1)CCCC2'\n",
      "[14:52:15] SMILES Parse Error: extra open parentheses for input: 'C1C2CCCC3C2C(CC13C(C)(CCCC1)C2'\n",
      "[14:52:15] SMILES Parse Error: ring closure 3 duplicates bond between atom 9 and atom 10 for input: 'C1CC2C3C(CCCC3C3C3CCCCC23)C1'\n",
      "[14:52:15] SMILES Parse Error: ring closure 3 duplicates bond between atom 8 and atom 9 for input: 'C1C2C3C(C4C=CC3C3C3C[N+](C)(C)CC43)C2C[N+]1(C)C'\n",
      "[14:52:15] SMILES Parse Error: unclosed ring for input: 'C12C3C4C(C[N+](C)(C)C4)C(C(C)=C3)C1C1C2C[N+](C)(C)C31'\n",
      "[14:52:15] SMILES Parse Error: unclosed ring for input: 'C1C2CCCC3C2C(CC2(C)CCCCC13)C'\n",
      "[14:52:15] SMILES Parse Error: unclosed ring for input: 'C12C3C(CC4(C)C(CCCC4)C1)CCC[N+](CC)(CC)C2'\n",
      "[14:52:15] SMILES Parse Error: unclosed ring for input: 'C12C3C4C5C(C(C=C4)C3C1C[N+](C)(C)C5)C1C[N+](C)(C)C2'\n",
      "[14:52:15] SMILES Parse Error: extra open parentheses for input: 'C12C3C4C(C5C(C[N+](C)(C)C5)C(C=C4)C3C1C[N+](C)(C)C2'\n",
      "[14:52:15] SMILES Parse Error: unclosed ring for input: 'C1CC2C3C(C4C=CC3C4C[N+](C)(C)C3)C1C[N+](C)(C)C2'\n",
      "[14:52:15] SMILES Parse Error: unclosed ring for input: 'C12C3C4C(C5C(C[N+](C)(C)C5)C1C=C2)C[N+](C)(C)C5'\n",
      "[14:52:15] SMILES Parse Error: unclosed ring for input: 'C1CC2C3C(CCCC3C3CC1)CCCC3C'\n",
      "[14:52:15] SMILES Parse Error: unclosed ring for input: 'C1C2C3C(CCCC3CC3C1)CC1(C)CCCCC21'\n",
      "[14:52:15] SMILES Parse Error: unclosed ring for input: 'C1C2C3C(CCCC3C3CCCC1)CCCC2'\n",
      "[14:52:15] SMILES Parse Error: extra open parentheses for input: 'C1CCC2C3C(CCCC3C3CCCCC132C'\n",
      "[14:52:15] SMILES Parse Error: extra open parentheses for input: 'C12(C)C(C3C4C[N+](CC)(CC)CC4C1C(C[N+](CC)(CC)C3)C(C)=C2'\n",
      "[14:52:15] Can't kekulize mol.  Unkekulized atoms: 0 1 2 6 7\n",
      "[14:52:15] Can't kekulize mol.  Unkekulized atoms: 0 1 2 6 7\n",
      "[14:52:15] SMILES Parse Error: unclosed ring for input: 'C([N+]1(CC)CC2C(C3C(C)=CC2(C)C2C[N+](CC)(CC)C2)C1)C'\n",
      "[14:52:15] SMILES Parse Error: unclosed ring for input: '[N+]1(CC)(CC)CC2C(C3C(C)=CC2(C)C2C[N+](CC)(CC)C3)C1'\n",
      "[14:52:15] Explicit valence for atom # 5 C, 5, is greater than permitted\n",
      "[14:52:15] SMILES Parse Error: unclosed ring for input: '[N+]1(CC)(CC)CC2C(C3(C)C=C(C)C2C2C[N+](CC)(CC)C2)C1'\n",
      "[14:52:15] SMILES Parse Error: extra close parentheses while parsing: C1[N+](CC)(CC)CC2C3C4C(C(C)=C3)C12)C[N+](CC)(CC)C4\n",
      "[14:52:15] SMILES Parse Error: Failed parsing SMILES 'C1[N+](CC)(CC)CC2C3C4C(C(C)=C3)C12)C[N+](CC)(CC)C4' for input: 'C1[N+](CC)(CC)CC2C3C4C(C(C)=C3)C12)C[N+](CC)(CC)C4'\n",
      "[14:52:15] SMILES Parse Error: unclosed ring for input: 'C1C2C(C3C=CC2C2C4C[N+](CC)(CC)CC4C3)C[N+]1(CC)CC'\n",
      "[14:52:16] Can't kekulize mol.  Unkekulized atoms: 0 1 2\n",
      "[14:52:16] Can't kekulize mol.  Unkekulized atoms: 0 1 2\n",
      "[14:52:16] Can't kekulize mol.  Unkekulized atoms: 0 2\n",
      "[14:52:16] Can't kekulize mol.  Unkekulized atoms: 0 1 2\n",
      "[14:52:16] non-ring atom 0 marked aromatic\n",
      "[14:52:16] Can't kekulize mol.  Unkekulized atoms: 0 2 3\n",
      "[14:52:16] Can't kekulize mol.  Unkekulized atoms: 0 2\n",
      "[14:52:16] Can't kekulize mol.  Unkekulized atoms: 0 1 2\n",
      "[14:52:16] Can't kekulize mol.  Unkekulized atoms: 0 1 2\n",
      "[14:52:16] SMILES Parse Error: syntax error while parsing: C([nH3)cccc1\n",
      "[14:52:16] SMILES Parse Error: Failed parsing SMILES 'C([nH3)cccc1' for input: 'C([nH3)cccc1'\n",
      "[14:52:16] Can't kekulize mol.  Unkekulized atoms: 0 1 2 3 4 5 6\n",
      "[14:52:16] SMILES Parse Error: extra close parentheses while parsing: C1C2CC3CC(C2)CC1([NH3+])C3)C3\n",
      "[14:52:16] SMILES Parse Error: Failed parsing SMILES 'C1C2CC3CC(C2)CC1([NH3+])C3)C3' for input: 'C1C2CC3CC(C2)CC1([NH3+])C3)C3'\n",
      "[14:52:16] SMILES Parse Error: unclosed ring for input: 'c1cc2c3c(cccc3)C[N+](C)(C)C2'\n",
      "[14:52:16] Can't kekulize mol.  Unkekulized atoms: 0 1 2 3 4 5 6 7 8 9 15\n",
      "[14:52:16] Can't kekulize mol.  Unkekulized atoms: 0 1 2 3 4 5 6 7 8 9 10\n",
      "[14:52:16] Can't kekulize mol.  Unkekulized atoms: 0 1 2 3 4 5 6 7 8 9 10\n",
      "[14:52:16] Can't kekulize mol.  Unkekulized atoms: 0 1 2 3 4 5 6 7 8 9 10\n",
      "[14:52:16] Can't kekulize mol.  Unkekulized atoms: 1 2 3 4 5 6 12 13 14 15 16\n",
      "[14:52:16] Can't kekulize mol.  Unkekulized atoms: 0 1 2 3 4 5 6 7 8\n",
      "[14:52:16] Can't kekulize mol.  Unkekulized atoms: 4 5 6 7 8 9 10 12 13\n",
      "[14:52:16] SMILES Parse Error: unclosed ring for input: 'c1cc2c3c(cccc3)C[N+](C)(C)C2'\n",
      "[14:52:16] SMILES Parse Error: unclosed ring for input: 'c12c3cccc1C[N+](C)(C)Cc2ccccc1'\n",
      "[14:52:16] SMILES Parse Error: extra open parentheses for input: 'C(CCCCCCCCCCCCCCCC)CCCCC[N+](CCCCCC[N+](C)(C)CCCCC'\n",
      "[14:52:16] SMILES Parse Error: extra open parentheses for input: 'C(CCCCCCCCCCCCCCCC)CCC[N+](C)(CCCCCC[N+](C)(CCCCCC)C'\n",
      "[14:52:16] SMILES Parse Error: extra open parentheses for input: 'C(CCCCCCCCCCCCCCC)CCCC[N+](C)(CCCCCC[N+](CCCCCC)(C)C'\n",
      "[14:52:16] SMILES Parse Error: extra close parentheses while parsing: C(C)(C)(C)CC(C)(C)N)C\n",
      "[14:52:16] SMILES Parse Error: Failed parsing SMILES 'C(C)(C)(C)CC(C)(C)N)C' for input: 'C(C)(C)(C)CC(C)(C)N)C'\n",
      "[14:52:16] SMILES Parse Error: extra close parentheses while parsing: C(C)(C)(C)C)(C)N\n",
      "[14:52:16] SMILES Parse Error: Failed parsing SMILES 'C(C)(C)(C)C)(C)N' for input: 'C(C)(C)(C)C)(C)N'\n",
      "[14:52:16] SMILES Parse Error: extra close parentheses while parsing: C(C(C)(C)C)(C)C)(C)N\n",
      "[14:52:16] SMILES Parse Error: Failed parsing SMILES 'C(C(C)(C)C)(C)C)(C)N' for input: 'C(C(C)(C)C)(C)C)(C)N'\n",
      "[14:52:16] SMILES Parse Error: extra close parentheses while parsing: C(C(C)(C)C)(C)C)N\n",
      "[14:52:16] SMILES Parse Error: Failed parsing SMILES 'C(C(C)(C)C)(C)C)N' for input: 'C(C(C)(C)C)(C)C)N'\n",
      "[14:52:16] SMILES Parse Error: extra open parentheses for input: 'C(CCCCCCCCCCCCCCCCCC[N+](CCCCCC[N+](C)(CCCCCC)C)(C)C'\n",
      "[14:52:16] SMILES Parse Error: extra open parentheses for input: 'C(CCCCCCCCCCCCCCCC[N+](C)(C)CCCCCC[N+](C)(CCCCCC)C'\n",
      "[14:52:16] SMILES Parse Error: extra open parentheses for input: 'C(CCCCCCCCCCCCCCCCCC[N+](C)(C)CCCCCC[N+](C)(C)CCCCCC'\n",
      "[14:52:16] SMILES Parse Error: extra open parentheses for input: 'C(CCCCCCCCCCCCCCCC[N+](C)(C)CCCCCC[N+](C)(C)CCCCCC'\n",
      "[14:52:16] SMILES Parse Error: extra open parentheses for input: 'C(CCCCCCCCCCCCCCCC[N+](C)(C)CCCCCC[N+](C)(C)CCCCCC'\n",
      "[14:52:16] SMILES Parse Error: extra open parentheses for input: 'C(CCCCCCCCCCCCCCCC[N+](C)(C)CCCCCC[N+](C)(CCCCCC)C'\n",
      "[14:52:16] SMILES Parse Error: unclosed ring for input: 'c1ccccc1[n+](CC)ccn1CC'\n",
      "[14:52:16] SMILES Parse Error: unclosed ring for input: 'C12CCC(CC1)[N+]1(CCCCCC[N+]1(C)C3CCC1CCC3)CC2C'\n",
      "[14:52:16] Can't kekulize mol.  Unkekulized atoms: 0 1 2\n",
      "[14:52:16] SMILES Parse Error: extra open parentheses for input: 'C(CCCCCCCCCCCCCCCC[N+](C)(C)CCCCCC[N+](C)(C)CCCCCC'\n",
      "[14:52:16] SMILES Parse Error: extra open parentheses for input: 'C(CCCCCCCCCCCCCCC)CCCC[N+](C)(CCCCCC[N+](C)(CCCCCC)C'\n",
      "[14:52:16] SMILES Parse Error: extra open parentheses for input: 'C(CCCCCCCCCCCCCCCCCC)CCC[N+](C)(CCCCCC[N+](C)(C)CCCC'\n",
      "[14:52:16] SMILES Parse Error: unclosed ring for input: 'C1CC2C(C)(C)C(C2)C([N+]1(CC)CC)C3'\n",
      "[14:52:16] SMILES Parse Error: extra open parentheses for input: 'C1C([N+](C)(C)C)C2C(C)(C)C(C1C2'\n",
      "[14:52:16] SMILES Parse Error: unclosed ring for input: 'C1C(C)(C)CC([N+](C)(C)C)C1C2(C)C'\n",
      "[14:52:16] SMILES Parse Error: extra open parentheses for input: 'C(CCCCC[N+](CCC)(CCC)CCC)C[N+](CCC)(CCC)CCCCC[N+](CC)(CC'\n",
      "[14:52:16] SMILES Parse Error: extra close parentheses while parsing: C1CCCC[N+]1(C)C(CCC(C)[N+]1(C)CCCCC1)C)C\n",
      "[14:52:16] SMILES Parse Error: Failed parsing SMILES 'C1CCCC[N+]1(C)C(CCC(C)[N+]1(C)CCCCC1)C)C' for input: 'C1CCCC[N+]1(C)C(CCC(C)[N+]1(C)CCCCC1)C)C'\n",
      "[14:52:16] SMILES Parse Error: extra open parentheses for input: 'C(CCCCN(CCCCCN(CCCC)CCCC)CCCC)N(CCCCC'\n",
      "[14:52:16] SMILES Parse Error: unclosed ring for input: 'C1C2CC(C[N+]1(C)C)[N+]1(C)C2CCC1CCC2'\n",
      "[14:52:16] SMILES Parse Error: unclosed ring for input: 'c1ccccc1C1OC2(OC1CC[N+](C)(C)CC2)OC1'\n",
      "[14:52:16] SMILES Parse Error: unclosed ring for input: 'c1ccccc1C1OC2(OC1CC[N+](C)(C)CC2)O1'\n",
      "[14:52:16] SMILES Parse Error: extra close parentheses while parsing: C([N+]1(C)CCCCC1)CCCC([N+]1(C)CCCCC1)C)C\n",
      "[14:52:16] SMILES Parse Error: Failed parsing SMILES 'C([N+]1(C)CCCCC1)CCCC([N+]1(C)CCCCC1)C)C' for input: 'C([N+]1(C)CCCCC1)CCCC([N+]1(C)CCCCC1)C)C'\n",
      "[14:52:16] SMILES Parse Error: unclosed ring for input: 'C1C2CC3CC1CC([n+]1cn(C45CC6CC(CC(C7)C6)C5)cc1)(C2)C3'\n",
      "[14:52:16] SMILES Parse Error: unclosed ring for input: 'C1CC2CCC1C[N+](CCCC[N+]1(C)C2CCC1CCC2)C'\n",
      "[14:52:16] Explicit valence for atom # 13 C, 5, is greater than permitted\n",
      "[14:52:16] SMILES Parse Error: unclosed ring for input: 'C1C2CC3CC1(n1c[n+](C45CC6CC(CC(C7)C5)C6)cc1)CC(C2)C3'\n",
      "[14:52:16] SMILES Parse Error: unclosed ring for input: 'C1C2CC3CC1CC(n1cc[n+](C45CC6CC(CC(C6)C7)C5)c1)(C2)C3'\n",
      "[14:52:16] SMILES Parse Error: unclosed ring for input: 'C1C2C(C)(C)C1C(C[N+](CC)(CC)C2)C3'\n",
      "[14:52:16] SMILES Parse Error: unclosed ring for input: 'C1CCCC2CCC[N+]1(C)CC'\n",
      "[14:52:16] SMILES Parse Error: unclosed ring for input: 'C1CC2C(C)(C)C(C([N+]1(C)C)C2(C)C)C1'\n",
      "[14:52:16] Explicit valence for atom # 4 N, 4, is greater than permitted\n",
      "[14:52:16] SMILES Parse Error: unclosed ring for input: 'C1CCC[N+]1(C)CCC(CCCC2CC[N+](C)(CCCC)CC2)CC1'\n",
      "[14:52:16] SMILES Parse Error: extra close parentheses while parsing: C1CC[N+]2(C)C3CC4[N+](C)(C(C2)C1)C3)CCCC4\n",
      "[14:52:16] SMILES Parse Error: Failed parsing SMILES 'C1CC[N+]2(C)C3CC4[N+](C)(C(C2)C1)C3)CCCC4' for input: 'C1CC[N+]2(C)C3CC4[N+](C)(C(C2)C1)C3)CCCC4'\n",
      "[14:52:16] Can't kekulize mol.  Unkekulized atoms: 28 29 30 31 32\n",
      "[14:52:16] Can't kekulize mol.  Unkekulized atoms: 0 1 6 7 8\n",
      "[14:52:16] Can't kekulize mol.  Unkekulized atoms: 0 1 17\n",
      "[14:52:16] Can't kekulize mol.  Unkekulized atoms: 0 1 3 17 18\n",
      "[14:52:16] Can't kekulize mol.  Unkekulized atoms: 0 1 2 3 4\n",
      "[14:52:16] Can't kekulize mol.  Unkekulized atoms: 0 1 2 3 4\n",
      "[14:52:16] Can't kekulize mol.  Unkekulized atoms: 0 1 2 7 8\n",
      "[14:52:16] SMILES Parse Error: unclosed ring for input: 'C(C(C)(C)C)(C)ccc(C(C)(C)C)n1'\n",
      "[14:52:16] Can't kekulize mol.  Unkekulized atoms: 0 1 2 3 4\n",
      "[14:52:16] SMILES Parse Error: extra open parentheses for input: 'C(CC1CC[N+](C)(C(C)C)CC12CC1CC[N+](C)(C(C)C)CC1'\n",
      "[14:52:16] SMILES Parse Error: extra close parentheses while parsing: [N+](CCCCCC)(C)C)(C)Cc1ccc(C[N+](C)(CCCCCCN(C)C)C)cc1\n",
      "[14:52:16] SMILES Parse Error: Failed parsing SMILES '[N+](CCCCCC)(C)C)(C)Cc1ccc(C[N+](C)(CCCCCCN(C)C)C)cc1' for input: '[N+](CCCCCC)(C)C)(C)Cc1ccc(C[N+](C)(CCCCCCN(C)C)C)cc1'\n",
      "[14:52:16] SMILES Parse Error: extra close parentheses while parsing: [N+](CCCCCC)(C)C)(C)Cc1ccc(C[N+](C)(C)CCCCCC)cc1\n",
      "[14:52:16] SMILES Parse Error: Failed parsing SMILES '[N+](CCCCCC)(C)C)(C)Cc1ccc(C[N+](C)(C)CCCCCC)cc1' for input: '[N+](CCCCCC)(C)C)(C)Cc1ccc(C[N+](C)(C)CCCCCC)cc1'\n",
      "[14:52:16] SMILES Parse Error: extra open parentheses for input: 'C1CCCC[N+]1(C)CC[N+]1(C)CCC(CCCC2CC[N+](CC3CCCCC3)(C)CC2'\n",
      "[14:52:16] SMILES Parse Error: unclosed ring for input: 'C1C2CC(CC3[N+]2(C)CCCC3)[N+]2(C)CCCC1'\n",
      "[14:52:16] Can't kekulize mol.  Unkekulized atoms: 0 1 2 3 4\n",
      "[14:52:16] SMILES Parse Error: extra open parentheses for input: 'C(CCC[N+](C)(C)CCCCCC[N+](C)(C)CCCCCC[N+](C)(CCCCCC[N+](CCCCCC[N+](CCCCCCCCCCCCCCCCCC)(C)C)C)C'\n",
      "[14:52:16] SMILES Parse Error: extra open parentheses for input: 'C[N+](CCCCCC[N+](C)(C)CCCCCC[N+](C)(C)CCCCCC[N+](C)(CCCCCCCCCCCCCC)C'\n",
      "[14:52:16] SMILES Parse Error: extra open parentheses for input: 'C(CCCCCCCCCCCC)CCC[N+](C)(CCCCCC[N+](CCCCCC[N+](C)(CCCCC[N+](CCCCCCCCCCCCCCCCCC)(C)C)C'\n",
      "[14:52:16] SMILES Parse Error: extra open parentheses for input: 'C(CCCCCCCCCCCC[N+](CCCCCC[N+](C)(C)CCCCCC[N+](C)(C)CCCCC[N+](C)(CCCCCC[N+](C)(C)C)C)CCCCCCCC'\n",
      "[14:52:16] SMILES Parse Error: extra open parentheses for input: 'C(CCCCCCCCCCCCCCC)CC[N+](C)(CCCCCC[N+](CCCCCC[N+](C)(CCCCCC[N+](C)(CCCCCCCCCCCCCCC)C)(C)C)CC'\n",
      "[14:52:16] SMILES Parse Error: extra open parentheses for input: 'C(CCCCCCCCCCCCC)CCCC[N+](CCCCCC[N+](CCCCCC[N+](C)(CCCCCC[N+](CCCCCCCCCCCCCCCCCC)(C)C)(C)C)CC'\n",
      "[14:52:16] SMILES Parse Error: extra open parentheses for input: 'C(CCCCCCCCCCCCCC)C[N+](C)(CCCCCC[N+](C)(CCCCCC[N+](C)(CCCCCC[N+](C)(CCCCCCCCCCCCCCC)C)C)(C)C'\n",
      "[14:52:16] SMILES Parse Error: extra open parentheses for input: 'C(CCCCCCCCCCCCCC)C[N+](C)(CCCCCC[N+](C)(CCCCCC[N+](CCCCC[N+](CCCCCCCCCCCCCCCCC)(C)C)(C)C)C'\n",
      "[14:52:16] SMILES Parse Error: extra open parentheses for input: 'C(CCCCCCCCCCCCCCC)[N+](C)(CCCCCC[N+](C)(CCCCCC[N+](C)(CCCCCC[N+](C)(C)CCCCCCCCCCCCCCCCC)C)(C)C'\n",
      "[14:52:16] SMILES Parse Error: extra open parentheses for input: 'c1cc(C[N+](C)(CCCCCC[N+](C)(C)C)C)ccc1C[N+](C)(CCCCCC[N+](C)(C)Cc1ccc(C[N+](C)(CCCCCCC[N+](C)(C)C)(C)C)C'\n",
      "[14:52:16] SMILES Parse Error: extra open parentheses for input: '[N+](CCCCCC[N+](C)(C)CCCCCCCCCCCCCCCCCCC)(C)(CCCCC[N+](CCCCCC[N+](C)(C)CCCCCCCCCCCCCCCC)(C)C'\n",
      "[14:52:16] SMILES Parse Error: extra close parentheses while parsing: c1cc(C[N+](C)(CCCCCC[N+](C)(C)C)C)ccc1C[N+](C)(CCCCCC[N+](C)(C)Cc1ccc(C[N+](C)(C)CCCCCC[N+](C)(C)C)C)C)cc1\n",
      "[14:52:16] SMILES Parse Error: Failed parsing SMILES 'c1cc(C[N+](C)(CCCCCC[N+](C)(C)C)C)ccc1C[N+](C)(CCCCCC[N+](C)(C)Cc1ccc(C[N+](C)(C)CCCCCC[N+](C)(C)C)C)C)cc1' for input: 'c1cc(C[N+](C)(CCCCCC[N+](C)(C)C)C)ccc1C[N+](C)(CCCCCC[N+](C)(C)Cc1ccc(C[N+](C)(C)CCCCCC[N+](C)(C)C)C)C)cc1'\n",
      "[14:52:16] Explicit valence for atom # 41 N, 4, is greater than permitted\n",
      "[14:52:16] Explicit valence for atom # 9 N, 4, is greater than permitted\n",
      "[14:52:16] SMILES Parse Error: extra close parentheses while parsing: C[N+](C)(CCCCCC[N+](CCCCCC[N+](C)(C)CCCCCC[N+](CCCCCCCCCCCCCC)(C)C)C)CCCCCCCCCCCCCCCCCC)(C)C\n",
      "[14:52:16] SMILES Parse Error: Failed parsing SMILES 'C[N+](C)(CCCCCC[N+](CCCCCC[N+](C)(C)CCCCCC[N+](CCCCCCCCCCCCCC)(C)C)C)CCCCCCCCCCCCCCCCCC)(C)C' for input: 'C[N+](C)(CCCCCC[N+](CCCCCC[N+](C)(C)CCCCCC[N+](CCCCCCCCCCCCCC)(C)C)C)CCCCCCCCCCCCCCCCCC)(C)C'\n",
      "[14:52:16] SMILES Parse Error: extra open parentheses for input: '[N+](CCCCCC[N+](C)(CCCCCC[N+](C)(CCCCCC[N+](CCCCCCCCCCCCCCCC)(C)C)(C)C)(CCCCCCCCCCCCCCCCC)C'\n",
      "[14:52:16] SMILES Parse Error: extra open parentheses for input: 'C1CCC(C[N+]2(C)CCC(CCCC3CC[N+](C)(CC4CCCCC4)CC2)CC1'\n",
      "[14:52:16] SMILES Parse Error: extra open parentheses for input: 'C(CCCCCCC[N+]1(C)CCC(CCCC2CC[N+](CCCCCCC)(C)CC2)CC1'\n",
      "[14:52:16] SMILES Parse Error: unclosed ring for input: 'C1C2C(C)(C)C1C(C[N+](C)(C)CC1)C2'\n",
      "[14:52:16] SMILES Parse Error: extra open parentheses for input: 'C1CCCC(C[N+](C)(CC2CCCCC2)C1'\n",
      "[14:52:16] SMILES Parse Error: unclosed ring for input: 'C1C[N+](C)(C)CCC1C[N+](C)(C)CC1'\n",
      "[14:52:16] SMILES Parse Error: unclosed ring for input: 'C1CCC[N+]2(CCCC2)C2C1CC2CCCCN21'\n",
      "[14:52:16] SMILES Parse Error: unclosed ring for input: 'C([N+]1(CC)CC2C(C1)C1C=CC2C2C1C1C[N+](CC)(CC)C2)C'\n",
      "[14:52:16] SMILES Parse Error: unclosed ring for input: 'C1CCC2CC[N+](C)(CC2)Cc2ccc(cc2)C[N+]1(C)CCCC2'\n",
      "[14:52:16] SMILES Parse Error: unclosed ring for input: 'C1CCC2CC[N+](C)(CC2)CCCCCC[N+]1(C)CCCCCC2'\n",
      "[14:52:16] SMILES Parse Error: unclosed ring for input: 'c1ccccc1Cn1cc[n+](CCCCCC[n+]2cn(Cc4ccccc4)cc3)c1'\n",
      "[14:52:16] SMILES Parse Error: unclosed ring for input: 'c1ccccc1Cn1cc[n+](CCCCCC[n+]2ccn(Cc4ccccc4)c3)c1'\n",
      "[14:52:16] SMILES Parse Error: unclosed ring for input: 'C1CCC2CC[N+](C)(CC2)Cc2ccc(cc2)C[N+]1(C)CCCC2'\n",
      "[14:52:16] SMILES Parse Error: unclosed ring for input: 'C12C(C3C=CC1C1C[N+](C(C)C)(CC)CC13)C[N+](CCC)(C(C)C)C21'\n",
      "[14:52:16] SMILES Parse Error: extra close parentheses while parsing: C([N+]1(C(C)C)CC2C3C4C[N+](CCC)(C(C)C)CC4C(C2C1)C=C3)C4)(C)C\n",
      "[14:52:16] SMILES Parse Error: Failed parsing SMILES 'C([N+]1(C(C)C)CC2C3C4C[N+](CCC)(C(C)C)CC4C(C2C1)C=C3)C4)(C)C' for input: 'C([N+]1(C(C)C)CC2C3C4C[N+](CCC)(C(C)C)CC4C(C2C1)C=C3)C4)(C)C'\n",
      "[14:52:16] SMILES Parse Error: extra open parentheses for input: 'C12C(C3C=CC1C1C[N+](C(C)C)(CC)CC31C[N+](CCC)(C(C)C)C2'\n",
      "[14:52:16] SMILES Parse Error: extra open parentheses for input: 'C1C2CC3CC(CC1C3[N+](CCCC[N+](C)(C)CCCCCCCCCCCCCCCCC)(C)C2'\n",
      "[14:52:16] SMILES Parse Error: extra open parentheses for input: 'C12CC3CC(CC(C3)C1[N+](CCCC[N+](CCCCCCCCCCCCCCCCCCC)(C)C)(C2'\n",
      "[14:52:16] SMILES Parse Error: extra open parentheses for input: 'C1C2CC3CC1CC(C2[N+](C)(CCCC[N+](CCCCCCCCCCCCCCCCCCC)(C)C3)C'\n",
      "[14:52:16] SMILES Parse Error: extra open parentheses for input: 'C1C2CC3CC1CC(C2[N+](C)(CCCC[N+](CCCCCCCCCCCCCCCCCCC)(C)C3)C'\n",
      "[14:52:16] SMILES Parse Error: extra open parentheses for input: 'C(CCCCCCCCC)CCCCCC[N+](CCCC[N+](C)(C12CC3CC(CC(C3)C1)C2)(C)C'\n",
      "[14:52:16] SMILES Parse Error: unclosed ring for input: 'C(CCC[N+](C)(CCCC[N+](C)(C)C1)C)C'\n",
      "[14:52:16] SMILES Parse Error: extra open parentheses for input: 'C(CCCCCCCCCC[N+](C)(C)CCCC[N+](C)(C12CC3CC(CC(C1)C3)C2)CCCCCCC'\n",
      "[14:52:16] SMILES Parse Error: extra open parentheses for input: '[N+](CCCCC[N+](CCCC[N+](CCCCCCCCCCCCCCCCCC)(C)C)(C)C'\n",
      "[14:52:16] Explicit valence for atom # 21 N, 4, is greater than permitted\n",
      "[14:52:16] SMILES Parse Error: extra open parentheses for input: 'C(CCCCCCCCCCCCCC)C[N+](C)(CCCC[N+](C12CC3CC(CC(C1)C3)C2)(C)C'\n",
      "[14:52:16] SMILES Parse Error: extra open parentheses for input: 'C12C(C)(C)C(C(C)(CC1)C[N+](CC)(CC)C2'\n",
      "[14:52:16] SMILES Parse Error: extra close parentheses while parsing: [N+](CCCCC[N+](CCCCCCCCCCCCCCCCC)(C)C)(C)C12CC3CC(C1)C2)C3\n",
      "[14:52:16] SMILES Parse Error: Failed parsing SMILES '[N+](CCCCC[N+](CCCCCCCCCCCCCCCCC)(C)C)(C)C12CC3CC(C1)C2)C3' for input: '[N+](CCCCC[N+](CCCCCCCCCCCCCCCCC)(C)C)(C)C12CC3CC(C1)C2)C3'\n",
      "[14:52:16] SMILES Parse Error: extra close parentheses while parsing: C(CCCCC[N+](C)(C)CCCC[N+](C)(C)C1C2CC3CC(C1)CC(C3)C2)C)CCCCCCC\n",
      "[14:52:16] SMILES Parse Error: Failed parsing SMILES 'C(CCCCC[N+](C)(C)CCCC[N+](C)(C)C1C2CC3CC(C1)CC(C3)C2)C)CCCCCCC' for input: 'C(CCCCC[N+](C)(C)CCCC[N+](C)(C)C1C2CC3CC(C1)CC(C3)C2)C)CCCCCCC'\n",
      "[14:52:16] SMILES Parse Error: extra open parentheses for input: 'C(CCCCCCCCCCCCCCCC[N+](CCCC[N+](C)(C12CC3CC(C1)CC(C2)C3)(C)C)C'\n",
      "[14:52:16] SMILES Parse Error: extra open parentheses for input: 'C12CC3CC(CC(C3)C1[N+](CCCC[N+](C)(CCCCCCCCCCCCCCCCC)(C)C2)C3'\n",
      "[14:52:16] SMILES Parse Error: extra open parentheses for input: 'C(CCCCCCCCCCCCCCC)[N+](CCCC[N+](C)(C12CC3CC(CC(C3)C1)C2)(C)C'\n",
      "[14:52:16] SMILES Parse Error: extra open parentheses for input: 'C12CC3CC(CC(C1)C3)C2[N+](C)(CCCC[N+](CCCCCCCCCCCCCCCCCC)(C)C'\n",
      "[14:52:16] SMILES Parse Error: extra open parentheses for input: 'C(CCCCCCCCCCCC)CCC[N+](C)(CCCC[N+](C12CC3CC(CC(C1)C3)C2)(C)C'\n",
      "[14:52:16] SMILES Parse Error: unclosed ring for input: 'C1CCC[N+]1(CC)CC(C)(C)C1'\n",
      "[14:52:16] SMILES Parse Error: extra open parentheses for input: 'C1CCC2C([N+](C)(C)CC12'\n",
      "[14:52:16] Can't kekulize mol.  Unkekulized atoms: 0 1 2 3 5\n",
      "[14:52:16] Can't kekulize mol.  Unkekulized atoms: 9 12 14\n",
      "[14:52:17] SMILES Parse Error: extra open parentheses for input: 'C1CCCC2C([N+](C)(C)CCCCC12'\n",
      "[14:52:17] Can't kekulize mol.  Unkekulized atoms: 0 1 2 13 14\n",
      "[14:52:17] Can't kekulize mol.  Unkekulized atoms: 0 1 2 13 14\n",
      "[14:52:17] Can't kekulize mol.  Unkekulized atoms: 0 1 2 13 14\n",
      "[14:52:17] SMILES Parse Error: unclosed ring for input: 'N1(CCN)CCN(CCN)CCN'\n",
      "[14:52:17] SMILES Parse Error: unclosed ring for input: 'CC(N)CCN1CCN'\n",
      "[14:52:17] SMILES Parse Error: unclosed ring for input: 'C1N(CCN)CCN(CCN)CCN'\n",
      "[14:52:17] SMILES Parse Error: unclosed ring for input: 'O1CCNCC1CCCCC1'\n",
      "[14:52:17] SMILES Parse Error: unclosed ring for input: 'O1CCN(CCN)CCN'\n",
      "[14:52:17] SMILES Parse Error: extra open parentheses for input: 'C(C)(C)([P+](C(C)(C)C)(C(C)(C)C)CCCC[P+](C(C)(C)C)(C(C)(C)C)C(C)(C)C'\n",
      "[14:52:17] SMILES Parse Error: extra open parentheses for input: 'C([P+](C(C)(C)C)(C(C)(C)C)(CCCC[P+](C(C)(C)C)(C(C)(C)C)C(C)(C)C)(C)C'\n",
      "[14:52:17] SMILES Parse Error: unclosed ring for input: 'C1CCCC2[N+]1(CC)CC'\n",
      "[14:52:17] SMILES Parse Error: unclosed ring for input: 'C1CCCC2[N+]1(CC)CC'\n",
      "[14:52:17] SMILES Parse Error: unclosed ring for input: 'C1CCC2C(CCC1)[N+]2(CCCC2C)C1'\n",
      "[14:52:17] SMILES Parse Error: unclosed ring for input: 'C1CCCC2[N+]1(CC)CC'\n",
      "[14:52:17] Can't kekulize mol.  Unkekulized atoms: 0 1 16 17 18 19 20\n",
      "[14:52:17] SMILES Parse Error: extra open parentheses for input: 'C1CCCC(C[N+](C)(CC2(c3ccccc3)CCCC2)C1'\n",
      "[14:52:17] Can't kekulize mol.  Unkekulized atoms: 10 11 12 13 15\n",
      "[14:52:17] SMILES Parse Error: extra open parentheses for input: 'C12C(C)(C)C(C([N+](C)(C)C)CC1(C)C2'\n",
      "[14:52:17] SMILES Parse Error: extra open parentheses for input: 'C1CCC(C[N+]1(CC1(c2ccccc2)CCCC1)C'\n",
      "[14:52:17] SMILES Parse Error: unclosed ring for input: 'C1C2CC3CC(C2)CC1([n+]1cn(C24CC5CC(CC(C4)C6)C5)cc1)C3'\n",
      "[14:52:17] SMILES Parse Error: unclosed ring for input: 'C1C23C=CC(C2(C[N+](C)(C)C3)C1)CCCC3'\n",
      "[14:52:17] SMILES Parse Error: extra close parentheses while parsing: C1C23C4C(C[N+](C)(C)C4)(C=C2)C1)CCCC3\n",
      "[14:52:17] SMILES Parse Error: Failed parsing SMILES 'C1C23C4C(C[N+](C)(C)C4)(C=C2)C1)CCCC3' for input: 'C1C23C4C(C[N+](C)(C)C4)(C=C2)C1)CCCC3'\n",
      "[14:52:17] SMILES Parse Error: unclosed ring for input: 'C123C(C4C=CC1(CCCC4)C1(C)C2)C[N+](C)(C)C3'\n",
      "[14:52:17] SMILES Parse Error: extra open parentheses for input: 'C123C=CC(C1(CCCC2)C[N+](C)(C)C3'\n",
      "[14:52:17] SMILES Parse Error: extra close parentheses while parsing: C1CCC23C4C(C[N+](C)(C)C4)(C=C2)C1)C3\n",
      "[14:52:17] SMILES Parse Error: Failed parsing SMILES 'C1CCC23C4C(C[N+](C)(C)C4)(C=C2)C1)C3' for input: 'C1CCC23C4C(C[N+](C)(C)C4)(C=C2)C1)C3'\n",
      "[14:52:17] SMILES Parse Error: extra open parentheses for input: 'C1CC23C4C=CC(C2(C1)C[N+](C)(C)C4'\n",
      "[14:52:17] Can't kekulize mol.  Unkekulized atoms: 0 1 7 8 9\n",
      "[14:52:17] SMILES Parse Error: unclosed ring for input: 'C1C2CC3CC(C2)CC1([N+](C)(C)C3)C3'\n",
      "[14:52:17] SMILES Parse Error: extra open parentheses for input: 'C1C2CC3CC(CC1([N+](C)(C)C3)C2'\n",
      "[14:52:17] SMILES Parse Error: unclosed ring for input: 'C1C2CCCC(CC2)C2CCC[N+]1(C)C'\n",
      "[14:52:17] SMILES Parse Error: unclosed ring for input: 'C1C2CC3CC(C2)CC1(n1cc[n+](C24CC5CC(CC(C4)C6)C5)c1)C3'\n",
      "[14:52:17] SMILES Parse Error: extra open parentheses for input: 'C12CCC(C3CCC1C[N+]3(C)CCCC2'\n",
      "[14:52:17] SMILES Parse Error: extra open parentheses for input: 'C1C2CC3CC(CC1([N+](C)(C)C3)C2'\n",
      "[14:52:17] SMILES Parse Error: unclosed ring for input: 'C1C2CC3CC(CC1(C3)C[N+]3(C)C)C2'\n",
      "[14:52:17] SMILES Parse Error: unclosed ring for input: 'C1C2CC3CC(CC1(n1cc[n+](C45CC6CC(CC(C6)C4)C5)c3)C2)C3'\n",
      "[14:52:17] SMILES Parse Error: unclosed ring for input: 'C1C2CC3CC(CC1([N+]1(C)C)C3)C2'\n",
      "[14:52:17] SMILES Parse Error: unclosed ring for input: 'C1C2CC3CC(CC1([N+]1(C)C)C3)C2'\n",
      "[14:52:17] SMILES Parse Error: unclosed ring for input: 'C1C2CC3CC(C2)CC1(n1c[n+](C24CC5CC(CC(C4)C6)C5)cc1)C3'\n",
      "[14:52:17] SMILES Parse Error: unclosed ring for input: 'C1C2CC3CC(C2)CC1(n1cc[n+](C24CC5CC(CC(C4)C6)C5)c1)C3'\n",
      "[14:52:17] SMILES Parse Error: extra open parentheses for input: 'C1C2CC(C)(C[N+]2(C)CCCC[N+]2(C)C'\n",
      "[14:52:17] SMILES Parse Error: unclosed ring for input: 'C1C[N+]2(C(C)CCC2)CCCCC'\n",
      "[14:52:17] Can't kekulize mol.  Unkekulized atoms: 0 12 14 15 18\n",
      "[14:52:17] SMILES Parse Error: unclosed ring for input: 'C1CC2C3C(CCC[N+]3(C)C1)CCC[N+]2(C)CCCC1'\n",
      "[14:52:17] SMILES Parse Error: unclosed ring for input: 'C1C2C3C(C[N+]2(C)CCCCC23)CCCC1'\n",
      "[14:52:17] SMILES Parse Error: unclosed ring for input: '[N+]12(C)CCCCC1C1CCC[N+]3(C)C(C1)C2'\n",
      "[14:52:17] SMILES Parse Error: unclosed ring for input: 'C1C2CCC[N+]3(C)CCCCC3C[N+]1(C)CCCCC21'\n",
      "[14:52:17] SMILES Parse Error: unclosed ring for input: 'C1CCC2CC3C2C(CCCC2)C2C1CCCC[N+]1(C)C3'\n",
      "[14:52:17] SMILES Parse Error: unclosed ring for input: 'C1C2C3C(CCC[N+]3(C)C1)CCC[N+]21C'\n",
      "[14:52:17] SMILES Parse Error: unclosed ring for input: 'C1C2C3C(CCC[N+]3(C)CC3)C1CCCC[N+]21C'\n",
      "[14:52:17] SMILES Parse Error: unclosed ring for input: 'C1CC2C3C(C4C(C[N+](C)(C)C4)C2)CCC3'\n",
      "[14:52:17] SMILES Parse Error: unclosed ring for input: 'C1CCC2C3CCCC[N+]3(C)CC3C2[N+]1(C)CCC2'\n",
      "[14:52:17] SMILES Parse Error: unclosed ring for input: 'C1C2C3C(CCC[N+]3(C)CC3)CCC[N+]2(C)CCC1'\n",
      "[14:52:17] SMILES Parse Error: unclosed ring for input: '[N+]12(C)CCCCC1C1CCC[N+]3(C)CCCC1C2'\n",
      "[14:52:17] SMILES Parse Error: unclosed ring for input: 'C1C2CC3CCCC(C4CCCC[N+]4(C)CCC3)C2[N+]1(C)CCCCC2'\n",
      "[14:52:17] Can't kekulize mol.  Unkekulized atoms: 0 1 2 3 15\n",
      "[14:52:17] Can't kekulize mol.  Unkekulized atoms: 0 1 2 7 9\n",
      "[14:52:17] Can't kekulize mol.  Unkekulized atoms: 26 27 28 29 30 31 32\n",
      "[14:52:17] SMILES Parse Error: extra open parentheses for input: 'O1C2(OC(C)CC1CC[N+](C)(C)CC2'\n"
     ]
    },
    {
     "name": "stdout",
     "output_type": "stream",
     "text": [
      "FCD score: 0.16692803298055736\n"
     ]
    }
   ],
   "source": [
    "# calculate the metrics\n",
    "print('Validity rate:', validity_rate(generated_smiles))\n",
    "print('Uniqueness rate:', uniqueness_rate(generated_smiles))\n",
    "print('Novelty rate:', novelty_rate(generated_smiles, target_smile))\n",
    "print('Reconstructability rate:', reconstructability_rate(generated_smiles, target_smile))\n",
    "print('Novelty rate:', novelty_rate(generated_smiles, target_smile))\n",
    "print('IntDiv:', IntDiv(generated_smiles))\n",
    "# print('KL-divergence:', KL_divergence(target_smile), generated_smile))\n",
    "print('FCD score:', FCD_score(target_smile, generated_smile))"
   ]
  },
  {
   "cell_type": "code",
   "execution_count": 14,
   "metadata": {},
   "outputs": [
    {
     "data": {
      "image/png": "[encoded data removed]",
      "text/plain": [
       "<Figure size 432x288 with 1 Axes>"
      ]
     },
     "metadata": {
      "needs_background": "light"
     },
     "output_type": "display_data"
    }
   ],
   "source": [
    "# plot the loss and acc\n",
    "plot_loss(train_loss_history, test_loss_history, 'GPT')"
   ]
  }
 ],
 "metadata": {
  "kernelspec": {
   "display_name": "zeosyn",
   "language": "python",
   "name": "python3"
  },
  "language_info": {
   "codemirror_mode": {
    "name": "ipython",
    "version": 3
   },
   "file_extension": ".py",
   "mimetype": "text/x-python",
   "name": "python",
   "nbconvert_exporter": "python",
   "pygments_lexer": "ipython3",
   "version": "3.7.10"
  }
 },
 "nbformat": 4,
 "nbformat_minor": 2
}
