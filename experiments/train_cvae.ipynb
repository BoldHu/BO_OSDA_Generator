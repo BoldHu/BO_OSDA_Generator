{
 "cells": [
  {
   "cell_type": "markdown",
   "metadata": {},
   "source": [
    "# Train CVAE Model for Conditional Generation"
   ]
  },
  {
   "cell_type": "code",
   "execution_count": 1,
   "metadata": {},
   "outputs": [
    {
     "name": "stdout",
     "output_type": "stream",
     "text": [
      "/home/hudongcheng/Desktop/bo_osda_generator\n"
     ]
    }
   ],
   "source": [
    "# change working path to the current file\n",
    "%cd .."
   ]
  },
  {
   "cell_type": "code",
   "execution_count": 2,
   "metadata": {},
   "outputs": [],
   "source": [
    "import numpy as np\n",
    "import os\n",
    "import torch\n",
    "import torch.nn as nn\n",
    "from torch.utils.data import DataLoader\n",
    "from torch.nn import functional as F\n",
    "from tqdm import tqdm\n",
    "from datetime import datetime\n",
    "from torch.utils.tensorboard import SummaryWriter\n",
    "import torch.backends.cudnn as cudnn\n",
    "\n",
    "# import custom modules\n",
    "from models.cvae import *\n",
    "from utils.utils import *\n",
    "from datasets.data_loader import *\n",
    "from utils.plot_figures import *"
   ]
  },
  {
   "cell_type": "code",
   "execution_count": 3,
   "metadata": {},
   "outputs": [],
   "source": [
    "cudnn.benchmark = True\n",
    "cudnn.enabled = True\n",
    "\n",
    "train_loss_history = []\n",
    "train_acc_history = []\n",
    "test_loss_history = []\n",
    "test_acc_history = []\n",
    "\n",
    "log_dir = './logs/'\n",
    "save_best_weight_path = './checkpoints/'\n",
    "\n",
    "now = datetime.now().strftime('%Y-%m-%d-%H-%M-%S')"
   ]
  },
  {
   "cell_type": "code",
   "execution_count": 4,
   "metadata": {},
   "outputs": [
    {
     "name": "stdout",
     "output_type": "stream",
     "text": [
      "the charset(inculde begin end and pad char) achieved from dataset : ?P25$]FO-S.Hc=71(ln63NC4[+)^@\n",
      "the total num of charset is : 29\n"
     ]
    }
   ],
   "source": [
    "# read the data and convert to the format we need\n",
    "train_smiles = read_strings('./data/train_smiles.csv', idx=False)\n",
    "train_zeo = read_vec('./data/train_zeo.csv', idx=False)\n",
    "train_syn = read_vec('./data/train_syn.csv', idx=False)\n",
    "train_codes = read_strings('./data/train_codes.csv', idx=False)\n",
    "test_smiles = read_strings('./data/test_smiles.csv', idx=False)\n",
    "test_zeo = read_vec('./data/test_zeo.csv', idx=False)\n",
    "test_syn = read_vec('./data/test_syn.csv', idx=False)\n",
    "test_codes = read_strings('./data/test_codes.csv', idx=False)\n",
    "\n",
    "charset = '?P25$]FO-S.Hc=71(ln63NC4[+)^@'\n",
    "charlen = len(charset)\n",
    "print('the charset(inculde begin end and pad char) achieved from dataset :', charset)\n",
    "print('the total num of charset is :', charlen)\n",
    "# create the char to index and index to char dictionary\n",
    "char_to_index = dict((c, i) for i, c in enumerate(charset))\n",
    "index_to_char = dict((i, c) for i, c in enumerate(charset))\n",
    "char_list = [k for k, v in char_to_index.items()]"
   ]
  },
  {
   "cell_type": "code",
   "execution_count": 5,
   "metadata": {},
   "outputs": [],
   "source": [
    "# hyperparameters\n",
    "device = torch.device(\"cuda:0\" if torch.cuda.is_available() else \"cpu\")\n",
    "batch_size = 512\n",
    "epoch = 10\n",
    "seqlen = 127"
   ]
  },
  {
   "cell_type": "code",
   "execution_count": 6,
   "metadata": {},
   "outputs": [],
   "source": [
    "src_smiles, tgt_smiles = smiles_padding(train_smiles)\n",
    "tgt_seq = smiles_to_sequence(tgt_smiles, char_to_index)\n",
    "tgt_seq = torch.cat([torch.unsqueeze(seq, 0) for seq in tgt_seq]).long()\n",
    "src_smiles_test, tgt_smiles_test = smiles_padding(test_smiles)\n",
    "tgt_seq_test = smiles_to_sequence(tgt_smiles_test, char_to_index)\n",
    "tgt_seq_test = torch.cat([torch.unsqueeze(seq, 0) for seq in tgt_seq_test]).long()\n",
    "# create the dataset and dataloader\n",
    "train_dataset = SeqDataset(train_zeo, train_syn, tgt_seq)\n",
    "test_dataset = SeqDataset(test_zeo, test_syn, tgt_seq_test)\n",
    "train_dataloader = DataLoader(train_dataset, batch_size=batch_size, shuffle=True)\n",
    "test_dataloader = DataLoader(test_dataset, batch_size=batch_size, shuffle=False)"
   ]
  },
  {
   "cell_type": "code",
   "execution_count": 7,
   "metadata": {},
   "outputs": [
    {
     "name": "stdout",
     "output_type": "stream",
     "text": [
      "total parameters: 1.14M\n"
     ]
    }
   ],
   "source": [
    "# Suppose we have:\n",
    "params = {\n",
    "    'NCHARS': 29,\n",
    "    'MAX_LEN': 127,\n",
    "    'COND_DIM': 24,\n",
    "    'hidden_dim': 256,\n",
    "    'conv_depth': 3,\n",
    "    'conv_dim_depth': 64,\n",
    "    'conv_dim_width': 3,\n",
    "    'conv_d_growth_factor': 2,\n",
    "    'conv_w_growth_factor': 1,\n",
    "    'middle_layer': 1,\n",
    "    'activation': 'tanh',\n",
    "    'batchnorm_conv': True,\n",
    "    'batchnorm_mid': True,\n",
    "    'dropout_rate_mid': 0.2,\n",
    "    'gru_depth': 2,\n",
    "    'recurrent_dim': 256,\n",
    "    # ...\n",
    "}\n",
    "\n",
    "encoder = ConditionalEncoder(\n",
    "    input_channels=params['NCHARS'],\n",
    "    max_len=params['MAX_LEN'],\n",
    "    cond_dim=params['COND_DIM'],\n",
    "    hidden_dim=params['hidden_dim'],\n",
    "    conv_depth=params['conv_depth'],\n",
    "    conv_dim_depth=params['conv_dim_depth'],\n",
    "    conv_dim_width=params['conv_dim_width'],\n",
    "    conv_d_growth_factor=params['conv_d_growth_factor'],\n",
    "    conv_w_growth_factor=params['conv_w_growth_factor'],\n",
    "    middle_layer=params['middle_layer'],\n",
    "    activation=params['activation'],\n",
    "    batchnorm_conv=params['batchnorm_conv'],\n",
    "    batchnorm_mid=params['batchnorm_mid'],\n",
    "    dropout_rate_mid=params['dropout_rate_mid']\n",
    ").to(device)\n",
    "\n",
    "decoder = ConditionalDecoder(\n",
    "    hidden_dim=params['hidden_dim'],\n",
    "    cond_dim=params['COND_DIM'],\n",
    "    n_chars=params['NCHARS'],\n",
    "    max_len=params['MAX_LEN'],\n",
    "    gru_depth=params['gru_depth'],\n",
    "    recurrent_dim=params['recurrent_dim'],\n",
    "    dropout=0.2\n",
    ").to(device)\n",
    "\n",
    "model = ConditionalVAE(encoder, decoder).to(device)\n",
    "\n",
    "# loss\n",
    "loss_func = torch.nn.CrossEntropyLoss()\n",
    "optim = torch.optim.Adam(model.parameters(), lr=6e-4)\n",
    "total = sum(p.numel() for p in model.parameters())\n",
    "print('total parameters: %0.2fM' % (total / 1e6))"
   ]
  },
  {
   "cell_type": "code",
   "execution_count": 8,
   "metadata": {},
   "outputs": [],
   "source": [
    "# train function\n",
    "def train(model, dataloader, loss_func, optim, device, kl_weight=0.001, pad_idx=0):\n",
    "    \"\"\"\n",
    "    Args:\n",
    "        model: your Conditional VAE\n",
    "        dataloader: yields (zeo, syn, tgt) each step\n",
    "        loss_func: typically nn.CrossEntropyLoss(ignore_index=pad_idx) or similar\n",
    "        optim: torch optimizer\n",
    "        device: 'cuda' or 'cpu'\n",
    "        kl_weight: scaling factor for the KL loss term\n",
    "        pad_idx: optional index for <pad>, used in ignoring pad in cross-entropy\n",
    "    \"\"\"\n",
    "    model.train()\n",
    "    total_loss = 0.0\n",
    "    total_acc = 0.0\n",
    "    total_samples = 0\n",
    "\n",
    "    for i, (zeo, syn, tgt) in enumerate(tqdm(dataloader)):\n",
    "        # Move data to device\n",
    "        zeo = zeo.to(device)\n",
    "        syn = syn.to(device)\n",
    "        tgt = tgt.to(device)\n",
    "\n",
    "        # Concatenate to form the full condition\n",
    "        # shape: (batch_size, cond_dim1 + cond_dim2)\n",
    "        condition = torch.cat([zeo, syn], dim=-1)\n",
    "        # tgt: shape (B, seq_len, n_chars) if one-hot approach\n",
    "        tgt = F.one_hot(tgt, num_classes=params['NCHARS']).float()\n",
    "        tgt_input = tgt[:, :-1].contiguous() # input to the decoder\n",
    "        tgt_target = tgt[:, 1:].contiguous() # target output from the decoder\n",
    "\n",
    "        # ==========================\n",
    "        # 1) Forward pass\n",
    "        # ==========================\n",
    "        # We do teacher forcing by passing 'teacher_force_inputs=tgt'\n",
    "        # 'tgt' can be one-hot or integer-based, depending on your model design.\n",
    "        logits, z_mean, z_log_var = model(\n",
    "            x_smi=tgt_input,         # SMILES input\n",
    "            x_cond=condition,  # condition\n",
    "            teacher_force_inputs=tgt_input\n",
    "        )\n",
    "        # logits: shape (B, seq_len, n_chars) if one-hot approach\n",
    "        # or (B, seq_len, vocab_size) if integer token approach\n",
    "\n",
    "        # ==========================\n",
    "        # 2) Compute reconstruction loss\n",
    "        # ==========================\n",
    "        # If 'tgt' is one-hot, we might do:\n",
    "        #   target_ids = tgt.argmax(dim=-1)  # shape (B, seq_len)\n",
    "        # If 'tgt' is already integer-based, you can use 'tgt' directly.\n",
    "        \n",
    "        # Example: if 'tgt' is one-hot:\n",
    "        target_ids = tgt_target.argmax(dim=-1)  # (B, seq_len)\n",
    "\n",
    "        # Cross-entropy expects (B, vocab_size, seq_len), so we permute\n",
    "        # Or you can define your model to output (B, vocab_size, seq_len) directly.\n",
    "        # Just adapt as needed:\n",
    "        logits_permuted = logits.permute(0, 2, 1)  # (B, n_chars, seq_len)\n",
    "\n",
    "        recon_loss = loss_func(logits_permuted, target_ids)\n",
    "\n",
    "        # ==========================\n",
    "        # 3) Compute KL divergence\n",
    "        # ==========================\n",
    "        # KL = -0.5 * sum(1 + log_var - mean^2 - exp(log_var)) \n",
    "        # We'll average by batch size\n",
    "        kl_loss = -0.5 * torch.sum(\n",
    "            1 + z_log_var - z_mean.pow(2) - z_log_var.exp()\n",
    "        )\n",
    "        kl_loss = kl_loss / tgt.size(0)\n",
    "\n",
    "        # ==========================\n",
    "        # 4) Total loss\n",
    "        # ==========================\n",
    "        loss = recon_loss + kl_weight * kl_loss\n",
    "\n",
    "        # ==========================\n",
    "        # 5) Backprop & update\n",
    "        # ==========================\n",
    "        optim.zero_grad()\n",
    "        loss.backward()\n",
    "        optim.step()\n",
    "\n",
    "        # ==========================\n",
    "        # 6) Compute accuracy (optional)\n",
    "        # ==========================\n",
    "        # We can do a simple token-level accuracy for demonstration:\n",
    "        preds = torch.argmax(logits, dim=-1)  # shape (B, seq_len)\n",
    "        correct = (preds == target_ids).float()  # (B, seq_len)\n",
    "        # If you want to exclude pads from accuracy:\n",
    "        if pad_idx is not None:\n",
    "            # create a mask for non-pad positions\n",
    "            mask = (target_ids != pad_idx).float()\n",
    "            accuracy = (correct * mask).sum() / mask.sum()\n",
    "        else:\n",
    "            accuracy = correct.mean()\n",
    "\n",
    "        # ==========================\n",
    "        # 7) Track stats\n",
    "        # ==========================\n",
    "        batch_size = tgt.size(0)\n",
    "        total_loss += loss.item() * batch_size\n",
    "        total_acc += accuracy.item() * batch_size\n",
    "        total_samples += batch_size\n",
    "\n",
    "    avg_loss = total_loss / total_samples\n",
    "    avg_acc = total_acc / total_samples\n",
    "\n",
    "    return avg_loss, avg_acc"
   ]
  },
  {
   "cell_type": "code",
   "execution_count": 9,
   "metadata": {},
   "outputs": [],
   "source": [
    "# test function\n",
    "def test(model, dataloader, loss_func, device, pad_idx=0):\n",
    "    model.eval()\n",
    "    total_loss = 0.0\n",
    "    total_acc = 0.0\n",
    "    total_samples = 0\n",
    "\n",
    "    with torch.no_grad():\n",
    "        for i, (zeo, syn, tgt) in enumerate(tqdm(dataloader)):\n",
    "            # Move data to device\n",
    "            zeo = zeo.to(device)\n",
    "            syn = syn.to(device)\n",
    "            tgt = tgt.to(device)\n",
    "\n",
    "            # Concatenate to form the full condition\n",
    "            condition = torch.cat([zeo, syn], dim=-1)\n",
    "            tgt = F.one_hot(tgt, num_classes=params['NCHARS']).float()\n",
    "            tgt_input = tgt[:, :-1].contiguous()  # exclude the last token for prediction\n",
    "            tgt_label = tgt[:, 1:].contiguous()   # exclude the first token for prediction\n",
    "            \n",
    "            # Forward pass\n",
    "            logits, z_mean, z_log_var = model(\n",
    "                x_smi=tgt_input,         # SMILES input\n",
    "                x_cond=condition,  # condition\n",
    "                teacher_force_inputs=None\n",
    "            )\n",
    "            \n",
    "            # Compute reconstruction loss\n",
    "            target_ids = tgt_label.argmax(dim=-1)\n",
    "            logits_permuted = logits.permute(0, 2, 1)\n",
    "            recon_loss = loss_func(logits_permuted, target_ids)\n",
    "            \n",
    "            # Compute accuracy\n",
    "            preds = torch.argmax(logits, dim=-1)\n",
    "            correct = (preds == target_ids).float()\n",
    "            if pad_idx is not None:\n",
    "                mask = (target_ids != pad_idx).float()\n",
    "                accuracy = (correct * mask).sum() / mask.sum()\n",
    "            else:\n",
    "                accuracy = correct.mean()\n",
    "            \n",
    "            # Track stats\n",
    "            batch_size = tgt.size(0)\n",
    "            total_loss += recon_loss.item() * batch_size\n",
    "            total_acc += accuracy.item() * batch_size\n",
    "            total_samples += batch_size\n",
    "            \n",
    "    avg_loss = total_loss / total_samples\n",
    "    avg_acc = total_acc / total_samples\n",
    "    \n",
    "    return avg_loss, avg_acc"
   ]
  },
  {
   "cell_type": "code",
   "execution_count": 10,
   "metadata": {},
   "outputs": [
    {
     "name": "stderr",
     "output_type": "stream",
     "text": [
      "  0%|          | 0/284 [00:00<?, ?it/s]/home/hudongcheng/miniconda3/envs/zeosyn/lib/python3.7/site-packages/torch/nn/functional.py:1794: UserWarning: nn.functional.tanh is deprecated. Use torch.tanh instead.\n",
      "  warnings.warn(\"nn.functional.tanh is deprecated. Use torch.tanh instead.\")\n",
      "100%|██████████| 284/284 [00:05<00:00, 51.75it/s]\n",
      "100%|██████████| 68/68 [00:00<00:00, 93.50it/s] \n"
     ]
    },
    {
     "name": "stdout",
     "output_type": "stream",
     "text": [
      "epoch 0, train loss 0.5026, train acc 0.4687, test loss 6.7835, test acc 0.1028\n"
     ]
    },
    {
     "name": "stderr",
     "output_type": "stream",
     "text": [
      "100%|██████████| 284/284 [00:04<00:00, 61.23it/s]\n",
      "100%|██████████| 68/68 [00:00<00:00, 112.53it/s]\n"
     ]
    },
    {
     "name": "stdout",
     "output_type": "stream",
     "text": [
      "epoch 1, train loss 0.2266, train acc 0.7044, test loss 7.8421, test acc 0.1148\n"
     ]
    },
    {
     "name": "stderr",
     "output_type": "stream",
     "text": [
      "100%|██████████| 284/284 [00:04<00:00, 61.32it/s]\n",
      "100%|██████████| 68/68 [00:00<00:00, 108.31it/s]\n"
     ]
    },
    {
     "name": "stdout",
     "output_type": "stream",
     "text": [
      "epoch 2, train loss 0.1817, train acc 0.7675, test loss 5.9313, test acc 0.1154\n"
     ]
    },
    {
     "name": "stderr",
     "output_type": "stream",
     "text": [
      "100%|██████████| 284/284 [00:04<00:00, 61.72it/s]\n",
      "100%|██████████| 68/68 [00:00<00:00, 112.40it/s]\n"
     ]
    },
    {
     "name": "stdout",
     "output_type": "stream",
     "text": [
      "epoch 3, train loss 0.1562, train acc 0.8052, test loss 6.8438, test acc 0.1247\n"
     ]
    },
    {
     "name": "stderr",
     "output_type": "stream",
     "text": [
      "100%|██████████| 284/284 [00:04<00:00, 61.22it/s]\n",
      "100%|██████████| 68/68 [00:00<00:00, 104.96it/s]\n"
     ]
    },
    {
     "name": "stdout",
     "output_type": "stream",
     "text": [
      "epoch 4, train loss 0.1375, train acc 0.8324, test loss 7.8054, test acc 0.1230\n"
     ]
    },
    {
     "name": "stderr",
     "output_type": "stream",
     "text": [
      "100%|██████████| 284/284 [00:04<00:00, 61.26it/s]\n",
      "100%|██████████| 68/68 [00:00<00:00, 112.51it/s]\n"
     ]
    },
    {
     "name": "stdout",
     "output_type": "stream",
     "text": [
      "epoch 5, train loss 0.1228, train acc 0.8537, test loss 8.8309, test acc 0.1221\n"
     ]
    },
    {
     "name": "stderr",
     "output_type": "stream",
     "text": [
      "100%|██████████| 284/284 [00:04<00:00, 60.82it/s]\n",
      "100%|██████████| 68/68 [00:00<00:00, 112.01it/s]\n"
     ]
    },
    {
     "name": "stdout",
     "output_type": "stream",
     "text": [
      "epoch 6, train loss 0.1102, train acc 0.8712, test loss 9.7755, test acc 0.1276\n"
     ]
    },
    {
     "name": "stderr",
     "output_type": "stream",
     "text": [
      "100%|██████████| 284/284 [00:04<00:00, 61.15it/s]\n",
      "100%|██████████| 68/68 [00:00<00:00, 107.53it/s]\n"
     ]
    },
    {
     "name": "stdout",
     "output_type": "stream",
     "text": [
      "epoch 7, train loss 0.1002, train acc 0.8850, test loss 9.8139, test acc 0.1265\n"
     ]
    },
    {
     "name": "stderr",
     "output_type": "stream",
     "text": [
      "100%|██████████| 284/284 [00:04<00:00, 61.14it/s]\n",
      "100%|██████████| 68/68 [00:00<00:00, 107.24it/s]\n"
     ]
    },
    {
     "name": "stdout",
     "output_type": "stream",
     "text": [
      "epoch 8, train loss 0.0917, train acc 0.8970, test loss 10.3311, test acc 0.1209\n"
     ]
    },
    {
     "name": "stderr",
     "output_type": "stream",
     "text": [
      "100%|██████████| 284/284 [00:04<00:00, 61.39it/s]\n",
      "100%|██████████| 68/68 [00:00<00:00, 112.34it/s]\n"
     ]
    },
    {
     "name": "stdout",
     "output_type": "stream",
     "text": [
      "epoch 9, train loss 0.0848, train acc 0.9067, test loss 11.1185, test acc 0.1301\n"
     ]
    }
   ],
   "source": [
    "# train the model\n",
    "for i in range(epoch):\n",
    "    train_loss, train_acc = train(model, train_dataloader, loss_func, optim, device)\n",
    "    test_loss, test_acc = test(model, test_dataloader, loss_func, device)\n",
    "    print('epoch %d, train loss %.4f, train acc %.4f, test loss %.4f, test acc %.4f' % (i, train_loss, train_acc, test_loss, test_acc))\n",
    "    train_loss_history.append(train_loss)\n",
    "    train_acc_history.append(train_acc)\n",
    "    test_loss_history.append(test_loss)\n",
    "    test_acc_history.append(test_acc)\n",
    "    if i == 0:\n",
    "        best_acc = test_acc\n",
    "    if test_acc > best_acc:\n",
    "        best_acc = test_acc\n",
    "        torch.save(model.state_dict(), os.path.join(save_best_weight_path, 'best_ddc_model.pth'))\n",
    "    torch.save(model.state_dict(), os.path.join(save_best_weight_path, 'last_ddc_model.pth'))\n"
   ]
  },
  {
   "cell_type": "code",
   "execution_count": 11,
   "metadata": {},
   "outputs": [],
   "source": [
    "import torch\n",
    "\n",
    "def generate_cvae(model, condition, idx2char, device='cuda', max_len=100):\n",
    "    \"\"\"\n",
    "    Generates SMILES strings from a trained CVAE model, given an already-merged synthesis condition.\n",
    "\n",
    "    Args:\n",
    "        model:       The trained ConditionalVAE model (must implement model.generate).\n",
    "        condition:   (B, cond_dim) - the already-merged condition vector (e.g., torch.cat([zeo, syn], dim=-1)).\n",
    "        idx2char:    A list or dict mapping token indices -> SMILES characters.\n",
    "        device:      'cuda' or 'cpu'.\n",
    "        max_len:     Maximum length of generated SMILES.\n",
    "\n",
    "    Returns:\n",
    "        smiles_list: A list of generated SMILES strings (length = batch size).\n",
    "                     Each string excludes '^', ignores '?', and is cut after '$'.\n",
    "    \"\"\"\n",
    "    model.eval()\n",
    "    smiles_list = []\n",
    "\n",
    "    with torch.no_grad():\n",
    "        # Move condition to device\n",
    "        condition = condition.to(device)\n",
    "\n",
    "        # Generate token IDs: shape = (B, max_len)\n",
    "        preds = model.generate(condition, max_len=max_len, device=device)\n",
    "\n",
    "        # Convert each sequence of token IDs into a SMILES string\n",
    "        for seq in preds:\n",
    "            seq = seq.cpu().numpy()  # shape (max_len,)\n",
    "            tokens = []\n",
    "            for token_id in seq:\n",
    "                char = idx2char[token_id]\n",
    "\n",
    "                # 1) Skip '^' (start char)\n",
    "                if char == '^':\n",
    "                    continue\n",
    "\n",
    "                # 2) Skip '?' (pad char)\n",
    "                if char == '?':\n",
    "                    continue\n",
    "\n",
    "                # 3) Break on '$' (end char)\n",
    "                if char == '$':\n",
    "                    break\n",
    "\n",
    "                tokens.append(char)\n",
    "\n",
    "            # Join remaining tokens into a SMILES\n",
    "            smiles_str = \"\".join(tokens)\n",
    "            smiles_list.append(smiles_str)\n",
    "\n",
    "    return smiles_list\n"
   ]
  },
  {
   "cell_type": "code",
   "execution_count": 12,
   "metadata": {},
   "outputs": [
    {
     "name": "stdout",
     "output_type": "stream",
     "text": [
      "target smiles:\n",
      "[['n1(C)c(C)[n+](cc1)Cc1ccccc1C[n+]1ccn(C)c1C']\n",
      " ['Cn1cc[n+](Cc2ccccc2C[n+]2ccn(C)c2C)c1C']\n",
      " ['Cc1n(C)cc[n+]1Cc1c(cccc1)C[n+]1ccn(c1C)C']\n",
      " ['c1ccc(c(c1)C[n+]1c(C)n(C)cc1)C[n+]1ccn(c1C)C']\n",
      " ['[n+]1(c(n(C)cc1)C)Cc1c(C[n+]2ccn(c2C)C)cccc1']\n",
      " ['Cc1n(C)cc[n+]1Cc1ccccc1C[n+]1c(n(cc1)C)C']\n",
      " ['Cn1c(C)[n+](cc1)Cc1ccccc1C[n+]1ccn(c1C)C']\n",
      " ['c1c[n+](Cc2ccccc2C[n+]2c(C)n(cc2)C)c(C)n1C']\n",
      " ['n1(cc[n+](c1C)Cc1ccccc1C[n+]1ccn(C)c1C)C']\n",
      " ['[n+]1(Cc2c(C[n+]3c(n(cc3)C)C)cccc2)c(C)n(C)cc1']]\n",
      "generated smiles:\n",
      "['cccnnnnnnnncccccccccc11111ccccccccccccccccccccccccccccccccccccccccccccccccccccccccccccccccccccccccccccccccccccccccccccccccc', 'cccccCCCCCCCCCCCCCCNNNNN[[[[[[[[[[[[[[[[[[[[[[[[[[[[[[[[[[[[[[[[[[[[[[[[[[[[[[[[[[[[[[[[[[[[[[[[[[[[[[[[[[[[[[[[[[[[[[[[[[[[[', 'CNNccccccccccccccccnnnnnnncccccccccccccccccccccccccccccccccccccccccccccccccccccccccccccccccccccccccccccccccccccccccc', 'ccnnncccccccccccccccccccccccccccccccccccccccccccccccccccccc11cccccccccccccccccccccccccccccccccccccccccccccccccccccccccccccccc', 'CcCCCCCCCC[[NNNN))))))))))))))))))))))))))))))))))))))))))))))))))))))))[[[[[[[[[[[[[[[[[))))))))))))))))))))))22222222222222', 'CONcccccccccccccccccccccccccccccccccccNNN)))))))))))))222222222222222222222222222222222222222222222222222222222222222', 'ccCCCCccccCCNNN))))))))))))))))))))))))))))))))))))))))))))))))))))))))))))))))))))))))))))))))))))))))))))))))))))))))))))))', 'NNNNNNNNNNNccccccccccccccccccccccccccccccccccccccccccccccccccccccccccccccccccccccccccccc1111ccccccccccccccccccccccccc', 'c111111111[[[[[[[[[[[[[[[[[[[[[[[[[[[[[[[[[[[[[[[[[[[[[[[[[[[[[[[[[))))))))))))))))))))))))))))))))))))))))))))))))))))))))))', 'CCCCcccccnnnnnnnnnnnn[[[[222222222222222222222222222222222222222222222222222222222222222222222222222222222222222222222222222']\n"
     ]
    }
   ],
   "source": [
    "# test the generate function\n",
    "# check the first 10 samples\n",
    "train_zeo = train_zeo[:10].astype(np.float32)\n",
    "train_syn = train_syn[:10].astype(np.float32)\n",
    "zeo = torch.tensor(train_zeo, dtype=torch.float32).to(device)\n",
    "syn = torch.tensor(train_syn, dtype=torch.float32).to(device)\n",
    "target_smi = train_smiles[:10]\n",
    "condition_synthesis = torch.cat([zeo, syn], dim=1)\n",
    "generated_smiles = generate_cvae(model=model, condition=condition_synthesis, idx2char=index_to_char, device=device, max_len=127)\n",
    "print('target smiles:')\n",
    "print(target_smi)\n",
    "print('generated smiles:')\n",
    "print(generated_smiles)"
   ]
  },
  {
   "cell_type": "code",
   "execution_count": 13,
   "metadata": {},
   "outputs": [
    {
     "data": {
      "image/png": "[encoded data removed]",
      "text/plain": [
       "<Figure size 432x288 with 1 Axes>"
      ]
     },
     "metadata": {
      "needs_background": "light"
     },
     "output_type": "display_data"
    }
   ],
   "source": [
    "# plot the loss and acc\n",
    "plot_loss(train_loss_history, test_loss_history, 'cvae')"
   ]
  }
 ],
 "metadata": {
  "kernelspec": {
   "display_name": "zeosyn",
   "language": "python",
   "name": "python3"
  },
  "language_info": {
   "codemirror_mode": {
    "name": "ipython",
    "version": 3
   },
   "file_extension": ".py",
   "mimetype": "text/x-python",
   "name": "python",
   "nbconvert_exporter": "python",
   "pygments_lexer": "ipython3",
   "version": "3.7.10"
  }
 },
 "nbformat": 4,
 "nbformat_minor": 2
}
