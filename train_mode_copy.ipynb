{
 "cells": [
  {
   "cell_type": "markdown",
   "metadata": {},
   "source": [
    "# LSTM 模型"
   ]
  },
  {
   "cell_type": "code",
   "execution_count": null,
   "metadata": {},
   "outputs": [],
   "source": [
    "# 切换到当前目录\n",
    "%cd .."
   ]
  },
  {
   "cell_type": "code",
   "execution_count": 1,
   "metadata": {},
   "outputs": [],
   "source": [
    "import pandas as pd\n",
    "from rdkit import Chem\n",
    "import numpy as np\n",
    "import random\n",
    "import pickle\n",
    "from build_vocab import WordVocab\n",
    "import torch\n",
    "import torch.nn as nn\n",
    "import torch.optim as optim\n",
    "from dataset.dataset import ZeoliteDataset\n",
    "from torch.utils.data import DataLoader\n",
    "import torch.backends.cudnn as cudnn\n",
    "import torch.nn.functional as F\n",
    "from model import LSTM_Variant"
   ]
  },
  {
   "cell_type": "code",
   "execution_count": 2,
   "metadata": {},
   "outputs": [
    {
     "name": "stdout",
     "output_type": "stream",
     "text": [
      "45\n"
     ]
    }
   ],
   "source": [
    "pad_index = 0\n",
    "unk_index = 1\n",
    "eos_index = 2\n",
    "sos_index = 3\n",
    "mask_index = 4\n",
    "\n",
    "# load vocabulary\n",
    "vocab = WordVocab.load_vocab('models/vocab.pkl')\n",
    "vocab_size = len(vocab)\n",
    "print(vocab_size)"
   ]
  },
  {
   "cell_type": "code",
   "execution_count": 3,
   "metadata": {},
   "outputs": [
    {
     "name": "stdout",
     "output_type": "stream",
     "text": [
      "cuda\n"
     ]
    }
   ],
   "source": [
    "# path to the training and testing data\n",
    "train_data_path = 'data/zeolite_train.csv'\n",
    "test_data_path = 'data/zeolite_train.csv'\n",
    "\n",
    "cudnn.benchmark = True\n",
    "lr = 1e-4\n",
    "batch_size = 512\n",
    "n_epoch = 10\n",
    "\n",
    "manual_seed = 42\n",
    "random.seed(manual_seed)\n",
    "torch.manual_seed(manual_seed)\n",
    "\n",
    "# load the training and testing data\n",
    "train_dataset = ZeoliteDataset(train_data_path)\n",
    "test_dataset = ZeoliteDataset(test_data_path)\n",
    "\n",
    "# create the dataloaders\n",
    "train_loader = DataLoader(train_dataset, batch_size=batch_size, shuffle=True, num_workers=32)\n",
    "test_loader = DataLoader(test_dataset, batch_size=batch_size, shuffle=False, num_workers=32)\n",
    "\n",
    "# load the model\n",
    "model = LSTM_Variant(vocab_size, embedding_dim=128, hidden_dim=256, conditional_synthesis_dim=24, num_layers=2, dropout=0.5)\n",
    "\n",
    "# define the loss function and the optimizer\n",
    "criterion = nn.CrossEntropyLoss()\n",
    "optimizer = optim.Adam(model.parameters(), lr=lr)\n",
    "\n",
    "# define the device\n",
    "device = torch.device('cuda' if torch.cuda.is_available() else 'cpu')\n",
    "print(device)\n",
    "\n",
    "if device.type == 'cuda':\n",
    "    model = model.to(device)\n",
    "    criterion = criterion.to(device)"
   ]
  },
  {
   "cell_type": "code",
   "execution_count": 4,
   "metadata": {},
   "outputs": [],
   "source": [
    "# define the training and testing functions\n",
    "def sample_from_logits(logits, temperature=1.0):\n",
    "    logits = logits / temperature  # (batch_size, vocab_size)\n",
    "    probs = F.softmax(logits, dim=-1)  # (batch_size, vocab_size)\n",
    "    return torch.multinomial(probs, num_samples=1).squeeze(-1)  # (batch_size,)\n",
    "\n",
    "def vocab_to_smiles(vocab, matrix):\n",
    "    smiles = []\n",
    "    # matrix: (batch_size, seq_len)\n",
    "    for i in range(matrix.shape[0]):\n",
    "        # convert the matrix to a list of words and pad index\n",
    "        words = []\n",
    "        for j in range(matrix.shape[1]):\n",
    "            if matrix[i, j] == pad_index:\n",
    "                break\n",
    "            words.append(vocab.itos[matrix[i, j]])\n",
    "        # remove the sos and eos tokens\n",
    "        words = words[1:-1]\n",
    "        # convert the list of words to a string\n",
    "        smiles.append(''.join(words))\n",
    "    return smiles\n",
    "\n",
    "def train(epoches, model, iterator, optimizer, criterion, device):\n",
    "    # teaching forcing\n",
    "    epoch_loss = 0\n",
    "    train_loss_list = []\n",
    "    test_loss_list = []\n",
    "    for epoch in range(epoches):\n",
    "        model.train()\n",
    "        for i, (conditional_synthesis, label) in enumerate(iterator):\n",
    "            conditional_synthesis, label = conditional_synthesis.to(device), label.to(device)\n",
    "            optimizer.zero_grad()\n",
    "            batch_size, seq_len = label.shape\n",
    "            \n",
    "            # 这里有问题，应该是输入去掉最后一个token，输出去掉第一个token\n",
    "            # forward pass\n",
    "            output, _ = model(conditional_synthesis, label[:, :-1])\n",
    "            output_dim = output.shape[-1]\n",
    "            output = output.contiguous().view(-1, output_dim)\n",
    "            label = label[:, 1:].contiguous().view(-1)\n",
    "            # # forward pass\n",
    "            # output, _ = model(conditional_synthesis, label)\n",
    "            # output_dim = output.shape[-1] # vocab size\n",
    "            # # ignore the last token and reshape the output\n",
    "            # output = output[:, :-1, :].contiguous().view(-1, output_dim) # (batch_size * seq_len, vocab_size)\n",
    "            # # ignore the first token and reshape the label\n",
    "            # label = label[:, 1:].contiguous().view(-1) # (batch_size * seq_len)\n",
    "            \n",
    "            # calculate the loss\n",
    "            loss = criterion(output, label)\n",
    "            loss.backward()\n",
    "            optimizer.step()\n",
    "            \n",
    "            epoch_loss += loss.item()\n",
    "            # print information\n",
    "            if i % 100 == 0:\n",
    "                print(f'Batch: {i}, Loss: {loss.item()}')\n",
    "        \n",
    "        # calculate the average loss\n",
    "        train_loss_list.append(epoch_loss / len(iterator))\n",
    "        test_loss = test(model, test_loader, criterion, device)\n",
    "        test_loss_list.append(test_loss)\n",
    "        epoch_loss = 0\n",
    "        \n",
    "        print(f'Epoch: {epoch}, Train Loss: {epoch_loss / len(iterator)}, Test Loss: {test_loss}')\n",
    "    return train_loss_list, test_loss_list\n",
    "\n",
    "def test(model, iterator, criterion, device):\n",
    "    model.eval()\n",
    "    total_loss = 0\n",
    "    generated_sequences = []\n",
    "    with torch.no_grad():\n",
    "        for i, (conditional_synthesis, label) in enumerate(iterator):\n",
    "            conditional_synthesis, label = conditional_synthesis.to(device), label.to(device)\n",
    "            batch_size = conditional_synthesis.shape[0]\n",
    "            # set the initial hidden state\n",
    "            hidden = None\n",
    "            # set the initial input (batch_size, 1)\n",
    "            generated_sequence = label[:, :1] # (batch_size, 1)\n",
    "            batch_loss = 0\n",
    "            \n",
    "            # auto-regressive\n",
    "            for t in range(label.shape[1]):\n",
    "                # forward pass\n",
    "                current_token = generated_sequence[:, -1].unsqueeze(1) # (batch_size, 1)\n",
    "                output, hidden = model(conditional_synthesis, current_token, hidden) # (batch_size, 1, vocab_size)\n",
    "                \n",
    "                # sample for the next input\n",
    "                next_token = sample_from_logits(output.squeeze(1)) # (batch_size,)\n",
    "                generated_sequence = torch.cat([generated_sequence, next_token.unsqueeze(1)], dim=1) # (batch_size, t+2)\n",
    "                \n",
    "                # calculate the loss\n",
    "                output_dim = output.shape[-1]\n",
    "                output = output.view(-1, output_dim) # (batch_size, vocab_size)\n",
    "                label_t = label[:, t]\n",
    "                loss = criterion(output, label_t)\n",
    "                batch_loss += loss.item()\n",
    "            \n",
    "            batch_loss /= label.shape[1]\n",
    "            total_loss += batch_loss\n",
    "            generated_sequences.append(generated_sequence)\n",
    "        \n",
    "        # calculate the average loss\n",
    "        total_loss /= len(iterator)\n",
    "        \n",
    "    # convert the generated sequences to smiles\n",
    "    generated_sequences = torch.cat(generated_sequences, dim=0).cpu().numpy()\n",
    "    generated_sequences = vocab_to_smiles(vocab, generated_sequences)\n",
    "    print(generated_sequences[:10])\n",
    "    return total_loss"
   ]
  },
  {
   "cell_type": "code",
   "execution_count": 5,
   "metadata": {},
   "outputs": [
    {
     "name": "stdout",
     "output_type": "stream",
     "text": [
      "Batch: 0, Loss: 3.8012049198150635\n",
      "Batch: 100, Loss: 0.49619123339653015\n",
      "Batch: 200, Loss: 0.36428648233413696\n",
      "['', '+683(Cl)Kc(ICl]C()C(1', '\\\\/7-8\\\\CI<mask>Sc][3C))CCCC', 'N=1](c[+C(CC(C)CCCC)NC()CCCCCcC)<eos>', 'Cl81.', '(7F]CC', ')32[/CCCsC()+1', '3-H1]H2(CC+CN', '', '']\n",
      "Epoch: 0, Train Loss: 0.0, Test Loss: 0.704249394844968\n",
      "Batch: 0, Loss: 0.329321950674057\n",
      "Batch: 100, Loss: 0.31029462814331055\n",
      "Batch: 200, Loss: 0.27776139974594116\n",
      "['(C1NC)CC(CC3CCcN]1(CCC', '3+1CC3(CnCC)))))<eos>', 's(+2C)(CC)CC)CCC', '[++c(c(c1)C)cc=Cc2<eos>', 'KBr', ']](+cCCCCN)C2)CCC)', '/cN[]())nN(((C)CCc))cccC)1(CCC[N++', 'P1](C(C[((()NN)C2NCCC(C[C(1(CCcN2+cc(C)CC)1C)C', '32]cCCCC[3]2CC))3)))C', 'Br1++n12]CCC<eos>']\n",
      "Epoch: 1, Train Loss: 0.0, Test Loss: 0.7398898492897844\n",
      "Batch: 0, Loss: 0.252699077129364\n",
      "Batch: 100, Loss: 0.2279725968837738\n",
      "Batch: 200, Loss: 0.21323490142822266\n",
      "['CC2o[++](C(CC1C)CCCc(Cn)Cc)F', '4c1(CCC)C1c[n2]((c(2(C)C)[(33CC1cc)(c1(C))CC11', 'CC[]N](CCCCC])(C)C(C2', 'Na5Cc<sos>((C)C)21Cc1', '+1CC2C[n++])((CC)CC111C)2', 'cCC[\\\\+C(C1(C(C)CCNC)C))(CC<eos>', '=N1CF(C[N++]2CC(C1C3C)CCC2C)C2<eos>', 'C[CC2N(CCN(C3C)C(C25CC)C1)CC)(', '1[N+]C1)CC(CCCNCCC<eos>', '[+1](C2(CCCCC<eos>n]']\n",
      "Epoch: 2, Train Loss: 0.0, Test Loss: 0.7931637790935548\n",
      "Batch: 0, Loss: 0.21234601736068726\n",
      "Batch: 100, Loss: 0.1919710338115692\n",
      "Batch: 200, Loss: 0.17164380848407745\n",
      "['C[N+](CCCC2CCC)CC3CC', 'C2CC2OC(C[)+N(C)2(C)(C1)(C)C', '(C[N+]1(C(cCC)C<eos>(C)', ')C1C', 'C(Cc1Ncc1cc[n+](3C)', 'C[N+]2C((C)CC)C)(C1', '[N+](1C)CCCCC(C(CNC[N+]1(CC)(CC)((C)C))n1(CNC)C', '1C[N+](C)C(C1C)CCN3CCC1C', 'oO)c2CCC[N+]2(Cn1cCCC)c', 'CC[N+](C)C(CCC)1']\n",
      "Epoch: 3, Train Loss: 0.0, Test Loss: 0.8237589314051178\n",
      "Batch: 0, Loss: 0.16924388706684113\n",
      "Batch: 100, Loss: 0.15840910375118256\n",
      "Batch: 200, Loss: 0.15804627537727356\n",
      "['[N+](C)c(c(C)(C)c1cccc2c2ccc2)CCC1)C', '', '[N+](C)(C)CCC1', 'C1C2C(CC2)(C[N+](CCC)CCC)CC<eos>', '[N+]2(CCC1CCC3)Cc1C', '()[N+](C)(CCCC1)CC1', 'C1Cl[[+]2(C)cc(C)c1CCCCC[N+]1((C)CC)CC', 'c1c1[Nn]1(ccc2CCC14CCCC3CC1[n+](C)(C)ccc()c1C', '', 'C[N+](CC)(CCC2)(C)C']\n",
      "Epoch: 4, Train Loss: 0.0, Test Loss: 0.8700067973740981\n",
      "Batch: 0, Loss: 0.1548096239566803\n",
      "Batch: 100, Loss: 0.1481551080942154\n",
      "Batch: 200, Loss: 0.14548563957214355\n",
      "['[n]1c(ccc)(C1)C2CCC1', 'C1CC(C(C2)C[N+]122CCC2CCC1CC(C)(C)CCCC2C)', '[N+4(C)(CC2)C(CCC1)C', 'c1ccc2[N+](CC(c1C)cn1CC)ccc1', 'C1', 'C11CCCNC([N+](CC(C)C)(C)CK)C', 'C1[N+]+]C4CCCCC2=C1C(C1=C)C', 'N1CCO(CC)CN(CC3CCC[N+](C)(C1)CCCCC2C)C1', 'C1CC223CCCCC(C1)C1C)C', 'c1c(ccc1)CC2C(C)[N+](C)CC1']\n",
      "Epoch: 5, Train Loss: 0.0, Test Loss: 0.9151057018725188\n",
      "Batch: 0, Loss: 0.14568796753883362\n",
      "Batch: 100, Loss: 0.1378539651632309\n",
      "Batch: 200, Loss: 0.1345178782939911\n",
      "['n1n(C(C)C)ccccc12ON(C)C', 'C1C[n+](n(cc2C)CC1)CCCC[n+]1cccn(C)c1)C', 'C1CC2C3[N+](CC(C)CC)(C)1CCCC1', '[N+]3(CC)C(C)CCC1C2(C)C', 'C((C)C)[n+](CCCn[n+]c(C)Cn1CCC)C', '(C[N+](CC)(C1)C)C4', 'C1CC[N+]1(C(C)CCC3)CC2CC(C32CC2)(CC)CC', 'C1CCC2', 'C(CC[N+]1(C)CC3CCCCC1)C', 'C1C2C[N+]2(CC(CC3C)CC1)(C)C1']\n",
      "Epoch: 6, Train Loss: 0.0, Test Loss: 0.9574437499330652\n",
      "Batch: 0, Loss: 0.13262245059013367\n",
      "Batch: 100, Loss: 0.13437604904174805\n",
      "Batch: 200, Loss: 0.12610308825969696\n",
      "['C1C([N+]2(C3CCCC2)CCC2CCC2)c1ccccc1', '[N+]1(CCCC2)(CCCCN(C)C1)C', 'C12C(C)(C3OCC(CN()CC2)C(N(C))C1)C', 'C1N2CCC(C)(C2)C1C[N+](CC2)(C3)CCCC2', 'C2(C)C(C)[N+](CC)(C)CC1', 'C(C)[N+]2(CCCCC3)CC1', 'C1C2c(cccc[n+](c1c(c1)(cccc1)C)C)CCC[N+]22c(C(cc(ccc2)C)(C)CCC)C1', 'C(CN2CCCC1)CCC2', 'n1cc([n+](C)c(C)n1Cc1CC)Ccccn1c', 'c1cc(cc1n1CC[N+]1(CCC)C)C']\n",
      "Epoch: 7, Train Loss: 0.0, Test Loss: 0.9875683899166968\n",
      "Batch: 0, Loss: 0.1264282464981079\n",
      "Batch: 100, Loss: 0.12795795500278473\n",
      "Batch: 200, Loss: 0.1237364411354065\n",
      "['C[++]2(CCCCCCC2)cccccc1', '=(CC)[N+]1(CCCCCC[N+](C)(C)C)C2', 'C1C(N)(C)C(CC[N+](C)(C)Ccc1cccc1)C', 'C[n+]1(Cn(C)cc(C)C)c', 'C1[N+](C)(CCC)C3', 'C([N+]1(CC(C)(C)C)(C)CC3)C', 'n1(C)[n+](CCCCC)c2CCCCCCCCOC', 'N(C)(C)C)C', 'c1c(c([n+](C1CCC2C)cc1)C)Cc1ccccc1', 'c1(C)ccc[n+](Cc1C)Cn1cc[n+](cc1)CCCCC']\n",
      "Epoch: 8, Train Loss: 0.0, Test Loss: 1.0109970200573806\n",
      "Batch: 0, Loss: 0.1179596483707428\n",
      "Batch: 100, Loss: 0.11733116954565048\n",
      "Batch: 200, Loss: 0.11663925647735596\n",
      "['n1cccc(c(c2c1C)C[N+]1(CCC)CCC)(CC1CCCC1', 'c1c(C)C[n+](C[n+](c(c1C)C)CCC)CCCCCCCC[N+](CCCCC)(C)C(C)C', 'C1C(C2C[N+](C)(C)CC1C)(C)(C)C', 'C[N+](C)(C2CCC1Cn2(C)cc3C)C', 'C1(CCC3CCCCCCN1C)C', 'C1CC(CC1)C[N+]1(C)CCC2', '[N+]1(CC2CC4C=CC1C3)CC2CC(C)CC2<eos>', 'C1C#(CC2)C[N+]2(C(CC1)C3)CCCC[N+](C1)(CC)C', 'C[n+]2c1c(C(C)cccc2)C1C', 'Cc1n(C(C)C)[n+](c1)C']\n",
      "Epoch: 9, Train Loss: 0.0, Test Loss: 1.0393232639384586\n"
     ]
    }
   ],
   "source": [
    "# train the model\n",
    "train_loss_list, test_loss_list = train(n_epoch, model, train_loader, optimizer, criterion, device)"
   ]
  },
  {
   "cell_type": "code",
   "execution_count": 6,
   "metadata": {},
   "outputs": [],
   "source": [
    "# save the model\n",
    "torch.save(model.state_dict(), 'models/LSTM_Variant.pth')"
   ]
  },
  {
   "cell_type": "code",
   "execution_count": 7,
   "metadata": {},
   "outputs": [
    {
     "data": {
      "image/png": "[encoded data removed]",
      "text/plain": [
       "<Figure size 432x288 with 1 Axes>"
      ]
     },
     "metadata": {
      "needs_background": "light"
     },
     "output_type": "display_data"
    }
   ],
   "source": [
    "# plot the training and testing loss\n",
    "import matplotlib.pyplot as plt\n",
    "plt.plot(train_loss_list, label='Train Loss')\n",
    "plt.plot(test_loss_list, label='Test Loss')\n",
    "plt.legend()\n",
    "plt.xlabel('Epoch')\n",
    "plt.ylabel('Loss')\n",
    "plt.savefig('./figures/loss.png')\n",
    "plt.show()"
   ]
  }
 ],
 "metadata": {
  "kernelspec": {
   "display_name": "zeosyn",
   "language": "python",
   "name": "python3"
  },
  "language_info": {
   "codemirror_mode": {
    "name": "ipython",
    "version": 3
   },
   "file_extension": ".py",
   "mimetype": "text/x-python",
   "name": "python",
   "nbconvert_exporter": "python",
   "pygments_lexer": "ipython3",
   "version": "3.7.10"
  }
 },
 "nbformat": 4,
 "nbformat_minor": 2
}
